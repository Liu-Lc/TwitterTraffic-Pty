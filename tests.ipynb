{
 "metadata": {
  "language_info": {
   "codemirror_mode": {
    "name": "ipython",
    "version": 3
   },
   "file_extension": ".py",
   "mimetype": "text/x-python",
   "name": "python",
   "nbconvert_exporter": "python",
   "pygments_lexer": "ipython3",
   "version": "3.8.0-final"
  },
  "orig_nbformat": 2,
  "kernelspec": {
   "name": "python3",
   "display_name": "Python 3",
   "language": "python"
  }
 },
 "nbformat": 4,
 "nbformat_minor": 2,
 "cells": [
  {
   "cell_type": "code",
   "execution_count": 10,
   "metadata": {},
   "outputs": [],
   "source": [
    "import psycopg2 as ps\n",
    "import pandas as pd"
   ]
  },
  {
   "cell_type": "code",
   "execution_count": 5,
   "metadata": {},
   "outputs": [
    {
     "output_type": "stream",
     "name": "stdout",
     "text": [
      "Connection succesfull.\n"
     ]
    }
   ],
   "source": [
    "try:\n",
    "    conn = ps.connect(database='twitter', user='admin', password='admin123')\n",
    "    print(\"Connection succesfull.\")\n",
    "except Exception as e: print(e)"
   ]
  },
  {
   "cell_type": "code",
   "execution_count": 8,
   "metadata": {},
   "outputs": [],
   "source": [
    "command = '''SELECT TT.TWEET_ID, TT.TWEET_USER_ID, TU.USER_NAME, TU.USER_LOCATION, \n",
    "                 TT.TWEET_TEXT, TT.TWEET_CREATED, TT.TWEET_COORDINATES, TT.TWEET_PLACE \n",
    "                 FROM TWITTERTWEET AS TT INNER JOIN TWITTERUSER AS TU \n",
    "                 ON TT.TWEET_USER_ID=TU.USER_ID;'''\n",
    "\n",
    "try:\n",
    "    cursor = conn.cursor()\n",
    "    cursor.execute(command)\n",
    "    data = cursor.fetchall()\n",
    "except Exception as e: print(e)\n",
    "\n",
    "cursor.close()"
   ]
  },
  {
   "cell_type": "code",
   "execution_count": 11,
   "metadata": {},
   "outputs": [],
   "source": [
    "df = pd.DataFrame(data, columns=['tweetid', 'userid', 'username', \\\n",
    "                'userloc', 'tweet', 'date', 'coords', 'place'])"
   ]
  },
  {
   "cell_type": "code",
   "execution_count": 37,
   "metadata": {},
   "outputs": [
    {
     "output_type": "execute_result",
     "data": {
      "text/plain": [
       "count     184\n",
       "unique      1\n",
       "top          \n",
       "freq      184\n",
       "Name: place, dtype: object"
      ]
     },
     "metadata": {},
     "execution_count": 37
    }
   ],
   "source": [
    "df.place.describe()"
   ]
  },
  {
   "cell_type": "code",
   "execution_count": 4,
   "metadata": {},
   "outputs": [],
   "source": [
    "conn.close()"
   ]
  }
 ]
}