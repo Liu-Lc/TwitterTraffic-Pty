{
 "metadata": {
  "language_info": {
   "codemirror_mode": {
    "name": "ipython",
    "version": 3
   },
   "file_extension": ".py",
   "mimetype": "text/x-python",
   "name": "python",
   "nbconvert_exporter": "python",
   "pygments_lexer": "ipython3",
   "version": "3.8.0"
  },
  "orig_nbformat": 2,
  "kernelspec": {
   "name": "python380jvsc74a57bd039897e887fdcf105827cc0646dea5514e7d787d0b8d213f1a5227514ffbfb4c6",
   "display_name": "Python 3.8.0 64-bit"
  },
  "metadata": {
   "interpreter": {
    "hash": "39897e887fdcf105827cc0646dea5514e7d787d0b8d213f1a5227514ffbfb4c6"
   }
  }
 },
 "nbformat": 4,
 "nbformat_minor": 2,
 "cells": [
  {
   "cell_type": "code",
   "execution_count": null,
   "metadata": {},
   "outputs": [],
   "source": [
    "import psycopg2 as ps\n",
    "from wordcloud import WordCloud\n",
    "import  matplotlib.pyplot as plt \n",
    "import seaborn as sns\n",
    "import plotly.graph_objects as go\n",
    "import plotly.express as px\n",
    "import re, sys\n",
    "import numpy as np\n",
    "\n",
    "sys.path.append('./TweetData')\n",
    "from TweetData import keys, Preprocessing\n",
    "\n",
    "import pandas as pd\n",
    "import json\n",
    "from collections import Counter\n",
    "from fuzzywuzzy import fuzz, process\n",
    "\n",
    "import geopandas as gpd"
   ]
  },
  {
   "cell_type": "code",
   "execution_count": null,
   "metadata": {},
   "outputs": [],
   "source": [
    "# geo_df = gpd.GeoDataFrame.from_features(\n",
    "#     px.data.election_geojson()[\"features\"]\n",
    "# ).merge(df, on=\"district\").set_index(\"district\")\n",
    "places1 = places.set_index('osm_id')\n",
    "\n",
    "fig = px.choropleth_mapbox(places1,\n",
    "            geojson=places1.way,\n",
    "            locations=places1.index,\n",
    "            # color=\"Joly\",\n",
    "            mapbox_style=\"open-street-map\",\n",
    ")\n",
    "fig.show()"
   ]
  },
  {
   "cell_type": "code",
   "execution_count": null,
   "metadata": {},
   "outputs": [],
   "source": [
    "## Clean text WordCloud\n",
    "conn = ps.connect(\n",
    "    database='traffictwt', user='postgres', password='root')\n",
    "cursor = conn.cursor()\n",
    "q = '''SELECT TWEET_ID, TWEET_TEXT FROM TWEETS ORDER BY TWEET_CREATED DESC '''\n",
    "cursor.execute(q)\n",
    "tweets = cursor.fetchall()\n",
    "cursor.close()\n",
    "conn.close()\n",
    "\n",
    "tweets = pd.DataFrame(tweets, columns=['id', 'text'])"
   ]
  },
  {
   "cell_type": "code",
   "execution_count": null,
   "metadata": {},
   "outputs": [],
   "source": [
    "## Clean text WordCloud\n",
    "conn = ps.connect(\n",
    "    database='traffictwt', user='postgres', password='root')\n",
    "# cursor = conn.cursor()\n",
    "q = '''SELECT OSM_ID, NAME, WAY FROM PLACES '''\n",
    "# cursor.execute(q)\n",
    "# places = cursor.fetchall()\n",
    "places = gpd.GeoDataFrame.from_postgis(q, conn, geom_col='way')\n",
    "# cursor.close()\n",
    "# conn.close()\n",
    "# places = pd.DataFrame(places, columns=['id', 'name', 'geom'])"
   ]
  },
  {
   "cell_type": "code",
   "execution_count": null,
   "metadata": {},
   "outputs": [],
   "source": [
    "conn = ps.connect(\n",
    "    database='traffictwt', user='postgres', password='root')\n",
    "q1 = '''SELECT GID, NOMBRE, GEOM FROM carreteras WHERE NOMBRE IS NOT NULL '''\n",
    "# cursor.execute(q)\n",
    "# places = cursor.fetchall()\n",
    "roads = gpd.GeoDataFrame.from_postgis(q1, conn, geom_col='geom')\n",
    "# cursor.close()\n",
    "# conn.close()\n",
    "# places = pd.DataFrame(places, columns=['id', 'name', 'geom'])"
   ]
  },
  {
   "cell_type": "code",
   "execution_count": null,
   "metadata": {},
   "outputs": [],
   "source": [
    "places = places[places.name.str.len()>5]"
   ]
  },
  {
   "cell_type": "code",
   "execution_count": null,
   "metadata": {},
   "outputs": [],
   "source": [
    "extract = Preprocessing.clean_text(tweets, 'text')\n",
    "# tweets.clean.str.findall('([A-Z]\\S+)')\n",
    "# re.findall('([A-Z]\\S+)', tweets)\n",
    "extract['possible_place'] = extract.clean.str.findall('([A-Z]\\S+)')"
   ]
  },
  {
   "cell_type": "code",
   "execution_count": null,
   "metadata": {},
   "outputs": [],
   "source": [
    "extract = extract[extract.clean.str.contains('accident.*|cho[qc].*|colision.*|vuelco|volcó|vuelca|atropell.*|tran[qc].*|embotella.*|trafico|huelga|protest.*|trabajo.*|cierr.*|detenid.*|obstacul.*|incendi.*|inunda.*|lluvia')]\n",
    "extract = extract[extract.clean.str.len()>30]\n",
    "extract = extract[extract.possible_place.notnull()]"
   ]
  },
  {
   "cell_type": "code",
   "execution_count": null,
   "metadata": {},
   "outputs": [],
   "source": [
    "test = 'tranque pesado en la Via Brasil hacia el interior'\n",
    "matches1 = [fuzz.token_sort_ratio(place, test) for place in places.name]\n",
    "# sum(matches1)\n",
    "matches2 = [fuzz.token_set_ratio(place, test) for place in places.name]\n",
    "# max(matches2)"
   ]
  },
  {
   "cell_type": "code",
   "execution_count": null,
   "metadata": {},
   "outputs": [],
   "source": [
    "process.extract(test, places, scorer=fuzz.token_set_ratio)"
   ]
  },
  {
   "cell_type": "code",
   "execution_count": null,
   "metadata": {},
   "outputs": [],
   "source": [
    "extract['contains'] = extract['clean'].apply(lambda x: np.array([]))\n",
    "# extract['contains'] = extract['contains'].astype(object)\n",
    "extract['possible'] = extract['clean'].apply(lambda x: np.array([]))\n",
    "# extract['possible'] = extract['possible'].astype(object)"
   ]
  },
  {
   "cell_type": "code",
   "execution_count": null,
   "metadata": {},
   "outputs": [],
   "source": [
    "extract.drop(columns=['contains', 'possible'], inplace=True)"
   ]
  },
  {
   "cell_type": "code",
   "execution_count": null,
   "metadata": {},
   "outputs": [],
   "source": [
    "extract2 = extract.copy()"
   ]
  },
  {
   "cell_type": "code",
   "execution_count": 250,
   "metadata": {},
   "outputs": [],
   "source": [
    "def get_road(text, roads):\n",
    "    choice = process.extractOne(text, roads.nombre, scorer=fuzz.token_set_ratio)\n",
    "    if choice[1]>=80:\n",
    "        # Returns the gid\n",
    "        return str(roads.iloc[roads.index==choice[2], 0].iloc[0])\n",
    "    else: return ''"
   ]
  },
  {
   "cell_type": "code",
   "execution_count": 251,
   "metadata": {},
   "outputs": [],
   "source": [
    "def get_place(text, places):\n",
    "    choice = process.extractOne(text, places.name, scorer=fuzz.token_set_ratio)\n",
    "    if choice[1]>=80:\n",
    "        # Returns the osm_id\n",
    "        return str(places.iloc[places.index==choice[2], 0].iloc[0])\n",
    "    else: return ''"
   ]
  },
  {
   "cell_type": "code",
   "execution_count": null,
   "metadata": {},
   "outputs": [],
   "source": [
    "places.head(1)"
   ]
  },
  {
   "cell_type": "code",
   "execution_count": 256,
   "metadata": {},
   "outputs": [],
   "source": [
    "extract2 = extract[100:500]"
   ]
  },
  {
   "cell_type": "code",
   "execution_count": 257,
   "metadata": {},
   "outputs": [
    {
     "output_type": "stream",
     "name": "stderr",
     "text": [
      "C:\\Users\\lucia\\AppData\\Local\\Programs\\Python\\Python38\\lib\\site-packages\\pandas\\core\\indexing.py:1597: SettingWithCopyWarning: \nA value is trying to be set on a copy of a slice from a DataFrame.\nTry using .loc[row_indexer,col_indexer] = value instead\n\nSee the caveats in the documentation: https://pandas.pydata.org/pandas-docs/stable/user_guide/indexing.html#returning-a-view-versus-a-copy\n  self.obj[key] = value\nC:\\Users\\lucia\\AppData\\Local\\Programs\\Python\\Python38\\lib\\site-packages\\pandas\\core\\indexing.py:1676: SettingWithCopyWarning: \nA value is trying to be set on a copy of a slice from a DataFrame.\nTry using .loc[row_indexer,col_indexer] = value instead\n\nSee the caveats in the documentation: https://pandas.pydata.org/pandas-docs/stable/user_guide/indexing.html#returning-a-view-versus-a-copy\n  self._setitem_single_column(ilocs[0], value, pi)\n"
     ]
    }
   ],
   "source": [
    "extract2.loc[:, 'road'] = extract2.apply(lambda row: get_road(row.clean, roads), axis=1)"
   ]
  },
  {
   "cell_type": "code",
   "execution_count": 258,
   "metadata": {},
   "outputs": [
    {
     "output_type": "stream",
     "name": "stderr",
     "text": [
      "C:\\Users\\lucia\\AppData\\Local\\Programs\\Python\\Python38\\lib\\site-packages\\pandas\\core\\indexing.py:1597: SettingWithCopyWarning: \nA value is trying to be set on a copy of a slice from a DataFrame.\nTry using .loc[row_indexer,col_indexer] = value instead\n\nSee the caveats in the documentation: https://pandas.pydata.org/pandas-docs/stable/user_guide/indexing.html#returning-a-view-versus-a-copy\n  self.obj[key] = value\nC:\\Users\\lucia\\AppData\\Local\\Programs\\Python\\Python38\\lib\\site-packages\\pandas\\core\\indexing.py:1676: SettingWithCopyWarning: \nA value is trying to be set on a copy of a slice from a DataFrame.\nTry using .loc[row_indexer,col_indexer] = value instead\n\nSee the caveats in the documentation: https://pandas.pydata.org/pandas-docs/stable/user_guide/indexing.html#returning-a-view-versus-a-copy\n  self._setitem_single_column(ilocs[0], value, pi)\n"
     ]
    }
   ],
   "source": [
    "extract2.loc[:, 'place'] = extract2.apply(lambda row: get_place(row.clean, places), axis=1)"
   ]
  },
  {
   "cell_type": "code",
   "execution_count": 259,
   "metadata": {},
   "outputs": [],
   "source": [
    "conn = ps.connect(\n",
    "    database='traffictwt', user='postgres', password='root')\n",
    "cursor = conn.cursor()\n",
    "ins = '''INSERT INTO TWEETS_PLACES(TWEET_ID, ROAD_GID, PLACE_ID)\n",
    "    VALUES (%s, %s, %s) '''\n",
    "for index, row in extract2.iterrows():\n",
    "    cursor.execute(ins, \n",
    "        (row['id'], None if row['road']=='' else row['road'], \n",
    "            None if row['place']=='' else row['place']))\n",
    "    conn.commit()\n",
    "cursor.close()\n",
    "conn.close()"
   ]
  },
  {
   "cell_type": "code",
   "execution_count": 254,
   "metadata": {},
   "outputs": [
    {
     "output_type": "execute_result",
     "data": {
      "text/plain": [
       "                      id                                               text  \\\n",
       "0    1401376450134089731  Se registra accidente de tránsito en La Vía In...   \n",
       "2    1401343653847650304  [VÍDEO] Se registra accidente de tránsito en L...   \n",
       "4    1401322507232231424  Vistas del tráfico en la Vía Interamericana, p...   \n",
       "6    1401320841711923200  [VÍDEO] Se registra colisión en la Avenida Ric...   \n",
       "8    1401302282440949765  Panamá el país donde te la tienes que rifar en...   \n",
       "..                   ...                                                ...   \n",
       "151  1400490929245638661  [VÍDEO] Se registra colisión en la Avenida Ric...   \n",
       "153  1400486702083448835  Mula detenida en la Vía Centenario, próximo al...   \n",
       "155  1400461460661170196  Se mantiene el tráfico afectado en ambas direc...   \n",
       "156  1400451986076536834  🅾️ Se registra accidente de tránsito en La Vía...   \n",
       "158  1400442725900722186  Se registra accidente de tránsito en La Vía In...   \n",
       "\n",
       "                                                 clean  \\\n",
       "0    registra accidente transito Via Interamericana...   \n",
       "2    registra accidente transito Autopista Panama C...   \n",
       "4    vistas trafico Via Interamericana Rod Carew di...   \n",
       "6    registra colision Avenida Ricardo J Alfaro San...   \n",
       "8    panama pais te tienes rifar calles puedes caer...   \n",
       "..                                                 ...   \n",
       "151  registra colision Avenida Ricardo J Alfaro Pla...   \n",
       "153  mula detenida Via Centenario Rod Carew direcci...   \n",
       "155  mantiene trafico afectado ambas direcciones Vi...   \n",
       "156  registra accidente transito Via Interamericana...   \n",
       "158  registra accidente transito Via Interamericana...   \n",
       "\n",
       "                                        possible_place  road      place  \n",
       "0                      [Via, Interamericana, Coronado]        384384811  \n",
       "2                 [Autopista, Panama, Colon, Chilibre]                   \n",
       "4     [Via, Interamericana, Rod, Carew, Panama, Oeste]        384384811  \n",
       "6    [Avenida, Ricardo, Alfaro, San, Miguel, Arcang...  2192             \n",
       "8                              [Estadio, Andy, Alonso]                   \n",
       "..                                                 ...   ...        ...  \n",
       "151  [Avenida, Ricardo, Alfaro, Plaza, Edison, Pana...  2192   72197504  \n",
       "153       [Via, Centenario, Rod, Carew, Panama, Oeste]        385466258  \n",
       "155                         [Via, Transistmica, Villa]        563131085  \n",
       "156  [Via, Interamericana, Anclas, Mall, Chorrera, ...        731137347  \n",
       "158  [Via, Interamericana, Anclas, Mall, Chorrera, ...        731137347  \n",
       "\n",
       "[100 rows x 6 columns]"
      ],
      "text/html": "<div>\n<style scoped>\n    .dataframe tbody tr th:only-of-type {\n        vertical-align: middle;\n    }\n\n    .dataframe tbody tr th {\n        vertical-align: top;\n    }\n\n    .dataframe thead th {\n        text-align: right;\n    }\n</style>\n<table border=\"1\" class=\"dataframe\">\n  <thead>\n    <tr style=\"text-align: right;\">\n      <th></th>\n      <th>id</th>\n      <th>text</th>\n      <th>clean</th>\n      <th>possible_place</th>\n      <th>road</th>\n      <th>place</th>\n    </tr>\n  </thead>\n  <tbody>\n    <tr>\n      <th>0</th>\n      <td>1401376450134089731</td>\n      <td>Se registra accidente de tránsito en La Vía In...</td>\n      <td>registra accidente transito Via Interamericana...</td>\n      <td>[Via, Interamericana, Coronado]</td>\n      <td></td>\n      <td>384384811</td>\n    </tr>\n    <tr>\n      <th>2</th>\n      <td>1401343653847650304</td>\n      <td>[VÍDEO] Se registra accidente de tránsito en L...</td>\n      <td>registra accidente transito Autopista Panama C...</td>\n      <td>[Autopista, Panama, Colon, Chilibre]</td>\n      <td></td>\n      <td></td>\n    </tr>\n    <tr>\n      <th>4</th>\n      <td>1401322507232231424</td>\n      <td>Vistas del tráfico en la Vía Interamericana, p...</td>\n      <td>vistas trafico Via Interamericana Rod Carew di...</td>\n      <td>[Via, Interamericana, Rod, Carew, Panama, Oeste]</td>\n      <td></td>\n      <td>384384811</td>\n    </tr>\n    <tr>\n      <th>6</th>\n      <td>1401320841711923200</td>\n      <td>[VÍDEO] Se registra colisión en la Avenida Ric...</td>\n      <td>registra colision Avenida Ricardo J Alfaro San...</td>\n      <td>[Avenida, Ricardo, Alfaro, San, Miguel, Arcang...</td>\n      <td>2192</td>\n      <td></td>\n    </tr>\n    <tr>\n      <th>8</th>\n      <td>1401302282440949765</td>\n      <td>Panamá el país donde te la tienes que rifar en...</td>\n      <td>panama pais te tienes rifar calles puedes caer...</td>\n      <td>[Estadio, Andy, Alonso]</td>\n      <td></td>\n      <td></td>\n    </tr>\n    <tr>\n      <th>...</th>\n      <td>...</td>\n      <td>...</td>\n      <td>...</td>\n      <td>...</td>\n      <td>...</td>\n      <td>...</td>\n    </tr>\n    <tr>\n      <th>151</th>\n      <td>1400490929245638661</td>\n      <td>[VÍDEO] Se registra colisión en la Avenida Ric...</td>\n      <td>registra colision Avenida Ricardo J Alfaro Pla...</td>\n      <td>[Avenida, Ricardo, Alfaro, Plaza, Edison, Pana...</td>\n      <td>2192</td>\n      <td>72197504</td>\n    </tr>\n    <tr>\n      <th>153</th>\n      <td>1400486702083448835</td>\n      <td>Mula detenida en la Vía Centenario, próximo al...</td>\n      <td>mula detenida Via Centenario Rod Carew direcci...</td>\n      <td>[Via, Centenario, Rod, Carew, Panama, Oeste]</td>\n      <td></td>\n      <td>385466258</td>\n    </tr>\n    <tr>\n      <th>155</th>\n      <td>1400461460661170196</td>\n      <td>Se mantiene el tráfico afectado en ambas direc...</td>\n      <td>mantiene trafico afectado ambas direcciones Vi...</td>\n      <td>[Via, Transistmica, Villa]</td>\n      <td></td>\n      <td>563131085</td>\n    </tr>\n    <tr>\n      <th>156</th>\n      <td>1400451986076536834</td>\n      <td>🅾️ Se registra accidente de tránsito en La Vía...</td>\n      <td>registra accidente transito Via Interamericana...</td>\n      <td>[Via, Interamericana, Anclas, Mall, Chorrera, ...</td>\n      <td></td>\n      <td>731137347</td>\n    </tr>\n    <tr>\n      <th>158</th>\n      <td>1400442725900722186</td>\n      <td>Se registra accidente de tránsito en La Vía In...</td>\n      <td>registra accidente transito Via Interamericana...</td>\n      <td>[Via, Interamericana, Anclas, Mall, Chorrera, ...</td>\n      <td></td>\n      <td>731137347</td>\n    </tr>\n  </tbody>\n</table>\n<p>100 rows × 6 columns</p>\n</div>"
     },
     "metadata": {},
     "execution_count": 254
    }
   ],
   "source": [
    "extract2"
   ]
  },
  {
   "source": [],
   "cell_type": "markdown",
   "metadata": {}
  },
  {
   "cell_type": "code",
   "execution_count": null,
   "metadata": {},
   "outputs": [],
   "source": [
    "extract1 = extract.copy()"
   ]
  },
  {
   "cell_type": "code",
   "execution_count": null,
   "metadata": {},
   "outputs": [],
   "source": [
    "for index, tweet in extract[:100].iterrows():\n",
    "    intweet = []; possible = []\n",
    "    for index_place, place in places.iterrows():\n",
    "        if len(place['name'])>5:\n",
    "            if place['name'] in tweet['clean']:\n",
    "                intweet.append(place['osm_id'])\n",
    "                # extract.iloc[index, 'contains'] = extract.iloc[index, 'contains'].append\n",
    "            elif (fuzz.token_set_ratio(place['name'], tweet['clean'])==100 and fuzz.token_sort_ratio(place['name'], tweet['clean'])>50) or (fuzz.token_set_ratio(place['name'], tweet['clean'])>90):\n",
    "                possible.append(place['osm_id'])\n",
    "                # print('\\n', tweet, ' - possible - ', place)\n",
    "            #     if fuzz.token_sort_ratio(place, tweet)>50:\n",
    "            #         possible.append(place.name)\n",
    "            #         # print('\\n\\t', tweet, ' - possible %i - ' % fuzz.token_sort_ratio(place, tweet), place)\n",
    "            # elif fuzz.token_set_ratio(place, tweet)>90:\n",
    "            #     possible.append(place.name)\n",
    "                # print('\\n', tweet, '  - similar %i to -  ' % fuzz.token_set_ratio(place, tweet), place)\n",
    "    if len(intweet)>0:\n",
    "        extract.iloc[index, 4] = np.array(intweet)\n",
    "    if len(possible)>0:\n",
    "        extract.iloc[index, 5] = np.array(possible)"
   ]
  },
  {
   "cell_type": "code",
   "execution_count": null,
   "metadata": {},
   "outputs": [],
   "source": [
    "extract[extract.possible>0]"
   ]
  }
 ]
}