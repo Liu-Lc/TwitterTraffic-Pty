{
 "cells": [
  {
   "cell_type": "markdown",
   "metadata": {},
   "source": [
    "Generar un mapa de áreas para indicar los lugares con cierta cantidad de tweets y ponerlos en rango de color (reporte)\n",
    "\n",
    "Generar el random point en las carreteras, o mejorer el proceso hacia el diagrama planteado.\n",
    "\n",
    "Delimitar el área de las carreteras solo a la ciudad de Panamá"
   ]
  },
  {
   "cell_type": "code",
   "execution_count": 1,
   "metadata": {},
   "outputs": [],
   "source": [
    "import psycopg2 as ps\n",
    "from wordcloud import WordCloud\n",
    "import  matplotlib.pyplot as plt \n",
    "import seaborn as sns\n",
    "import plotly.graph_objects as go\n",
    "import plotly.express as px\n",
    "\n",
    "import re, sys\n",
    "import numpy as np\n",
    "\n",
    "sys.path.append('./TweetData')\n",
    "from TweetData import keys, Preprocessing, Detection, DBConnect\n",
    "\n",
    "import pandas as pd\n",
    "import json\n",
    "from collections import Counter\n",
    "from fuzzywuzzy import fuzz, process\n",
    "\n",
    "import geopandas as gpd"
   ]
  },
  {
   "cell_type": "code",
   "execution_count": 2,
   "metadata": {},
   "outputs": [],
   "source": [
    "from Detection import rf_classifier, vectorizer3"
   ]
  },
  {
   "cell_type": "code",
   "execution_count": 3,
   "metadata": {},
   "outputs": [
    {
     "data": {
      "text/plain": [
       "True"
      ]
     },
     "execution_count": 3,
     "metadata": {},
     "output_type": "execute_result"
    }
   ],
   "source": [
    "db = DBConnect.DB_Connection()\n",
    "db.connect(password=keys.db_pass)"
   ]
  },
  {
   "cell_type": "markdown",
   "metadata": {},
   "source": [
    "## Misc"
   ]
  },
  {
   "cell_type": "code",
   "execution_count": 9,
   "metadata": {},
   "outputs": [],
   "source": [
    "places1 = places.copy()\n",
    "places1.geom = places1.geom.to_crs(epsg=4326)"
   ]
  },
  {
   "cell_type": "code",
   "execution_count": 20,
   "metadata": {},
   "outputs": [],
   "source": [
    "def generate_scatter(df, geom, info):\n",
    "    fig = go.Figure(\n",
    "        go.Scattermapbox(\n",
    "            lat=df[geom].y, lon=df[geom].x,\n",
    "            marker=go.scattermapbox.Marker(\n",
    "                size=10,\n",
    "                color='red',\n",
    "                opacity=0.7\n",
    "            ),\n",
    "            text=df[info],\n",
    "            hoverinfo=['text']\n",
    "        )\n",
    "    )\n",
    "    fig.update_geos(\n",
    "        resolution=110,\n",
    "    )\n",
    "    fig.update_layout(margin={\"r\":0,\"t\":50,\"l\":0,\"b\":0},\n",
    "        mapbox_style=\"open-street-map\", mapbox_zoom=11,\n",
    "        mapbox_center={'lat':8.99, 'lon':-79.5359},\n",
    "        title='Mapa de lugares',\n",
    "        hoverlabel=dict(\n",
    "            bgcolor=\"white\",\n",
    "            font_size=12,\n",
    "        )\n",
    "    )\n",
    "    return fig"
   ]
  },
  {
   "cell_type": "markdown",
   "metadata": {},
   "source": [
    "## Places queries"
   ]
  },
  {
   "cell_type": "code",
   "execution_count": 4,
   "metadata": {},
   "outputs": [],
   "source": [
    "## Get all tweets no places\n",
    "conn = ps.connect(\n",
    "    database='traffictwt', user='postgres', password='root')\n",
    "cursor = conn.cursor()\n",
    "q = '''SELECT TWEET_ID, TWEET_TEXT FROM TWEETS ORDER BY TWEET_CREATED DESC LIMIT 50'''\n",
    "cursor.execute(q)\n",
    "tweets = cursor.fetchall()\n",
    "cursor.close()\n",
    "conn.close()\n",
    "\n",
    "tweets = pd.DataFrame(tweets, columns=['id', 'text'])"
   ]
  },
  {
   "cell_type": "code",
   "execution_count": 5,
   "metadata": {},
   "outputs": [],
   "source": [
    "# Get list of places\n",
    "conn = ps.connect(\n",
    "    database='traffictwt', user='postgres', password='root')\n",
    "q = '''SELECT OSM_ID, NAME, ST_CENTROID(way) as geom FROM PLACES '''\n",
    "places = gpd.GeoDataFrame.from_postgis(q, conn, geom_col='geom')"
   ]
  },
  {
   "cell_type": "code",
   "execution_count": 6,
   "metadata": {},
   "outputs": [],
   "source": [
    "# Get list of roads\n",
    "conn = ps.connect(\n",
    "    database='traffictwt', user='postgres', password='root')\n",
    "q1 = '''SELECT GID, NOMBRE, GEOM FROM carreteras WHERE NOMBRE IS NOT NULL '''\n",
    "roads = gpd.GeoDataFrame.from_postgis(q1, conn, geom_col='geom')"
   ]
  },
  {
   "cell_type": "markdown",
   "metadata": {},
   "source": [
    "### Get tweets with places assigned"
   ]
  },
  {
   "cell_type": "code",
   "execution_count": 81,
   "metadata": {},
   "outputs": [],
   "source": [
    "# Get tweets roads\n",
    "conn = ps.connect(\n",
    "    database='traffictwt', user='postgres', password='root')\n",
    "q1 = '''SELECT TP.TWEET_ID, T.TWEET_TEXT, R.NOMBRE AS ROAD_NAME, ST_CENTROID(R.GEOM) AS ROAD_GEOM\n",
    "    FROM TWEETS_PLACES AS TP\n",
    "        INNER JOIN CARRETERAS AS R ON TP.ROAD_GID=R.GID \n",
    "        INNER JOIN TWEETS AS T ON TP.TWEET_ID=T.TWEET_ID '''\n",
    "# TWEETS_PLACES(TWEET_ID, ROAD_GID, PLACE_ID)\n",
    "twt_roads = gpd.GeoDataFrame.from_postgis(q1, conn, geom_col='road_geom')"
   ]
  },
  {
   "cell_type": "code",
   "execution_count": 82,
   "metadata": {},
   "outputs": [],
   "source": [
    "# Get tweets places\n",
    "conn = ps.connect(\n",
    "    database='traffictwt', user='postgres', password='root')\n",
    "q1 = '''SELECT TP.TWEET_ID, T.TWEET_TEXT, P.NAME AS PLACE_NAME, ST_CENTROID(P.WAY) as PLACE_GEOM\n",
    "    FROM TWEETS_PLACES AS TP\n",
    "        INNER JOIN TWEETS AS T ON TP.TWEET_ID=T.TWEET_ID \n",
    "        INNER JOIN PLACES AS P ON TP.PLACE_ID=P.OSM_ID '''\n",
    "# TWEETS_PLACES(TWEET_ID, ROAD_GID, PLACE_ID)\n",
    "twt_places = gpd.GeoDataFrame.from_postgis(q1, conn, geom_col='place_geom')\n",
    "twt_places.place_geom = twt_places.place_geom.to_crs(epsg=4326)"
   ]
  },
  {
   "cell_type": "code",
   "execution_count": 84,
   "metadata": {},
   "outputs": [
    {
     "data": {
      "application/vnd.plotly.v1+json": {
       "config": {
        "plotlyServerURL": "https://plot.ly"
       },
       "data": [
        {
         "hoverinfo": [
          "text"
         ],
         "hovertemplate": "%{text}<extra></extra>",
         "lat": [
          8.992119837643722,
          8.951161434369137,
          8.957834786500058,
          8.246657336696842,
          8.957834786500058,
          8.951161434369137,
          8.979848256704921,
          8.979848256704921,
          8.392518150882061,
          8.002376574837392,
          8.951161434369137,
          8.99963669793275,
          8.969801347057185,
          8.957834786500058,
          8.957834786500058,
          8.957834786500058,
          8.957834786500058,
          8.957834786500058,
          8.246657336696842,
          8.246657336696842,
          8.87005659796394,
          8.246657336696842,
          8.87005659796394,
          8.87005659796394,
          8.246657336696842,
          8.87005659796394,
          8.87005659796394,
          8.87005659796394,
          8.87005659796394,
          8.951161434369137,
          8.951161434369137,
          8.951161434369137,
          8.992119837643722,
          8.980059964578393,
          8.392518150882061,
          8.615192503244902,
          8.615192503244902,
          8.615192503244902,
          9.01295953301057,
          9.01295953301057,
          9.01295953301057,
          8.951161434369137,
          8.992119837643722,
          8.246657336696842,
          8.951161434369137,
          8.992119837643722,
          8.951161434369137,
          8.992119837643722,
          8.951161434369137,
          8.951161434369137,
          8.980059964578393,
          8.980059964578393,
          8.951161434369137,
          8.87005659796394,
          8.87005659796394,
          8.992119837643722,
          8.951161434369137,
          8.951161434369137,
          8.992119837643722,
          8.95157672557743,
          8.95157672557743,
          8.246657336696842,
          8.980059964578393,
          8.980059964578393,
          8.951161434369137,
          8.87005659796394,
          8.87005659796394,
          8.957834786500058,
          8.87005659796394,
          8.957834786500058,
          8.87005659796394,
          8.972214794374835,
          8.951161434369137,
          8.951161434369137,
          8.951161434369137,
          8.246657336696842,
          9.01295953301057,
          8.246657336696842,
          8.246657336696842,
          8.246657336696842,
          8.951161434369137,
          8.620536598192226,
          8.951161434369137,
          8.951161434369137,
          8.951161434369137,
          8.951161434369137,
          8.951161434369137,
          8.951161434369137,
          8.951161434369137,
          8.620536598192226,
          8.620536598192226,
          8.980059964578393,
          8.246657336696842,
          8.992119837643722,
          8.992119837643722,
          8.992119837643722,
          8.246657336696842,
          8.980059964578393,
          8.980059964578393,
          8.980059964578393,
          8.951161434369137,
          8.951161434369137,
          8.951161434369137,
          8.951161434369137,
          8.951161434369137,
          8.992119837643722,
          8.392518150882061,
          8.951161434369137,
          8.951161434369137,
          8.951161434369137,
          8.951161434369137,
          8.951161434369137,
          8.952522882478148,
          8.951161434369137,
          8.957834786500058,
          8.951161434369137,
          8.951161434369137,
          8.246657336696842,
          8.951161434369137,
          8.951161434369137,
          8.957834786500058,
          8.992119837643722,
          8.957834786500058,
          8.957834786500058,
          8.951161434369137,
          8.951161434369137,
          8.951161434369137,
          8.951161434369137,
          8.951161434369137,
          8.951161434369137,
          8.246657336696842,
          8.979848256704921,
          8.951161434369137,
          8.951161434369137,
          8.992119837643722,
          8.992119837643722,
          8.951161434369137,
          8.951161434369137,
          8.951161434369137,
          8.620536598192226,
          8.855270719146693,
          8.855270719146693,
          8.855270719146693,
          8.951161434369137,
          8.951161434369137,
          8.951161434369137,
          8.951161434369137,
          8.951161434369137,
          8.951161434369137,
          8.951161434369137,
          8.992119837643722,
          8.992119837643722,
          8.951161434369137,
          8.951161434369137,
          8.951161434369137,
          8.972214794374835,
          8.972214794374835,
          8.972214794374835,
          8.104141292000065,
          8.972214794374835,
          8.951161434369137,
          8.951161434369137,
          8.951161434369137,
          8.951161434369137,
          8.980059964578393,
          8.951161434369137,
          8.951161434369137,
          8.951161434369137,
          8.246657336696842,
          8.77734417254837,
          8.951161434369137,
          8.951161434369137,
          8.951161434369137,
          8.951161434369137,
          8.002376574837392,
          8.972214794374835,
          8.952522882478148,
          8.951161434369137,
          8.249130367000049,
          8.951161434369137,
          8.951161434369137,
          8.951161434369137,
          8.951161434369137,
          8.620536598192226,
          8.615192503244902,
          8.951161434369137,
          8.951161434369137,
          8.992119837643722,
          8.979848256704921,
          8.951161434369137,
          8.980059964578393,
          8.992119837643722,
          8.246657336696842,
          8.951161434369137,
          8.951161434369137,
          8.951161434369137,
          8.951161434369137,
          8.972214794374835,
          8.951161434369137,
          8.951161434369137,
          8.951161434369137,
          8.951161434369137,
          8.246657336696842,
          8.980059964578393,
          8.980059964578393,
          8.620536598192226,
          8.246657336696842,
          8.246657336696842,
          8.957834786500058,
          8.957834786500058,
          8.951161434369137,
          8.951161434369137,
          8.951161434369137,
          8.951161434369137,
          8.951161434369137,
          8.992119837643722,
          8.951161434369137,
          8.951161434369137,
          8.951161434369137,
          8.980059964578393,
          8.980059964578393,
          8.980059964578393,
          8.951161434369137,
          9.006268126879064,
          8.984687932009102,
          8.984687932009102,
          8.951161434369137,
          8.246657336696842,
          8.951161434369137,
          8.951161434369137,
          8.951161434369137,
          8.951161434369137,
          8.951161434369137,
          8.951161434369137,
          8.951161434369137,
          8.951161434369137,
          8.951161434369137,
          8.980059964578393,
          8.951161434369137,
          8.951161434369137,
          8.951288738969215,
          8.951288738969215,
          8.992119837643722,
          8.77734417254837,
          8.619960262913182,
          8.246657336696842,
          8.246657336696842,
          8.952522882478148,
          8.952522882478148,
          8.952522882478148,
          8.952522882478148,
          8.952522882478148,
          8.952522882478148,
          8.952522882478148,
          8.951161434369137,
          8.952522882478148,
          8.951161434369137,
          8.980059964578393,
          8.246657336696842,
          8.951161434369137,
          8.951161434369137,
          8.77734417254837,
          8.77734417254837,
          8.951161434369137,
          8.992119837643722,
          8.951161434369137,
          8.951161434369137,
          8.951161434369137,
          8.620536598192226,
          8.951161434369137,
          8.951161434369137,
          8.980059964578393,
          8.951161434369137,
          8.980059964578393,
          8.980059964578393,
          8.980059964578393,
          8.980059964578393,
          8.980059964578393,
          8.980059964578393,
          8.980059964578393,
          8.980059964578393,
          8.980059964578393,
          8.980059964578393,
          8.980059964578393,
          8.980059964578393,
          8.951161434369137,
          8.951161434369137,
          8.951161434369137,
          8.992119837643722,
          8.951161434369137,
          8.992119837643722,
          8.972214794374835,
          8.972214794374835,
          8.855270719146693,
          8.978300996000058,
          8.992119837643722,
          8.246657336696842,
          8.978300996000058,
          8.246657336696842,
          8.246657336696842,
          8.246657336696842,
          8.957834786500058,
          8.980059964578393,
          8.002376574837392,
          8.951161434369137,
          8.951161434369137,
          8.957834786500058,
          8.951161434369137,
          8.957834786500058,
          8.951161434369137,
          8.992119837643722,
          8.979848256704921,
          8.951161434369137,
          8.951161434369137,
          8.99963669793275,
          8.951161434369137,
          8.952522882478148,
          8.77734417254837,
          8.952522882478148,
          8.77734417254837,
          8.992119837643722
         ],
         "lon": [
          -79.53377601674912,
          -79.54602903520322,
          -79.53999223149995,
          -80.56366402782422,
          -79.53999223149995,
          -79.54602903520322,
          -79.51641084500916,
          -79.51641084500916,
          -82.42831931006818,
          -81.3121251361808,
          -79.54602903520322,
          -79.49702430545777,
          -79.53490888315528,
          -79.53999223149995,
          -79.53999223149995,
          -79.53999223149995,
          -79.53999223149995,
          -79.53999223149995,
          -80.56366402782422,
          -80.56366402782422,
          -79.76477747726642,
          -80.56366402782422,
          -79.76477747726642,
          -79.76477747726642,
          -80.56366402782422,
          -79.76477747726642,
          -79.76477747726642,
          -79.76477747726642,
          -79.76477747726642,
          -79.54602903520322,
          -79.54602903520322,
          -79.54602903520322,
          -79.53377601674912,
          -79.51670411787303,
          -82.42831931006818,
          -79.87729967762651,
          -79.87729967762651,
          -79.87729967762651,
          -79.5119919239149,
          -79.5119919239149,
          -79.5119919239149,
          -79.54602903520322,
          -79.53377601674912,
          -80.56366402782422,
          -79.54602903520322,
          -79.53377601674912,
          -79.54602903520322,
          -79.53377601674912,
          -79.54602903520322,
          -79.54602903520322,
          -79.51670411787303,
          -79.51670411787303,
          -79.54602903520322,
          -79.76477747726642,
          -79.76477747726642,
          -79.53377601674912,
          -79.54602903520322,
          -79.54602903520322,
          -79.53377601674912,
          -79.55273899725638,
          -79.55273899725638,
          -80.56366402782422,
          -79.51670411787303,
          -79.51670411787303,
          -79.54602903520322,
          -79.76477747726642,
          -79.76477747726642,
          -79.53999223149995,
          -79.76477747726642,
          -79.53999223149995,
          -79.76477747726642,
          -79.5503225295426,
          -79.54602903520322,
          -79.54602903520322,
          -79.54602903520322,
          -80.56366402782422,
          -79.5119919239149,
          -80.56366402782422,
          -80.56366402782422,
          -80.56366402782422,
          -79.54602903520322,
          -82.72346855627487,
          -79.54602903520322,
          -79.54602903520322,
          -79.54602903520322,
          -79.54602903520322,
          -79.54602903520322,
          -79.54602903520322,
          -79.54602903520322,
          -82.72346855627487,
          -82.72346855627487,
          -79.51670411787303,
          -80.56366402782422,
          -79.53377601674912,
          -79.53377601674912,
          -79.53377601674912,
          -80.56366402782422,
          -79.51670411787303,
          -79.51670411787303,
          -79.51670411787303,
          -79.54602903520322,
          -79.54602903520322,
          -79.54602903520322,
          -79.54602903520322,
          -79.54602903520322,
          -79.53377601674912,
          -82.42831931006818,
          -79.54602903520322,
          -79.54602903520322,
          -79.54602903520322,
          -79.54602903520322,
          -79.54602903520322,
          -79.53819710560946,
          -79.54602903520322,
          -79.53999223149995,
          -79.54602903520322,
          -79.54602903520322,
          -80.56366402782422,
          -79.54602903520322,
          -79.54602903520322,
          -79.53999223149995,
          -79.53377601674912,
          -79.53999223149995,
          -79.53999223149995,
          -79.54602903520322,
          -79.54602903520322,
          -79.54602903520322,
          -79.54602903520322,
          -79.54602903520322,
          -79.54602903520322,
          -80.56366402782422,
          -79.51641084500916,
          -79.54602903520322,
          -79.54602903520322,
          -79.53377601674912,
          -79.53377601674912,
          -79.54602903520322,
          -79.54602903520322,
          -79.54602903520322,
          -82.72346855627487,
          -79.78212700921357,
          -79.78212700921357,
          -79.78212700921357,
          -79.54602903520322,
          -79.54602903520322,
          -79.54602903520322,
          -79.54602903520322,
          -79.54602903520322,
          -79.54602903520322,
          -79.54602903520322,
          -79.53377601674912,
          -79.53377601674912,
          -79.54602903520322,
          -79.54602903520322,
          -79.54602903520322,
          -79.5503225295426,
          -79.5503225295426,
          -79.5503225295426,
          -80.97297474199996,
          -79.5503225295426,
          -79.54602903520322,
          -79.54602903520322,
          -79.54602903520322,
          -79.54602903520322,
          -79.51670411787303,
          -79.54602903520322,
          -79.54602903520322,
          -79.54602903520322,
          -80.56366402782422,
          -78.15515362451394,
          -79.54602903520322,
          -79.54602903520322,
          -79.54602903520322,
          -79.54602903520322,
          -81.3121251361808,
          -79.5503225295426,
          -79.53819710560946,
          -79.54602903520322,
          -80.52765739399996,
          -79.54602903520322,
          -79.54602903520322,
          -79.54602903520322,
          -79.54602903520322,
          -82.72346855627487,
          -79.87729967762651,
          -79.54602903520322,
          -79.54602903520322,
          -79.53377601674912,
          -79.51641084500916,
          -79.54602903520322,
          -79.51670411787303,
          -79.53377601674912,
          -80.56366402782422,
          -79.54602903520322,
          -79.54602903520322,
          -79.54602903520322,
          -79.54602903520322,
          -79.5503225295426,
          -79.54602903520322,
          -79.54602903520322,
          -79.54602903520322,
          -79.54602903520322,
          -80.56366402782422,
          -79.51670411787303,
          -79.51670411787303,
          -82.72346855627487,
          -80.56366402782422,
          -80.56366402782422,
          -79.53999223149995,
          -79.53999223149995,
          -79.54602903520322,
          -79.54602903520322,
          -79.54602903520322,
          -79.54602903520322,
          -79.54602903520322,
          -79.53377601674912,
          -79.54602903520322,
          -79.54602903520322,
          -79.54602903520322,
          -79.51670411787303,
          -79.51670411787303,
          -79.51670411787303,
          -79.54602903520322,
          -79.50028171580729,
          -79.53052897223135,
          -79.53052897223135,
          -79.54602903520322,
          -80.56366402782422,
          -79.54602903520322,
          -79.54602903520322,
          -79.54602903520322,
          -79.54602903520322,
          -79.54602903520322,
          -79.54602903520322,
          -79.54602903520322,
          -79.54602903520322,
          -79.54602903520322,
          -79.51670411787303,
          -79.54602903520322,
          -79.54602903520322,
          -79.58234036861862,
          -79.58234036861862,
          -79.53377601674912,
          -78.15515362451394,
          -82.74938963279877,
          -80.56366402782422,
          -80.56366402782422,
          -79.53819710560946,
          -79.53819710560946,
          -79.53819710560946,
          -79.53819710560946,
          -79.53819710560946,
          -79.53819710560946,
          -79.53819710560946,
          -79.54602903520322,
          -79.53819710560946,
          -79.54602903520322,
          -79.51670411787303,
          -80.56366402782422,
          -79.54602903520322,
          -79.54602903520322,
          -78.15515362451394,
          -78.15515362451394,
          -79.54602903520322,
          -79.53377601674912,
          -79.54602903520322,
          -79.54602903520322,
          -79.54602903520322,
          -82.72346855627487,
          -79.54602903520322,
          -79.54602903520322,
          -79.51670411787303,
          -79.54602903520322,
          -79.51670411787303,
          -79.51670411787303,
          -79.51670411787303,
          -79.51670411787303,
          -79.51670411787303,
          -79.51670411787303,
          -79.51670411787303,
          -79.51670411787303,
          -79.51670411787303,
          -79.51670411787303,
          -79.51670411787303,
          -79.51670411787303,
          -79.54602903520322,
          -79.54602903520322,
          -79.54602903520322,
          -79.53377601674912,
          -79.54602903520322,
          -79.53377601674912,
          -79.5503225295426,
          -79.5503225295426,
          -79.78212700921357,
          -79.52727720849995,
          -79.53377601674912,
          -80.56366402782422,
          -79.52727720849995,
          -80.56366402782422,
          -80.56366402782422,
          -80.56366402782422,
          -79.53999223149995,
          -79.51670411787303,
          -81.3121251361808,
          -79.54602903520322,
          -79.54602903520322,
          -79.53999223149995,
          -79.54602903520322,
          -79.53999223149995,
          -79.54602903520322,
          -79.53377601674912,
          -79.51641084500916,
          -79.54602903520322,
          -79.54602903520322,
          -79.49702430545777,
          -79.54602903520322,
          -79.53819710560946,
          -78.15515362451394,
          -79.53819710560946,
          -78.15515362451394,
          -79.53377601674912
         ],
         "marker": {
          "color": "red",
          "opacity": 0.7,
          "size": 10
         },
         "text": [
          "[VÍDEO] Se registra colisión<br>en la Avenida Ricardo J<br>Alfaro, próximo a San Miguel<br>Arcángel en dirección a Panamá<br>Centro precaución.<br>https://t.co/g5QSp1m9Mj",
          "Vistas del tráfico en la<br>Avenida Domingo Díaz, próximo<br>a San Antonio en ambas<br>direcciones.<br>https://t.co/6d16iKbltH",
          "Trabajos en la Cinta Costera,<br>mantiene el tráfico afectado<br>en esta ruta precaución.<br>https://t.co/9vmNCwBoKa",
          "[VÍDEO] Se registra colisión<br>en la Carretera Panamericana,<br>próximo a Las Mañanitas en<br>dirección a Panamá Centro<br>precaución.<br>https://t.co/TvXJCJKSke",
          "[VÍDEO] Trabajos en la Cinta<br>Costera, mantiene el tráfico<br>afectado en esta ruta<br>precaución.<br>https://t.co/mro6Jfr0LW",
          "[VÍDEO] Se registra colisión<br>en la Avenida Domingo Díaz,<br>próximo a Brisas del Golf en<br>dirección a Panamá Este.<br>https://t.co/BWJzRo93Vh",
          "Se registra colisión en la Vía<br>Israel, próximo a Paitilla en<br>dirección a Panamá Centro<br>precaución.<br>https://t.co/NdVgKDR15g",
          "Se registra colisión en la Vía<br>Israel, próximo a Paitilla en<br>dirección a Panamá Centro<br>precaución.<br>https://t.co/Bygs26cIkj",
          "[VÍDEO] Se registra colisión<br>frente a la Caja de Ahorros,<br>en Pedregal precaución en esta<br>ruta. https://t.co/0muVikWdIp",
          "Se registra accidente de<br>tránsito en La Vía<br>Interamericana, próximo a<br>Cañazas en Santiago provincia<br>de Veraguas.<br>https://t.co/i4uyRFZKmP",
          "[VÍDEO] Se registra colisión<br>en la Avenida de Los Mártires,<br>próximo al puente en dirección<br>a Panamá Oeste precaución.<br>https://t.co/oDDONxEjDS",
          "[VÍDEO] Se registra colisión<br>en la Avenida Cincuentenario,<br>próximo a Panamá Viejo en<br>dirección a Chanis precaución<br>en esta ruta.<br>https://t.co/UPT7zcChMf",
          "[VÍDEO] Vistas del tráfico en<br>la Avenida Justo Arosemena,<br>próximo al Hospital Nacional.<br>https://t.co/DDxk9HZCPv",
          "[VÍDEO] Cierre de calle que se<br>mantiene en la Avenida Justo<br>Arosemena, próximo al Hospital<br>Nacional por el cierre de<br>calle en la Cinta Costera.<br>https://t.co/e7RmE73kBI",
          "[VÍDEO] Trabajadores, dueños<br>de bares, djs cierran parte de<br>la Cinta Costera. Exigen a las<br>autoridades la reapertura del<br>bloque 6. Este grupo ha<br>reclamado en otras ocasiones<br>que se sienten golpeados<br>económicamente por la pandemia<br>del Covid-19. @tvnnoticias<br>https://t.co/JpPRvhDaY9",
          "A esta hora, un grupo de<br>personas cierran la Cinta<br>Costera, próximo a Marbella.<br>Se mantiene el tráfico<br>afectado. #NoticiasTVN<br>@TraficoCPanama<br>https://t.co/NHzgtp2DE1",
          "[VÍDEO] Un grupo de personas<br>cierran la Cinta Costera,<br>próximo a MarBella se mantiene<br>el tráfico afectado.<br>https://t.co/Wspg7WXWGw",
          "Un grupo de personas cierran<br>la Cinta Costera, próximo a<br>MarBella se mantiene el<br>tráfico afectado.<br>https://t.co/DjnQDEhlAs",
          "Cierre en la carretera<br>Panamericana, próximo a<br>Tanara. Se encuentra el<br>tráfico afectado en ambas<br>direcciones, exigen agua<br>potable. #NoticiasTVN<br>@TraficoCPanama<br>https://t.co/Tn3ZHLHOBU",
          "[VÍDEO] Cierre de calle en la<br>Carretera Panamericana,<br>próximo a Tanara se encuentra<br>el tráfico afectado en ambas<br>direcciones, exigen agua.<br>https://t.co/sekf9wHkS7",
          "[VÍDEO] Un grupo de<br>precaristas se mantienen<br>protestando en la vía hacia<br>Puerto Caimito, próximo al<br>Hospital Nicolás Solano en La<br>Chorrera provincia de Panamá<br>Oeste. https://t.co/WBE6Kg5og5",
          "Se registra cierre de calle en<br>la carretera Panamericana,<br>próximo a Tanara, exigen agua.<br>@TraficoCPanama<br>https://t.co/P8Fy7Qzsga",
          "[VÍDEO] Un grupo de<br>precaristas se mantienen<br>protestando en la vía hacia<br>Puerto Caimito, próximo al<br>Hospital Nicolás Solano en La<br>Chorrera provincia de Panamá<br>Oeste. https://t.co/MKlFd5fG98",
          "[VÍDEO] Un grupo de<br>precaristas se mantienen<br>protestando en la vía hacia<br>Puerto Caimito, próximo al<br>Hospital Nicolás Solano en La<br>Chorrera provincia de Panamá<br>Oeste. https://t.co/tPvPfI09m8",
          "[VÍDEO] Cierre de calle en la<br>Carretera Panamericana,<br>próximo a Tanara se encuentra<br>el tráfico afectado en ambas<br>direcciones, exigen agua.<br>https://t.co/e9cEKlvNho",
          "[VÍDEO] Un grupo de<br>precaristas se mantienen<br>protestando en la vía hacia<br>Puerto Caimito, próximo al<br>Hospital Nicolás Solano en La<br>Chorrera provincia de Panamá<br>Oeste. https://t.co/V28sM7iaeC",
          "#ProvinciasKW Un grupo de<br>precaristas se mantienen<br>protestando en la vía hacia<br>Puerto Caimito, próximo al<br>Hospital Nicolás Solano en La<br>Chorrera. @TraficoCPanama<br>https://t.co/6FmTx2UVYP",
          "Un grupo de personas se<br>mantienen protestando en la<br>vía hacia Puerto Caimito,<br>próximo al Hospital Nicolás<br>Solano, en La Chorrera. Vía<br>@TraficoCPanama<br>https://t.co/7KZ6cqAZmY",
          "Un grupo de precaristas se<br>mantienen protestando en la<br>vía hacia Puerto Caimito,<br>próximo al Hospital Nicolás<br>Solano en La Chorrera<br>provincia de Panamá Oeste.<br>https://t.co/kroXkSdzgt",
          "[VÍDEO] Vistas del tráfico en<br>la Avenida Omar Torrijos,<br>próximo a Pedro Miguel en<br>dirección a Panamá Oeste.<br>https://t.co/MfLkIIfEAN",
          "Un grupo de personas cierran<br>la Avenida La Roosevelt,<br>frente al McDonald's de<br>Balboa.<br>https://t.co/GCkMCpjtQe",
          "Un grupo de personas cierran<br>la Avenida La Roosevelt,<br>frente al McDonald's de<br>Balboa.<br>https://t.co/R60NCYLpMN",
          "[VÍDEO] Se registra colisión<br>en la Avenida Ricardo J<br>Alfaro, próximo a Plaza Edison<br>en dirección a Panamá Centro<br>precaución.<br>https://t.co/Y10GMdO0R7",
          "Se registra accidente de<br>tránsito en la entrada del<br>Corredor de Los Pobres,<br>próximo a Villa Flora<br>precaución en esta ruta.<br>https://t.co/TORs2eCtyl",
          "Un grupo de personas se<br>mantienen protestando frente<br>al Centro de Salud, en<br>Pedregal se mantiene el<br>tráfico afectado en ambas<br>direcciones precaución.<br>https://t.co/AKLNDR8yaJ",
          "🅾️ A esta hora se registra<br>accidente de tránsito en La<br>Vía Interamericana, próximo a<br>Punta Chame en dirección a<br>Panamá Centro.  #TNPLive<br>@TraficoCPanama<br>https://t.co/qY7tb03Q9C",
          "Se registra accidente de<br>tránsito en La Vía<br>Interamericana, próximo a<br>Punta Chame en dirección a<br>Panamá Centro precaución.<br>https://t.co/JjrmrJYYAv",
          "[VÍDEO] Se registra accidente<br>de tránsito en La Vía<br>Interamericana, próximo a<br>Punta Chame en dirección a<br>Panamá Centro precaución.<br>https://t.co/GBRFBsZBjc",
          "[VÍDEO] Continúa la protesta<br>de los ex trabajadores de la<br>empresa COCIGE, que exigen el<br>pago de miles de dólares, en<br>estos momentos se mantienen en<br>la Avenida 12 de Octubre<br>frente a Medcom.<br>https://t.co/Yxl8ccjsEj",
          "[VÍDEO] Continúa la protesta<br>de los ex trabajadores de la<br>empresa COCIGE, que exigen el<br>pago de miles de dólares, en<br>estos momentos se mantienen en<br>la Avenida 12 de Octubre<br>frente a Medcom.<br>https://t.co/wywT4HdQ3x",
          "Continúa la protesta de los ex<br>trabajadores de la empresa<br>COCIGE, que exigen el pago de<br>miles de dólares, en estos<br>momentos se mantienen en la<br>Avenida 12 de Octubre frente a<br>Medcom.<br>https://t.co/XUzz1ksE8U",
          "[VÍDEO] Vistas del tráfico en<br>la Avenida de Los Mártires,<br>próximo al Instituto Nacional<br>en dirección a Panamá Oeste.<br>https://t.co/hrJAYVAXZU",
          "[VÍDEO] Se registra accidente<br>de tránsito bajo el puente de<br>Avenida Ricardo J Alfaro,<br>próximo a Condado Del Rey,<br>precaución en esta ruta.<br>https://t.co/QK7GcpBEzq",
          "[VÍDEO] Vistas del tráfico en<br>la Carretera Panamericana,<br>próximo a la altura de la 24<br>de Diciembre en dirección a<br>Panamá Este.<br>https://t.co/32fmRhNIyt",
          "Motorizado afectado en<br>accidentes de tránsito en La<br>Avenida Nacional, próximo al<br>puente de La Cresta en<br>dirección a Panamá Este<br>precaución.<br>https://t.co/HQZzCQB9C8",
          "Se registra accidente de<br>tránsito en la Avenida Ricardo<br>J Alfaro, próximo al Dorado en<br>dirección a Panamá Norte<br>precaución.<br>https://t.co/1sFmdhflp2",
          "[VÍDEO] Mula detenida en la<br>Avenida Domingo Díaz, próximo<br>a La Roosevelt en dirección a<br>Panamá Este precaución.<br>https://t.co/sNK7hG7ToM",
          "Se registra accidente de<br>tránsito en la Avenida Ricardo<br>J Alfaro, próximo al Dorado en<br>dirección a Panamá Norte<br>precaución.<br>https://t.co/YukEMH6p2P",
          "Mula detenida en la Avenida<br>Domingo Díaz, próximo a La<br>Roosevelt en dirección a<br>Panamá Este precaución.<br>https://t.co/hNsv7KHzKV",
          "Motorizado afectado en<br>accidentes de tránsito en La<br>Avenida Nacional, próximo al<br>puente de La Cresta en<br>dirección a Panamá Este<br>precaución.<br>https://t.co/NChPBNBQDO",
          "#NacionalesKW Se registra<br>colisión en el Corredor Sur,<br>próximo a Santa María.<br>@TraficoCPanama<br>https://t.co/b7jqtCPisd",
          "[VÍDEO] Se colisión en el<br>Corredor Sur, próximo a Santa<br>María en dirección a Panamá<br>Centro precaución.<br>https://t.co/GyQU4mHOhm",
          "[VÍDEO] Vistas del tráfico en<br>la Avenida de Los Mártires,<br>próximo al puente en ambas<br>direcciones. Desde el Centro<br>de Operación Nacional.<br>https://t.co/lRwI6H47Fu",
          "[VÍDEO] Se registra accidente<br>de tránsito en la vía hacia<br>Puerto Caimito, en La Chorrera<br>provincia de Panamá Oeste.<br>https://t.co/6OQdMO7RGD",
          "Se registra accidente de<br>tránsito en la vía hacia<br>Puerto Caimito, en La Chorrera<br>provincia de Panamá Oeste.<br>https://t.co/tSbc54HSqI",
          "Un grupo de personas cierran<br>la Avenida Ricardo J Alfaro,<br>próximo a Plaza Edison en<br>dirección a Panamá Este<br>precaución.<br>https://t.co/UDR3gInPh5",
          "Vistas del tráfico en la<br>avenida de Los Mártires,<br>próximo al Instituto Nacional<br>en dirección a Panamá Oeste.<br>@TraficoCPanama #NoticiasTVN<br>https://t.co/oL02dC5yNx",
          "Vistas del tráfico en la<br>Avenida de Los Mártires,<br>próximo al Instituto Nacional<br>en dirección a Panamá Oeste.<br>https://t.co/JVRWPPn2zO",
          "Se registra colisión en la<br>Avenida Ricardo J Alfaro,<br>próximo a San Miguelito en<br>dirección a Panamá Este<br>precaución.<br>https://t.co/olW3orLn8j",
          "Cierre de calle frente al<br>Puerto de Balboa, se mantiene<br>el tráfico afectado en ambas<br>direcciones precaución.<br>https://t.co/QkYRnXX20P",
          "Cierre de calle frente al<br>Puerto de Balboa, se mantiene<br>el tráfico afectado en ambas<br>direcciones precaución.<br>https://t.co/exy1u7IvHC",
          "Cierre de calle en la<br>Carretera Panamericana,<br>próximo a Las Garzas se<br>encuentra el tráfico afectado<br>en ambas direcciones<br>precaución.<br>https://t.co/V8esrsMk4L",
          "Se registra colisión múltiple<br>sobre el Tramo Marino del<br>Corredor Sur, en dirección a<br>Panamá Centro precaución.<br>https://t.co/ySgB9IxKEc",
          "[VÍDEO] Se registra colisión<br>múltiple sobre el Tramo Marino<br>del Corredor Sur, en dirección<br>a Panamá Centro precaución.<br>https://t.co/J96n1JUdlg",
          "Vistas del tráfico rural en la<br>Avenida Domingo Díaz, próximo<br>a San Miguelito en dirección a<br>Panamá Centro.<br>https://t.co/YytPWmDnuV",
          "Un grupo de personas cierran<br>la vía hacia Puerto Caimito,<br>frente al Hospital Nicolás<br>Solano en La Chorrera para<br>exigen servicio de agua y<br>energía eléctrica. Vía:<br>@TraficoCPanama<br>https://t.co/SEehago0vu",
          "Un grupo de personas cierran<br>la vía hacia Puerto Caimito,<br>frente al Hospital Nicolás<br>Solano en La Chorrera, exigen<br>agua y energía eléctrica.<br>https://t.co/eJnotvPBMr",
          "[VÍDEO] Se registra accidente<br>de tránsito en la Cinta<br>Costera 3, sobre el Tramo<br>Marino en dirección a Panamá<br>Centro.<br>https://t.co/32tuHOUQd2",
          "Un grupo de personas cierran<br>la vía hacia Puerto Caimito,<br>frente al Hospital Nicolás<br>Solano en La Chorrera, exigen<br>agua y energía eléctrica.<br>https://t.co/oo8vp76PyK",
          "Se registra accidente de<br>tránsito en la Cinta Costera<br>3, sobre el Tramo Marino en<br>dirección a Panamá Centro.<br>https://t.co/6Oj2fh9eBP",
          "Cierre de vía en el<br>corregimiento de Puerto<br>Caimito en La Chorrera cerca<br>del Hospital Nicolás Alejo<br>Solano.<br>https://t.co/Slx2zsi2yj",
          "[VÍDEO] Se registra accidente<br>de tránsito en el Corredor<br>Norte, salida de la Martín<br>Sosa precaución en esta ruta.<br>https://t.co/RIwHQYiePN",
          "#Tráfico Se registra accidente<br>de tránsito en la avenida Omar<br>Torrijos, próximo a La<br>Forestal. Tráfico afectado en<br>ambas direcciones. Vía<br>@TraficoCPanama<br>https://t.co/7Z24OmQx2X",
          "[VÍDEO] Se registra accidente<br>de tránsito en la Avenida Omar<br>Torrijos, próximo a La<br>Forestal se mantiene el<br>tráfico afectado en ambas<br>direcciones precaución.<br>https://t.co/C1Kyg2KkUp",
          "Se registra accidente de<br>tránsito en la Avenida Omar<br>Torrijos, próximo a La<br>Forestal se mantiene el<br>tráfico afectado en ambas<br>direcciones precaución.<br>https://t.co/7lA2at23MV",
          "#Tráfico Reportan accidente de<br>tránsito en la carretera<br>Panamericana, próximo a la 24<br>de Diciembre en dirección a<br>Panamá Este. Vía:<br>@TraficoCPanama<br>https://t.co/H0GpQXlaxe",
          "Se registra colisión frente al<br>Banco Nacional, de la Avenida<br>12 de Octubre precaución en<br>esta ruta.<br>https://t.co/Xg4l96lKVf",
          "#NacionalesKW  Se registra<br>accidente de tránsito en La<br>Carretera Panamericana,<br>próximo a la 24 de Diciembre<br>en dirección a Panamá Este<br>precaución ⚠ Vía<br>@TraficoCPanama<br>https://t.co/lahGlsHoD4",
          "Se registra accidente de<br>tránsito en La Carretera<br>Panamericana, próximo a la 24<br>de Diciembre en dirección a<br>Panamá Este precaución.<br>https://t.co/wQa0XESSNH",
          "[VÍDEO] Se registra accidente<br>de tránsito en La Carretera<br>Panamericana, próximo a la 24<br>de Diciembre en dirección a<br>Panamá Este precaución.<br>https://t.co/cSoZjXS1ud",
          "[VÍDEO] Se registra accidente<br>de tránsito en la Avenida José<br>Agustín Arango, próximo a Los<br>Pueblos en dirección a Panamá<br>Este precaución.<br>https://t.co/cIhXalch6j",
          "Se registra colisión en la<br>Calle 64, San Francisco<br>precaución en esta ruta.<br>https://t.co/iLfIWayxDz",
          "Inundada la Avenida Balboa,<br>próximo al Mercado de Marisco.<br>Vía @TraficoCPanama<br>https://t.co/BRad8nnROD",
          "Se registra colisión en la<br>Avenida Fernández de Córdoba,<br>próximo a la estación del<br>metro precaución en esta ruta.<br>https://t.co/Ea599ihT9h",
          "Inundada la Avenida Balboa,<br>próximo al Mercado de<br>Mariscos. Video de<br>@TraficoCPanama #NoticiasTVN<br>https://t.co/efYCywaPuH",
          "#AEstaHora Se encuentra<br>inundada la Avenida Balboa,<br>próximo al Mercado de Marisco<br>precaución en esta ruta. vía:<br>@TraficoCPanama<br>https://t.co/LtESdb6aMa",
          "#AEstaHora Inundada la Avenida<br>Nacional, próximo a Curundú.<br>Video de @TraficoCPanama<br>#NoticiasTVN<br>https://t.co/pMbJ9hkoAP",
          "[VÍDEO] Inundada la Avenida<br>Balboa, próximo al Mercado de<br>Marisco precaución en esta<br>ruta. https://t.co/sl46Vho4AU",
          "[VÍDEO] Inundada la Avenida<br>Nacional, próximo a Curundú<br>precaución en esta ruta.<br>https://t.co/kmUneFBDma",
          "🅾️ Se registra colisión en la<br>Calle 64, San Francisco<br>precaución en esta ruta.<br>#TNPLive @TraficoCPanama<br>https://t.co/KER6HwOxwR",
          "Se registra colisión en la<br>Calle 64, San Francisco<br>precaución en esta ruta.<br>https://t.co/6MgrZ8ZOK9",
          "Se registra colisión en el<br>Corredor Sur, próximo a Santa<br>María en dirección a Panamá<br>Centro precaución.<br>https://t.co/2HQdk6AMlk",
          "Se registra accidente de<br>tránsito en La Carretera<br>Panamericana, próximo a Pacora<br>precaución en esta ruta.<br>https://t.co/m0bnuqzoHT",
          "#NacionalesKW  Camión<br>recolector de basura<br>involucrado en accidente de<br>tránsito en la Avenida Ricardo<br>J Alfaro, próximo a Condado<br>Del Rey en dirección a Panamá<br>Centro. @TraficoCPanama<br>https://t.co/RtlbAk19Ju",
          "Camión recolector de basura<br>involucrado en accidente de<br>tránsito en la Avenida Ricardo<br>J Alfaro, próximo a Condado<br>Del Rey en dirección a Panamá<br>Centro. Detalles de<br>@TraficoCPanama #NoticiasTVN<br>https://t.co/KfrJ7l9SM4",
          "[VÍDEO] Camión recolector de<br>basura involucrado en<br>accidente de tránsito en la<br>Avenida Ricardo J Alfaro,<br>próximo a Condado Del Rey en<br>dirección a Panamá Centro.<br>https://t.co/FGu7vgoVED",
          "Vistas del tráfico en la<br>Carretera Panamericana,<br>próximo a Nuevo Tocumen en<br>dirección a Panamá Este.<br>https://t.co/QWdfuFGBuo",
          "Accidente de tránsito en el<br>Corredor Sur, sobre el Tramo<br>Marino mantiene el tráfico<br>afectado en ambas direcciones<br>precaución.<br>https://t.co/Qgvp1OMPQn",
          "Reportan accidente vehicular<br>en el Tramo Marino del<br>Corredor Sur, con dirección a<br>Tocumen.  Precaución.<br>#NoticiasTVN @BCBRP<br>@TraficoCPanama<br>https://t.co/go8BEUNnUd",
          "Accidente de tránsito en el<br>Corredor Sur, sobre el Tramo<br>Marino mantiene el tráfico<br>afectado en ambas direcciones<br>precaución.<br>https://t.co/0L7GfjAWHY",
          "#AEstaHora La Avenida Domingo<br>Díaz se encuentra inundada,<br>próximo a El Llano. El tráfico<br>está afectado en ambas<br>direcciones. @TraficoCPanama<br>https://t.co/7MLSdFAUWm",
          "Así se mantiene la Avenida<br>Domingo Díaz, próximo a Los<br>Pueblos, ante las lluvias la<br>tarde de este sábado.<br>@TraficoCPanama #TReporta<br>https://t.co/UiDVBfUBnT",
          "Inundada la Avenida Domingo<br>Díaz, próximo a Los Pueblos se<br>mantiene el tráfico afectado.<br>@TraficoCPanama<br>https://t.co/LcM3qOFTKk",
          "[VÍDEO] Inundada la Avenida<br>Domingo Díaz, próximo a Los<br>Pueblos se mantiene el tráfico<br>afectado en ambas direcciones<br>precaución.<br>https://t.co/NKoQOyOujz",
          "Tráfico detenido en la Avenida<br>Domingo Díaz, próximo a Brisas<br>del Golf en dirección a Panamá<br>Este, se reportan<br>inundadaciones en esta área.<br>https://t.co/2pbleG9yuE",
          "[VÍDEO] Se registra accidente<br>de tránsito en La Avenida<br>Ricardo J Alfaro, próximo a la<br>USMA en dirección a Panamá<br>Centro precaución.<br>https://t.co/EnqG27XsrG",
          "Ful tranque en el parador,<br>pedregal, debido a la cantidad<br>de agua en la vía.<br>@TraficoCPanama @tvnnoticias<br>@criticaenlinea @TReporta<br>https://t.co/s4BqA6cVRN",
          "🅾️ Así se ve el tráfico en la<br>Avenida José Agustín Arango,<br>próximo a Juan Díaz en<br>dirección a Panamá Este.<br>#TNPLive @TraficoCPanama<br>https://t.co/q9WlAH2wwA",
          "Anegada se mantiene la Avenida<br>Domingo Díaz, próximo a El<br>Llano. El tráfico está<br>afectado en ambas direcciones.<br>A todos los conductores mucha<br>precaución. @TraficoCPanama<br>#TReporta<br>https://t.co/3K6WSF9IY2",
          "[VÍDEO] Inundada la Avenida<br>Domingo Díaz, próximo a San<br>Pedro se encuentra el tráfico<br>afectado en ambas direcciones<br>precaución.<br>https://t.co/JfvWosfxy1",
          "[VÍDEO] Inundada la Avenida<br>Domingo Díaz, próximo a El<br>Llano se encuentra el tráfico<br>afectado en ambas direcciones<br>precaución.<br>https://t.co/IkEmGIxcJK",
          "[VÍDEO] Cámara del Centro de<br>Operación Nacional, capta<br>colisión en la Avenida Balboa,<br>próximo al Parque Urraca.<br>https://t.co/c3OQftiKjy",
          "Se registra colisión en la<br>Calle 86 Oeste, San Francisco<br>precaución en esta ruta.<br>https://t.co/WkvR5sUkHx",
          "[VÍDEO] Vistas del tráfico en<br>la Avenida José Agustín<br>Arango, próximo a Juan Díaz en<br>dirección a Panamá Este.<br>https://t.co/ck97b8VLvY",
          "Vistas del tráfico en estos<br>momentos en la Cinta Costera,<br>próximo al Mercado de Marisco<br>en dirección a Panamá Oeste.<br>https://t.co/wY9a9pEaem",
          "Vistas del tráfico en la<br>Avenida Domingo Díaz, próximo<br>al Crisol en dirección a<br>Panamá Centro.<br>https://t.co/DwdAp99ixQ",
          "Trabajos en la Avenida Domingo<br>Díaz, próximo a El Crisol se<br>encuentra el tráfico afectado<br>en ambas direcciones<br>precaución.<br>https://t.co/lSs4BdCb2F",
          "Continúan los trabajos de<br>reparación en la vía<br>Panamericana, en Arraiján<br>Cabecera, donde días<br>anteriores se registró<br>hundimiento en parte de dicha<br>carretera.  Vía:<br>@TraficoCPanama.<br>https://t.co/RmVMxyLT66",
          "[VÍDEO] Vistas del tráfico en<br>la Avenida Omar Torrijos,<br>próximo a Paraíso en dirección<br>a Panamá Oeste.<br>https://t.co/Ya229agcWu",
          "Vistas del tráfico en la<br>Avenida de Los Mártires,<br>próximo al Instituto Nacional<br>en dirección a Panamá Oeste.<br>https://t.co/wKBlz5P8Y3",
          "Así se mantiene el tráfico en<br>la Cinta Costera, próximo al<br>Mercado de Marisco, en estos<br>momentos. @TraficoCPanama<br>#TReporta<br>https://t.co/oYSKLO9LMV",
          "Se registra colisión en la<br>Avenida Ricardo J Alfaro,<br>próximo al Supermercado 99 en<br>dirección a Panamá Centro<br>precaución.<br>https://t.co/42eA2EcjlA",
          "[VÍDEO] Vistas del tráfico en<br>la Cinta Costera, próximo a<br>Mercado de Marisco en estos<br>momentos.<br>https://t.co/tm1c6TyAJU",
          "[VÍDEO] Vistas del tráfico en<br>la Cinta Costera, próximo al<br>Mercado de Marisco en<br>dirección a Panamá Este.<br>https://t.co/tbncxvczb9",
          "[VÍDEO] Se registra colisión<br>en la Avenida Domingo Díaz,<br>próximo a San Antonio en<br>dirección a Panamá Centro<br>precaución.<br>https://t.co/pr8c7Lgigz",
          "Otras imágenes del accidente<br>de tránsito más temprano en la<br>Avenida Omar Torrijos, próximo<br>a La Forestal. Maneje con<br>precaución en esta ruta.<br>Detalles de @TraficoCPanama<br>#NoticiasTVN<br>https://t.co/fwy6XFWy5k",
          "Se registra accidente de<br>tránsito en la Avenida Omar<br>Torrijos, próximo a La<br>Forestal. Maneje con<br>precaución en esta ruta.<br>Detalles de @TraficoCPanama<br>#NoticiasTVN<br>https://t.co/GXQWTqHZqx",
          "Se registra accidente de<br>tránsito en la Avenida Omar<br>Torrijos, próximo a La<br>Forestal. #Accidente<br>@TraficoCPanama<br>https://t.co/DjtOPvoP1d",
          "[VÍDEO] Se registra accidente<br>de tránsito en la Avenida Omar<br>Torrijos, próximo a La<br>Forestal precaución en esta<br>ruta. https://t.co/eCgSXavLFy",
          "Se registra accidente de<br>tránsito en la Avenida Omar<br>Torrijos, próximo a La<br>Forestal precaución en esta<br>ruta. https://t.co/Os1Nwvrm1b",
          "Vistas del tráfico en la<br>Carretera Panamericana,<br>próximo a Nuevo Tocumen en<br>dirección a Panamá Centro.<br>https://t.co/3C9c1NqwgD",
          "Se registra colisión en la Vía<br>Israel, próximo a Multiplaza<br>en dirección a Panamá Centro<br>precaución.<br>https://t.co/ug6xFyfRh6",
          "[VÍDEO] Vistas del tráfico<br>fluido en la Avenida de Los<br>Mártires, próximo al Instituto<br>Nacional en dirección a Panamá<br>Oeste.@TraficoCPanama<br>https://t.co/3kMwhEo4Ey",
          "[VÍDEO] Vistas del tráfico<br>fluido en la Avenida de Los<br>Mártires, próximo al Instituto<br>Nacional en dirección a Panamá<br>Oeste. https://t.co/Wj7f9dhybC",
          "Se registra accidente de<br>tránsito en Avenida Ricardo J<br>Alfaro, próximo a Condado Del<br>Rey. @TraficoCPanama<br>https://t.co/NO66kbTMpt",
          "[VÍDEO] Se registra accidente<br>de tránsito en Avenida Ricardo<br>J Alfaro, próximo a Condado<br>Del Rey en dirección a Panamá<br>Centro.<br>https://t.co/gXR7bMyQm8",
          "A esta hora hay tránsito<br>fluido en la Avenida de los<br>Mártires. Se registra lluvia<br>en ese sector, maneje con<br>precaución. Detalles de<br>@TraficoCPanama #NoticiasTVN<br>https://t.co/969or8RoHm",
          "Vistas del tráfico en la<br>Avenida José Agustín Arango,<br>próximo a Juan Díaz en ambas<br>direcciones.<br>https://t.co/2yO0Wx86hj",
          "Se registra colisión en la<br>Avenida José Agustín Arango,<br>próximo a Juan Díaz precaución<br>en esta ruta.<br>https://t.co/NN2ebtN13O",
          "Se registra colisión en la<br>Calle 71 San Francisco,<br>precaución en esta ruta.<br>https://t.co/gDhu6OHiqM",
          "Miembros del Suntracs se<br>mantienen protestando en la<br>autopista Arraiján-La<br>Chorrera, próximo a La Mitra<br>en dirección a Panamá Centro.<br>Video de @TraficoCPanama<br>#NoticiasTVN<br>https://t.co/xPT0md01yq",
          "[VÍDEO] Miembros del Suntracs<br>se mantienen protestando en la<br>Autopista Arraiján-La<br>Chorrera, próximo a La Mitra<br>en dirección a Panamá Centro.<br>https://t.co/THIKeTvFW8",
          "Miembros del Suntracs se<br>mantienen protestando en la<br>Autopista Arraiján-La<br>Chorrera, próximo a La Mitra<br>en dirección a Panamá Centro.<br>https://t.co/stj87j5EqJ",
          "Se registra accidente de<br>tránsito en la Avenida Domingo<br>Díaz, próximo a Las Acacías<br>precaución en esta ruta.<br>https://t.co/sV97EXf2vz",
          "Se registra accidente de<br>tránsito en la Avenida Domingo<br>Díaz, próximo a Las Acacías<br>precaución en esta ruta.<br>https://t.co/qXwSz5fqlG",
          "[VÍDEO] Se registra accidente<br>de tránsito en la Avenida Omar<br>Torrijos, próximo a Paraíso en<br>dirección a Panamá Centro<br>precaución.<br>https://t.co/MzTIAHgvSW",
          "Se registra accidente de<br>tránsito en la Avenida Omar<br>Torrijos, próximo a Paraíso en<br>dirección a Panamá Centro. Vía<br>@TraficoCPanama #NoticiasTVN<br>https://t.co/qWExMdM7vZ",
          "#NacionalesKW Se registra<br>accidente de tránsito en la<br>Avenida Omar Torrijos, próximo<br>a Paraíso. @TraficoCPanama<br>https://t.co/bt3jvVPUWK",
          "Se registra accidente de<br>tránsito en la Avenida Omar<br>Torrijos, próximo a Paraíso en<br>dirección a Panamá Centro<br>precaución.<br>https://t.co/4yNP4we56R",
          "[VÍDEO] Vistas del tráfico en<br>la Avenida de Los Mártires,<br>próximo al Instituto Nacional<br>en dirección a Panamá Oeste.<br>https://t.co/xb9qjBu6Ng",
          "🅾️ Un grupo de personas se<br>mantienen protestando en la<br>Avenida Ricardo J Alfaro,<br>próximo a Plaza Edison en<br>dirección a Panamá Norte.<br>#TNPLive vía: @TraficoCPanama<br>https://t.co/GJdI0rOtsu",
          "[VÍDEO] Un grupo de personas<br>se mantienen protestando en la<br>Avenida Ricardo J Alfaro,<br>próximo a Plaza Edison en<br>dirección a Panamá Norte.<br>https://t.co/Wq6rDniERS",
          "[VÍDEO] Acción policial en la<br>Avenida de Los Mártires,<br>próximo al Chorrillo en<br>dirección a Panamá Centro.<br>Unidades de la Policía<br>Nacional mantiene detenido un<br>vehículo.<br>https://t.co/O1PMuEL0bF",
          "[VÍDEO] Vistas del tráfico en<br>la Avenida Domingo Díaz,<br>próximo a San Miguelito en<br>dirección a Panamá Centro.<br>https://t.co/YHV5s0fMpM",
          "[VÍDEO] Se registra colisión<br>en la Avenida Balboa, frente<br>al Hospital del Niño<br>precaución, en esta ruta.<br>https://t.co/jitJ6YSSZh",
          "🅾️ A esta hora, se registra<br>accidente de tránsito en el<br>Corredor Norte, próximo a<br>Tinajitas en dirección a<br>Panamá Centro.  #TNPLive vía:<br>@TraficoCPanama<br>https://t.co/6o7daAoCAP",
          "Se registra accidente de<br>tránsito en el Corredor Norte,<br>próximo a Tinajitas en<br>dirección a Panamá Centro.<br>Video de @TraficoCPanama<br>#NoticiasTVN<br>https://t.co/HE0Ar7pHMv",
          "[VÍDEO] Se registra accidente<br>de tránsito en el Corredor<br>Norte, próximo a Tinajitas en<br>dirección a Panamá Centro.<br>https://t.co/ThgOI58Nmh",
          "Moradores de Gonzalillo en<br>Panamá Norte se mantienen<br>protestando. Exigen al<br>@MOPPma la construcción de la<br>calle hacia Santa Librada. Vía<br>@TraficoCPanama<br>https://t.co/fsGXao8QzA",
          "[VÍDEO] Equipo pesado derriba<br>tendido eléctrico en la<br>Avenida Juan Pablo II, próximo<br>al Corredor Norte se mantiene<br>el tráfico afectado en ambas<br>direcciones precaución.<br>https://t.co/Iyiw7lntaG",
          "Vistas del tráfico en la<br>Avenida Domingo Díaz, próximo<br>al Parador en dirección a<br>Panamá Este en estos momentos.<br>https://t.co/BtY5d4kRiN",
          "[VÍDEO] Mula detenida en la<br>Avenida Domingo Díaz, próximo<br>a Los Pueblos en dirección a<br>Panamá Este.<br>https://t.co/deTDmjRrLH",
          "[VÍDEO] Auto detenido en la<br>Avenida Domingo Díaz, próximo<br>a San Pedro en dirección a<br>Panamá Este precaución.<br>https://t.co/pPbB5uzqus",
          "[VÍDEO] Se registra accidente<br>de tránsito en la Avenida Omar<br>Torrijos, próximo a La<br>Forestal se mantiene el<br>tráfico afectado en ambas<br>direcciones precaución.<br>https://t.co/06v5Yfbvdb",
          "Así se veía desde el corredor<br>hacia Punta Pacifica la lluvia<br>que cayó esta tarde en Ciudad<br>de Panama @Sinaproc_Panama<br>@TraficoCPanama #EsNoticia<br>https://t.co/jBlAOVDQFD",
          "Anegada se encuentra la<br>Avenida Omar Torrijos, próximo<br>a Paraíso. El tráfico se<br>mantiene afectado en ambas<br>direcciones. @TraficoCPanama<br>#TReporta<br>https://t.co/otbCvjkn22",
          "#NacionalesKW Inundada la<br>Avenida Omar Torrijos, próximo<br>a Paraíso. @TraficoCPanama<br>https://t.co/26clnHhpwS",
          "[VÍDEO] Inundada la Avenida<br>Omar Torrijos, próximo a<br>Paraíso se encuentra el<br>tráfico afectado en ambas<br>direcciones precaución.<br>https://t.co/ubOtzX0DaW",
          "[VÍDEO] Se reportan lluvias en<br>diversas partes del país la<br>tarde de este domingo. “Maneje<br>con cuidado porque hay vías<br>anegadas en la carretera<br>Panamericana”.<br>https://t.co/nckxKZb0an",
          "Se registra accidente de<br>tránsito en La Vía<br>Interamericana, próximo a<br>Vista Alegre en Arraiján en<br>dirección a Panamá Centro<br>precaución.<br>https://t.co/4vjPu1uAfr",
          "Se registra accidente de<br>tránsito en la Avenida Omar<br>Torrijos, próximo a Gamboa.<br>@TraficoCPanama",
          "[VÍDEO] Se registra accidente<br>de tránsito en la Avenida Omar<br>Torrijos, próximo a Gamboa se<br>mantiene el tráfico afectado<br>en ambas direcciones<br>precaución.",
          "[VÍDEO] Vistas del tráfico en<br>la Avenida de Los Mártires,<br>próximo al Chorrillo en<br>dirección a Panamá Oeste.",
          "[VÍDEO] Se registra colisión<br>en la Avenida Domingo Díaz,<br>próximo a Villa Lucre en<br>dirección a Panamá Este<br>precaución.",
          "[VÍDEO] Se registra accidente<br>de tránsito en La Vía<br>Interamericana, próximo a<br>Santiago provincia de<br>Veraguas, precaución en esta<br>ruta.",
          "[VÍDEO] Vistas del tráfico en<br>el Corredor Norte, próximo a<br>Tinajitas en dirección a<br>Panamá Este en estos momentos.",
          "Se registra accidente de<br>tránsito en la Calle 77, B<br>Oeste, en La Chorrera<br>provincia de Panamá Oeste.",
          "Despejado se mantiene el<br>tráfico en la Avenida Domingo<br>Díaz, próximo a El Crisol en<br>dirección a Panamá Este.",
          "Cierre de calle en la Vía<br>hacia Puerto de Vacamonte, se<br>mantiene el tráfico afectado<br>en ambas direcciones<br>precaución.",
          "Se registra accidente de<br>tránsito en la vía principal a<br>Brisas del Golf, próximo a la<br>Avenida Manuel F Zárate.",
          "Se registra accidente de<br>tránsito en la Avenida Domingo<br>Díaz, próximo a Pedregal en<br>dirección a Panamá Este<br>precaución en esta ruta.",
          "Se registra accidente de<br>tránsito en la Avenida Domingo<br>Díaz, próximo a Pedregal en<br>dirección a Panamá Este.<br>@TraficoCPanama",
          "[VÍDEO] Se registra accidente<br>de tránsito en la Avenida<br>Domingo Díaz, próximo a<br>Pedregal en dirección a Panamá<br>Este precaución en esta ruta.",
          "Se registra accidente de<br>tránsito en La Calle 75 San<br>Francisco, precaución en esta<br>ruta.",
          "Accidente de tránsito.<br>Conductor perdió el control de<br>su vehículo en la entrada de<br>Punta Chame, provincia de<br>Panamá Oeste. La persona que<br>resultó herida es atendida por<br>paramédicos.  @TReporta",
          "Vistas del tráfico en la<br>Avenida Fernández de Córdoba,<br>próximo al Ingenio en<br>dirección a Panamá Oeste.<br>https://t.co/sxjGm9ylPb",
          "Se registra colisión en la<br>Avenida Domingo Díaz, próximo<br>a Los Pueblos en dirección a<br>Panamá Este precaución.<br>https://t.co/aUwRuNzZw8",
          "Cierre de calle en la Avenida<br>Ricardo J Alfaro, próximo a<br>Plaza Edison en dirección a<br>Panamá Norte precaución.<br>https://t.co/XtuVkHhpP0",
          "Protesta a las afueras de la<br>embajada de Israel por<br>bombardeos sobre Palestina.<br>https://t.co/2v20VghsTr",
          "Se registra colisión en la<br>Avenida de Los Mártires,<br>próximo al puente en dirección<br>a Panamá Oeste precaución.<br>https://t.co/JRrkNKoajW",
          "Un paño cerrado se mantiene en<br>el Corredor Sur, próximo a<br>Campo Lindbergh en dirección<br>Panamá Centro, por trabajos en<br>esta ruta.<br>https://t.co/FXjzyuYVmK",
          "[VÍDEO] Se registra colisión<br>en la Avenida Ricardo J<br>Alfaro, próximo al Hospital<br>San Miguel Arcángel en<br>dirección a Panamá Centro<br>precaución.<br>https://t.co/yt9m7fQejE",
          "Vistas del tráfico en la<br>Carretera Panamericana,<br>próximo a la 24 de Diciembre<br>en dirección a Panamá Centro.<br>https://t.co/IDeL1Xmeql",
          "Árbol cae en la Avenida La<br>Amistad, próximo a Clayton se<br>mantiene el tráfico afectado<br>en ambas direcciones<br>precaución.<br>https://t.co/JZxNqS4c0P",
          "Vistas del tráfico en la<br>Avenida de Los Mártires,<br>próximo al puente de las<br>Américas en dirección a Panamá<br>Oeste. https://t.co/HqWZFI78vv",
          "Vistas del tráfico en la<br>Avenida de Los Mártires,<br>próximo al puente de las<br>Américas en dirección a Panamá<br>Oeste. https://t.co/nTmOGBudHJ",
          "Árbol cae en la Avenida La<br>Amistad, próximo a Clayton se<br>mantiene el tráfico afectado<br>en ambas direcciones<br>precaución.<br>https://t.co/XHNhVgIe8c",
          "[VÍDEO] Se registra accidente<br>de tránsito en el Corredor<br>Norte, próximo a la salida de<br>Tinajitas precaución en esta<br>ruta. https://t.co/KC9ejPLs5h",
          "Se registra colisión en la<br>Avenida Domingo Díaz, próximo<br>a San Antonio en dirección a<br>Panamá Centro precaución.<br>https://t.co/iu0bGgxKzk",
          "Se registra accidente de<br>tránsito en La Avenida Omar<br>Torrijos, próximo a la Policía<br>Nacional precaución en esta<br>ruta. https://t.co/sfe8Yb3djT",
          "Se registra colisión en la<br>Avenida Omar Torrijos, próximo<br>a Ciudad del Saber en<br>dirección a Panamá Centro<br>precaución.<br>https://t.co/V0rKFjBmFc",
          "[VÍDEO] Se registra accidente<br>de tránsito en la Avenida de<br>Los Mártires, próximo al<br>Chorrillo en dirección a<br>Panamá Oeste precaución.<br>https://t.co/luwpu5gcMV",
          "Camioneros se mantienen<br>protestando en la Carretera<br>Panamericana, próximo a<br>Felipillo se encuentra el<br>tráfico afectado en ambas<br>direcciones precaución.<br>https://t.co/kzCiSIR05J",
          "Se registra colisión en la<br>avenida Domingo Díaz, próximo<br>al Corredor Sur en dirección a<br>Panamá Este. @TraficoCPanama<br>https://t.co/LYbmSzgGn3",
          "[VÍDEO] Se registra colisión<br>en la Avenida Domingo Díaz,<br>próximo al Corredor Sur en<br>dirección a Panamá Este<br>precaución<br>https://t.co/7k5VBG1fNN",
          "Se registra accidente de<br>tránsito en la salida de Calle<br>71, San Francisco próximo a<br>Calle 50 precaución en esta<br>ruta. https://t.co/BChWHLoD3y",
          "[VÍDEO] Cierre de calle en la<br>Carretera Panamericana,<br>próximo a Felipillo se<br>encuentra el tráfico afectado<br>en ambas direcciones<br>precaución.<br>https://t.co/tlLkFDqVXV",
          "Cierre de calle en la<br>Carretera Panamericana,<br>próximo a Felipillo se<br>encuentra el tráfico afectado<br>en ambas direcciones<br>precaución.<br>https://t.co/dAtXRzelvt",
          "Cámara del @CENTRODECON capta<br>el momento que se registra<br>accidente de tránsito la Cinta<br>Costera. El vehículo<br>involucrado transitaba por el<br>carril exclusivo del metrobús.<br>@TraficoCPanama #NoticiasTVN<br>https://t.co/fnBNkMvjuX",
          "[VÍDEO] Cámara del Centro de<br>Operación Nacional, capta el<br>momento que se da accidente de<br>tránsito la Cinta Costera, el<br>vehículo involucrado<br>transitaba por el carril<br>exclusivo del metrobús.<br>https://t.co/OQiSrkKj7V",
          "Se registra colisión en la<br>Avenida La Pulida, precaución<br>en esta ruta.<br>https://t.co/3DTgyjYTk8",
          "Miembros del Suntracs se<br>mantienen protestando en la<br>Avenida Balboa, próximo al<br>Parque Urraca precaución en<br>esta ruta.<br>https://t.co/MWMVcE4JQo",
          "Se registra accidente de<br>tránsito en la Avenida Domingo<br>Díaz, próximo a La Roosevelt<br>en dirección a Panamá Este<br>precaución.<br>https://t.co/YHngy7hIVp",
          "Se registra accidente de<br>tránsito en la Avenida Domingo<br>Díaz, próximo a La Roosevelt<br>en dirección a Panamá Este<br>precaución.<br>https://t.co/CbDSxKczwy",
          "Miembros del Suntracs se<br>mantienen protestando en la<br>Avenida Balboa, próximo al<br>Parque Urraca precaución en<br>esta ruta.<br>https://t.co/NRpyoMmLT4",
          "Cierre de calle en la Avenida<br>Ricardo J Alfaro, próximo a<br>Plaza Edison se mantiene el<br>tráfico afectado en ambas<br>direcciones precaución.<br>https://t.co/KUEMC10vP6",
          "Cierre de calle en la Avenida<br>El Paical, frente a Plaza<br>Edison. Se mantiene el tráfico<br>afectado en ambos sentidos.<br>Vía @TraficoCPanama<br>#NoticiasTVN<br>https://t.co/qtJkSkTrOl",
          "Cierre de calle en la Avenida<br>El Paical, frente a Plaza<br>Edison se mantiene el tráfico<br>afectado en ambas direcciones<br>precaución.<br>https://t.co/8CNBQ3iXdP",
          "Cierre de calle en la Avenida<br>El Paical, frente a Plaza<br>Edison se mantiene el tráfico<br>afectado en ambas direcciones<br>precaución.<br>https://t.co/ITQjs0s7iB",
          "Miembros del Suntracs se<br>mantienen protestando en el<br>Corredor de los Pobres,<br>próximo a la salida de Brisas<br>del Golf. Vía @TraficoCPanama<br>#NoticiasTVN<br>https://t.co/PbKRXvT6W8",
          "#NacionalesKW Miembros del<br>@suntracs1, protestan en el<br>Corredor de Los Pobres,<br>próximo a la salida de Brisas<br>del Golf. @TraficoCPanama<br>https://t.co/5AfkcXa9Al",
          "Miembros del Suntracs se<br>mantienen protestando en el<br>Corredor de Los Pobres,<br>próximo a la salida de Brisas<br>del Golf.<br>https://t.co/4oJvMxq2Z2",
          "Mula detenida en el puente de<br>Brisas del Golf, sobre la<br>Avenida Domingo Díaz,<br>precaución en esta ruta.<br>https://t.co/vBpmpufvfB",
          "Se registra accidente de<br>tránsito en la Avenida Ernesto<br>T Lefevre, próximo a la<br>Avenida Santa Elena,<br>precaución en esta ruta.<br>https://t.co/d6vNmuPP9m",
          "Cierre de calle en la Avenida<br>Manuel Espinosa Batista. Se<br>mantiene el tráfico afectado<br>en ambos sentidos. Vía<br>@TraficoCPanama #NoticiasTVN<br>https://t.co/lu54CFmHvY<br>https://t.co/N2KQhkZSms",
          "Cierre de calle en la Avenida<br>Manuel Espinosa Batista, se<br>mantiene el tráfico afectado<br>en ambas direcciones<br>precaución.<br>https://t.co/MJXsOetVTE",
          "🅾️ Residentes del edificio<br>Capira cierran la Avenida<br>Nacional, a la altura de San<br>Miguel exigiendo soluciones de<br>vivienda.  #TNPLive Vía<br>@TraficoCPanama<br>https://t.co/5iA5DQUqzc",
          "[VÍDEO] Un grupo de<br>conductores de camiones y<br>equipos pesados se mantienen<br>protestando en la Carretera<br>Panamericana, próximo a<br>Felipillo por el abuso de<br>algunas empresas y<br>contratistas en los malos<br>fletes.<br>https://t.co/k8YxUaBQXm",
          "Residentes del edificio Capira<br>cierran la Avenida Nacional.<br>Reportan tranque en las áreas<br>aledañas. @TraficoCPanama<br>#Noticiasvip24<br>https://t.co/Dn9nXLQvEa",
          "Cierre de calle en la Avenida<br>Nacional, a la altura de San<br>Miguel por residentes del<br>edificio Capira. Video de<br>@TraficoCPanama #NoticiasTVN<br>https://t.co/1LJlvMKLoi",
          "#AEstaHora Atención<br>conductores. Cierre de calle<br>en la Avenida Nacional, en San<br>Miguel. Residentes del<br>edificio Capira, afectado por<br>desprendimiento de balcón,<br>mantienen una protestas.<br>@TraficoCPanama<br>https://t.co/jkJs3nWZfe",
          "Cierre de calle en la Avenida<br>Nacional, a la altura de San<br>Miguel. Se trata de residentes<br>del edificio Capira. Vía<br>@TraficoCPanama #NoticiasTVN<br>https://t.co/fPV6kuw0Xr",
          "Cierre de calle en la Avenida<br>Nacional, a la altura de San<br>Miguel por residentes del<br>edificio Capira a todos los<br>conductores evitar esta ruta.<br>9:15 a.m @traficocpanama<br>https://t.co/8Cac160LeB",
          "Cierre de calle en la Avenida<br>Nacional, sector de San<br>Miguel, por residentes del<br>edificio Capira, a todos los<br>conductores evitar esta ruta.<br>@TraficoCPanama #SomosRNP🌐<br>https://t.co/HQ8a3xoUbU",
          "Cierre de calle en la Avenida<br>Nacional, a la altura de San<br>Miguel por residentes del<br>edificio Capira a todos los<br>conductores evitar esta ruta.<br>https://t.co/ljJxVTqLGi",
          "[VÍDEO] Cierre de calle en la<br>Avenida Nacional, a la altura<br>de San Miguel por residentes<br>del edificio Capira a todos<br>los conductores evitar esta<br>ruta. https://t.co/0KlYs2WHhS",
          "Auto detenido en la Avenida<br>Domingo Díaz, próximo a Las<br>Acacías en dirección a Panamá<br>Centro precaución.<br>https://t.co/tMwrSdBlO2",
          "Mula detenida en la salida del<br>Corredor Sur, próximo a Las<br>Mañanitas precaución en esta<br>ruta. https://t.co/9NQzi28f6i",
          "Se registra colisión en la<br>Avenida José Agustín Arango,<br>bajo el puente de Balboa<br>precaución en esta ruta.<br>https://t.co/TY4cvgY3XE",
          "Se registra accidente de<br>tránsito en la Avenida Domingo<br>Díaz, próximo Las Colinas en<br>dirección a Panamá Centro<br>precaución.<br>https://t.co/Vy1o1FrROc",
          "Cierre de calle en la vía<br>hacia Veracruz, se mantiene el<br>tráfico afectado en ambas<br>direcciones precaución.<br>https://t.co/2htx1O2l08",
          "Cierre de calle en la vía<br>hacia Veracruz, se mantiene el<br>tráfico afectado en ambas<br>direcciones precaución.<br>https://t.co/7GqG5JHY9l",
          "[VÍDEO] Se registra accidente<br>de tránsito en la Avenida<br>Ricardo J Alfaro, próximo al<br>Hospital San Miguel Arcángel<br>en dirección a Panamá Este.<br>https://t.co/JMv6o9NnTK",
          "Se registra colisión en la Vía<br>Interamericana, próximo a<br>Vista Alegre en Arraiján en<br>dirección a La Chorrera<br>precaución.<br>https://t.co/m02eXzs3yL",
          "Se registra accidente de<br>tránsito en La Vía<br>Interamericana, próximo a<br>Vista Mar en San Carlos en<br>dirección a Panamá Centro<br>precaución.<br>https://t.co/sov5SXGNQl",
          "Se registra accidente de<br>tránsito en la carretera<br>panamericana, próximo a Las<br>Mañanitas. @TraficoCPanama<br>https://t.co/gtclY70uTF",
          "[VÍDEO] Se registra accidente<br>de tránsito en la Carretera<br>Panamericana, próximo a Las<br>Mañanitas precaución en esta<br>ruta. https://t.co/oKAqkmSnFS",
          "#Tránsito  Cámara de seguridad<br>de una residencia captó un<br>accidente de tránsito en Calle<br>12, El Tecal Arraiján en  de<br>Panamá Oeste. @traficocpanama<br>https://t.co/qx63ab5Nqn",
          "Cámara de seguridad de una<br>casa captó el instante de un<br>accidente de tránsito<br>reportado en Calle 12, El<br>Tecal, en la provincia de<br>Panamá Oeste. @TraficoCPanama<br>#TReporta<br>https://t.co/tOg4WHgLyw",
          "[VÍDEO] Cámara de seguridad de<br>una residencia captó el<br>momento que se da accidente de<br>tránsito en Calle 12, El Tecal<br>provincia de Panamá Oeste.<br>https://t.co/fg3rkE5o1x",
          "[VÍDEO] Se registra accidente<br>de tránsito en la Calle 12, El<br>Tecal provincia de Panamá<br>Oeste, se desconoce la<br>cantidad de heridos<br>información en desarrollo.<br>https://t.co/Ur2YOBsB4z",
          "Reportan fuerte accidente de<br>tránsito en Calle 12, El<br>Tecal, provincia de Panamá<br>Oeste, la tarde de este<br>sábado. @TraficoCPanama<br>#TReporta<br>https://t.co/1UdfCwWsjo",
          "Reportan un accidente de<br>tránsito en la Calle 12, El<br>Tecal provincia de Panamá<br>Oeste. Precaución en esta<br>área. #NoticiasTVN<br>@TraficoCPanama<br>https://t.co/JZBDkdPzFQ",
          "🅾️ A esta hora, se registra<br>accidente de tránsito en la<br>Calle 12, El Tecal provincia<br>de Panamá Oeste, aun se<br>desconoce la cantidad de<br>heridos.  #TNPLive Vía<br>@TraficoCPanama<br>https://t.co/3UQzEXg9w2",
          "Se registra colisión en la<br>Avenida Domingo Díaz, próximo<br>a Las Acacías en dirección a<br>Panamá Centro precaución.<br>https://t.co/F0gLoFNbOD",
          "Se registra accidente de<br>tránsito en la Calle 12, El<br>Tecal provincia de Panamá<br>Oeste, se desconoce la<br>cantidad de heridos<br>información en desarrollo.<br>https://t.co/oavNZcvhZ1",
          "[VÍDEO] Se registra colisión<br>en la Avenida de Los Mártires,<br>próximo al Chorrillo en<br>dirección a Panamá Centro<br>precaución.<br>https://t.co/1bDXHnGgfO",
          "[VÍDEO] Cámara del Centro de<br>Operación Nacional, capta el<br>momento que se da accidente de<br>tránsito el Corredor Sur,<br>próximo a Llano Bonito.<br>https://t.co/3BzVdx90Gc",
          "Vistas del tráfico en la<br>Carretera Panamericana,<br>próximo a Palo Alto en la 24<br>de Diciembre en dirección a<br>Panamá Este.<br>https://t.co/L93oUs0VbL",
          "Se registra colisión en la<br>Avenida Balboa, próximo al<br>Parque Urraca precaución en<br>esta ruta.<br>https://t.co/j66iLjjc2S",
          "[VÍDEO] Equipo detenido en la<br>Avenida Domingo Díaz, próximo<br>a La Roosevelt en dirección a<br>Panamá Este.<br>https://t.co/zqhDgsX18Q",
          "🅾️ Se reporta protesta en la<br>Vía Interamericana, próximo a<br>la Vista Alegre en Arraiján en<br>dirección a Panamá Centro, por<br>parte de grupos sindicales, en<br>contra del diálogo de la CSS.<br>#TNPLive Vía: @TraficoCPanama<br>https://t.co/53hGGxoWzh",
          "Protesta en la Vía<br>Interamericana, próximo a la<br>Vista Alegre en Arraiján en<br>dirección a Panamá Centro<br>precaución.<br>https://t.co/8O4SbYNzMK",
          "🅾️ Cámara de seguridad captó<br>el momento que se da accidente<br>de tránsito en la Avenida La<br>Paz, próximo a Betania.<br>#TNPLive Vía: @TraficoCPanama<br>https://t.co/yQTO1AmwOr",
          "Manifestación en la vía<br>Transístmica a la altura de la<br>Universidad de Panamá causan<br>tranque en todo el sector.<br>Debido a esto, las rutas del<br>Metro Bus de Transístmica y<br>Av. Ricardo J. Alfaro se<br>estarán desviando.<br>#Noticiasvip24<br>@TraficoCPanama<br>https://t.co/zyasSlZDQV",
          "Cámara de seguridad captó el<br>momento que se da accidente de<br>tránsito en la Avenida La Paz,<br>próximo a Betania. Detalles de<br>@traficocpanama #NoticiasTVN<br>https://t.co/Jmifbm5Otn",
          "[VÍDEO] Cámara de seguridad<br>captó el momento que se da<br>accidente de tránsito en la<br>Avenida La Paz, próximo a<br>Betania.<br>https://t.co/qxhQPi6wPO",
          "Se registra colisión en la<br>Avenida la Paz, próximo a<br>Betania precaución en esta<br>ruta. https://t.co/KrwOHW4xPA",
          "Se registra colisión en la<br>Calle 65, San Francisco<br>precaución en esta ruta.<br>https://t.co/GDObNRfdvq",
          "Reporta @centrodecon que se<br>registró una colisión leve<br>entre dos vehículos en la<br>Avenida José Agustín Arango,<br>frente a la Policlínica Dr. JJ<br>Vallarino. @traficocpanama<br>#NoticiasTVN<br>https://t.co/Xmb0P64HkS",
          "[VÍDEO] Se registra colisión<br>en la Vía principal de la<br>Avenida La Pulida, precaución<br>en esta ruta.<br>https://t.co/oIvnLphPI9",
          "Sujetos realizan detonaciones<br>con armas de fuego sobre un<br>vehículo en el Corredor Sur y<br>se llevan varias maletas,<br>autoridades se mantienen<br>investigando este caso, se<br>mantiene el tráfico afectado<br>en estos momentos aún.<br>https://t.co/JHfBjaVlbd",
          "Despejado se mantiene el<br>tráfico en la Avenida Balboa,<br>próximo al Hospital del Niño,<br>en dirección al Mercado de<br>Marisco.<br>https://t.co/pqpL6bPh2R",
          "[VÍDEO] Un grupo de personas<br>cierran el Corredor de Los<br>Pobres, se mantiene el tráfico<br>afectado en ambas direcciones<br>precaución.<br>https://t.co/R2tYTQ42QB",
          "Hubo un accidente en el<br>corredor, listo! dónde está el<br>protocolo de @ATTTPanama<br>activado para el tráfico en<br>CDE y alrededores no se<br>convierta en un caos Nada se<br>mueve! Si hay otra emergencia<br>…? @TraficoCPanama",
          "Cierre de calle en el Corredor<br>de Los Pobres, se mantiene el<br>tráfico afectado en ambas<br>direcciones precaución.<br>https://t.co/bvD5yqSGBp",
          "Investigan confuso incidente<br>en el Corredor Sur, donde<br>presuntamente una conductora<br>fue abordada por sujetos que<br>hicieron varias detonaciones<br>provocando que colisionara y<br>sustrajeron maletas de su<br>auto. https://t.co/vdk3foSoIn",
          "📹 Tranque en el Corredor Sur<br>después de una colisión entre<br>varios vehículos en el tramo<br>marino. @TraficoCPanama<br>https://t.co/tKYy5oyhUH",
          "Se registra accidente de<br>tránsito en el Corredor Sur,<br>sobre el Tramo Marino en<br>dirección a Panamá Centro, el<br>tráfico se mantiene afectado.<br>Video  @TraficoCPanama",
          "#AEstaHora Se registra<br>accidente de tránsito en el<br>Corredor Sur, sobre el tramo<br>marino en dirección a Panamá<br>Centro.  @TraficoCPanama",
          "[VÍDEO] Accidente de tránsito<br>en el Corredor Sur, sobre el<br>Tramo Marino en dirección a<br>Panamá Centro, mantiene el<br>tráfico afectado.",
          "Accidente de tránsito en el<br>Corredor Sur, sobre el Tramo<br>Marino en dirección a Panamá<br>Centro, mantiene el tráfico<br>afectado.",
          "Hay un tranque descomunal a<br>esta hora en el Corredor Sur,<br>alguién sabe que ha pasado?<br>@tvnnoticias  @TReporta<br>@TraficoCPanama<br>@ENACorredoresPA",
          "Tráfico paralizado en el<br>Corredor Sur, por accidente de<br>tránsito próximo a Atlapa<br>tráfico afectado en ambas<br>direcciones precaución.",
          "[VÍDEO] Se registra accidente<br>de tránsito en el Corredor<br>Sur, próximo a Atlapa se<br>mantiene el tráfico afectado<br>en ambas direcciones<br>precaución.",
          "Se registra colisión en la<br>Avenida Manuel F Zárate,<br>próximo al Price Smart,<br>precaución en esta ruta.",
          "Vídeo del tráfico en la<br>Avenida Omar Torrijos, por<br>Ciudad del Saber, en ambas<br>direcciones, la tarde de este<br>miércoles 12 de mayo de 2021.<br>@TraficoCPanama  #TReporta",
          "[VÍDEO] Vistas del tráfico en<br>la Avenida Omar Torrijos,<br>sobre la Ciudad Saber en ambas<br>direcciones.",
          "[VÍDEO] Cámara del Centro de<br>Operación Nacional, capta el<br>momento que se da una colisión<br>en la Avenida Ricardo J<br>Alfaro, próximo al Hospital<br>San Miguel Arcángel.",
          "[VÍDEO] Colisión de tres<br>vehículos en la Avenida<br>Domingo Díaz. Se informó que<br>no hubo lesionados de<br>gravedad. Se les realizó a los<br>conductores la prueba de<br>alcohol, resultando todos<br>negativos (0%), vistas del<br>Centro de Operación Nacional.",
          "Se registra colisión múltiple<br>en la Avenida Ricardo J<br>Alfaro, frente a Migración en<br>dirección a Panamá Este<br>precaución",
          " Se registra accidente de<br>tránsito en el Corredor Norte,<br>próximo al Dorado en dirección<br>a Panamá Centro precaución.<br>#TNPLive  @TraficoCPanama",
          "Se registra accidente de<br>tránsito en el Corredor Norte,<br>próximo al Dorado en dirección<br>a Panamá Centro precaución.",
          "Se registra accidente de<br>tránsito en la Autopista<br>Arraiján-La Chorrera, próximo<br>a La Mitra en dirección a<br>Panamá Centro precaución.",
          "Se registra accidente de la<br>Vía Brasil, precaución en esta<br>ruta.",
          "[VÍDEO] Se registra accidente<br>de tránsito en la Avenida<br>Ricardo J Alfaro, frente al<br>Dorado precaución en esta<br>ruta.",
          "Vistas del tráfico despejado<br>que se mantiene en la<br>Carretera Panamericana,<br>próximo a la 24 de Diciembre<br>en dirección a Panamá Centro.",
          "[VÍDEO] Mula detenida en la<br>Vía Brasil, próximo al IDAAN,<br>en dirección a la Vía España,<br>precaución en esta ruta.",
          "[VÍDEO] Se registra accidente<br>de tránsito en la Carretera<br>Panamericana, próximo a Las<br>Garzas, se mantiene el tráfico<br>afectado en ambas direcciones<br>precaución.<br>https://t.co/wcwiBIWCnc",
          "Se registra accidente de<br>tránsito en la Carretera<br>Panamericana, próximo a Las<br>Garzas, se mantiene el tráfico<br>afectado en ambas direcciones<br>precaución.<br>https://t.co/BsSiG2HNuV",
          "Vistas del tráfico en la<br>Carretera Panamericana,<br>próximo a la 24 de Diciembre<br>en dirección a Panamá Este.<br>https://t.co/L8i2esldh2",
          " A esta hora, se registra<br>colisión múltiple en la Cinta<br>Costera, próximo a Paitilla en<br>dirección a Panamá Este<br>precaución.  #TNPLive Vía:<br>@TraficoCPanama",
          "[VÍDEO] Un conductor bajo los<br>efectos del alcohol perdió el<br>control de su vehículo y chocó<br>contra un objeto fijo en la<br>salida del Corredor Sur. La<br>persona marcó 58 en la prueba<br>de alcoholemia.<br>https://t.co/prh8keMP8S",
          "[VÍDEO] Se registra accidente<br>de tránsito en La Vía<br>Interamericana, próximo a<br>Santiago Mall precaución en<br>esta ruta.",
          "Mula detenida en la Avenida<br>Domingo Díaz, próximo a Don<br>Bosco en dirección a Panamá<br>Centro precaución.<br>https://t.co/kIp1y9XOlD",
          "#Tránsito Reportan cierre en<br>la Avenida de Los Mártires,<br>por jubilados. Tráfico<br>afectado en ambas direcciones.<br>@TraficoCPanama<br>https://t.co/BMUmFDqaJ7",
          "Se registra accidente de<br>tránsito en la Cinta Costera<br>3, sobre el Tramo Marino en<br>dirección a Panamá Centro.<br>https://t.co/Ham9UadeyK",
          "[VÍDEO] Cierre de calle en la<br>Avenida de Los Mártires, por<br>jubilados se mantiene el<br>tráfico afectado en ambas<br>direcciones precaución.<br>https://t.co/rItPDSSt8V",
          "[VÍDEO] Se registra colisión<br>múltiple en la Cinta Costera,<br>próximo a Paitilla en<br>dirección a Panamá Este<br>precaución.",
          "Cierre de calle en la Avenida<br>de Los Mártires, por jubilados<br>se mantiene el tráfico<br>afectado en ambas direcciones<br>precaución.<br>https://t.co/HQ5zlOGHE1",
          "Se registra colisión en la<br>Avenida Ricardo J Alfaro,<br>próximo a la UIP en dirección<br>a Panamá Norte precaución.<br>https://t.co/cx7LkpIKxf",
          "Se registra accidente de<br>tránsito en la Vía Israel,<br>próximo al Centro Comercial<br>Múltiplaza, el vehículo<br>involucrado terminó estrellado<br>contra un objeto fijo.<br>https://t.co/r9mdSoBIT1",
          "Varios heridos dejó Fuerte<br>accidente de tránsito se<br>registra en la Avenida Domingo<br>Díaz, próximo a Las Acacías.<br>@TraficoCPanama  #RPCRadio<br>#Panama #Pty #Noticias<br>https://t.co/Jj254ki7mW",
          "Fuerte accidente de tránsito<br>se registra en la Avenida<br>Domingo Díaz, próximo a Las<br>Acacías. Hubo varios heridos.<br>https://t.co/45S207xh14",
          "Se registra accidente de<br>tránsito en la Vía<br>Cincuentenario, próximo a Coco<br>del Mar precaución en esta<br>ruta. https://t.co/f8IQZjQ8UG",
          "[VÍDEO] Se registra accidente<br>de tránsito en la Avenida<br>Domingo Díaz, próximo a la<br>Coca Cola precaución en esta<br>ruta. https://t.co/IB3VmTVQLW",
          "Se registra accidente de<br>tránsito en Calle Larga, en La<br>Chorrera provincia de Panamá<br>Oeste, precaución en esta<br>ruta. https://t.co/s9MG8F9vLt",
          "Se registra accidente de<br>tránsito en La Vía<br>Interamericana, próximo a<br>Vista Alegre en Arraiján,<br>precaución en esta ruta.<br>https://t.co/9nrkoDDb9Z",
          "Se registra accidente de<br>tránsito en Calle Larga, en La<br>Chorrera provincia de Panamá<br>Oeste, precaución en esta<br>ruta. https://t.co/lQyoPCpPVj",
          "[VÍDEO] Vistas del tráfico en<br>la Vía Interamericana, próximo<br>a Vista Alegre en Arraiján en<br>dirección a Panamá Oeste.<br>https://t.co/rrVXiyhSyz",
          "[VÍDEO] Se registra colisión<br>en la Avenida Ricardo J<br>Alfaro, próximo a San Miguel<br>Arcángel en dirección a Panamá<br>Centro precaución.<br>https://t.co/zrPudTSS8z"
         ],
         "type": "scattermapbox"
        }
       ],
       "layout": {
        "geo": {
         "resolution": 110
        },
        "hoverlabel": {
         "bgcolor": "white",
         "font": {
          "size": 12
         }
        },
        "mapbox": {
         "center": {
          "lat": 8.98,
          "lon": -79.5359
         },
         "style": "open-street-map",
         "zoom": 11.5
        },
        "margin": {
         "b": 0,
         "l": 0,
         "r": 0,
         "t": 0
        },
        "template": {
         "data": {
          "bar": [
           {
            "error_x": {
             "color": "#2a3f5f"
            },
            "error_y": {
             "color": "#2a3f5f"
            },
            "marker": {
             "line": {
              "color": "#E5ECF6",
              "width": 0.5
             }
            },
            "type": "bar"
           }
          ],
          "barpolar": [
           {
            "marker": {
             "line": {
              "color": "#E5ECF6",
              "width": 0.5
             }
            },
            "type": "barpolar"
           }
          ],
          "carpet": [
           {
            "aaxis": {
             "endlinecolor": "#2a3f5f",
             "gridcolor": "white",
             "linecolor": "white",
             "minorgridcolor": "white",
             "startlinecolor": "#2a3f5f"
            },
            "baxis": {
             "endlinecolor": "#2a3f5f",
             "gridcolor": "white",
             "linecolor": "white",
             "minorgridcolor": "white",
             "startlinecolor": "#2a3f5f"
            },
            "type": "carpet"
           }
          ],
          "choropleth": [
           {
            "colorbar": {
             "outlinewidth": 0,
             "ticks": ""
            },
            "type": "choropleth"
           }
          ],
          "contour": [
           {
            "colorbar": {
             "outlinewidth": 0,
             "ticks": ""
            },
            "colorscale": [
             [
              0,
              "#0d0887"
             ],
             [
              0.1111111111111111,
              "#46039f"
             ],
             [
              0.2222222222222222,
              "#7201a8"
             ],
             [
              0.3333333333333333,
              "#9c179e"
             ],
             [
              0.4444444444444444,
              "#bd3786"
             ],
             [
              0.5555555555555556,
              "#d8576b"
             ],
             [
              0.6666666666666666,
              "#ed7953"
             ],
             [
              0.7777777777777778,
              "#fb9f3a"
             ],
             [
              0.8888888888888888,
              "#fdca26"
             ],
             [
              1,
              "#f0f921"
             ]
            ],
            "type": "contour"
           }
          ],
          "contourcarpet": [
           {
            "colorbar": {
             "outlinewidth": 0,
             "ticks": ""
            },
            "type": "contourcarpet"
           }
          ],
          "heatmap": [
           {
            "colorbar": {
             "outlinewidth": 0,
             "ticks": ""
            },
            "colorscale": [
             [
              0,
              "#0d0887"
             ],
             [
              0.1111111111111111,
              "#46039f"
             ],
             [
              0.2222222222222222,
              "#7201a8"
             ],
             [
              0.3333333333333333,
              "#9c179e"
             ],
             [
              0.4444444444444444,
              "#bd3786"
             ],
             [
              0.5555555555555556,
              "#d8576b"
             ],
             [
              0.6666666666666666,
              "#ed7953"
             ],
             [
              0.7777777777777778,
              "#fb9f3a"
             ],
             [
              0.8888888888888888,
              "#fdca26"
             ],
             [
              1,
              "#f0f921"
             ]
            ],
            "type": "heatmap"
           }
          ],
          "heatmapgl": [
           {
            "colorbar": {
             "outlinewidth": 0,
             "ticks": ""
            },
            "colorscale": [
             [
              0,
              "#0d0887"
             ],
             [
              0.1111111111111111,
              "#46039f"
             ],
             [
              0.2222222222222222,
              "#7201a8"
             ],
             [
              0.3333333333333333,
              "#9c179e"
             ],
             [
              0.4444444444444444,
              "#bd3786"
             ],
             [
              0.5555555555555556,
              "#d8576b"
             ],
             [
              0.6666666666666666,
              "#ed7953"
             ],
             [
              0.7777777777777778,
              "#fb9f3a"
             ],
             [
              0.8888888888888888,
              "#fdca26"
             ],
             [
              1,
              "#f0f921"
             ]
            ],
            "type": "heatmapgl"
           }
          ],
          "histogram": [
           {
            "marker": {
             "colorbar": {
              "outlinewidth": 0,
              "ticks": ""
             }
            },
            "type": "histogram"
           }
          ],
          "histogram2d": [
           {
            "colorbar": {
             "outlinewidth": 0,
             "ticks": ""
            },
            "colorscale": [
             [
              0,
              "#0d0887"
             ],
             [
              0.1111111111111111,
              "#46039f"
             ],
             [
              0.2222222222222222,
              "#7201a8"
             ],
             [
              0.3333333333333333,
              "#9c179e"
             ],
             [
              0.4444444444444444,
              "#bd3786"
             ],
             [
              0.5555555555555556,
              "#d8576b"
             ],
             [
              0.6666666666666666,
              "#ed7953"
             ],
             [
              0.7777777777777778,
              "#fb9f3a"
             ],
             [
              0.8888888888888888,
              "#fdca26"
             ],
             [
              1,
              "#f0f921"
             ]
            ],
            "type": "histogram2d"
           }
          ],
          "histogram2dcontour": [
           {
            "colorbar": {
             "outlinewidth": 0,
             "ticks": ""
            },
            "colorscale": [
             [
              0,
              "#0d0887"
             ],
             [
              0.1111111111111111,
              "#46039f"
             ],
             [
              0.2222222222222222,
              "#7201a8"
             ],
             [
              0.3333333333333333,
              "#9c179e"
             ],
             [
              0.4444444444444444,
              "#bd3786"
             ],
             [
              0.5555555555555556,
              "#d8576b"
             ],
             [
              0.6666666666666666,
              "#ed7953"
             ],
             [
              0.7777777777777778,
              "#fb9f3a"
             ],
             [
              0.8888888888888888,
              "#fdca26"
             ],
             [
              1,
              "#f0f921"
             ]
            ],
            "type": "histogram2dcontour"
           }
          ],
          "mesh3d": [
           {
            "colorbar": {
             "outlinewidth": 0,
             "ticks": ""
            },
            "type": "mesh3d"
           }
          ],
          "parcoords": [
           {
            "line": {
             "colorbar": {
              "outlinewidth": 0,
              "ticks": ""
             }
            },
            "type": "parcoords"
           }
          ],
          "pie": [
           {
            "automargin": true,
            "type": "pie"
           }
          ],
          "scatter": [
           {
            "marker": {
             "colorbar": {
              "outlinewidth": 0,
              "ticks": ""
             }
            },
            "type": "scatter"
           }
          ],
          "scatter3d": [
           {
            "line": {
             "colorbar": {
              "outlinewidth": 0,
              "ticks": ""
             }
            },
            "marker": {
             "colorbar": {
              "outlinewidth": 0,
              "ticks": ""
             }
            },
            "type": "scatter3d"
           }
          ],
          "scattercarpet": [
           {
            "marker": {
             "colorbar": {
              "outlinewidth": 0,
              "ticks": ""
             }
            },
            "type": "scattercarpet"
           }
          ],
          "scattergeo": [
           {
            "marker": {
             "colorbar": {
              "outlinewidth": 0,
              "ticks": ""
             }
            },
            "type": "scattergeo"
           }
          ],
          "scattergl": [
           {
            "marker": {
             "colorbar": {
              "outlinewidth": 0,
              "ticks": ""
             }
            },
            "type": "scattergl"
           }
          ],
          "scattermapbox": [
           {
            "marker": {
             "colorbar": {
              "outlinewidth": 0,
              "ticks": ""
             }
            },
            "type": "scattermapbox"
           }
          ],
          "scatterpolar": [
           {
            "marker": {
             "colorbar": {
              "outlinewidth": 0,
              "ticks": ""
             }
            },
            "type": "scatterpolar"
           }
          ],
          "scatterpolargl": [
           {
            "marker": {
             "colorbar": {
              "outlinewidth": 0,
              "ticks": ""
             }
            },
            "type": "scatterpolargl"
           }
          ],
          "scatterternary": [
           {
            "marker": {
             "colorbar": {
              "outlinewidth": 0,
              "ticks": ""
             }
            },
            "type": "scatterternary"
           }
          ],
          "surface": [
           {
            "colorbar": {
             "outlinewidth": 0,
             "ticks": ""
            },
            "colorscale": [
             [
              0,
              "#0d0887"
             ],
             [
              0.1111111111111111,
              "#46039f"
             ],
             [
              0.2222222222222222,
              "#7201a8"
             ],
             [
              0.3333333333333333,
              "#9c179e"
             ],
             [
              0.4444444444444444,
              "#bd3786"
             ],
             [
              0.5555555555555556,
              "#d8576b"
             ],
             [
              0.6666666666666666,
              "#ed7953"
             ],
             [
              0.7777777777777778,
              "#fb9f3a"
             ],
             [
              0.8888888888888888,
              "#fdca26"
             ],
             [
              1,
              "#f0f921"
             ]
            ],
            "type": "surface"
           }
          ],
          "table": [
           {
            "cells": {
             "fill": {
              "color": "#EBF0F8"
             },
             "line": {
              "color": "white"
             }
            },
            "header": {
             "fill": {
              "color": "#C8D4E3"
             },
             "line": {
              "color": "white"
             }
            },
            "type": "table"
           }
          ]
         },
         "layout": {
          "annotationdefaults": {
           "arrowcolor": "#2a3f5f",
           "arrowhead": 0,
           "arrowwidth": 1
          },
          "autotypenumbers": "strict",
          "coloraxis": {
           "colorbar": {
            "outlinewidth": 0,
            "ticks": ""
           }
          },
          "colorscale": {
           "diverging": [
            [
             0,
             "#8e0152"
            ],
            [
             0.1,
             "#c51b7d"
            ],
            [
             0.2,
             "#de77ae"
            ],
            [
             0.3,
             "#f1b6da"
            ],
            [
             0.4,
             "#fde0ef"
            ],
            [
             0.5,
             "#f7f7f7"
            ],
            [
             0.6,
             "#e6f5d0"
            ],
            [
             0.7,
             "#b8e186"
            ],
            [
             0.8,
             "#7fbc41"
            ],
            [
             0.9,
             "#4d9221"
            ],
            [
             1,
             "#276419"
            ]
           ],
           "sequential": [
            [
             0,
             "#0d0887"
            ],
            [
             0.1111111111111111,
             "#46039f"
            ],
            [
             0.2222222222222222,
             "#7201a8"
            ],
            [
             0.3333333333333333,
             "#9c179e"
            ],
            [
             0.4444444444444444,
             "#bd3786"
            ],
            [
             0.5555555555555556,
             "#d8576b"
            ],
            [
             0.6666666666666666,
             "#ed7953"
            ],
            [
             0.7777777777777778,
             "#fb9f3a"
            ],
            [
             0.8888888888888888,
             "#fdca26"
            ],
            [
             1,
             "#f0f921"
            ]
           ],
           "sequentialminus": [
            [
             0,
             "#0d0887"
            ],
            [
             0.1111111111111111,
             "#46039f"
            ],
            [
             0.2222222222222222,
             "#7201a8"
            ],
            [
             0.3333333333333333,
             "#9c179e"
            ],
            [
             0.4444444444444444,
             "#bd3786"
            ],
            [
             0.5555555555555556,
             "#d8576b"
            ],
            [
             0.6666666666666666,
             "#ed7953"
            ],
            [
             0.7777777777777778,
             "#fb9f3a"
            ],
            [
             0.8888888888888888,
             "#fdca26"
            ],
            [
             1,
             "#f0f921"
            ]
           ]
          },
          "colorway": [
           "#636efa",
           "#EF553B",
           "#00cc96",
           "#ab63fa",
           "#FFA15A",
           "#19d3f3",
           "#FF6692",
           "#B6E880",
           "#FF97FF",
           "#FECB52"
          ],
          "font": {
           "color": "#2a3f5f"
          },
          "geo": {
           "bgcolor": "white",
           "lakecolor": "white",
           "landcolor": "#E5ECF6",
           "showlakes": true,
           "showland": true,
           "subunitcolor": "white"
          },
          "hoverlabel": {
           "align": "left"
          },
          "hovermode": "closest",
          "mapbox": {
           "style": "light"
          },
          "paper_bgcolor": "white",
          "plot_bgcolor": "#E5ECF6",
          "polar": {
           "angularaxis": {
            "gridcolor": "white",
            "linecolor": "white",
            "ticks": ""
           },
           "bgcolor": "#E5ECF6",
           "radialaxis": {
            "gridcolor": "white",
            "linecolor": "white",
            "ticks": ""
           }
          },
          "scene": {
           "xaxis": {
            "backgroundcolor": "#E5ECF6",
            "gridcolor": "white",
            "gridwidth": 2,
            "linecolor": "white",
            "showbackground": true,
            "ticks": "",
            "zerolinecolor": "white"
           },
           "yaxis": {
            "backgroundcolor": "#E5ECF6",
            "gridcolor": "white",
            "gridwidth": 2,
            "linecolor": "white",
            "showbackground": true,
            "ticks": "",
            "zerolinecolor": "white"
           },
           "zaxis": {
            "backgroundcolor": "#E5ECF6",
            "gridcolor": "white",
            "gridwidth": 2,
            "linecolor": "white",
            "showbackground": true,
            "ticks": "",
            "zerolinecolor": "white"
           }
          },
          "shapedefaults": {
           "line": {
            "color": "#2a3f5f"
           }
          },
          "ternary": {
           "aaxis": {
            "gridcolor": "white",
            "linecolor": "white",
            "ticks": ""
           },
           "baxis": {
            "gridcolor": "white",
            "linecolor": "white",
            "ticks": ""
           },
           "bgcolor": "#E5ECF6",
           "caxis": {
            "gridcolor": "white",
            "linecolor": "white",
            "ticks": ""
           }
          },
          "title": {
           "x": 0.05
          },
          "xaxis": {
           "automargin": true,
           "gridcolor": "white",
           "linecolor": "white",
           "ticks": "",
           "title": {
            "standoff": 15
           },
           "zerolinecolor": "white",
           "zerolinewidth": 2
          },
          "yaxis": {
           "automargin": true,
           "gridcolor": "white",
           "linecolor": "white",
           "ticks": "",
           "title": {
            "standoff": 15
           },
           "zerolinecolor": "white",
           "zerolinewidth": 2
          }
         }
        }
       }
      }
     },
     "metadata": {},
     "output_type": "display_data"
    }
   ],
   "source": [
    "fig = go.Figure(\n",
    "    [go.Scattermapbox(\n",
    "        lat=twt_roads['road_geom'].y, \n",
    "        lon=twt_roads['road_geom'].x,\n",
    "        marker=go.scattermapbox.Marker(\n",
    "            size=10,\n",
    "            color='red',\n",
    "            opacity=0.7\n",
    "        ),\n",
    "        text=twt_roads['tweet_text'].str.wrap(30).apply(lambda x: \n",
    "            x.replace('\\n', '<br>')),\n",
    "        hoverinfo=['text'],\n",
    "        hovertemplate='%{text}<extra></extra>'\n",
    "    # ),\n",
    "    # go.Scattermapbox(\n",
    "    #     lat=twt_places['place_geom'].y, \n",
    "    #     lon=twt_places['place_geom'].x,\n",
    "    #     marker=go.scattermapbox.Marker(\n",
    "    #         size=10,\n",
    "    #         color='blue',\n",
    "    #         opacity=0.7\n",
    "    #     ),\n",
    "    #     text=twt_places['tweet_text'].str.wrap(30).apply(lambda x: \n",
    "    #         x.replace('\\n', '<br>')),\n",
    "    #     hoverinfo=['text'],\n",
    "    #     hovertemplate='%{text}<extra></extra>'\n",
    "    )]\n",
    ")\n",
    "fig.update_geos(\n",
    "    resolution=110,\n",
    ")\n",
    "fig.update_layout(margin={\"r\":0,\"t\":0,\"l\":0,\"b\":0},\n",
    "    mapbox_style=\"open-street-map\", mapbox_zoom=11.5,\n",
    "    mapbox_center={'lat':8.98, 'lon':-79.5359},\n",
    "    hoverlabel=dict(\n",
    "        bgcolor=\"white\",\n",
    "        font_size=12,\n",
    "    )\n",
    ")\n",
    "fig.show()"
   ]
  },
  {
   "cell_type": "code",
   "execution_count": 67,
   "metadata": {},
   "outputs": [
    {
     "data": {
      "text/html": [
       "<div>\n",
       "<style scoped>\n",
       "    .dataframe tbody tr th:only-of-type {\n",
       "        vertical-align: middle;\n",
       "    }\n",
       "\n",
       "    .dataframe tbody tr th {\n",
       "        vertical-align: top;\n",
       "    }\n",
       "\n",
       "    .dataframe thead th {\n",
       "        text-align: right;\n",
       "    }\n",
       "</style>\n",
       "<table border=\"1\" class=\"dataframe\">\n",
       "  <thead>\n",
       "    <tr style=\"text-align: right;\">\n",
       "      <th></th>\n",
       "      <th>tweet_id</th>\n",
       "      <th>tweet_text</th>\n",
       "      <th>road_name</th>\n",
       "      <th>road_geom</th>\n",
       "      <th>place_name</th>\n",
       "      <th>place_geom</th>\n",
       "    </tr>\n",
       "  </thead>\n",
       "  <tbody>\n",
       "    <tr>\n",
       "      <th>0</th>\n",
       "      <td>1401320841711923200</td>\n",
       "      <td>[VÍDEO] Se registra colisión en la Avenida Ric...</td>\n",
       "      <td>Avenida Ricardo J. Alfaro</td>\n",
       "      <td>POINT (-79.53378 8.99212)</td>\n",
       "      <td>NaN</td>\n",
       "      <td>None</td>\n",
       "    </tr>\n",
       "    <tr>\n",
       "      <th>1</th>\n",
       "      <td>1401277242362281985</td>\n",
       "      <td>Vistas del tráfico en la Avenida Domingo Díaz,...</td>\n",
       "      <td>Avenida A</td>\n",
       "      <td>POINT (-79.54603 8.95116)</td>\n",
       "      <td>San Antonio</td>\n",
       "      <td>POINT (-79.44505 9.05188)</td>\n",
       "    </tr>\n",
       "    <tr>\n",
       "      <th>2</th>\n",
       "      <td>1401256978396192770</td>\n",
       "      <td>Trabajos en la Cinta Costera, mantiene el tráf...</td>\n",
       "      <td>Cinta Costera</td>\n",
       "      <td>POINT (-79.53999 8.95783)</td>\n",
       "      <td>Cinta Costera 1</td>\n",
       "      <td>POINT (-79.52108 8.97516)</td>\n",
       "    </tr>\n",
       "    <tr>\n",
       "      <th>3</th>\n",
       "      <td>1401255933825671170</td>\n",
       "      <td>[VÍDEO] Se registra colisión en la Carretera P...</td>\n",
       "      <td>Carretera Panamericana</td>\n",
       "      <td>POINT (-80.56366 8.24666)</td>\n",
       "      <td>Panamericana</td>\n",
       "      <td>POINT (-79.52278 8.98787)</td>\n",
       "    </tr>\n",
       "    <tr>\n",
       "      <th>4</th>\n",
       "      <td>1401232228118634499</td>\n",
       "      <td>[VÍDEO] Trabajos en la Cinta Costera, mantiene...</td>\n",
       "      <td>Cinta Costera</td>\n",
       "      <td>POINT (-79.53999 8.95783)</td>\n",
       "      <td>Cinta Costera 1</td>\n",
       "      <td>POINT (-79.52108 8.97516)</td>\n",
       "    </tr>\n",
       "    <tr>\n",
       "      <th>...</th>\n",
       "      <td>...</td>\n",
       "      <td>...</td>\n",
       "      <td>...</td>\n",
       "      <td>...</td>\n",
       "      <td>...</td>\n",
       "      <td>...</td>\n",
       "    </tr>\n",
       "    <tr>\n",
       "      <th>434</th>\n",
       "      <td>1397259083263193093</td>\n",
       "      <td>Protesta en la vía Transístmica, frente al Com...</td>\n",
       "      <td>NaN</td>\n",
       "      <td>None</td>\n",
       "      <td>San Miguelito</td>\n",
       "      <td>POINT (-79.50659 9.03002)</td>\n",
       "    </tr>\n",
       "    <tr>\n",
       "      <th>435</th>\n",
       "      <td>1397258426686791680</td>\n",
       "      <td>Reportan inundaciones en la barriada Plaza Val...</td>\n",
       "      <td>NaN</td>\n",
       "      <td>None</td>\n",
       "      <td>Plaza Villa Zaita</td>\n",
       "      <td>POINT (-79.51669 9.08132)</td>\n",
       "    </tr>\n",
       "    <tr>\n",
       "      <th>436</th>\n",
       "      <td>1397257812842065924</td>\n",
       "      <td>Reportan inundadaciones en la Barriada Plaza V...</td>\n",
       "      <td>NaN</td>\n",
       "      <td>None</td>\n",
       "      <td>Plaza Villa Zaita</td>\n",
       "      <td>POINT (-79.51669 9.08132)</td>\n",
       "    </tr>\n",
       "    <tr>\n",
       "      <th>437</th>\n",
       "      <td>1397256955857625089</td>\n",
       "      <td>[VÍDEO] Protesta en la Vía Transístmica, próxi...</td>\n",
       "      <td>NaN</td>\n",
       "      <td>None</td>\n",
       "      <td>Carga Transistmica</td>\n",
       "      <td>POINT (-79.37505 9.08259)</td>\n",
       "    </tr>\n",
       "    <tr>\n",
       "      <th>438</th>\n",
       "      <td>1397256408329039872</td>\n",
       "      <td>[VÍDEO] Se registra accidente de tránsito en L...</td>\n",
       "      <td>NaN</td>\n",
       "      <td>None</td>\n",
       "      <td>Plaza Interamericana</td>\n",
       "      <td>POINT (-79.70897 8.92677)</td>\n",
       "    </tr>\n",
       "  </tbody>\n",
       "</table>\n",
       "<p>439 rows × 6 columns</p>\n",
       "</div>"
      ],
      "text/plain": [
       "                tweet_id                                         tweet_text  \\\n",
       "0    1401320841711923200  [VÍDEO] Se registra colisión en la Avenida Ric...   \n",
       "1    1401277242362281985  Vistas del tráfico en la Avenida Domingo Díaz,...   \n",
       "2    1401256978396192770  Trabajos en la Cinta Costera, mantiene el tráf...   \n",
       "3    1401255933825671170  [VÍDEO] Se registra colisión en la Carretera P...   \n",
       "4    1401232228118634499  [VÍDEO] Trabajos en la Cinta Costera, mantiene...   \n",
       "..                   ...                                                ...   \n",
       "434  1397259083263193093  Protesta en la vía Transístmica, frente al Com...   \n",
       "435  1397258426686791680  Reportan inundaciones en la barriada Plaza Val...   \n",
       "436  1397257812842065924  Reportan inundadaciones en la Barriada Plaza V...   \n",
       "437  1397256955857625089  [VÍDEO] Protesta en la Vía Transístmica, próxi...   \n",
       "438  1397256408329039872  [VÍDEO] Se registra accidente de tránsito en L...   \n",
       "\n",
       "                     road_name                  road_geom  \\\n",
       "0    Avenida Ricardo J. Alfaro  POINT (-79.53378 8.99212)   \n",
       "1                    Avenida A  POINT (-79.54603 8.95116)   \n",
       "2                Cinta Costera  POINT (-79.53999 8.95783)   \n",
       "3       Carretera Panamericana  POINT (-80.56366 8.24666)   \n",
       "4                Cinta Costera  POINT (-79.53999 8.95783)   \n",
       "..                         ...                        ...   \n",
       "434                        NaN                       None   \n",
       "435                        NaN                       None   \n",
       "436                        NaN                       None   \n",
       "437                        NaN                       None   \n",
       "438                        NaN                       None   \n",
       "\n",
       "               place_name                 place_geom  \n",
       "0                     NaN                       None  \n",
       "1             San Antonio  POINT (-79.44505 9.05188)  \n",
       "2         Cinta Costera 1  POINT (-79.52108 8.97516)  \n",
       "3            Panamericana  POINT (-79.52278 8.98787)  \n",
       "4         Cinta Costera 1  POINT (-79.52108 8.97516)  \n",
       "..                    ...                        ...  \n",
       "434         San Miguelito  POINT (-79.50659 9.03002)  \n",
       "435     Plaza Villa Zaita  POINT (-79.51669 9.08132)  \n",
       "436     Plaza Villa Zaita  POINT (-79.51669 9.08132)  \n",
       "437    Carga Transistmica  POINT (-79.37505 9.08259)  \n",
       "438  Plaza Interamericana  POINT (-79.70897 8.92677)  \n",
       "\n",
       "[439 rows x 6 columns]"
      ]
     },
     "execution_count": 67,
     "metadata": {},
     "output_type": "execute_result"
    }
   ],
   "source": [
    "## Merge tweets to get roads and places in one dataframe\n",
    "twt_roads.merge(twt_places, how='outer', on=['tweet_id', 'tweet_text'])"
   ]
  },
  {
   "cell_type": "markdown",
   "metadata": {},
   "source": [
    "Tomar la vía \n",
    "-> si detecta la vía, tomar lugares adyacentes a la vía, luego hacer un fuzzy match a los lugares cercanos y asignar la intersección\n",
    "\n",
    "Si no detecta una vía, hacer fuzzy match al texto por un lugares\n",
    "\n",
    "Si no, asignar nulo"
   ]
  },
  {
   "cell_type": "markdown",
   "metadata": {},
   "source": [
    "### Create X and Y coordinates for places"
   ]
  },
  {
   "cell_type": "code",
   "execution_count": null,
   "metadata": {},
   "outputs": [],
   "source": [
    "places1.loc[:, 'x'] = places1.apply(lambda row: getPointCoords(row, 'geom', 'x'), axis=1)\n",
    "places1.loc[:, 'y'] = places1.apply(lambda row: getPointCoords(row, 'geom', 'y'), axis=1)"
   ]
  },
  {
   "cell_type": "code",
   "execution_count": null,
   "metadata": {},
   "outputs": [],
   "source": [
    "def getPointCoords(row, geom, coord_type):\n",
    "    \"\"\"Calculates coordinates ('x' or 'y') of a Point geometry\"\"\"\n",
    "    if coord_type == 'x':\n",
    "        return row[geom].x\n",
    "    elif coord_type == 'y':\n",
    "        return row[geom].y"
   ]
  },
  {
   "cell_type": "code",
   "execution_count": 68,
   "metadata": {},
   "outputs": [],
   "source": [
    "places = places[places.name.str.len()>5]"
   ]
  },
  {
   "cell_type": "markdown",
   "metadata": {},
   "source": [
    "## Extract Places"
   ]
  },
  {
   "cell_type": "code",
   "execution_count": 69,
   "metadata": {},
   "outputs": [],
   "source": [
    "extract = Preprocessing.clean_text(tweets, 'text')\n",
    "# tweets.clean.str.findall('([A-Z]\\S+)')\n",
    "# re.findall('([A-Z]\\S+)', tweets)\n",
    "extract['possible_place'] = extract.clean.str.findall('([A-Z]\\S+)')"
   ]
  },
  {
   "cell_type": "code",
   "execution_count": 70,
   "metadata": {},
   "outputs": [],
   "source": [
    "extract = extract[extract.clean.str.contains('accident.*|cho[qc].*|colision.*|vuelco|volcó|vuelca|atropell.*|tran[qc].*|embotella.*|trafico|huelga|protest.*|trabajo.*|cierr.*|detenid.*|obstacul.*|incendi.*|inunda.*|lluvia')]\n",
    "extract = extract[extract.clean.str.len()>30]\n",
    "extract = extract[extract.possible_place.notnull()]"
   ]
  },
  {
   "cell_type": "markdown",
   "metadata": {},
   "source": [
    "### Fuzzy match tests"
   ]
  },
  {
   "cell_type": "code",
   "execution_count": 64,
   "metadata": {},
   "outputs": [],
   "source": [
    "## Fuzzy match tests\n",
    "test = 'tranque pesado Cinta Costera area Coco Mar'"
   ]
  },
  {
   "cell_type": "code",
   "execution_count": 68,
   "metadata": {},
   "outputs": [
    {
     "data": {
      "text/plain": [
       "[('Cinta Costera 1', 93, 5358),\n",
       " ('Cinta Costera 1', 93, 5404),\n",
       " ('Cinta Costera 3', 93, 6432),\n",
       " ('Cinta Costera 3', 93, 6435),\n",
       " ('Cinta Costera 3', 93, 6450)]"
      ]
     },
     "execution_count": 68,
     "metadata": {},
     "output_type": "execute_result"
    }
   ],
   "source": [
    "process.extract(test, places['name'], scorer=fuzz.token_set_ratio)"
   ]
  },
  {
   "cell_type": "code",
   "execution_count": 66,
   "metadata": {},
   "outputs": [
    {
     "data": {
      "text/plain": [
       "('Cinta Costera 1', 93, 5358)"
      ]
     },
     "execution_count": 66,
     "metadata": {},
     "output_type": "execute_result"
    }
   ],
   "source": [
    "set_ratio = process.extractOne(test, places['name'], scorer=fuzz.token_set_ratio)\n",
    "set_ratio"
   ]
  },
  {
   "cell_type": "code",
   "execution_count": null,
   "metadata": {},
   "outputs": [],
   "source": [
    "extract['contains'] = extract['clean'].apply(lambda x: np.array([]))\n",
    "# extract['contains'] = extract['contains'].astype(object)\n",
    "extract['possible'] = extract['clean'].apply(lambda x: np.array([]))\n",
    "# extract['possible'] = extract['possible'].astype(object)"
   ]
  },
  {
   "cell_type": "code",
   "execution_count": 60,
   "metadata": {},
   "outputs": [],
   "source": [
    "extract.drop(columns=['contains', 'possible'], inplace=True)"
   ]
  },
  {
   "cell_type": "code",
   "execution_count": null,
   "metadata": {},
   "outputs": [],
   "source": [
    "extract2 = extract.copy()"
   ]
  },
  {
   "cell_type": "code",
   "execution_count": 71,
   "metadata": {},
   "outputs": [],
   "source": [
    "def get_road(text, roads, scorer=fuzz.token_set_ratio):\n",
    "    '''Applies fuzzy match to extract the possible road of the text.'''\n",
    "    choice = process.extractOne(text, roads.nombre, scorer=scorer)\n",
    "    if choice[1]>=80:\n",
    "        # Returns the gid\n",
    "        return str(roads.iloc[roads.index==choice[2], 0].iloc[0])\n",
    "    else: return ''"
   ]
  },
  {
   "cell_type": "code",
   "execution_count": 72,
   "metadata": {},
   "outputs": [],
   "source": [
    "def get_place(text, places, scorer=fuzz.token_set_ratio):\n",
    "    '''Applies fuzzy match to extract the possible road of the text.'''\n",
    "    choice = process.extractOne(text, places.name, scorer=scorer)\n",
    "    if choice[1]>=80:\n",
    "        # Returns the osm_id\n",
    "        return str(places.iloc[places.index==choice[2], 0].iloc[0])\n",
    "    else: return ''"
   ]
  },
  {
   "cell_type": "code",
   "execution_count": null,
   "metadata": {},
   "outputs": [],
   "source": [
    "places.head(1)"
   ]
  },
  {
   "cell_type": "code",
   "execution_count": 73,
   "metadata": {},
   "outputs": [],
   "source": [
    "extract2 = extract[500:1000]"
   ]
  },
  {
   "cell_type": "code",
   "execution_count": 77,
   "metadata": {},
   "outputs": [
    {
     "name": "stderr",
     "output_type": "stream",
     "text": [
      "C:\\Users\\lucia\\AppData\\Local\\Programs\\Python\\Python38\\lib\\site-packages\\pandas\\core\\indexing.py:1597: SettingWithCopyWarning:\n",
      "\n",
      "\n",
      "A value is trying to be set on a copy of a slice from a DataFrame.\n",
      "Try using .loc[row_indexer,col_indexer] = value instead\n",
      "\n",
      "See the caveats in the documentation: https://pandas.pydata.org/pandas-docs/stable/user_guide/indexing.html#returning-a-view-versus-a-copy\n",
      "\n",
      "C:\\Users\\lucia\\AppData\\Local\\Programs\\Python\\Python38\\lib\\site-packages\\pandas\\core\\indexing.py:1676: SettingWithCopyWarning:\n",
      "\n",
      "\n",
      "A value is trying to be set on a copy of a slice from a DataFrame.\n",
      "Try using .loc[row_indexer,col_indexer] = value instead\n",
      "\n",
      "See the caveats in the documentation: https://pandas.pydata.org/pandas-docs/stable/user_guide/indexing.html#returning-a-view-versus-a-copy\n",
      "\n"
     ]
    }
   ],
   "source": [
    "## Tackes an extract and searches the possible road\n",
    "extract2.loc[:, 'road'] = extract2.apply(lambda row: get_road(row.clean, roads), axis=1)"
   ]
  },
  {
   "cell_type": "code",
   "execution_count": null,
   "metadata": {},
   "outputs": [],
   "source": [
    "## Takes part of extract and searches possible place\n",
    "extract2.loc[:, 'place'] = extract2.apply(lambda row: get_place(row.clean, places), axis=1)"
   ]
  },
  {
   "cell_type": "code",
   "execution_count": 78,
   "metadata": {},
   "outputs": [],
   "source": [
    "## Inserting results into database\n",
    "conn = ps.connect(\n",
    "    database='traffictwt', user='postgres', password='root')\n",
    "cursor = conn.cursor()\n",
    "ins = '''INSERT INTO TWEETS_PLACES(TWEET_ID, ROAD_GID, PLACE_ID)\n",
    "    VALUES (%s, %s, %s) '''\n",
    "for index, row in extract2.iterrows():\n",
    "    cursor.execute(ins, \n",
    "        (row['id'], None if row['road']=='' else row['road'], \n",
    "            None if row['place']=='' else row['place']))\n",
    "    conn.commit()\n",
    "cursor.close()\n",
    "conn.close()"
   ]
  },
  {
   "cell_type": "code",
   "execution_count": 79,
   "metadata": {},
   "outputs": [
    {
     "data": {
      "text/html": [
       "<div>\n",
       "<style scoped>\n",
       "    .dataframe tbody tr th:only-of-type {\n",
       "        vertical-align: middle;\n",
       "    }\n",
       "\n",
       "    .dataframe tbody tr th {\n",
       "        vertical-align: top;\n",
       "    }\n",
       "\n",
       "    .dataframe thead th {\n",
       "        text-align: right;\n",
       "    }\n",
       "</style>\n",
       "<table border=\"1\" class=\"dataframe\">\n",
       "  <thead>\n",
       "    <tr style=\"text-align: right;\">\n",
       "      <th></th>\n",
       "      <th>id</th>\n",
       "      <th>text</th>\n",
       "      <th>clean</th>\n",
       "      <th>possible_place</th>\n",
       "      <th>place</th>\n",
       "      <th>road</th>\n",
       "    </tr>\n",
       "  </thead>\n",
       "  <tbody>\n",
       "    <tr>\n",
       "      <th>762</th>\n",
       "      <td>1397250548118794244</td>\n",
       "      <td>Camión articulado detenido y en medio de una c...</td>\n",
       "      <td>camion articulado detenido medio columna humo ...</td>\n",
       "      <td>[Via, Centenario, Rod, Carew, Panama, Oeste, V...</td>\n",
       "      <td>385466258</td>\n",
       "      <td></td>\n",
       "    </tr>\n",
       "    <tr>\n",
       "      <th>763</th>\n",
       "      <td>1397248875363250185</td>\n",
       "      <td>Se registra accidente de tránsito en el Corred...</td>\n",
       "      <td>registra accidente transito Corredor Norte Tin...</td>\n",
       "      <td>[Corredor, Norte, Tinajitas, Panama, Centro, V...</td>\n",
       "      <td>684868242</td>\n",
       "      <td>2162</td>\n",
       "    </tr>\n",
       "    <tr>\n",
       "      <th>764</th>\n",
       "      <td>1397243505769164800</td>\n",
       "      <td>[VÍDEO] Se registra accidente de tránsito en e...</td>\n",
       "      <td>registra accidente transito Corredor Norte Tin...</td>\n",
       "      <td>[Corredor, Norte, Tinajitas, Panama, Centro]</td>\n",
       "      <td>684868242</td>\n",
       "      <td>2162</td>\n",
       "    </tr>\n",
       "    <tr>\n",
       "      <th>765</th>\n",
       "      <td>1397243504280145921</td>\n",
       "      <td>[VÍDEO] Mula detenida en la Vía Centenario, pr...</td>\n",
       "      <td>mula detenida Via Centenario Rod Carew direcci...</td>\n",
       "      <td>[Via, Centenario, Rod, Carew, Panama, Oeste]</td>\n",
       "      <td>385466258</td>\n",
       "      <td></td>\n",
       "    </tr>\n",
       "    <tr>\n",
       "      <th>766</th>\n",
       "      <td>1397227764277780499</td>\n",
       "      <td>Protesta por calle\\n\\nResidentes de Gonzalillo...</td>\n",
       "      <td>protesta calle Residentes Gonzalillo salieron ...</td>\n",
       "      <td>[Residentes, Gonzalillo, Video]</td>\n",
       "      <td>412554328</td>\n",
       "      <td></td>\n",
       "    </tr>\n",
       "    <tr>\n",
       "      <th>...</th>\n",
       "      <td>...</td>\n",
       "      <td>...</td>\n",
       "      <td>...</td>\n",
       "      <td>...</td>\n",
       "      <td>...</td>\n",
       "      <td>...</td>\n",
       "    </tr>\n",
       "    <tr>\n",
       "      <th>1571</th>\n",
       "      <td>1391083910914842625</td>\n",
       "      <td>[VÍDEO] Se registra accidente de tránsito en L...</td>\n",
       "      <td>registra accidente transito Via Centenario Rod...</td>\n",
       "      <td>[Via, Centenario, Rod, Carew, Panama, Oeste]</td>\n",
       "      <td>385466258</td>\n",
       "      <td></td>\n",
       "    </tr>\n",
       "    <tr>\n",
       "      <th>1572</th>\n",
       "      <td>1391082349895507969</td>\n",
       "      <td>[VÍDEO] Se registra accidente en la Vía España...</td>\n",
       "      <td>registra accidente Via España Cresta direccion...</td>\n",
       "      <td>[Via, España, Cresta, Panama, Centro]</td>\n",
       "      <td></td>\n",
       "      <td></td>\n",
       "    </tr>\n",
       "    <tr>\n",
       "      <th>1573</th>\n",
       "      <td>1391078584329068552</td>\n",
       "      <td>[VÍDEO] Se registra colisión en la Avenida Ric...</td>\n",
       "      <td>registra colision Avenida Ricardo J Alfaro San...</td>\n",
       "      <td>[Avenida, Ricardo, Alfaro, San, Miguel, Arcang...</td>\n",
       "      <td></td>\n",
       "      <td>2192</td>\n",
       "    </tr>\n",
       "    <tr>\n",
       "      <th>1574</th>\n",
       "      <td>1391077923894042624</td>\n",
       "      <td>[VÍDEO] Vistas del tráfico en la Vía Interamer...</td>\n",
       "      <td>vistas trafico Via Interamericana Coronado dir...</td>\n",
       "      <td>[Via, Interamericana, Coronado, Interior, Pais]</td>\n",
       "      <td>384384811</td>\n",
       "      <td></td>\n",
       "    </tr>\n",
       "    <tr>\n",
       "      <th>1575</th>\n",
       "      <td>1391076822293614592</td>\n",
       "      <td>[VÍDEO] Se registra accidente de tránsito en l...</td>\n",
       "      <td>registra accidente transito via principal Bris...</td>\n",
       "      <td>[Brisas, Golf]</td>\n",
       "      <td>684868247</td>\n",
       "      <td></td>\n",
       "    </tr>\n",
       "  </tbody>\n",
       "</table>\n",
       "<p>500 rows × 6 columns</p>\n",
       "</div>"
      ],
      "text/plain": [
       "                       id                                               text  \\\n",
       "762   1397250548118794244  Camión articulado detenido y en medio de una c...   \n",
       "763   1397248875363250185  Se registra accidente de tránsito en el Corred...   \n",
       "764   1397243505769164800  [VÍDEO] Se registra accidente de tránsito en e...   \n",
       "765   1397243504280145921  [VÍDEO] Mula detenida en la Vía Centenario, pr...   \n",
       "766   1397227764277780499  Protesta por calle\\n\\nResidentes de Gonzalillo...   \n",
       "...                   ...                                                ...   \n",
       "1571  1391083910914842625  [VÍDEO] Se registra accidente de tránsito en L...   \n",
       "1572  1391082349895507969  [VÍDEO] Se registra accidente en la Vía España...   \n",
       "1573  1391078584329068552  [VÍDEO] Se registra colisión en la Avenida Ric...   \n",
       "1574  1391077923894042624  [VÍDEO] Vistas del tráfico en la Vía Interamer...   \n",
       "1575  1391076822293614592  [VÍDEO] Se registra accidente de tránsito en l...   \n",
       "\n",
       "                                                  clean  \\\n",
       "762   camion articulado detenido medio columna humo ...   \n",
       "763   registra accidente transito Corredor Norte Tin...   \n",
       "764   registra accidente transito Corredor Norte Tin...   \n",
       "765   mula detenida Via Centenario Rod Carew direcci...   \n",
       "766   protesta calle Residentes Gonzalillo salieron ...   \n",
       "...                                                 ...   \n",
       "1571  registra accidente transito Via Centenario Rod...   \n",
       "1572  registra accidente Via España Cresta direccion...   \n",
       "1573  registra colision Avenida Ricardo J Alfaro San...   \n",
       "1574  vistas trafico Via Interamericana Coronado dir...   \n",
       "1575  registra accidente transito via principal Bris...   \n",
       "\n",
       "                                         possible_place      place  road  \n",
       "762   [Via, Centenario, Rod, Carew, Panama, Oeste, V...  385466258        \n",
       "763   [Corredor, Norte, Tinajitas, Panama, Centro, V...  684868242  2162  \n",
       "764        [Corredor, Norte, Tinajitas, Panama, Centro]  684868242  2162  \n",
       "765        [Via, Centenario, Rod, Carew, Panama, Oeste]  385466258        \n",
       "766                     [Residentes, Gonzalillo, Video]  412554328        \n",
       "...                                                 ...        ...   ...  \n",
       "1571       [Via, Centenario, Rod, Carew, Panama, Oeste]  385466258        \n",
       "1572              [Via, España, Cresta, Panama, Centro]                   \n",
       "1573  [Avenida, Ricardo, Alfaro, San, Miguel, Arcang...             2192  \n",
       "1574    [Via, Interamericana, Coronado, Interior, Pais]  384384811        \n",
       "1575                                     [Brisas, Golf]  684868247        \n",
       "\n",
       "[500 rows x 6 columns]"
      ]
     },
     "execution_count": 79,
     "metadata": {},
     "output_type": "execute_result"
    }
   ],
   "source": [
    "extract2"
   ]
  },
  {
   "cell_type": "markdown",
   "metadata": {},
   "source": [
    "## More detailed process with intweet and possible place"
   ]
  },
  {
   "cell_type": "markdown",
   "metadata": {},
   "source": [
    "### Cleaning"
   ]
  },
  {
   "cell_type": "code",
   "execution_count": 20,
   "metadata": {},
   "outputs": [],
   "source": [
    "# extract1 = extract.copy()\n",
    "tweets = Detection.get_classifications(tweets, 'text')"
   ]
  },
  {
   "cell_type": "code",
   "execution_count": 26,
   "metadata": {},
   "outputs": [],
   "source": [
    "tweets['contains'] = tweets['clean'].apply(lambda x: np.array([]))\n",
    "tweets['contains'] = tweets['contains'].astype(object)\n",
    "tweets['possible'] = tweets['clean'].apply(lambda x: np.array([]))\n",
    "tweets['possible'] = tweets['possible'].astype(object)"
   ]
  },
  {
   "cell_type": "code",
   "execution_count": 40,
   "metadata": {},
   "outputs": [
    {
     "data": {
      "text/plain": [
       "0                                            😂🤣😂😂🤣😂🤣🤣😂🤣\n",
       "1     [VIDEO] Vistas del tráfico en la vía Interamer...\n",
       "2     [VIDEO] Accidente de tránsito en Penonomé, Coc...\n",
       "3     Gracias a las acciones realizadas el 5 de novi...\n",
       "4     La ATTT hace un llamado a gremios, sindicatos,...\n",
       "5     [VIDEO] A través de las cámaras de video vigil...\n",
       "6     A 5km/h se desplazan los autos en la Vía Inter...\n",
       "7     [VIDEO] Accidente de tránsito en la vía Intera...\n",
       "8     Vistas del tráfico en la vía Interamericana en...\n",
       "9     [VIDEO] A través de las cámaras de vigilancia ...\n",
       "10    El subcomisionado Fernando Sanjur de la DNOT s...\n",
       "11    [VIDEO] Un vehículo tipo sedán, cuyo conductor...\n",
       "12    [VIDEO] Más vistas del vuelco en el Kilómetro ...\n",
       "13    Desde la provincia de Colón se reporta acciden...\n",
       "14    Feliz viernes a todos nuestros seguidores exce...\n",
       "15    Zona paga de Torrijos Carter. Han llegado cinc...\n",
       "16    Árbol cae en la ví hacia el Valle de Antón, se...\n",
       "17    @ProtegeryServir @PGN_PANAMA @panamamunicipio ...\n",
       "18    .@gtraficoattt Hay una noticia de como van los...\n",
       "19    #elregreso a la ciudad #seradoloroso al bolsil...\n",
       "20    Vistas del tráfico despejado que se mantiene e...\n",
       "21    A 10km/h se desplazan los autos en la Vía Inte...\n",
       "22    Los precios del combustible nos están reventan...\n",
       "23    Precios de venta de los combustibles del 5 al ...\n",
       "24    Aguacero a esta hora dicho y echo como el pron...\n",
       "25    [VÍDEO] Vistas del tráfico en la Vía Interamer...\n",
       "26    Unidades de la #DNOT de La Policía Nacional, s...\n",
       "27    El himno nacional, el escudo de armas y la ban...\n",
       "28    [VÍDEO] Se registra colisión en la Vía Transís...\n",
       "29    PROMO de apertura desde 79$ P/P en base a ocup...\n",
       "30    Emiliano Otero, subdirector de la DNOT informó...\n",
       "31    [VIDEO] Desde el Centro de Operación Nacional,...\n",
       "32    Continúa al alza el precio de venta de los com...\n",
       "33    Feliz jueves a todos nuestros seguidores excel...\n",
       "34    [VÍDEO] Cámaras del Centro de Operación de La ...\n",
       "35    Unidades de la Policía Nacional, detienen a un...\n",
       "36    Reposted from @traficocpanama [VÍDEO] Unidades...\n",
       "37    Bus involucrado en accidente de tránsito en el...\n",
       "38    Accidente antes del puente sobre el río San Fé...\n",
       "39    [VÍDEO] Unidades de la Policía Nacional, detie...\n",
       "40    Denuncian reten ilegal en la entrada del Corre...\n",
       "41    [VÍDEO] Inundada la Autopista Arraiján-La Chor...\n",
       "42    #NacionalesKW \\nSe registra accidente de tráns...\n",
       "43    Se registra accidente de tránsito en la vía pr...\n",
       "44    Miles de conductores se desplazan hacia el int...\n",
       "45    ¡Tener la tecnología que tanto quieres ahora e...\n",
       "46    Tráfico lento en la vía Interamericana en Beju...\n",
       "47    Para entrar a #LaChorrera, la policía 👮🏻‍♂️ no...\n",
       "48    Reportan tráfico denso en la vía Interamerican...\n",
       "49    Miles de conductores se desplazan hacia el int...\n",
       "Name: text, dtype: object"
      ]
     },
     "execution_count": 40,
     "metadata": {},
     "output_type": "execute_result"
    }
   ],
   "source": [
    "tweets['text']"
   ]
  },
  {
   "cell_type": "code",
   "execution_count": 50,
   "metadata": {},
   "outputs": [
    {
     "data": {
      "text/plain": [
       "'10kmh desplazan autos Via Interamericana Coronado direccion Panama Centro '"
      ]
     },
     "execution_count": 50,
     "metadata": {},
     "output_type": "execute_result"
    }
   ],
   "source": [
    "tweets.iloc[21, 2]"
   ]
  },
  {
   "cell_type": "code",
   "execution_count": 57,
   "metadata": {},
   "outputs": [
    {
     "name": "stdout",
     "output_type": "stream",
     "text": [
      "8 Cor\n",
      "13 plaza\n",
      "13 Panam\n"
     ]
    }
   ],
   "source": [
    "intweet = []; possible = []\n",
    "\n",
    "test = tweets.iloc[21, 2]\n",
    "for index_place, place in places.iterrows():\n",
    "    if place['name'] in test:\n",
    "        # Insert the ratio and place ID\n",
    "        intweet.append([fuzz.token_sort_ratio(place['name'], test), place['osm_id']])\n",
    "        print(fuzz.token_sort_ratio(place['name'], test), place['name'])\n",
    "    elif (fuzz.token_set_ratio(place['name'], test)==100 \n",
    "        and fuzz.token_sort_ratio(place['name'], test)>50) or (fuzz.token_set_ratio(place['name'], test)>90):\n",
    "        possible.append([fuzz.token_sort_ratio(place['name'], test), place['osm_id']])\n"
   ]
  },
  {
   "cell_type": "code",
   "execution_count": 69,
   "metadata": {},
   "outputs": [
    {
     "ename": "KeyboardInterrupt",
     "evalue": "",
     "output_type": "error",
     "traceback": [
      "\u001b[1;31m---------------------------------------------------------------------------\u001b[0m",
      "\u001b[1;31mKeyboardInterrupt\u001b[0m                         Traceback (most recent call last)",
      "\u001b[1;32m~\\AppData\\Local\\Temp/ipykernel_24764/1577099474.py\u001b[0m in \u001b[0;36m<module>\u001b[1;34m\u001b[0m\n\u001b[0;32m     27\u001b[0m                 \u001b[0mintweet\u001b[0m\u001b[1;33m.\u001b[0m\u001b[0mappend\u001b[0m\u001b[1;33m(\u001b[0m\u001b[1;33m[\u001b[0m\u001b[0mfuzz\u001b[0m\u001b[1;33m.\u001b[0m\u001b[0mtoken_sort_ratio\u001b[0m\u001b[1;33m(\u001b[0m\u001b[0mroad\u001b[0m\u001b[1;33m[\u001b[0m\u001b[1;34m'nombre'\u001b[0m\u001b[1;33m]\u001b[0m\u001b[1;33m,\u001b[0m \u001b[0mtweets\u001b[0m\u001b[1;33m.\u001b[0m\u001b[0miloc\u001b[0m\u001b[1;33m[\u001b[0m\u001b[1;36m12\u001b[0m\u001b[1;33m,\u001b[0m \u001b[1;36m2\u001b[0m\u001b[1;33m]\u001b[0m\u001b[1;33m)\u001b[0m\u001b[1;33m,\u001b[0m \u001b[0mroad\u001b[0m\u001b[1;33m[\u001b[0m\u001b[1;34m'gid'\u001b[0m\u001b[1;33m]\u001b[0m\u001b[1;33m]\u001b[0m\u001b[1;33m)\u001b[0m\u001b[1;33m\u001b[0m\u001b[1;33m\u001b[0m\u001b[0m\n\u001b[0;32m     28\u001b[0m             elif (fuzz.token_set_ratio(road['nombre'], tweet['clean'])==100 \n\u001b[1;32m---> 29\u001b[1;33m                 and fuzz.token_sort_ratio(road['nombre'], tweet['clean'])>50) or (fuzz.token_set_ratio(road['nombre'], tweet['clean'])>90):\n\u001b[0m\u001b[0;32m     30\u001b[0m                 \u001b[0mpossible\u001b[0m\u001b[1;33m.\u001b[0m\u001b[0mappend\u001b[0m\u001b[1;33m(\u001b[0m\u001b[1;33m[\u001b[0m\u001b[0mfuzz\u001b[0m\u001b[1;33m.\u001b[0m\u001b[0mtoken_sort_ratio\u001b[0m\u001b[1;33m(\u001b[0m\u001b[0mroad\u001b[0m\u001b[1;33m[\u001b[0m\u001b[1;34m'nombre'\u001b[0m\u001b[1;33m]\u001b[0m\u001b[1;33m,\u001b[0m \u001b[0mtweets\u001b[0m\u001b[1;33m.\u001b[0m\u001b[0miloc\u001b[0m\u001b[1;33m[\u001b[0m\u001b[1;36m12\u001b[0m\u001b[1;33m,\u001b[0m \u001b[1;36m2\u001b[0m\u001b[1;33m]\u001b[0m\u001b[1;33m)\u001b[0m\u001b[1;33m,\u001b[0m \u001b[0mroad\u001b[0m\u001b[1;33m[\u001b[0m\u001b[1;34m'gid'\u001b[0m\u001b[1;33m]\u001b[0m\u001b[1;33m]\u001b[0m\u001b[1;33m)\u001b[0m\u001b[1;33m\u001b[0m\u001b[1;33m\u001b[0m\u001b[0m\n\u001b[0;32m     31\u001b[0m     \u001b[1;32mif\u001b[0m \u001b[0mlen\u001b[0m\u001b[1;33m(\u001b[0m\u001b[0mintweet\u001b[0m\u001b[1;33m)\u001b[0m\u001b[1;33m>\u001b[0m\u001b[1;36m0\u001b[0m\u001b[1;33m:\u001b[0m\u001b[1;33m\u001b[0m\u001b[1;33m\u001b[0m\u001b[0m\n",
      "\u001b[1;32mc:\\Users\\lucia\\OneDrive - Universidad Tecnológica de Panamá\\Proyectos-Articulos\\Tesis\\code\\TwitterTraffic-Pty\\venv\\lib\\site-packages\\pandas\\core\\series.py\u001b[0m in \u001b[0;36m__getitem__\u001b[1;34m(self, key)\u001b[0m\n\u001b[0;32m    940\u001b[0m \u001b[1;33m\u001b[0m\u001b[0m\n\u001b[0;32m    941\u001b[0m         \u001b[1;32melif\u001b[0m \u001b[0mkey_is_scalar\u001b[0m\u001b[1;33m:\u001b[0m\u001b[1;33m\u001b[0m\u001b[1;33m\u001b[0m\u001b[0m\n\u001b[1;32m--> 942\u001b[1;33m             \u001b[1;32mreturn\u001b[0m \u001b[0mself\u001b[0m\u001b[1;33m.\u001b[0m\u001b[0m_get_value\u001b[0m\u001b[1;33m(\u001b[0m\u001b[0mkey\u001b[0m\u001b[1;33m)\u001b[0m\u001b[1;33m\u001b[0m\u001b[1;33m\u001b[0m\u001b[0m\n\u001b[0m\u001b[0;32m    943\u001b[0m \u001b[1;33m\u001b[0m\u001b[0m\n\u001b[0;32m    944\u001b[0m         \u001b[1;32mif\u001b[0m \u001b[0mis_hashable\u001b[0m\u001b[1;33m(\u001b[0m\u001b[0mkey\u001b[0m\u001b[1;33m)\u001b[0m\u001b[1;33m:\u001b[0m\u001b[1;33m\u001b[0m\u001b[1;33m\u001b[0m\u001b[0m\n",
      "\u001b[1;32mc:\\Users\\lucia\\OneDrive - Universidad Tecnológica de Panamá\\Proyectos-Articulos\\Tesis\\code\\TwitterTraffic-Pty\\venv\\lib\\site-packages\\pandas\\core\\series.py\u001b[0m in \u001b[0;36m_get_value\u001b[1;34m(self, label, takeable)\u001b[0m\n\u001b[0;32m   1049\u001b[0m \u001b[1;33m\u001b[0m\u001b[0m\n\u001b[0;32m   1050\u001b[0m         \u001b[1;31m# Similar to Index.get_value, but we do not fall back to positional\u001b[0m\u001b[1;33m\u001b[0m\u001b[1;33m\u001b[0m\u001b[1;33m\u001b[0m\u001b[0m\n\u001b[1;32m-> 1051\u001b[1;33m         \u001b[0mloc\u001b[0m \u001b[1;33m=\u001b[0m \u001b[0mself\u001b[0m\u001b[1;33m.\u001b[0m\u001b[0mindex\u001b[0m\u001b[1;33m.\u001b[0m\u001b[0mget_loc\u001b[0m\u001b[1;33m(\u001b[0m\u001b[0mlabel\u001b[0m\u001b[1;33m)\u001b[0m\u001b[1;33m\u001b[0m\u001b[1;33m\u001b[0m\u001b[0m\n\u001b[0m\u001b[0;32m   1052\u001b[0m         \u001b[1;32mreturn\u001b[0m \u001b[0mself\u001b[0m\u001b[1;33m.\u001b[0m\u001b[0mindex\u001b[0m\u001b[1;33m.\u001b[0m\u001b[0m_get_values_for_loc\u001b[0m\u001b[1;33m(\u001b[0m\u001b[0mself\u001b[0m\u001b[1;33m,\u001b[0m \u001b[0mloc\u001b[0m\u001b[1;33m,\u001b[0m \u001b[0mlabel\u001b[0m\u001b[1;33m)\u001b[0m\u001b[1;33m\u001b[0m\u001b[1;33m\u001b[0m\u001b[0m\n\u001b[0;32m   1053\u001b[0m \u001b[1;33m\u001b[0m\u001b[0m\n",
      "\u001b[1;31mKeyboardInterrupt\u001b[0m: "
     ]
    }
   ],
   "source": [
    "## Searches if a place is exactly in the text or a possible match\n",
    "# for index, tweet in extract[:100].iterrows():\n",
    "for index, tweet in tweets.iterrows():\n",
    "    intweet = []; possible = []\n",
    "\n",
    "    ## Iteration of the places in the database\n",
    "    for index_place, place in places.iterrows():\n",
    "        if len(place['name'])>5:\n",
    "            if place['name'] in tweet['clean']:\n",
    "                # Insert the ratio and place ID\n",
    "                intweet.append([fuzz.token_sort_ratio(place['name'], tweets.iloc[12, 2]), place['osm_id']])\n",
    "            elif (fuzz.token_set_ratio(place['name'], tweet['clean'])==100 \n",
    "                and fuzz.token_sort_ratio(place['name'], tweet['clean'])>50) or (fuzz.token_set_ratio(place['name'], tweet['clean'])>90):\n",
    "                possible.append([fuzz.token_sort_ratio(place['name'], tweets.iloc[12, 2]), place['osm_id']])\n",
    "    if len(intweet)>0:\n",
    "        tweets.loc[index, 'contains_place'] = max(intweet)[1]\n",
    "    if len(possible)>0:\n",
    "        tweets.loc[index, 'possible_place'] = max(possible)[1] # np.array(possible)\n",
    "\n",
    "    ## Same process with roads\n",
    "    intweet = []; possible = []\n",
    "    ## Iteration of roads\n",
    "    for index_road, road in roads.iterrows():\n",
    "        if len(road['nombre'])>5:\n",
    "            if road['nombre'] in tweet['clean']:\n",
    "                # Insert the ratio and road ID\n",
    "                intweet.append([fuzz.token_sort_ratio(road['nombre'], tweets.iloc[12, 2]), road['gid']])\n",
    "            elif (fuzz.token_set_ratio(road['nombre'], tweet['clean'])==100 \n",
    "                and fuzz.token_sort_ratio(road['nombre'], tweet['clean'])>50) or (fuzz.token_set_ratio(road['nombre'], tweet['clean'])>90):\n",
    "                possible.append([fuzz.token_sort_ratio(road['nombre'], tweets.iloc[12, 2]), road['gid']])\n",
    "    if len(intweet)>0:\n",
    "        tweets.loc[index, 'contains_road'] = max(intweet)[1]\n",
    "    if len(possible)>0:\n",
    "        tweets.loc[index, 'possible_road'] = max(possible)[1] # np.array(possible)\n",
    "    "
   ]
  },
  {
   "cell_type": "markdown",
   "metadata": {},
   "source": [
    "### DAtabase"
   ]
  },
  {
   "cell_type": "code",
   "execution_count": 98,
   "metadata": {},
   "outputs": [
    {
     "data": {
      "text/plain": [
       "'[VIDEO] Más vistas del vuelco en el Kilómetro 47 de la autopista Panamá-Colón en la salida a Sabanitas. https://t.co/DL7m8qjbNK'"
      ]
     },
     "execution_count": 98,
     "metadata": {},
     "output_type": "execute_result"
    }
   ],
   "source": [
    "tweet = tweets.iloc[12, 1]\n",
    "tweet"
   ]
  },
  {
   "cell_type": "code",
   "execution_count": 99,
   "metadata": {},
   "outputs": [
    {
     "name": "stdout",
     "output_type": "stream",
     "text": [
      "{'tweet': '[VIDEO] Más vistas del vuelco en el Kilómetro 47 de la autopista Panamá-Colón en la salida a Sabanitas. https://t.co/DL7m8qjbNK', 'place': None, 'road': 2536}\n"
     ]
    }
   ],
   "source": [
    "tweet = tweets.iloc[12, 1]\n",
    "geo = Detection.get_geo(tweet, places, roads)\n",
    "geo"
   ]
  },
  {
   "cell_type": "code",
   "execution_count": 100,
   "metadata": {},
   "outputs": [
    {
     "data": {
      "text/html": [
       "<div>\n",
       "<style scoped>\n",
       "    .dataframe tbody tr th:only-of-type {\n",
       "        vertical-align: middle;\n",
       "    }\n",
       "\n",
       "    .dataframe tbody tr th {\n",
       "        vertical-align: top;\n",
       "    }\n",
       "\n",
       "    .dataframe thead th {\n",
       "        text-align: right;\n",
       "    }\n",
       "</style>\n",
       "<table border=\"1\" class=\"dataframe\">\n",
       "  <thead>\n",
       "    <tr style=\"text-align: right;\">\n",
       "      <th></th>\n",
       "      <th>gid</th>\n",
       "      <th>nombre</th>\n",
       "      <th>geom</th>\n",
       "    </tr>\n",
       "  </thead>\n",
       "  <tbody>\n",
       "    <tr>\n",
       "      <th>2538</th>\n",
       "      <td>2536</td>\n",
       "      <td>Autopista Panamá - Colón</td>\n",
       "      <td>MULTILINESTRING ((-79.74012 9.28473, -79.73890...</td>\n",
       "    </tr>\n",
       "  </tbody>\n",
       "</table>\n",
       "</div>"
      ],
      "text/plain": [
       "       gid                    nombre  \\\n",
       "2538  2536  Autopista Panamá - Colón   \n",
       "\n",
       "                                                   geom  \n",
       "2538  MULTILINESTRING ((-79.74012 9.28473, -79.73890...  "
      ]
     },
     "execution_count": 100,
     "metadata": {},
     "output_type": "execute_result"
    }
   ],
   "source": [
    "roads[roads.gid==2536]"
   ]
  },
  {
   "cell_type": "code",
   "execution_count": 23,
   "metadata": {},
   "outputs": [],
   "source": [
    "geo = {}\n",
    "\n",
    "intweet = []; possible = []\n",
    "\n",
    "## Iteration of the places in the database\n",
    "for index_place, place in places.iterrows():\n",
    "    if len(place['name'])>5:\n",
    "        if place['name'] in tweet:\n",
    "            # Insert the ratio and place ID\n",
    "            intweet.append([fuzz.token_sort_ratio(place['name'], tweets), place['osm_id']])\n",
    "        elif (fuzz.token_set_ratio(place['name'], tweet)==100 \n",
    "            and fuzz.token_sort_ratio(place['name'], tweet)>50) or (fuzz.token_set_ratio(place['name'], tweet)>90):\n",
    "            possible.append([fuzz.token_sort_ratio(place['name'], tweets), place['osm_id']])\n",
    "if len(intweet)>0:\n",
    "    #tweets.loc[index, 'contains_place'] = max(intweet)[1]\n",
    "    geo['place'] = max(intweet)[1]\n",
    "elif len(possible)>0:\n",
    "    # tweets.loc[index, 'possible_place'] = max(possible)[1] # np.array(possible)\n",
    "    geo['place'] = max(possible)[1]\n",
    "\n",
    "## Same process with roads\n",
    "intweet = []; possible = []\n",
    "## Iteration of roads\n",
    "for index_road, road in roads.iterrows():\n",
    "    if len(road['nombre'])>5:\n",
    "        if road['nombre'] in tweet:\n",
    "            # Insert the ratio and road ID\n",
    "            intweet.append([fuzz.token_sort_ratio(road['nombre'], tweet), road['gid']])\n",
    "        elif (fuzz.token_set_ratio(road['nombre'], tweet)==100 \n",
    "            and fuzz.token_sort_ratio(road['nombre'], tweet)>50) or (fuzz.token_set_ratio(road['nombre'], tweet)>90):\n",
    "            possible.append([fuzz.token_sort_ratio(road['nombre'], tweet), road['gid']])\n",
    "if len(intweet)>0:\n",
    "    # tweets.loc[index, 'contains_road'] = max(intweet)[1]\n",
    "    geo['road'] = max(intweet)[1]\n",
    "elif len(possible)>0:\n",
    "    # tweets.loc[index, 'possible_road'] = max(possible)[1] # np.array(possible)\n",
    "    geo['road'] = max(possible)[1]"
   ]
  },
  {
   "cell_type": "code",
   "execution_count": 7,
   "metadata": {},
   "outputs": [
    {
     "data": {
      "text/plain": [
       "1    1453504659671420931\n",
       "Name: id, dtype: int64"
      ]
     },
     "execution_count": 7,
     "metadata": {},
     "output_type": "execute_result"
    }
   ],
   "source": [
    "tweets.iloc[1:2].id"
   ]
  },
  {
   "cell_type": "code",
   "execution_count": 12,
   "metadata": {},
   "outputs": [],
   "source": [
    "## Inserting results into database\n",
    "conn = ps.connect(\n",
    "    database='traffictwt', user='postgres', password='root')\n",
    "cursor = conn.cursor()\n",
    "ins = '''INSERT INTO TWEETS_PLACES(TWEET_ID, ROAD_GID, PLACE_ID)\n",
    "    VALUES (%s, %s, %s) '''\n",
    "# for index, row in extract2.iterrows():\n",
    "cursor.execute(ins, \n",
    "    (1453504659671420931, geo['place'], geo['road']))\n",
    "conn.commit()\n",
    "cursor.close()\n",
    "conn.close()"
   ]
  },
  {
   "cell_type": "code",
   "execution_count": 10,
   "metadata": {},
   "outputs": [
    {
     "ename": "TypeError",
     "evalue": "exception() missing 1 required positional argument: 'msg'",
     "output_type": "error",
     "traceback": [
      "\u001b[1;31m---------------------------------------------------------------------------\u001b[0m",
      "\u001b[1;31mSyntaxError\u001b[0m                               Traceback (most recent call last)",
      "\u001b[1;32mc:\\Users\\lucia\\OneDrive - Universidad Tecnológica de Panamá\\Proyectos-Articulos\\Tesis\\code\\TwitterTraffic-Pty\\TweetData\\DBConnect.py\u001b[0m in \u001b[0;36massign_place\u001b[1;34m(self, id, place_id, road_id)\u001b[0m\n\u001b[0;32m     93\u001b[0m         \u001b[1;32mtry\u001b[0m\u001b[1;33m:\u001b[0m\u001b[1;33m\u001b[0m\u001b[1;33m\u001b[0m\u001b[0m\n\u001b[1;32m---> 94\u001b[1;33m             \u001b[0mself\u001b[0m\u001b[1;33m.\u001b[0m\u001b[0mcursor\u001b[0m\u001b[1;33m.\u001b[0m\u001b[0mexecute\u001b[0m\u001b[1;33m(\u001b[0m\u001b[0mcommand\u001b[0m\u001b[1;33m)\u001b[0m\u001b[1;33m\u001b[0m\u001b[1;33m\u001b[0m\u001b[0m\n\u001b[0m\u001b[0;32m     95\u001b[0m             \u001b[0mcursor\u001b[0m\u001b[1;33m.\u001b[0m\u001b[0mexecute\u001b[0m\u001b[1;33m(\u001b[0m\u001b[0mcommand\u001b[0m\u001b[1;33m,\u001b[0m \u001b[1;33m(\u001b[0m\u001b[0mid\u001b[0m\u001b[1;33m,\u001b[0m \u001b[0mroad_id\u001b[0m\u001b[1;33m,\u001b[0m \u001b[0mplace_id\u001b[0m\u001b[1;33m)\u001b[0m\u001b[1;33m)\u001b[0m\u001b[1;33m\u001b[0m\u001b[1;33m\u001b[0m\u001b[0m\n",
      "\u001b[1;31mSyntaxError\u001b[0m: syntax error at or near \"%\"\nLINE 1: ...EETS_PLACES(TWEET_ID, ROAD_GID, PLACE_ID) VALUES (%s, %s, %s...\n                                                             ^\n",
      "\nDuring handling of the above exception, another exception occurred:\n",
      "\u001b[1;31mTypeError\u001b[0m                                 Traceback (most recent call last)",
      "\u001b[1;32m~\\AppData\\Local\\Temp/ipykernel_4808/3514768250.py\u001b[0m in \u001b[0;36m<module>\u001b[1;34m\u001b[0m\n\u001b[1;32m----> 1\u001b[1;33m \u001b[0mdb\u001b[0m\u001b[1;33m.\u001b[0m\u001b[0massign_place\u001b[0m\u001b[1;33m(\u001b[0m\u001b[1;36m1453504659671420931\u001b[0m\u001b[1;33m,\u001b[0m \u001b[0mgeo\u001b[0m\u001b[1;33m[\u001b[0m\u001b[1;34m'place'\u001b[0m\u001b[1;33m]\u001b[0m\u001b[1;33m,\u001b[0m \u001b[0mgeo\u001b[0m\u001b[1;33m[\u001b[0m\u001b[1;34m'road'\u001b[0m\u001b[1;33m]\u001b[0m\u001b[1;33m)\u001b[0m\u001b[1;33m\u001b[0m\u001b[1;33m\u001b[0m\u001b[0m\n\u001b[0m",
      "\u001b[1;32mc:\\Users\\lucia\\OneDrive - Universidad Tecnológica de Panamá\\Proyectos-Articulos\\Tesis\\code\\TwitterTraffic-Pty\\TweetData\\DBConnect.py\u001b[0m in \u001b[0;36massign_place\u001b[1;34m(self, id, place_id, road_id)\u001b[0m\n\u001b[0;32m     94\u001b[0m             \u001b[0mself\u001b[0m\u001b[1;33m.\u001b[0m\u001b[0mcursor\u001b[0m\u001b[1;33m.\u001b[0m\u001b[0mexecute\u001b[0m\u001b[1;33m(\u001b[0m\u001b[0mcommand\u001b[0m\u001b[1;33m)\u001b[0m\u001b[1;33m\u001b[0m\u001b[1;33m\u001b[0m\u001b[0m\n\u001b[0;32m     95\u001b[0m             \u001b[0mcursor\u001b[0m\u001b[1;33m.\u001b[0m\u001b[0mexecute\u001b[0m\u001b[1;33m(\u001b[0m\u001b[0mcommand\u001b[0m\u001b[1;33m,\u001b[0m \u001b[1;33m(\u001b[0m\u001b[0mid\u001b[0m\u001b[1;33m,\u001b[0m \u001b[0mroad_id\u001b[0m\u001b[1;33m,\u001b[0m \u001b[0mplace_id\u001b[0m\u001b[1;33m)\u001b[0m\u001b[1;33m)\u001b[0m\u001b[1;33m\u001b[0m\u001b[1;33m\u001b[0m\u001b[0m\n\u001b[1;32m---> 96\u001b[1;33m         \u001b[1;32mexcept\u001b[0m \u001b[0mException\u001b[0m \u001b[1;32mas\u001b[0m \u001b[0me\u001b[0m\u001b[1;33m:\u001b[0m \u001b[0mlogging\u001b[0m\u001b[1;33m.\u001b[0m\u001b[0mexception\u001b[0m\u001b[1;33m(\u001b[0m\u001b[1;33m)\u001b[0m\u001b[1;33m;\u001b[0m \u001b[0mprint\u001b[0m\u001b[1;33m(\u001b[0m\u001b[0me\u001b[0m\u001b[1;33m)\u001b[0m\u001b[1;33m\u001b[0m\u001b[1;33m\u001b[0m\u001b[0m\n\u001b[0m\u001b[0;32m     97\u001b[0m         \u001b[1;31m# commit changes and close cursor\u001b[0m\u001b[1;33m\u001b[0m\u001b[1;33m\u001b[0m\u001b[1;33m\u001b[0m\u001b[0m\n\u001b[0;32m     98\u001b[0m         \u001b[0mself\u001b[0m\u001b[1;33m.\u001b[0m\u001b[0mconn\u001b[0m\u001b[1;33m.\u001b[0m\u001b[0mcommit\u001b[0m\u001b[1;33m(\u001b[0m\u001b[1;33m)\u001b[0m\u001b[1;33m\u001b[0m\u001b[1;33m\u001b[0m\u001b[0m\n",
      "\u001b[1;31mTypeError\u001b[0m: exception() missing 1 required positional argument: 'msg'"
     ]
    }
   ],
   "source": [
    "db.assign_place(1453504659671420931, geo['place'], geo['road'])"
   ]
  },
  {
   "cell_type": "code",
   "execution_count": null,
   "metadata": {},
   "outputs": [],
   "source": [
    "## Merge tweets to get roads and places in one dataframe\n",
    "twt_roads.merge(twt_places, how='outer', on=['tweet_id', 'tweet_text'])"
   ]
  }
 ],
 "metadata": {
  "interpreter": {
   "hash": "c89e358747c794bbd360fe269a0dd1bc0b45b2619863980d810a26a43273d893"
  },
  "kernelspec": {
   "display_name": "Python 3.8.0 64-bit ('venv': venv)",
   "name": "python3"
  },
  "language_info": {
   "codemirror_mode": {
    "name": "ipython",
    "version": 3
   },
   "file_extension": ".py",
   "mimetype": "text/x-python",
   "name": "python",
   "nbconvert_exporter": "python",
   "pygments_lexer": "ipython3",
   "version": "3.8.0"
  },
  "metadata": {
   "interpreter": {
    "hash": "39897e887fdcf105827cc0646dea5514e7d787d0b8d213f1a5227514ffbfb4c6"
   }
  },
  "orig_nbformat": 2
 },
 "nbformat": 4,
 "nbformat_minor": 2
}
