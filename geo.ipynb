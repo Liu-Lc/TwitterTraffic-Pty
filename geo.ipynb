{
 "metadata": {
  "language_info": {
   "codemirror_mode": {
    "name": "ipython",
    "version": 3
   },
   "file_extension": ".py",
   "mimetype": "text/x-python",
   "name": "python",
   "nbconvert_exporter": "python",
   "pygments_lexer": "ipython3",
   "version": "3.8.0"
  },
  "orig_nbformat": 2,
  "kernelspec": {
   "name": "python380jvsc74a57bd039897e887fdcf105827cc0646dea5514e7d787d0b8d213f1a5227514ffbfb4c6",
   "display_name": "Python 3.8.0 64-bit"
  },
  "metadata": {
   "interpreter": {
    "hash": "39897e887fdcf105827cc0646dea5514e7d787d0b8d213f1a5227514ffbfb4c6"
   }
  }
 },
 "nbformat": 4,
 "nbformat_minor": 2,
 "cells": [
  {
   "cell_type": "code",
   "execution_count": 3,
   "metadata": {},
   "outputs": [
    {
     "output_type": "stream",
     "name": "stderr",
     "text": [
      "C:\\Users\\lucia\\AppData\\Local\\Programs\\Python\\Python38\\lib\\site-packages\\fuzzywuzzy\\fuzz.py:11: UserWarning: Using slow pure-python SequenceMatcher. Install python-Levenshtein to remove this warning\n  warnings.warn('Using slow pure-python SequenceMatcher. Install python-Levenshtein to remove this warning')\n"
     ]
    }
   ],
   "source": [
    "import psycopg2 as ps\n",
    "from wordcloud import WordCloud\n",
    "import  matplotlib.pyplot as plt \n",
    "import seaborn as sns\n",
    "import plotly.graph_objects as go\n",
    "import plotly.express as px\n",
    "import bokeh.plotting as plot\n",
    "import bokeh.models as models\n",
    "\n",
    "import re, sys\n",
    "import numpy as np\n",
    "\n",
    "sys.path.append('./TweetData')\n",
    "from TweetData import keys, Preprocessing\n",
    "\n",
    "import pandas as pd\n",
    "import json\n",
    "from collections import Counter\n",
    "from fuzzywuzzy import fuzz, process\n",
    "\n",
    "import geopandas as gpd"
   ]
  },
  {
   "cell_type": "code",
   "execution_count": 147,
   "metadata": {},
   "outputs": [],
   "source": [
    "places2 = places1.drop(columns=['osm_id','x', 'y'])"
   ]
  },
  {
   "cell_type": "code",
   "execution_count": 153,
   "metadata": {},
   "outputs": [],
   "source": [
    "places2.geom.to_crs(epsg=4326)\n",
    "places2.to_file('geojsfile.json', driver = 'GeoJSON')\n",
    "with open('geojsfile.json', encoding='utf-8') as geofile:\n",
    "    geojson_data = json.load(geofile)"
   ]
  },
  {
   "cell_type": "code",
   "execution_count": 154,
   "metadata": {},
   "outputs": [
    {
     "output_type": "execute_result",
     "data": {
      "text/plain": [
       "{'type': 'FeatureCollection',\n",
       " 'crs': {'type': 'name', 'properties': {'name': 'urn:ogc:def:crs:EPSG::3857'}},\n",
       " 'features': [{'type': 'Feature',\n",
       "   'properties': {'name': 'Regalia'},\n",
       "   'geometry': {'type': 'Point',\n",
       "    'coordinates': [-79.47449524570031, 9.009008829153208]}},\n",
       "  {'type': 'Feature',\n",
       "   'properties': {'name': 'Ocean One'},\n",
       "   'geometry': {'type': 'Point',\n",
       "    'coordinates': [-79.4753453999885, 9.008718799458514]}},\n",
       "  {'type': 'Feature',\n",
       "   'properties': {'name': 'Altimar'},\n",
       "   'geometry': {'type': 'Point',\n",
       "    'coordinates': [-79.47493393047169, 9.008961552858736]}},\n",
       "  {'type': 'Feature',\n",
       "   'properties': {'name': 'Manglares de Costa del Este'},\n",
       "   'geometry': {'type': 'Point',\n",
       "    'coordinates': [-79.47498206396043, 9.00722459495305]}},\n",
       "  {'type': 'Feature',\n",
       "   'properties': {'name': 'Capital Plaza'},\n",
       "   'geometry': {'type': 'Point',\n",
       "    'coordinates': [-79.47611949242808, 9.008435778054325]}},\n",
       "  {'type': 'Feature',\n",
       "   'properties': {'name': 'Istmo Re'},\n",
       "   'geometry': {'type': 'Point',\n",
       "    'coordinates': [-79.47661644999792, 9.00826949942366]}},\n",
       "  {'type': 'Feature',\n",
       "   'properties': {'name': 'Banvivienda'},\n",
       "   'geometry': {'type': 'Point',\n",
       "    'coordinates': [-79.47634103373642, 9.009445670064563]}},\n",
       "  {'type': 'Feature',\n",
       "   'properties': {'name': 'Financial Park Tower'},\n",
       "   'geometry': {'type': 'Point',\n",
       "    'coordinates': [-79.47687610581106, 9.010112835522703]}},\n",
       "  {'type': 'Feature',\n",
       "   'properties': {'name': 'Banco Panamá'},\n",
       "   'geometry': {'type': 'Point',\n",
       "    'coordinates': [-79.47562514999584, 9.009608699488428]}},\n",
       "  {'type': 'Feature',\n",
       "   'properties': {'name': 'Athanasiou'},\n",
       "   'geometry': {'type': 'Point',\n",
       "    'coordinates': [-79.47493884928772, 9.009762287659218]}}]}"
      ]
     },
     "metadata": {},
     "execution_count": 154
    }
   ],
   "source": [
    "geojson_data"
   ]
  },
  {
   "cell_type": "code",
   "execution_count": 158,
   "metadata": {},
   "outputs": [
    {
     "output_type": "display_data",
     "data": {
      "application/vnd.plotly.v1+json": {
       "config": {
        "plotlyServerURL": "https://plot.ly"
       },
       "data": [
        {
         "geo": "geo",
         "geojson": {
          "crs": {
           "properties": {
            "name": "urn:ogc:def:crs:EPSG::3857"
           },
           "type": "name"
          },
          "features": [
           {
            "geometry": {
             "coordinates": [
              -79.47449524570031,
              9.009008829153208
             ],
             "type": "Point"
            },
            "properties": {
             "name": "Regalia"
            },
            "type": "Feature"
           },
           {
            "geometry": {
             "coordinates": [
              -79.4753453999885,
              9.008718799458514
             ],
             "type": "Point"
            },
            "properties": {
             "name": "Ocean One"
            },
            "type": "Feature"
           },
           {
            "geometry": {
             "coordinates": [
              -79.47493393047169,
              9.008961552858736
             ],
             "type": "Point"
            },
            "properties": {
             "name": "Altimar"
            },
            "type": "Feature"
           },
           {
            "geometry": {
             "coordinates": [
              -79.47498206396043,
              9.00722459495305
             ],
             "type": "Point"
            },
            "properties": {
             "name": "Manglares de Costa del Este"
            },
            "type": "Feature"
           },
           {
            "geometry": {
             "coordinates": [
              -79.47611949242808,
              9.008435778054325
             ],
             "type": "Point"
            },
            "properties": {
             "name": "Capital Plaza"
            },
            "type": "Feature"
           },
           {
            "geometry": {
             "coordinates": [
              -79.47661644999792,
              9.00826949942366
             ],
             "type": "Point"
            },
            "properties": {
             "name": "Istmo Re"
            },
            "type": "Feature"
           },
           {
            "geometry": {
             "coordinates": [
              -79.47634103373642,
              9.009445670064563
             ],
             "type": "Point"
            },
            "properties": {
             "name": "Banvivienda"
            },
            "type": "Feature"
           },
           {
            "geometry": {
             "coordinates": [
              -79.47687610581106,
              9.010112835522703
             ],
             "type": "Point"
            },
            "properties": {
             "name": "Financial Park Tower"
            },
            "type": "Feature"
           },
           {
            "geometry": {
             "coordinates": [
              -79.47562514999584,
              9.009608699488428
             ],
             "type": "Point"
            },
            "properties": {
             "name": "Banco Panamá"
            },
            "type": "Feature"
           },
           {
            "geometry": {
             "coordinates": [
              -79.47493884928772,
              9.009762287659218
             ],
             "type": "Point"
            },
            "properties": {
             "name": "Athanasiou"
            },
            "type": "Feature"
           }
          ],
          "type": "FeatureCollection"
         },
         "hovertemplate": "<b>%{hovertext}</b><br><br><extra></extra>",
         "hovertext": [
          "Regalia",
          "Ocean One",
          "Altimar",
          "Manglares de Costa del Este",
          "Capital Plaza",
          "Istmo Re",
          "Banvivienda",
          "Financial Park Tower",
          "Banco Panamá",
          "Athanasiou"
         ],
         "legendgroup": "",
         "marker": {
          "color": "#636efa",
          "symbol": "circle"
         },
         "mode": "markers",
         "name": "",
         "showlegend": false,
         "type": "scattergeo"
        }
       ],
       "layout": {
        "geo": {
         "center": {},
         "domain": {
          "x": [
           0,
           1
          ],
          "y": [
           0,
           1
          ]
         },
         "projection": {
          "type": "equirectangular"
         }
        },
        "legend": {
         "tracegroupgap": 0
        },
        "margin": {
         "b": 0,
         "l": 0,
         "r": 0,
         "t": 0
        },
        "template": {
         "data": {
          "bar": [
           {
            "error_x": {
             "color": "#2a3f5f"
            },
            "error_y": {
             "color": "#2a3f5f"
            },
            "marker": {
             "line": {
              "color": "#E5ECF6",
              "width": 0.5
             }
            },
            "type": "bar"
           }
          ],
          "barpolar": [
           {
            "marker": {
             "line": {
              "color": "#E5ECF6",
              "width": 0.5
             }
            },
            "type": "barpolar"
           }
          ],
          "carpet": [
           {
            "aaxis": {
             "endlinecolor": "#2a3f5f",
             "gridcolor": "white",
             "linecolor": "white",
             "minorgridcolor": "white",
             "startlinecolor": "#2a3f5f"
            },
            "baxis": {
             "endlinecolor": "#2a3f5f",
             "gridcolor": "white",
             "linecolor": "white",
             "minorgridcolor": "white",
             "startlinecolor": "#2a3f5f"
            },
            "type": "carpet"
           }
          ],
          "choropleth": [
           {
            "colorbar": {
             "outlinewidth": 0,
             "ticks": ""
            },
            "type": "choropleth"
           }
          ],
          "contour": [
           {
            "colorbar": {
             "outlinewidth": 0,
             "ticks": ""
            },
            "colorscale": [
             [
              0,
              "#0d0887"
             ],
             [
              0.1111111111111111,
              "#46039f"
             ],
             [
              0.2222222222222222,
              "#7201a8"
             ],
             [
              0.3333333333333333,
              "#9c179e"
             ],
             [
              0.4444444444444444,
              "#bd3786"
             ],
             [
              0.5555555555555556,
              "#d8576b"
             ],
             [
              0.6666666666666666,
              "#ed7953"
             ],
             [
              0.7777777777777778,
              "#fb9f3a"
             ],
             [
              0.8888888888888888,
              "#fdca26"
             ],
             [
              1,
              "#f0f921"
             ]
            ],
            "type": "contour"
           }
          ],
          "contourcarpet": [
           {
            "colorbar": {
             "outlinewidth": 0,
             "ticks": ""
            },
            "type": "contourcarpet"
           }
          ],
          "heatmap": [
           {
            "colorbar": {
             "outlinewidth": 0,
             "ticks": ""
            },
            "colorscale": [
             [
              0,
              "#0d0887"
             ],
             [
              0.1111111111111111,
              "#46039f"
             ],
             [
              0.2222222222222222,
              "#7201a8"
             ],
             [
              0.3333333333333333,
              "#9c179e"
             ],
             [
              0.4444444444444444,
              "#bd3786"
             ],
             [
              0.5555555555555556,
              "#d8576b"
             ],
             [
              0.6666666666666666,
              "#ed7953"
             ],
             [
              0.7777777777777778,
              "#fb9f3a"
             ],
             [
              0.8888888888888888,
              "#fdca26"
             ],
             [
              1,
              "#f0f921"
             ]
            ],
            "type": "heatmap"
           }
          ],
          "heatmapgl": [
           {
            "colorbar": {
             "outlinewidth": 0,
             "ticks": ""
            },
            "colorscale": [
             [
              0,
              "#0d0887"
             ],
             [
              0.1111111111111111,
              "#46039f"
             ],
             [
              0.2222222222222222,
              "#7201a8"
             ],
             [
              0.3333333333333333,
              "#9c179e"
             ],
             [
              0.4444444444444444,
              "#bd3786"
             ],
             [
              0.5555555555555556,
              "#d8576b"
             ],
             [
              0.6666666666666666,
              "#ed7953"
             ],
             [
              0.7777777777777778,
              "#fb9f3a"
             ],
             [
              0.8888888888888888,
              "#fdca26"
             ],
             [
              1,
              "#f0f921"
             ]
            ],
            "type": "heatmapgl"
           }
          ],
          "histogram": [
           {
            "marker": {
             "colorbar": {
              "outlinewidth": 0,
              "ticks": ""
             }
            },
            "type": "histogram"
           }
          ],
          "histogram2d": [
           {
            "colorbar": {
             "outlinewidth": 0,
             "ticks": ""
            },
            "colorscale": [
             [
              0,
              "#0d0887"
             ],
             [
              0.1111111111111111,
              "#46039f"
             ],
             [
              0.2222222222222222,
              "#7201a8"
             ],
             [
              0.3333333333333333,
              "#9c179e"
             ],
             [
              0.4444444444444444,
              "#bd3786"
             ],
             [
              0.5555555555555556,
              "#d8576b"
             ],
             [
              0.6666666666666666,
              "#ed7953"
             ],
             [
              0.7777777777777778,
              "#fb9f3a"
             ],
             [
              0.8888888888888888,
              "#fdca26"
             ],
             [
              1,
              "#f0f921"
             ]
            ],
            "type": "histogram2d"
           }
          ],
          "histogram2dcontour": [
           {
            "colorbar": {
             "outlinewidth": 0,
             "ticks": ""
            },
            "colorscale": [
             [
              0,
              "#0d0887"
             ],
             [
              0.1111111111111111,
              "#46039f"
             ],
             [
              0.2222222222222222,
              "#7201a8"
             ],
             [
              0.3333333333333333,
              "#9c179e"
             ],
             [
              0.4444444444444444,
              "#bd3786"
             ],
             [
              0.5555555555555556,
              "#d8576b"
             ],
             [
              0.6666666666666666,
              "#ed7953"
             ],
             [
              0.7777777777777778,
              "#fb9f3a"
             ],
             [
              0.8888888888888888,
              "#fdca26"
             ],
             [
              1,
              "#f0f921"
             ]
            ],
            "type": "histogram2dcontour"
           }
          ],
          "mesh3d": [
           {
            "colorbar": {
             "outlinewidth": 0,
             "ticks": ""
            },
            "type": "mesh3d"
           }
          ],
          "parcoords": [
           {
            "line": {
             "colorbar": {
              "outlinewidth": 0,
              "ticks": ""
             }
            },
            "type": "parcoords"
           }
          ],
          "pie": [
           {
            "automargin": true,
            "type": "pie"
           }
          ],
          "scatter": [
           {
            "marker": {
             "colorbar": {
              "outlinewidth": 0,
              "ticks": ""
             }
            },
            "type": "scatter"
           }
          ],
          "scatter3d": [
           {
            "line": {
             "colorbar": {
              "outlinewidth": 0,
              "ticks": ""
             }
            },
            "marker": {
             "colorbar": {
              "outlinewidth": 0,
              "ticks": ""
             }
            },
            "type": "scatter3d"
           }
          ],
          "scattercarpet": [
           {
            "marker": {
             "colorbar": {
              "outlinewidth": 0,
              "ticks": ""
             }
            },
            "type": "scattercarpet"
           }
          ],
          "scattergeo": [
           {
            "marker": {
             "colorbar": {
              "outlinewidth": 0,
              "ticks": ""
             }
            },
            "type": "scattergeo"
           }
          ],
          "scattergl": [
           {
            "marker": {
             "colorbar": {
              "outlinewidth": 0,
              "ticks": ""
             }
            },
            "type": "scattergl"
           }
          ],
          "scattermapbox": [
           {
            "marker": {
             "colorbar": {
              "outlinewidth": 0,
              "ticks": ""
             }
            },
            "type": "scattermapbox"
           }
          ],
          "scatterpolar": [
           {
            "marker": {
             "colorbar": {
              "outlinewidth": 0,
              "ticks": ""
             }
            },
            "type": "scatterpolar"
           }
          ],
          "scatterpolargl": [
           {
            "marker": {
             "colorbar": {
              "outlinewidth": 0,
              "ticks": ""
             }
            },
            "type": "scatterpolargl"
           }
          ],
          "scatterternary": [
           {
            "marker": {
             "colorbar": {
              "outlinewidth": 0,
              "ticks": ""
             }
            },
            "type": "scatterternary"
           }
          ],
          "surface": [
           {
            "colorbar": {
             "outlinewidth": 0,
             "ticks": ""
            },
            "colorscale": [
             [
              0,
              "#0d0887"
             ],
             [
              0.1111111111111111,
              "#46039f"
             ],
             [
              0.2222222222222222,
              "#7201a8"
             ],
             [
              0.3333333333333333,
              "#9c179e"
             ],
             [
              0.4444444444444444,
              "#bd3786"
             ],
             [
              0.5555555555555556,
              "#d8576b"
             ],
             [
              0.6666666666666666,
              "#ed7953"
             ],
             [
              0.7777777777777778,
              "#fb9f3a"
             ],
             [
              0.8888888888888888,
              "#fdca26"
             ],
             [
              1,
              "#f0f921"
             ]
            ],
            "type": "surface"
           }
          ],
          "table": [
           {
            "cells": {
             "fill": {
              "color": "#EBF0F8"
             },
             "line": {
              "color": "white"
             }
            },
            "header": {
             "fill": {
              "color": "#C8D4E3"
             },
             "line": {
              "color": "white"
             }
            },
            "type": "table"
           }
          ]
         },
         "layout": {
          "annotationdefaults": {
           "arrowcolor": "#2a3f5f",
           "arrowhead": 0,
           "arrowwidth": 1
          },
          "autotypenumbers": "strict",
          "coloraxis": {
           "colorbar": {
            "outlinewidth": 0,
            "ticks": ""
           }
          },
          "colorscale": {
           "diverging": [
            [
             0,
             "#8e0152"
            ],
            [
             0.1,
             "#c51b7d"
            ],
            [
             0.2,
             "#de77ae"
            ],
            [
             0.3,
             "#f1b6da"
            ],
            [
             0.4,
             "#fde0ef"
            ],
            [
             0.5,
             "#f7f7f7"
            ],
            [
             0.6,
             "#e6f5d0"
            ],
            [
             0.7,
             "#b8e186"
            ],
            [
             0.8,
             "#7fbc41"
            ],
            [
             0.9,
             "#4d9221"
            ],
            [
             1,
             "#276419"
            ]
           ],
           "sequential": [
            [
             0,
             "#0d0887"
            ],
            [
             0.1111111111111111,
             "#46039f"
            ],
            [
             0.2222222222222222,
             "#7201a8"
            ],
            [
             0.3333333333333333,
             "#9c179e"
            ],
            [
             0.4444444444444444,
             "#bd3786"
            ],
            [
             0.5555555555555556,
             "#d8576b"
            ],
            [
             0.6666666666666666,
             "#ed7953"
            ],
            [
             0.7777777777777778,
             "#fb9f3a"
            ],
            [
             0.8888888888888888,
             "#fdca26"
            ],
            [
             1,
             "#f0f921"
            ]
           ],
           "sequentialminus": [
            [
             0,
             "#0d0887"
            ],
            [
             0.1111111111111111,
             "#46039f"
            ],
            [
             0.2222222222222222,
             "#7201a8"
            ],
            [
             0.3333333333333333,
             "#9c179e"
            ],
            [
             0.4444444444444444,
             "#bd3786"
            ],
            [
             0.5555555555555556,
             "#d8576b"
            ],
            [
             0.6666666666666666,
             "#ed7953"
            ],
            [
             0.7777777777777778,
             "#fb9f3a"
            ],
            [
             0.8888888888888888,
             "#fdca26"
            ],
            [
             1,
             "#f0f921"
            ]
           ]
          },
          "colorway": [
           "#636efa",
           "#EF553B",
           "#00cc96",
           "#ab63fa",
           "#FFA15A",
           "#19d3f3",
           "#FF6692",
           "#B6E880",
           "#FF97FF",
           "#FECB52"
          ],
          "font": {
           "color": "#2a3f5f"
          },
          "geo": {
           "bgcolor": "white",
           "lakecolor": "white",
           "landcolor": "#E5ECF6",
           "showlakes": true,
           "showland": true,
           "subunitcolor": "white"
          },
          "hoverlabel": {
           "align": "left"
          },
          "hovermode": "closest",
          "mapbox": {
           "style": "light"
          },
          "paper_bgcolor": "white",
          "plot_bgcolor": "#E5ECF6",
          "polar": {
           "angularaxis": {
            "gridcolor": "white",
            "linecolor": "white",
            "ticks": ""
           },
           "bgcolor": "#E5ECF6",
           "radialaxis": {
            "gridcolor": "white",
            "linecolor": "white",
            "ticks": ""
           }
          },
          "scene": {
           "xaxis": {
            "backgroundcolor": "#E5ECF6",
            "gridcolor": "white",
            "gridwidth": 2,
            "linecolor": "white",
            "showbackground": true,
            "ticks": "",
            "zerolinecolor": "white"
           },
           "yaxis": {
            "backgroundcolor": "#E5ECF6",
            "gridcolor": "white",
            "gridwidth": 2,
            "linecolor": "white",
            "showbackground": true,
            "ticks": "",
            "zerolinecolor": "white"
           },
           "zaxis": {
            "backgroundcolor": "#E5ECF6",
            "gridcolor": "white",
            "gridwidth": 2,
            "linecolor": "white",
            "showbackground": true,
            "ticks": "",
            "zerolinecolor": "white"
           }
          },
          "shapedefaults": {
           "line": {
            "color": "#2a3f5f"
           }
          },
          "ternary": {
           "aaxis": {
            "gridcolor": "white",
            "linecolor": "white",
            "ticks": ""
           },
           "baxis": {
            "gridcolor": "white",
            "linecolor": "white",
            "ticks": ""
           },
           "bgcolor": "#E5ECF6",
           "caxis": {
            "gridcolor": "white",
            "linecolor": "white",
            "ticks": ""
           }
          },
          "title": {
           "x": 0.05
          },
          "xaxis": {
           "automargin": true,
           "gridcolor": "white",
           "linecolor": "white",
           "ticks": "",
           "title": {
            "standoff": 15
           },
           "zerolinecolor": "white",
           "zerolinewidth": 2
          },
          "yaxis": {
           "automargin": true,
           "gridcolor": "white",
           "linecolor": "white",
           "ticks": "",
           "title": {
            "standoff": 15
           },
           "zerolinecolor": "white",
           "zerolinewidth": 2
          }
         }
        }
       }
      }
     },
     "metadata": {}
    }
   ],
   "source": [
    "fig = px.scatter_geo(places1, geojson=geojson_data, hover_name=places1.index)\n",
    "fig.update_geos(projection_type=\"equirectangular\")\n",
    "fig.update_layout(margin={\"r\":0,\"t\":0,\"l\":0,\"b\":0})\n",
    "fig.show()"
   ]
  },
  {
   "cell_type": "code",
   "execution_count": 4,
   "metadata": {},
   "outputs": [],
   "source": [
    "## Clean text WordCloud\n",
    "conn = ps.connect(\n",
    "    database='traffictwt', user='postgres', password='root')\n",
    "cursor = conn.cursor()\n",
    "q = '''SELECT TWEET_ID, TWEET_TEXT FROM TWEETS ORDER BY TWEET_CREATED DESC '''\n",
    "cursor.execute(q)\n",
    "tweets = cursor.fetchall()\n",
    "cursor.close()\n",
    "conn.close()\n",
    "\n",
    "tweets = pd.DataFrame(tweets, columns=['id', 'text'])"
   ]
  },
  {
   "cell_type": "code",
   "execution_count": 35,
   "metadata": {},
   "outputs": [],
   "source": [
    "## Clean text WordCloud\n",
    "conn = ps.connect(\n",
    "    database='traffictwt', user='postgres', password='root')\n",
    "# cursor = conn.cursor()\n",
    "q = '''SELECT OSM_ID, NAME, ST_CENTROID(way) as geom FROM PLACES '''\n",
    "# cursor.execute(q)\n",
    "# places = cursor.fetchall()\n",
    "places = gpd.GeoDataFrame.from_postgis(q, conn, geom_col='geom')\n",
    "# cursor.close()\n",
    "# conn.close()\n",
    "# places = pd.DataFrame(places, columns=['id', 'name', 'geom'])"
   ]
  },
  {
   "cell_type": "code",
   "execution_count": 6,
   "metadata": {},
   "outputs": [],
   "source": [
    "conn = ps.connect(\n",
    "    database='traffictwt', user='postgres', password='root')\n",
    "q1 = '''SELECT GID, NOMBRE, GEOM FROM carreteras WHERE NOMBRE IS NOT NULL '''\n",
    "# cursor.execute(q)\n",
    "# places = cursor.fetchall()\n",
    "roads = gpd.GeoDataFrame.from_postgis(q1, conn, geom_col='geom')\n",
    "# cursor.close()\n",
    "# conn.close()\n",
    "# places = pd.DataFrame(places, columns=['id', 'name', 'geom'])"
   ]
  },
  {
   "cell_type": "code",
   "execution_count": 129,
   "metadata": {},
   "outputs": [
    {
     "output_type": "execute_result",
     "data": {
      "text/plain": [
       "         osm_id                                        name  \\\n",
       "0     894389296                                     Regalia   \n",
       "1     894389295                                   Ocean One   \n",
       "2     386063826                                     Altimar   \n",
       "3     225936319                 Manglares de Costa del Este   \n",
       "4     386063827                               Capital Plaza   \n",
       "...         ...                                         ...   \n",
       "6545  832326713            Parque Deportivo Panamá Pacífico   \n",
       "6546  832326703                         Iglesia d San Pablo   \n",
       "6547  832323725  Knightsbridge Schools International Panamá   \n",
       "6548  882602954              The Westin Playa Bonita Panama   \n",
       "6549  882602947                                 Casa Bonita   \n",
       "\n",
       "                                  geom  \n",
       "0     POINT (-8847060.342 1007036.434)  \n",
       "1     POINT (-8847154.981 1007003.745)  \n",
       "2     POINT (-8847109.176 1007031.106)  \n",
       "3     POINT (-8847114.534 1006835.334)  \n",
       "4     POINT (-8847241.152 1006971.846)  \n",
       "...                                ...  \n",
       "6545   POINT (-8860189.403 995545.163)  \n",
       "6546   POINT (-8860243.857 995373.158)  \n",
       "6547   POINT (-8859820.962 995435.334)  \n",
       "6548   POINT (-8858382.956 994619.619)  \n",
       "6549   POINT (-8858105.552 994698.658)  \n",
       "\n",
       "[6550 rows x 3 columns]"
      ],
      "text/html": "<div>\n<style scoped>\n    .dataframe tbody tr th:only-of-type {\n        vertical-align: middle;\n    }\n\n    .dataframe tbody tr th {\n        vertical-align: top;\n    }\n\n    .dataframe thead th {\n        text-align: right;\n    }\n</style>\n<table border=\"1\" class=\"dataframe\">\n  <thead>\n    <tr style=\"text-align: right;\">\n      <th></th>\n      <th>osm_id</th>\n      <th>name</th>\n      <th>geom</th>\n    </tr>\n  </thead>\n  <tbody>\n    <tr>\n      <th>0</th>\n      <td>894389296</td>\n      <td>Regalia</td>\n      <td>POINT (-8847060.342 1007036.434)</td>\n    </tr>\n    <tr>\n      <th>1</th>\n      <td>894389295</td>\n      <td>Ocean One</td>\n      <td>POINT (-8847154.981 1007003.745)</td>\n    </tr>\n    <tr>\n      <th>2</th>\n      <td>386063826</td>\n      <td>Altimar</td>\n      <td>POINT (-8847109.176 1007031.106)</td>\n    </tr>\n    <tr>\n      <th>3</th>\n      <td>225936319</td>\n      <td>Manglares de Costa del Este</td>\n      <td>POINT (-8847114.534 1006835.334)</td>\n    </tr>\n    <tr>\n      <th>4</th>\n      <td>386063827</td>\n      <td>Capital Plaza</td>\n      <td>POINT (-8847241.152 1006971.846)</td>\n    </tr>\n    <tr>\n      <th>...</th>\n      <td>...</td>\n      <td>...</td>\n      <td>...</td>\n    </tr>\n    <tr>\n      <th>6545</th>\n      <td>832326713</td>\n      <td>Parque Deportivo Panamá Pacífico</td>\n      <td>POINT (-8860189.403 995545.163)</td>\n    </tr>\n    <tr>\n      <th>6546</th>\n      <td>832326703</td>\n      <td>Iglesia d San Pablo</td>\n      <td>POINT (-8860243.857 995373.158)</td>\n    </tr>\n    <tr>\n      <th>6547</th>\n      <td>832323725</td>\n      <td>Knightsbridge Schools International Panamá</td>\n      <td>POINT (-8859820.962 995435.334)</td>\n    </tr>\n    <tr>\n      <th>6548</th>\n      <td>882602954</td>\n      <td>The Westin Playa Bonita Panama</td>\n      <td>POINT (-8858382.956 994619.619)</td>\n    </tr>\n    <tr>\n      <th>6549</th>\n      <td>882602947</td>\n      <td>Casa Bonita</td>\n      <td>POINT (-8858105.552 994698.658)</td>\n    </tr>\n  </tbody>\n</table>\n<p>6550 rows × 3 columns</p>\n</div>"
     },
     "metadata": {},
     "execution_count": 129
    }
   ],
   "source": []
  },
  {
   "cell_type": "code",
   "execution_count": 117,
   "metadata": {},
   "outputs": [],
   "source": [
    "places1.loc[:, 'x'] = places1.apply(lambda row: getPointCoords(row, 'geom', 'x'), axis=1)\n",
    "places1.loc[:, 'y'] = places1.apply(lambda row: getPointCoords(row, 'geom', 'y'), axis=1)"
   ]
  },
  {
   "cell_type": "code",
   "execution_count": 65,
   "metadata": {},
   "outputs": [],
   "source": [
    "def getPointCoords(row, geom, coord_type):\n",
    "    \"\"\"Calculates coordinates ('x' or 'y') of a Point geometry\"\"\"\n",
    "    if coord_type == 'x':\n",
    "        return row[geom].x\n",
    "    elif coord_type == 'y':\n",
    "        return row[geom].y"
   ]
  },
  {
   "source": [],
   "cell_type": "markdown",
   "metadata": {}
  },
  {
   "cell_type": "code",
   "execution_count": null,
   "metadata": {},
   "outputs": [],
   "source": [
    "places = places[places.name.str.len()>5]"
   ]
  },
  {
   "cell_type": "code",
   "execution_count": null,
   "metadata": {},
   "outputs": [],
   "source": [
    "extract = Preprocessing.clean_text(tweets, 'text')\n",
    "# tweets.clean.str.findall('([A-Z]\\S+)')\n",
    "# re.findall('([A-Z]\\S+)', tweets)\n",
    "extract['possible_place'] = extract.clean.str.findall('([A-Z]\\S+)')"
   ]
  },
  {
   "cell_type": "code",
   "execution_count": null,
   "metadata": {},
   "outputs": [],
   "source": [
    "extract = extract[extract.clean.str.contains('accident.*|cho[qc].*|colision.*|vuelco|volcó|vuelca|atropell.*|tran[qc].*|embotella.*|trafico|huelga|protest.*|trabajo.*|cierr.*|detenid.*|obstacul.*|incendi.*|inunda.*|lluvia')]\n",
    "extract = extract[extract.clean.str.len()>30]\n",
    "extract = extract[extract.possible_place.notnull()]"
   ]
  },
  {
   "cell_type": "code",
   "execution_count": null,
   "metadata": {},
   "outputs": [],
   "source": [
    "test = 'tranque pesado en la Via Brasil hacia el interior'\n",
    "matches1 = [fuzz.token_sort_ratio(place, test) for place in places.name]\n",
    "# sum(matches1)\n",
    "matches2 = [fuzz.token_set_ratio(place, test) for place in places.name]\n",
    "# max(matches2)"
   ]
  },
  {
   "cell_type": "code",
   "execution_count": null,
   "metadata": {},
   "outputs": [],
   "source": [
    "process.extract(test, places, scorer=fuzz.token_set_ratio)"
   ]
  },
  {
   "cell_type": "code",
   "execution_count": null,
   "metadata": {},
   "outputs": [],
   "source": [
    "extract['contains'] = extract['clean'].apply(lambda x: np.array([]))\n",
    "# extract['contains'] = extract['contains'].astype(object)\n",
    "extract['possible'] = extract['clean'].apply(lambda x: np.array([]))\n",
    "# extract['possible'] = extract['possible'].astype(object)"
   ]
  },
  {
   "cell_type": "code",
   "execution_count": null,
   "metadata": {},
   "outputs": [],
   "source": [
    "extract.drop(columns=['contains', 'possible'], inplace=True)"
   ]
  },
  {
   "cell_type": "code",
   "execution_count": null,
   "metadata": {},
   "outputs": [],
   "source": [
    "extract2 = extract.copy()"
   ]
  },
  {
   "cell_type": "code",
   "execution_count": null,
   "metadata": {},
   "outputs": [],
   "source": [
    "def get_road(text, roads):\n",
    "    choice = process.extractOne(text, roads.nombre, scorer=fuzz.token_set_ratio)\n",
    "    if choice[1]>=80:\n",
    "        # Returns the gid\n",
    "        return str(roads.iloc[roads.index==choice[2], 0].iloc[0])\n",
    "    else: return ''"
   ]
  },
  {
   "cell_type": "code",
   "execution_count": null,
   "metadata": {},
   "outputs": [],
   "source": [
    "def get_place(text, places):\n",
    "    choice = process.extractOne(text, places.name, scorer=fuzz.token_set_ratio)\n",
    "    if choice[1]>=80:\n",
    "        # Returns the osm_id\n",
    "        return str(places.iloc[places.index==choice[2], 0].iloc[0])\n",
    "    else: return ''"
   ]
  },
  {
   "cell_type": "code",
   "execution_count": null,
   "metadata": {},
   "outputs": [],
   "source": [
    "places.head(1)"
   ]
  },
  {
   "cell_type": "code",
   "execution_count": null,
   "metadata": {},
   "outputs": [],
   "source": [
    "extract2 = extract[100:500]"
   ]
  },
  {
   "cell_type": "code",
   "execution_count": null,
   "metadata": {},
   "outputs": [],
   "source": [
    "extract2.loc[:, 'road'] = extract2.apply(lambda row: get_road(row.clean, roads), axis=1)"
   ]
  },
  {
   "cell_type": "code",
   "execution_count": null,
   "metadata": {},
   "outputs": [],
   "source": [
    "extract2.loc[:, 'place'] = extract2.apply(lambda row: get_place(row.clean, places), axis=1)"
   ]
  },
  {
   "cell_type": "code",
   "execution_count": null,
   "metadata": {},
   "outputs": [],
   "source": [
    "conn = ps.connect(\n",
    "    database='traffictwt', user='postgres', password='root')\n",
    "cursor = conn.cursor()\n",
    "ins = '''INSERT INTO TWEETS_PLACES(TWEET_ID, ROAD_GID, PLACE_ID)\n",
    "    VALUES (%s, %s, %s) '''\n",
    "for index, row in extract2.iterrows():\n",
    "    cursor.execute(ins, \n",
    "        (row['id'], None if row['road']=='' else row['road'], \n",
    "            None if row['place']=='' else row['place']))\n",
    "    conn.commit()\n",
    "cursor.close()\n",
    "conn.close()"
   ]
  },
  {
   "cell_type": "code",
   "execution_count": null,
   "metadata": {},
   "outputs": [],
   "source": [
    "extract2"
   ]
  },
  {
   "source": [],
   "cell_type": "markdown",
   "metadata": {}
  },
  {
   "cell_type": "code",
   "execution_count": null,
   "metadata": {},
   "outputs": [],
   "source": [
    "extract1 = extract.copy()"
   ]
  },
  {
   "cell_type": "code",
   "execution_count": null,
   "metadata": {},
   "outputs": [],
   "source": [
    "for index, tweet in extract[:100].iterrows():\n",
    "    intweet = []; possible = []\n",
    "    for index_place, place in places.iterrows():\n",
    "        if len(place['name'])>5:\n",
    "            if place['name'] in tweet['clean']:\n",
    "                intweet.append(place['osm_id'])\n",
    "                # extract.iloc[index, 'contains'] = extract.iloc[index, 'contains'].append\n",
    "            elif (fuzz.token_set_ratio(place['name'], tweet['clean'])==100 and fuzz.token_sort_ratio(place['name'], tweet['clean'])>50) or (fuzz.token_set_ratio(place['name'], tweet['clean'])>90):\n",
    "                possible.append(place['osm_id'])\n",
    "                # print('\\n', tweet, ' - possible - ', place)\n",
    "            #     if fuzz.token_sort_ratio(place, tweet)>50:\n",
    "            #         possible.append(place.name)\n",
    "            #         # print('\\n\\t', tweet, ' - possible %i - ' % fuzz.token_sort_ratio(place, tweet), place)\n",
    "            # elif fuzz.token_set_ratio(place, tweet)>90:\n",
    "            #     possible.append(place.name)\n",
    "                # print('\\n', tweet, '  - similar %i to -  ' % fuzz.token_set_ratio(place, tweet), place)\n",
    "    if len(intweet)>0:\n",
    "        extract.iloc[index, 4] = np.array(intweet)\n",
    "    if len(possible)>0:\n",
    "        extract.iloc[index, 5] = np.array(possible)"
   ]
  },
  {
   "cell_type": "code",
   "execution_count": null,
   "metadata": {},
   "outputs": [],
   "source": [
    "extract[extract.possible>0]"
   ]
  }
 ]
}