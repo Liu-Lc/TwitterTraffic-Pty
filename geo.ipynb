{
 "metadata": {
  "language_info": {
   "codemirror_mode": {
    "name": "ipython",
    "version": 3
   },
   "file_extension": ".py",
   "mimetype": "text/x-python",
   "name": "python",
   "nbconvert_exporter": "python",
   "pygments_lexer": "ipython3",
   "version": "3.8.0"
  },
  "orig_nbformat": 2,
  "kernelspec": {
   "name": "python380jvsc74a57bd039897e887fdcf105827cc0646dea5514e7d787d0b8d213f1a5227514ffbfb4c6",
   "display_name": "Python 3.8.0 64-bit"
  },
  "metadata": {
   "interpreter": {
    "hash": "39897e887fdcf105827cc0646dea5514e7d787d0b8d213f1a5227514ffbfb4c6"
   }
  }
 },
 "nbformat": 4,
 "nbformat_minor": 2,
 "cells": [
  {
   "cell_type": "code",
   "execution_count": 1,
   "metadata": {},
   "outputs": [
    {
     "output_type": "stream",
     "name": "stderr",
     "text": [
      "C:\\Users\\lucia\\AppData\\Local\\Programs\\Python\\Python38\\lib\\site-packages\\fuzzywuzzy\\fuzz.py:11: UserWarning: Using slow pure-python SequenceMatcher. Install python-Levenshtein to remove this warning\n  warnings.warn('Using slow pure-python SequenceMatcher. Install python-Levenshtein to remove this warning')\n"
     ]
    }
   ],
   "source": [
    "import psycopg2 as ps\n",
    "from wordcloud import WordCloud\n",
    "import  matplotlib.pyplot as plt \n",
    "import seaborn as sns\n",
    "import plotly.graph_objects as go\n",
    "import plotly.express as px\n",
    "\n",
    "import re, sys\n",
    "import numpy as np\n",
    "\n",
    "sys.path.append('./TweetData')\n",
    "from TweetData import keys, Preprocessing\n",
    "\n",
    "import pandas as pd\n",
    "import json\n",
    "from collections import Counter\n",
    "from fuzzywuzzy import fuzz, process\n",
    "\n",
    "import geopandas as gpd"
   ]
  },
  {
   "cell_type": "code",
   "execution_count": 5,
   "metadata": {},
   "outputs": [],
   "source": [
    "places1 = places.copy()\n",
    "places1.geom = places1.geom.to_crs(epsg=4326)"
   ]
  },
  {
   "cell_type": "code",
   "execution_count": 64,
   "metadata": {},
   "outputs": [],
   "source": [
    "def generate_scatter(df, geom, info):\n",
    "    fig = go.Figure(\n",
    "        go.Scattermapbox(\n",
    "            lat=df[geom].y, lon=df[geom].x,\n",
    "            marker=go.scattermapbox.Marker(\n",
    "                size=10,\n",
    "                color='red',\n",
    "                opacity=0.7\n",
    "            ),\n",
    "            text=df[info],\n",
    "            hoverinfo=['text']\n",
    "        )\n",
    "    )\n",
    "    fig.update_geos(\n",
    "        resolution=110,\n",
    "    )\n",
    "    fig.update_layout(margin={\"r\":0,\"t\":50,\"l\":0,\"b\":0},\n",
    "        mapbox_style=\"open-street-map\", mapbox_zoom=11,\n",
    "        mapbox_layers={'type':'fill','opacity':0.8},\n",
    "        mapbox_center={'lat':8.99, 'lon':-79.5359},\n",
    "        title='Mapa de lugares',\n",
    "        hoverlabel=dict(\n",
    "            bgcolor=\"white\",\n",
    "            font_size=12,\n",
    "        )\n",
    "    )\n",
    "    return fig"
   ]
  },
  {
   "cell_type": "code",
   "execution_count": 65,
   "metadata": {},
   "outputs": [
    {
     "output_type": "error",
     "ename": "ValueError",
     "evalue": "\n    Invalid value of type 'builtins.dict' received for the 'layers' property of layout.mapbox\n        Received value: {'type': 'fill', 'opacity': 0.8}\n\n    The 'layers' property is a tuple of instances of\n    Layer that may be specified as:\n      - A list or tuple of instances of plotly.graph_objs.layout.mapbox.Layer\n      - A list or tuple of dicts of string/value properties that\n        will be passed to the Layer constructor\n\n        Supported dict properties:\n            \n            below\n                Determines if the layer will be inserted before\n                the layer with the specified ID. If omitted or\n                set to '', the layer will be inserted above\n                every existing layer.\n            circle\n                :class:`plotly.graph_objects.layout.mapbox.laye\n                r.Circle` instance or dict with compatible\n                properties\n            color\n                Sets the primary layer color. If `type` is\n                \"circle\", color corresponds to the circle color\n                (mapbox.layer.paint.circle-color) If `type` is\n                \"line\", color corresponds to the line color\n                (mapbox.layer.paint.line-color) If `type` is\n                \"fill\", color corresponds to the fill color\n                (mapbox.layer.paint.fill-color) If `type` is\n                \"symbol\", color corresponds to the icon color\n                (mapbox.layer.paint.icon-color)\n            coordinates\n                Sets the coordinates array contains [longitude,\n                latitude] pairs for the image corners listed in\n                clockwise order: top left, top right, bottom\n                right, bottom left. Only has an effect for\n                \"image\" `sourcetype`.\n            fill\n                :class:`plotly.graph_objects.layout.mapbox.laye\n                r.Fill` instance or dict with compatible\n                properties\n            line\n                :class:`plotly.graph_objects.layout.mapbox.laye\n                r.Line` instance or dict with compatible\n                properties\n            maxzoom\n                Sets the maximum zoom level\n                (mapbox.layer.maxzoom). At zoom levels equal to\n                or greater than the maxzoom, the layer will be\n                hidden.\n            minzoom\n                Sets the minimum zoom level\n                (mapbox.layer.minzoom). At zoom levels less\n                than the minzoom, the layer will be hidden.\n            name\n                When used in a template, named items are\n                created in the output figure in addition to any\n                items the figure already has in this array. You\n                can modify these items in the output figure by\n                making your own item with `templateitemname`\n                matching this `name` alongside your\n                modifications (including `visible: false` or\n                `enabled: false` to hide it). Has no effect\n                outside of a template.\n            opacity\n                Sets the opacity of the layer. If `type` is\n                \"circle\", opacity corresponds to the circle\n                opacity (mapbox.layer.paint.circle-opacity) If\n                `type` is \"line\", opacity corresponds to the\n                line opacity (mapbox.layer.paint.line-opacity)\n                If `type` is \"fill\", opacity corresponds to the\n                fill opacity (mapbox.layer.paint.fill-opacity)\n                If `type` is \"symbol\", opacity corresponds to\n                the icon/text opacity (mapbox.layer.paint.text-\n                opacity)\n            source\n                Sets the source data for this layer\n                (mapbox.layer.source). When `sourcetype` is set\n                to \"geojson\", `source` can be a URL to a\n                GeoJSON or a GeoJSON object. When `sourcetype`\n                is set to \"vector\" or \"raster\", `source` can be\n                a URL or an array of tile URLs. When\n                `sourcetype` is set to \"image\", `source` can be\n                a URL to an image.\n            sourceattribution\n                Sets the attribution for this source.\n            sourcelayer\n                Specifies the layer to use from a vector tile\n                source (mapbox.layer.source-layer). Required\n                for \"vector\" source type that supports multiple\n                layers.\n            sourcetype\n                Sets the source type for this layer, that is\n                the type of the layer data.\n            symbol\n                :class:`plotly.graph_objects.layout.mapbox.laye\n                r.Symbol` instance or dict with compatible\n                properties\n            templateitemname\n                Used to refer to a named item in this array in\n                the template. Named items from the template\n                will be created even without a matching item in\n                the input figure, but you can modify one by\n                making an item with `templateitemname` matching\n                its `name`, alongside your modifications\n                (including `visible: false` or `enabled: false`\n                to hide it). If there is no template or no\n                matching item, this item will be hidden unless\n                you explicitly show it with `visible: true`.\n            type\n                Sets the layer type, that is the how the layer\n                data set in `source` will be rendered With\n                `sourcetype` set to \"geojson\", the following\n                values are allowed: \"circle\", \"line\", \"fill\"\n                and \"symbol\". but note that \"line\" and \"fill\"\n                are not compatible with Point GeoJSON\n                geometries. With `sourcetype` set to \"vector\",\n                the following values are allowed:  \"circle\",\n                \"line\", \"fill\" and \"symbol\". With `sourcetype`\n                set to \"raster\" or `*image*`, only the \"raster\"\n                value is allowed.\n            visible\n                Determines whether this layer is displayed\n",
     "traceback": [
      "\u001b[1;31m---------------------------------------------------------------------------\u001b[0m",
      "\u001b[1;31mValueError\u001b[0m                                Traceback (most recent call last)",
      "\u001b[1;32m<ipython-input-65-6a9ca48e2d92>\u001b[0m in \u001b[0;36m<module>\u001b[1;34m\u001b[0m\n\u001b[1;32m----> 1\u001b[1;33m \u001b[0mgenerate_scatter\u001b[0m\u001b[1;33m(\u001b[0m\u001b[0mplaces1\u001b[0m\u001b[1;33m,\u001b[0m \u001b[1;34m'geom'\u001b[0m\u001b[1;33m,\u001b[0m \u001b[1;34m'name'\u001b[0m\u001b[1;33m)\u001b[0m\u001b[1;33m.\u001b[0m\u001b[0mshow\u001b[0m\u001b[1;33m(\u001b[0m\u001b[1;33m)\u001b[0m\u001b[1;33m\u001b[0m\u001b[1;33m\u001b[0m\u001b[0m\n\u001b[0m",
      "\u001b[1;32m<ipython-input-64-5ea63c632e25>\u001b[0m in \u001b[0;36mgenerate_scatter\u001b[1;34m(df, geom, info)\u001b[0m\n\u001b[0;32m     15\u001b[0m         \u001b[0mresolution\u001b[0m\u001b[1;33m=\u001b[0m\u001b[1;36m110\u001b[0m\u001b[1;33m,\u001b[0m\u001b[1;33m\u001b[0m\u001b[1;33m\u001b[0m\u001b[0m\n\u001b[0;32m     16\u001b[0m     )\n\u001b[1;32m---> 17\u001b[1;33m     fig.update_layout(margin={\"r\":0,\"t\":50,\"l\":0,\"b\":0},\n\u001b[0m\u001b[0;32m     18\u001b[0m         \u001b[0mmapbox_style\u001b[0m\u001b[1;33m=\u001b[0m\u001b[1;34m\"open-street-map\"\u001b[0m\u001b[1;33m,\u001b[0m \u001b[0mmapbox_zoom\u001b[0m\u001b[1;33m=\u001b[0m\u001b[1;36m11\u001b[0m\u001b[1;33m,\u001b[0m\u001b[1;33m\u001b[0m\u001b[1;33m\u001b[0m\u001b[0m\n\u001b[0;32m     19\u001b[0m         \u001b[0mmapbox_layers\u001b[0m\u001b[1;33m=\u001b[0m\u001b[1;33m{\u001b[0m\u001b[1;34m'type'\u001b[0m\u001b[1;33m:\u001b[0m\u001b[1;34m'fill'\u001b[0m\u001b[1;33m,\u001b[0m\u001b[1;34m'opacity'\u001b[0m\u001b[1;33m:\u001b[0m\u001b[1;36m0.8\u001b[0m\u001b[1;33m}\u001b[0m\u001b[1;33m,\u001b[0m\u001b[1;33m\u001b[0m\u001b[1;33m\u001b[0m\u001b[0m\n",
      "\u001b[1;32m~\\AppData\\Local\\Programs\\Python\\Python38\\lib\\site-packages\\plotly\\basedatatypes.py\u001b[0m in \u001b[0;36mupdate_layout\u001b[1;34m(self, dict1, overwrite, **kwargs)\u001b[0m\n\u001b[0;32m   1401\u001b[0m             \u001b[0mThe\u001b[0m \u001b[0mFigure\u001b[0m \u001b[0mobject\u001b[0m \u001b[0mthat\u001b[0m \u001b[0mthe\u001b[0m \u001b[0mupdate_layout\u001b[0m \u001b[0mmethod\u001b[0m \u001b[0mwas\u001b[0m \u001b[0mcalled\u001b[0m \u001b[0mon\u001b[0m\u001b[1;33m\u001b[0m\u001b[1;33m\u001b[0m\u001b[0m\n\u001b[0;32m   1402\u001b[0m         \"\"\"\n\u001b[1;32m-> 1403\u001b[1;33m         \u001b[0mself\u001b[0m\u001b[1;33m.\u001b[0m\u001b[0mlayout\u001b[0m\u001b[1;33m.\u001b[0m\u001b[0mupdate\u001b[0m\u001b[1;33m(\u001b[0m\u001b[0mdict1\u001b[0m\u001b[1;33m,\u001b[0m \u001b[0moverwrite\u001b[0m\u001b[1;33m=\u001b[0m\u001b[0moverwrite\u001b[0m\u001b[1;33m,\u001b[0m \u001b[1;33m**\u001b[0m\u001b[0mkwargs\u001b[0m\u001b[1;33m)\u001b[0m\u001b[1;33m\u001b[0m\u001b[1;33m\u001b[0m\u001b[0m\n\u001b[0m\u001b[0;32m   1404\u001b[0m         \u001b[1;32mreturn\u001b[0m \u001b[0mself\u001b[0m\u001b[1;33m\u001b[0m\u001b[1;33m\u001b[0m\u001b[0m\n\u001b[0;32m   1405\u001b[0m \u001b[1;33m\u001b[0m\u001b[0m\n",
      "\u001b[1;32m~\\AppData\\Local\\Programs\\Python\\Python38\\lib\\site-packages\\plotly\\basedatatypes.py\u001b[0m in \u001b[0;36mupdate\u001b[1;34m(self, dict1, overwrite, **kwargs)\u001b[0m\n\u001b[0;32m   5065\u001b[0m             \u001b[1;32mwith\u001b[0m \u001b[0mself\u001b[0m\u001b[1;33m.\u001b[0m\u001b[0mfigure\u001b[0m\u001b[1;33m.\u001b[0m\u001b[0mbatch_update\u001b[0m\u001b[1;33m(\u001b[0m\u001b[1;33m)\u001b[0m\u001b[1;33m:\u001b[0m\u001b[1;33m\u001b[0m\u001b[1;33m\u001b[0m\u001b[0m\n\u001b[0;32m   5066\u001b[0m                 \u001b[0mBaseFigure\u001b[0m\u001b[1;33m.\u001b[0m\u001b[0m_perform_update\u001b[0m\u001b[1;33m(\u001b[0m\u001b[0mself\u001b[0m\u001b[1;33m,\u001b[0m \u001b[0mdict1\u001b[0m\u001b[1;33m,\u001b[0m \u001b[0moverwrite\u001b[0m\u001b[1;33m=\u001b[0m\u001b[0moverwrite\u001b[0m\u001b[1;33m)\u001b[0m\u001b[1;33m\u001b[0m\u001b[1;33m\u001b[0m\u001b[0m\n\u001b[1;32m-> 5067\u001b[1;33m                 \u001b[0mBaseFigure\u001b[0m\u001b[1;33m.\u001b[0m\u001b[0m_perform_update\u001b[0m\u001b[1;33m(\u001b[0m\u001b[0mself\u001b[0m\u001b[1;33m,\u001b[0m \u001b[0mkwargs\u001b[0m\u001b[1;33m,\u001b[0m \u001b[0moverwrite\u001b[0m\u001b[1;33m=\u001b[0m\u001b[0moverwrite\u001b[0m\u001b[1;33m)\u001b[0m\u001b[1;33m\u001b[0m\u001b[1;33m\u001b[0m\u001b[0m\n\u001b[0m\u001b[0;32m   5068\u001b[0m         \u001b[1;32melse\u001b[0m\u001b[1;33m:\u001b[0m\u001b[1;33m\u001b[0m\u001b[1;33m\u001b[0m\u001b[0m\n\u001b[0;32m   5069\u001b[0m             \u001b[0mBaseFigure\u001b[0m\u001b[1;33m.\u001b[0m\u001b[0m_perform_update\u001b[0m\u001b[1;33m(\u001b[0m\u001b[0mself\u001b[0m\u001b[1;33m,\u001b[0m \u001b[0mdict1\u001b[0m\u001b[1;33m,\u001b[0m \u001b[0moverwrite\u001b[0m\u001b[1;33m=\u001b[0m\u001b[0moverwrite\u001b[0m\u001b[1;33m)\u001b[0m\u001b[1;33m\u001b[0m\u001b[1;33m\u001b[0m\u001b[0m\n",
      "\u001b[1;32m~\\AppData\\Local\\Programs\\Python\\Python38\\lib\\site-packages\\plotly\\basedatatypes.py\u001b[0m in \u001b[0;36m_perform_update\u001b[1;34m(plotly_obj, update_obj, overwrite)\u001b[0m\n\u001b[0;32m   3901\u001b[0m                         \u001b[1;31m# plotly_obj is an empty or uninitialized list for key\u001b[0m\u001b[1;33m\u001b[0m\u001b[1;33m\u001b[0m\u001b[1;33m\u001b[0m\u001b[0m\n\u001b[0;32m   3902\u001b[0m                         \u001b[1;31m# In this case we accept val as is\u001b[0m\u001b[1;33m\u001b[0m\u001b[1;33m\u001b[0m\u001b[1;33m\u001b[0m\u001b[0m\n\u001b[1;32m-> 3903\u001b[1;33m                         \u001b[0mplotly_obj\u001b[0m\u001b[1;33m[\u001b[0m\u001b[0mkey\u001b[0m\u001b[1;33m]\u001b[0m \u001b[1;33m=\u001b[0m \u001b[0mval\u001b[0m\u001b[1;33m\u001b[0m\u001b[1;33m\u001b[0m\u001b[0m\n\u001b[0m\u001b[0;32m   3904\u001b[0m                 \u001b[1;32melse\u001b[0m\u001b[1;33m:\u001b[0m\u001b[1;33m\u001b[0m\u001b[1;33m\u001b[0m\u001b[0m\n\u001b[0;32m   3905\u001b[0m                     \u001b[1;31m# Assign non-compound value\u001b[0m\u001b[1;33m\u001b[0m\u001b[1;33m\u001b[0m\u001b[1;33m\u001b[0m\u001b[0m\n",
      "\u001b[1;32m~\\AppData\\Local\\Programs\\Python\\Python38\\lib\\site-packages\\plotly\\basedatatypes.py\u001b[0m in \u001b[0;36m__setitem__\u001b[1;34m(self, prop, value)\u001b[0m\n\u001b[0;32m   5793\u001b[0m         \u001b[1;32mif\u001b[0m \u001b[0mlen\u001b[0m\u001b[1;33m(\u001b[0m\u001b[0mprop_tuple\u001b[0m\u001b[1;33m)\u001b[0m \u001b[1;33m!=\u001b[0m \u001b[1;36m1\u001b[0m \u001b[1;32mor\u001b[0m \u001b[1;32mnot\u001b[0m \u001b[0misinstance\u001b[0m\u001b[1;33m(\u001b[0m\u001b[0mprop_tuple\u001b[0m\u001b[1;33m[\u001b[0m\u001b[1;36m0\u001b[0m\u001b[1;33m]\u001b[0m\u001b[1;33m,\u001b[0m \u001b[0mstring_types\u001b[0m\u001b[1;33m)\u001b[0m\u001b[1;33m:\u001b[0m\u001b[1;33m\u001b[0m\u001b[1;33m\u001b[0m\u001b[0m\n\u001b[0;32m   5794\u001b[0m             \u001b[1;31m# Let parent handle non-scalar non-string cases\u001b[0m\u001b[1;33m\u001b[0m\u001b[1;33m\u001b[0m\u001b[1;33m\u001b[0m\u001b[0m\n\u001b[1;32m-> 5795\u001b[1;33m             \u001b[0msuper\u001b[0m\u001b[1;33m(\u001b[0m\u001b[0mBaseLayoutHierarchyType\u001b[0m\u001b[1;33m,\u001b[0m \u001b[0mself\u001b[0m\u001b[1;33m)\u001b[0m\u001b[1;33m.\u001b[0m\u001b[0m__setitem__\u001b[0m\u001b[1;33m(\u001b[0m\u001b[0mprop\u001b[0m\u001b[1;33m,\u001b[0m \u001b[0mvalue\u001b[0m\u001b[1;33m)\u001b[0m\u001b[1;33m\u001b[0m\u001b[1;33m\u001b[0m\u001b[0m\n\u001b[0m\u001b[0;32m   5796\u001b[0m             \u001b[1;32mreturn\u001b[0m\u001b[1;33m\u001b[0m\u001b[1;33m\u001b[0m\u001b[0m\n\u001b[0;32m   5797\u001b[0m         \u001b[1;32melse\u001b[0m\u001b[1;33m:\u001b[0m\u001b[1;33m\u001b[0m\u001b[1;33m\u001b[0m\u001b[0m\n",
      "\u001b[1;32m~\\AppData\\Local\\Programs\\Python\\Python38\\lib\\site-packages\\plotly\\basedatatypes.py\u001b[0m in \u001b[0;36m__setitem__\u001b[1;34m(self, prop, value)\u001b[0m\n\u001b[0;32m   4842\u001b[0m             \u001b[0mres\u001b[0m\u001b[1;33m.\u001b[0m\u001b[0m_validate\u001b[0m \u001b[1;33m=\u001b[0m \u001b[0mself\u001b[0m\u001b[1;33m.\u001b[0m\u001b[0m_validate\u001b[0m\u001b[1;33m\u001b[0m\u001b[1;33m\u001b[0m\u001b[0m\n\u001b[0;32m   4843\u001b[0m \u001b[1;33m\u001b[0m\u001b[0m\n\u001b[1;32m-> 4844\u001b[1;33m             \u001b[0mres\u001b[0m\u001b[1;33m[\u001b[0m\u001b[0mprop\u001b[0m\u001b[1;33m[\u001b[0m\u001b[1;33m-\u001b[0m\u001b[1;36m1\u001b[0m\u001b[1;33m]\u001b[0m\u001b[1;33m]\u001b[0m \u001b[1;33m=\u001b[0m \u001b[0mvalue\u001b[0m\u001b[1;33m\u001b[0m\u001b[1;33m\u001b[0m\u001b[0m\n\u001b[0m\u001b[0;32m   4845\u001b[0m \u001b[1;33m\u001b[0m\u001b[0m\n\u001b[0;32m   4846\u001b[0m     \u001b[1;32mdef\u001b[0m \u001b[0m__setattr__\u001b[0m\u001b[1;33m(\u001b[0m\u001b[0mself\u001b[0m\u001b[1;33m,\u001b[0m \u001b[0mprop\u001b[0m\u001b[1;33m,\u001b[0m \u001b[0mvalue\u001b[0m\u001b[1;33m)\u001b[0m\u001b[1;33m:\u001b[0m\u001b[1;33m\u001b[0m\u001b[1;33m\u001b[0m\u001b[0m\n",
      "\u001b[1;32m~\\AppData\\Local\\Programs\\Python\\Python38\\lib\\site-packages\\plotly\\basedatatypes.py\u001b[0m in \u001b[0;36m__setitem__\u001b[1;34m(self, prop, value)\u001b[0m\n\u001b[0;32m   4798\u001b[0m                 \u001b[1;31m# ### Handle compound array property ###\u001b[0m\u001b[1;33m\u001b[0m\u001b[1;33m\u001b[0m\u001b[1;33m\u001b[0m\u001b[0m\n\u001b[0;32m   4799\u001b[0m                 \u001b[1;32melif\u001b[0m \u001b[0misinstance\u001b[0m\u001b[1;33m(\u001b[0m\u001b[0mvalidator\u001b[0m\u001b[1;33m,\u001b[0m \u001b[1;33m(\u001b[0m\u001b[0mCompoundArrayValidator\u001b[0m\u001b[1;33m,\u001b[0m \u001b[0mBaseDataValidator\u001b[0m\u001b[1;33m)\u001b[0m\u001b[1;33m)\u001b[0m\u001b[1;33m:\u001b[0m\u001b[1;33m\u001b[0m\u001b[1;33m\u001b[0m\u001b[0m\n\u001b[1;32m-> 4800\u001b[1;33m                     \u001b[0mself\u001b[0m\u001b[1;33m.\u001b[0m\u001b[0m_set_array_prop\u001b[0m\u001b[1;33m(\u001b[0m\u001b[0mprop\u001b[0m\u001b[1;33m,\u001b[0m \u001b[0mvalue\u001b[0m\u001b[1;33m)\u001b[0m\u001b[1;33m\u001b[0m\u001b[1;33m\u001b[0m\u001b[0m\n\u001b[0m\u001b[0;32m   4801\u001b[0m \u001b[1;33m\u001b[0m\u001b[0m\n\u001b[0;32m   4802\u001b[0m                 \u001b[1;31m# ### Handle simple property ###\u001b[0m\u001b[1;33m\u001b[0m\u001b[1;33m\u001b[0m\u001b[1;33m\u001b[0m\u001b[0m\n",
      "\u001b[1;32m~\\AppData\\Local\\Programs\\Python\\Python38\\lib\\site-packages\\plotly\\basedatatypes.py\u001b[0m in \u001b[0;36m_set_array_prop\u001b[1;34m(self, prop, val)\u001b[0m\n\u001b[0;32m   5279\u001b[0m         \u001b[1;31m# ------------\u001b[0m\u001b[1;33m\u001b[0m\u001b[1;33m\u001b[0m\u001b[1;33m\u001b[0m\u001b[0m\n\u001b[0;32m   5280\u001b[0m         \u001b[0mvalidator\u001b[0m \u001b[1;33m=\u001b[0m \u001b[0mself\u001b[0m\u001b[1;33m.\u001b[0m\u001b[0m_get_validator\u001b[0m\u001b[1;33m(\u001b[0m\u001b[0mprop\u001b[0m\u001b[1;33m)\u001b[0m\u001b[1;33m\u001b[0m\u001b[1;33m\u001b[0m\u001b[0m\n\u001b[1;32m-> 5281\u001b[1;33m         \u001b[0mval\u001b[0m \u001b[1;33m=\u001b[0m \u001b[0mvalidator\u001b[0m\u001b[1;33m.\u001b[0m\u001b[0mvalidate_coerce\u001b[0m\u001b[1;33m(\u001b[0m\u001b[0mval\u001b[0m\u001b[1;33m,\u001b[0m \u001b[0mskip_invalid\u001b[0m\u001b[1;33m=\u001b[0m\u001b[0mself\u001b[0m\u001b[1;33m.\u001b[0m\u001b[0m_skip_invalid\u001b[0m\u001b[1;33m)\u001b[0m\u001b[1;33m\u001b[0m\u001b[1;33m\u001b[0m\u001b[0m\n\u001b[0m\u001b[0;32m   5282\u001b[0m \u001b[1;33m\u001b[0m\u001b[0m\n\u001b[0;32m   5283\u001b[0m         \u001b[1;31m# Save deep copies of current and new states\u001b[0m\u001b[1;33m\u001b[0m\u001b[1;33m\u001b[0m\u001b[1;33m\u001b[0m\u001b[0m\n",
      "\u001b[1;32m~\\AppData\\Local\\Programs\\Python\\Python38\\lib\\site-packages\\_plotly_utils\\basevalidators.py\u001b[0m in \u001b[0;36mvalidate_coerce\u001b[1;34m(self, v, skip_invalid)\u001b[0m\n\u001b[0;32m   2556\u001b[0m                 \u001b[0mv\u001b[0m \u001b[1;33m=\u001b[0m \u001b[1;33m[\u001b[0m\u001b[1;33m]\u001b[0m\u001b[1;33m\u001b[0m\u001b[1;33m\u001b[0m\u001b[0m\n\u001b[0;32m   2557\u001b[0m             \u001b[1;32melse\u001b[0m\u001b[1;33m:\u001b[0m\u001b[1;33m\u001b[0m\u001b[1;33m\u001b[0m\u001b[0m\n\u001b[1;32m-> 2558\u001b[1;33m                 \u001b[0mself\u001b[0m\u001b[1;33m.\u001b[0m\u001b[0mraise_invalid_val\u001b[0m\u001b[1;33m(\u001b[0m\u001b[0mv\u001b[0m\u001b[1;33m)\u001b[0m\u001b[1;33m\u001b[0m\u001b[1;33m\u001b[0m\u001b[0m\n\u001b[0m\u001b[0;32m   2559\u001b[0m \u001b[1;33m\u001b[0m\u001b[0m\n\u001b[0;32m   2560\u001b[0m         \u001b[1;32mreturn\u001b[0m \u001b[0mv\u001b[0m\u001b[1;33m\u001b[0m\u001b[1;33m\u001b[0m\u001b[0m\n",
      "\u001b[1;32m~\\AppData\\Local\\Programs\\Python\\Python38\\lib\\site-packages\\_plotly_utils\\basevalidators.py\u001b[0m in \u001b[0;36mraise_invalid_val\u001b[1;34m(self, v, inds)\u001b[0m\n\u001b[0;32m    275\u001b[0m                 \u001b[0mname\u001b[0m \u001b[1;33m+=\u001b[0m \u001b[1;34m\"[\"\u001b[0m \u001b[1;33m+\u001b[0m \u001b[0mstr\u001b[0m\u001b[1;33m(\u001b[0m\u001b[0mi\u001b[0m\u001b[1;33m)\u001b[0m \u001b[1;33m+\u001b[0m \u001b[1;34m\"]\"\u001b[0m\u001b[1;33m\u001b[0m\u001b[1;33m\u001b[0m\u001b[0m\n\u001b[0;32m    276\u001b[0m \u001b[1;33m\u001b[0m\u001b[0m\n\u001b[1;32m--> 277\u001b[1;33m         raise ValueError(\n\u001b[0m\u001b[0;32m    278\u001b[0m             \"\"\"\n\u001b[0;32m    279\u001b[0m     \u001b[0mInvalid\u001b[0m \u001b[0mvalue\u001b[0m \u001b[0mof\u001b[0m \u001b[0mtype\u001b[0m \u001b[1;33m{\u001b[0m\u001b[0mtyp\u001b[0m\u001b[1;33m}\u001b[0m \u001b[0mreceived\u001b[0m \u001b[1;32mfor\u001b[0m \u001b[0mthe\u001b[0m \u001b[1;34m'{name}'\u001b[0m \u001b[0mproperty\u001b[0m \u001b[0mof\u001b[0m \u001b[1;33m{\u001b[0m\u001b[0mpname\u001b[0m\u001b[1;33m}\u001b[0m\u001b[1;33m\u001b[0m\u001b[1;33m\u001b[0m\u001b[0m\n",
      "\u001b[1;31mValueError\u001b[0m: \n    Invalid value of type 'builtins.dict' received for the 'layers' property of layout.mapbox\n        Received value: {'type': 'fill', 'opacity': 0.8}\n\n    The 'layers' property is a tuple of instances of\n    Layer that may be specified as:\n      - A list or tuple of instances of plotly.graph_objs.layout.mapbox.Layer\n      - A list or tuple of dicts of string/value properties that\n        will be passed to the Layer constructor\n\n        Supported dict properties:\n            \n            below\n                Determines if the layer will be inserted before\n                the layer with the specified ID. If omitted or\n                set to '', the layer will be inserted above\n                every existing layer.\n            circle\n                :class:`plotly.graph_objects.layout.mapbox.laye\n                r.Circle` instance or dict with compatible\n                properties\n            color\n                Sets the primary layer color. If `type` is\n                \"circle\", color corresponds to the circle color\n                (mapbox.layer.paint.circle-color) If `type` is\n                \"line\", color corresponds to the line color\n                (mapbox.layer.paint.line-color) If `type` is\n                \"fill\", color corresponds to the fill color\n                (mapbox.layer.paint.fill-color) If `type` is\n                \"symbol\", color corresponds to the icon color\n                (mapbox.layer.paint.icon-color)\n            coordinates\n                Sets the coordinates array contains [longitude,\n                latitude] pairs for the image corners listed in\n                clockwise order: top left, top right, bottom\n                right, bottom left. Only has an effect for\n                \"image\" `sourcetype`.\n            fill\n                :class:`plotly.graph_objects.layout.mapbox.laye\n                r.Fill` instance or dict with compatible\n                properties\n            line\n                :class:`plotly.graph_objects.layout.mapbox.laye\n                r.Line` instance or dict with compatible\n                properties\n            maxzoom\n                Sets the maximum zoom level\n                (mapbox.layer.maxzoom). At zoom levels equal to\n                or greater than the maxzoom, the layer will be\n                hidden.\n            minzoom\n                Sets the minimum zoom level\n                (mapbox.layer.minzoom). At zoom levels less\n                than the minzoom, the layer will be hidden.\n            name\n                When used in a template, named items are\n                created in the output figure in addition to any\n                items the figure already has in this array. You\n                can modify these items in the output figure by\n                making your own item with `templateitemname`\n                matching this `name` alongside your\n                modifications (including `visible: false` or\n                `enabled: false` to hide it). Has no effect\n                outside of a template.\n            opacity\n                Sets the opacity of the layer. If `type` is\n                \"circle\", opacity corresponds to the circle\n                opacity (mapbox.layer.paint.circle-opacity) If\n                `type` is \"line\", opacity corresponds to the\n                line opacity (mapbox.layer.paint.line-opacity)\n                If `type` is \"fill\", opacity corresponds to the\n                fill opacity (mapbox.layer.paint.fill-opacity)\n                If `type` is \"symbol\", opacity corresponds to\n                the icon/text opacity (mapbox.layer.paint.text-\n                opacity)\n            source\n                Sets the source data for this layer\n                (mapbox.layer.source). When `sourcetype` is set\n                to \"geojson\", `source` can be a URL to a\n                GeoJSON or a GeoJSON object. When `sourcetype`\n                is set to \"vector\" or \"raster\", `source` can be\n                a URL or an array of tile URLs. When\n                `sourcetype` is set to \"image\", `source` can be\n                a URL to an image.\n            sourceattribution\n                Sets the attribution for this source.\n            sourcelayer\n                Specifies the layer to use from a vector tile\n                source (mapbox.layer.source-layer). Required\n                for \"vector\" source type that supports multiple\n                layers.\n            sourcetype\n                Sets the source type for this layer, that is\n                the type of the layer data.\n            symbol\n                :class:`plotly.graph_objects.layout.mapbox.laye\n                r.Symbol` instance or dict with compatible\n                properties\n            templateitemname\n                Used to refer to a named item in this array in\n                the template. Named items from the template\n                will be created even without a matching item in\n                the input figure, but you can modify one by\n                making an item with `templateitemname` matching\n                its `name`, alongside your modifications\n                (including `visible: false` or `enabled: false`\n                to hide it). If there is no template or no\n                matching item, this item will be hidden unless\n                you explicitly show it with `visible: true`.\n            type\n                Sets the layer type, that is the how the layer\n                data set in `source` will be rendered With\n                `sourcetype` set to \"geojson\", the following\n                values are allowed: \"circle\", \"line\", \"fill\"\n                and \"symbol\". but note that \"line\" and \"fill\"\n                are not compatible with Point GeoJSON\n                geometries. With `sourcetype` set to \"vector\",\n                the following values are allowed:  \"circle\",\n                \"line\", \"fill\" and \"symbol\". With `sourcetype`\n                set to \"raster\" or `*image*`, only the \"raster\"\n                value is allowed.\n            visible\n                Determines whether this layer is displayed\n"
     ]
    }
   ],
   "source": [
    "generate_scatter(places1, 'geom', 'name').show()"
   ]
  },
  {
   "cell_type": "code",
   "execution_count": 2,
   "metadata": {},
   "outputs": [],
   "source": [
    "conn = ps.connect(\n",
    "    database='traffictwt', user='postgres', password='root')\n",
    "cursor = conn.cursor()\n",
    "q = '''SELECT TWEET_ID, TWEET_TEXT FROM TWEETS ORDER BY TWEET_CREATED DESC '''\n",
    "cursor.execute(q)\n",
    "tweets = cursor.fetchall()\n",
    "cursor.close()\n",
    "conn.close()\n",
    "\n",
    "tweets = pd.DataFrame(tweets, columns=['id', 'text'])"
   ]
  },
  {
   "cell_type": "code",
   "execution_count": 3,
   "metadata": {},
   "outputs": [],
   "source": [
    "conn = ps.connect(\n",
    "    database='traffictwt', user='postgres', password='root')\n",
    "q = '''SELECT OSM_ID, NAME, ST_CENTROID(way) as geom FROM PLACES '''\n",
    "places = gpd.GeoDataFrame.from_postgis(q, conn, geom_col='geom')"
   ]
  },
  {
   "cell_type": "code",
   "execution_count": 4,
   "metadata": {},
   "outputs": [],
   "source": [
    "conn = ps.connect(\n",
    "    database='traffictwt', user='postgres', password='root')\n",
    "q1 = '''SELECT GID, NOMBRE, GEOM FROM carreteras WHERE NOMBRE IS NOT NULL '''\n",
    "roads = gpd.GeoDataFrame.from_postgis(q1, conn, geom_col='geom')"
   ]
  },
  {
   "source": [],
   "cell_type": "markdown",
   "metadata": {}
  },
  {
   "cell_type": "code",
   "execution_count": 47,
   "metadata": {},
   "outputs": [],
   "source": [
    "conn = ps.connect(\n",
    "    database='traffictwt', user='postgres', password='root')\n",
    "q1 = '''SELECT TP.TWEET_ID, T.TWEET_TEXT, TP.ROAD_GID, R.NOMBRE AS ROAD_NAME, ST_CENTROID(R.GEOM) AS ROAD_GEOM \n",
    "    FROM TWEETS_PLACES AS TP\n",
    "    INNER JOIN CARRETERAS AS R ON TP.ROAD_GID=R.GID INNER JOIN TWEETS AS T ON TP.TWEET_ID=T.TWEET_ID '''\n",
    "# TWEETS_PLACES(TWEET_ID, ROAD_GID, PLACE_ID)\n",
    "tweets_geo = gpd.GeoDataFrame.from_postgis(q1, conn, geom_col='road_geom')"
   ]
  },
  {
   "cell_type": "code",
   "execution_count": 58,
   "metadata": {},
   "outputs": [
    {
     "output_type": "display_data",
     "data": {
      "application/vnd.plotly.v1+json": {
       "config": {
        "plotlyServerURL": "https://plot.ly"
       },
       "data": [
        {
         "hoverinfo": [
          "text"
         ],
         "lat": [
          8.992119837643722,
          8.951161434369137,
          8.957834786500058,
          8.246657336696842,
          8.957834786500058,
          8.951161434369137,
          8.979848256704921,
          8.979848256704921,
          8.392518150882061,
          8.002376574837392,
          8.951161434369137,
          8.99963669793275,
          8.969801347057185,
          8.957834786500058,
          8.957834786500058,
          8.957834786500058,
          8.957834786500058,
          8.957834786500058,
          8.246657336696842,
          8.246657336696842,
          8.87005659796394,
          8.246657336696842,
          8.87005659796394,
          8.87005659796394,
          8.246657336696842,
          8.87005659796394,
          8.87005659796394,
          8.87005659796394,
          8.87005659796394,
          8.951161434369137,
          8.951161434369137,
          8.951161434369137,
          8.992119837643722,
          8.980059964578393,
          8.392518150882061,
          8.615192503244902,
          8.615192503244902,
          8.615192503244902,
          9.01295953301057,
          9.01295953301057,
          9.01295953301057,
          8.951161434369137,
          8.992119837643722,
          8.246657336696842,
          8.951161434369137,
          8.992119837643722,
          8.951161434369137,
          8.992119837643722,
          8.951161434369137,
          8.951161434369137,
          8.980059964578393,
          8.980059964578393,
          8.951161434369137,
          8.87005659796394,
          8.87005659796394,
          8.992119837643722,
          8.951161434369137,
          8.951161434369137,
          8.992119837643722,
          8.95157672557743,
          8.95157672557743,
          8.246657336696842,
          8.980059964578393,
          8.980059964578393,
          8.951161434369137,
          8.87005659796394,
          8.87005659796394,
          8.957834786500058,
          8.87005659796394,
          8.957834786500058,
          8.87005659796394,
          8.972214794374835,
          8.951161434369137,
          8.951161434369137,
          8.951161434369137,
          8.246657336696842,
          9.01295953301057,
          8.246657336696842,
          8.246657336696842,
          8.246657336696842,
          8.951161434369137,
          8.620536598192226,
          8.951161434369137,
          8.951161434369137,
          8.951161434369137,
          8.951161434369137,
          8.951161434369137,
          8.951161434369137,
          8.951161434369137,
          8.620536598192226,
          8.620536598192226,
          8.980059964578393,
          8.246657336696842,
          8.992119837643722,
          8.992119837643722,
          8.992119837643722,
          8.246657336696842,
          8.980059964578393,
          8.980059964578393,
          8.980059964578393,
          8.951161434369137,
          8.951161434369137,
          8.951161434369137,
          8.951161434369137,
          8.951161434369137,
          8.992119837643722,
          8.392518150882061,
          8.951161434369137,
          8.951161434369137,
          8.951161434369137,
          8.951161434369137,
          8.951161434369137,
          8.952522882478148,
          8.951161434369137,
          8.957834786500058,
          8.951161434369137,
          8.951161434369137,
          8.246657336696842,
          8.951161434369137,
          8.951161434369137,
          8.957834786500058,
          8.992119837643722,
          8.957834786500058,
          8.957834786500058,
          8.951161434369137,
          8.951161434369137,
          8.951161434369137,
          8.951161434369137,
          8.951161434369137,
          8.951161434369137,
          8.246657336696842,
          8.979848256704921,
          8.951161434369137,
          8.951161434369137,
          8.992119837643722,
          8.992119837643722,
          8.951161434369137,
          8.951161434369137,
          8.951161434369137,
          8.620536598192226,
          8.855270719146693,
          8.855270719146693,
          8.855270719146693,
          8.951161434369137,
          8.951161434369137,
          8.951161434369137,
          8.951161434369137,
          8.951161434369137,
          8.951161434369137,
          8.951161434369137,
          8.992119837643722,
          8.992119837643722,
          8.951161434369137,
          8.951161434369137,
          8.951161434369137,
          8.972214794374835
         ],
         "lon": [
          -79.53377601674912,
          -79.54602903520322,
          -79.53999223149995,
          -80.56366402782422,
          -79.53999223149995,
          -79.54602903520322,
          -79.51641084500916,
          -79.51641084500916,
          -82.42831931006818,
          -81.3121251361808,
          -79.54602903520322,
          -79.49702430545777,
          -79.53490888315528,
          -79.53999223149995,
          -79.53999223149995,
          -79.53999223149995,
          -79.53999223149995,
          -79.53999223149995,
          -80.56366402782422,
          -80.56366402782422,
          -79.76477747726642,
          -80.56366402782422,
          -79.76477747726642,
          -79.76477747726642,
          -80.56366402782422,
          -79.76477747726642,
          -79.76477747726642,
          -79.76477747726642,
          -79.76477747726642,
          -79.54602903520322,
          -79.54602903520322,
          -79.54602903520322,
          -79.53377601674912,
          -79.51670411787303,
          -82.42831931006818,
          -79.87729967762651,
          -79.87729967762651,
          -79.87729967762651,
          -79.5119919239149,
          -79.5119919239149,
          -79.5119919239149,
          -79.54602903520322,
          -79.53377601674912,
          -80.56366402782422,
          -79.54602903520322,
          -79.53377601674912,
          -79.54602903520322,
          -79.53377601674912,
          -79.54602903520322,
          -79.54602903520322,
          -79.51670411787303,
          -79.51670411787303,
          -79.54602903520322,
          -79.76477747726642,
          -79.76477747726642,
          -79.53377601674912,
          -79.54602903520322,
          -79.54602903520322,
          -79.53377601674912,
          -79.55273899725638,
          -79.55273899725638,
          -80.56366402782422,
          -79.51670411787303,
          -79.51670411787303,
          -79.54602903520322,
          -79.76477747726642,
          -79.76477747726642,
          -79.53999223149995,
          -79.76477747726642,
          -79.53999223149995,
          -79.76477747726642,
          -79.5503225295426,
          -79.54602903520322,
          -79.54602903520322,
          -79.54602903520322,
          -80.56366402782422,
          -79.5119919239149,
          -80.56366402782422,
          -80.56366402782422,
          -80.56366402782422,
          -79.54602903520322,
          -82.72346855627487,
          -79.54602903520322,
          -79.54602903520322,
          -79.54602903520322,
          -79.54602903520322,
          -79.54602903520322,
          -79.54602903520322,
          -79.54602903520322,
          -82.72346855627487,
          -82.72346855627487,
          -79.51670411787303,
          -80.56366402782422,
          -79.53377601674912,
          -79.53377601674912,
          -79.53377601674912,
          -80.56366402782422,
          -79.51670411787303,
          -79.51670411787303,
          -79.51670411787303,
          -79.54602903520322,
          -79.54602903520322,
          -79.54602903520322,
          -79.54602903520322,
          -79.54602903520322,
          -79.53377601674912,
          -82.42831931006818,
          -79.54602903520322,
          -79.54602903520322,
          -79.54602903520322,
          -79.54602903520322,
          -79.54602903520322,
          -79.53819710560946,
          -79.54602903520322,
          -79.53999223149995,
          -79.54602903520322,
          -79.54602903520322,
          -80.56366402782422,
          -79.54602903520322,
          -79.54602903520322,
          -79.53999223149995,
          -79.53377601674912,
          -79.53999223149995,
          -79.53999223149995,
          -79.54602903520322,
          -79.54602903520322,
          -79.54602903520322,
          -79.54602903520322,
          -79.54602903520322,
          -79.54602903520322,
          -80.56366402782422,
          -79.51641084500916,
          -79.54602903520322,
          -79.54602903520322,
          -79.53377601674912,
          -79.53377601674912,
          -79.54602903520322,
          -79.54602903520322,
          -79.54602903520322,
          -82.72346855627487,
          -79.78212700921357,
          -79.78212700921357,
          -79.78212700921357,
          -79.54602903520322,
          -79.54602903520322,
          -79.54602903520322,
          -79.54602903520322,
          -79.54602903520322,
          -79.54602903520322,
          -79.54602903520322,
          -79.53377601674912,
          -79.53377601674912,
          -79.54602903520322,
          -79.54602903520322,
          -79.54602903520322,
          -79.5503225295426
         ],
         "marker": {
          "color": "red",
          "opacity": 0.7,
          "size": 10
         },
         "text": [
          "[VÍDEO] Se registra colisión en la Avenida Ricardo J Alfaro, próximo a San Miguel Arcángel en dirección a Panamá Centro precaución. https://t.co/g5QSp1m9Mj",
          "Vistas del tráfico en la Avenida Domingo Díaz, próximo a San Antonio en ambas direcciones. https://t.co/6d16iKbltH",
          "Trabajos en la Cinta Costera, mantiene el tráfico afectado en esta ruta precaución. https://t.co/9vmNCwBoKa",
          "[VÍDEO] Se registra colisión en la Carretera Panamericana, próximo a Las Mañanitas en dirección a Panamá Centro precaución. https://t.co/TvXJCJKSke",
          "[VÍDEO] Trabajos en la Cinta Costera, mantiene el tráfico afectado en esta ruta precaución. https://t.co/mro6Jfr0LW",
          "[VÍDEO] Se registra colisión en la Avenida Domingo Díaz, próximo a Brisas del Golf en dirección a Panamá Este. https://t.co/BWJzRo93Vh",
          "Se registra colisión en la Vía Israel, próximo a Paitilla en dirección a Panamá Centro precaución. https://t.co/NdVgKDR15g",
          "Se registra colisión en la Vía Israel, próximo a Paitilla en dirección a Panamá Centro precaución. https://t.co/Bygs26cIkj",
          "[VÍDEO] Se registra colisión frente a la Caja de Ahorros, en Pedregal precaución en esta ruta. https://t.co/0muVikWdIp",
          "Se registra accidente de tránsito en La Vía Interamericana, próximo a Cañazas en Santiago provincia de Veraguas. https://t.co/i4uyRFZKmP",
          "[VÍDEO] Se registra colisión en la Avenida de Los Mártires, próximo al puente en dirección a Panamá Oeste precaución. https://t.co/oDDONxEjDS",
          "[VÍDEO] Se registra colisión en la Avenida Cincuentenario, próximo a Panamá Viejo en dirección a Chanis precaución en esta ruta. https://t.co/UPT7zcChMf",
          "[VÍDEO] Vistas del tráfico en la Avenida Justo Arosemena, próximo al Hospital Nacional. https://t.co/DDxk9HZCPv",
          "[VÍDEO] Cierre de calle que se mantiene en la Avenida Justo Arosemena, próximo al Hospital Nacional por el cierre de calle en la Cinta Costera. https://t.co/e7RmE73kBI",
          "[VÍDEO] Trabajadores, dueños de bares, djs cierran parte de la Cinta Costera. Exigen a las autoridades la reapertura del bloque 6. Este grupo ha reclamado en otras ocasiones que se sienten golpeados económicamente por la pandemia del Covid-19. @tvnnoticias https://t.co/JpPRvhDaY9",
          "A esta hora, un grupo de personas cierran la Cinta Costera, próximo a Marbella. Se mantiene el tráfico afectado. #NoticiasTVN @TraficoCPanama https://t.co/NHzgtp2DE1",
          "[VÍDEO] Un grupo de personas cierran la Cinta Costera, próximo a MarBella se mantiene el tráfico afectado. https://t.co/Wspg7WXWGw",
          "Un grupo de personas cierran la Cinta Costera, próximo a MarBella se mantiene el tráfico afectado. https://t.co/DjnQDEhlAs",
          "Cierre en la carretera Panamericana, próximo a Tanara. Se encuentra el tráfico afectado en ambas direcciones, exigen agua potable. #NoticiasTVN @TraficoCPanama https://t.co/Tn3ZHLHOBU",
          "[VÍDEO] Cierre de calle en la Carretera Panamericana, próximo a Tanara se encuentra el tráfico afectado en ambas direcciones, exigen agua. https://t.co/sekf9wHkS7",
          "[VÍDEO] Un grupo de precaristas se mantienen protestando en la vía hacia Puerto Caimito, próximo al Hospital Nicolás Solano en La Chorrera provincia de Panamá Oeste. https://t.co/WBE6Kg5og5",
          "Se registra cierre de calle en la carretera Panamericana, próximo a Tanara, exigen agua. @TraficoCPanama  https://t.co/P8Fy7Qzsga",
          "[VÍDEO] Un grupo de precaristas se mantienen protestando en la vía hacia Puerto Caimito, próximo al Hospital Nicolás Solano en La Chorrera provincia de Panamá Oeste. https://t.co/MKlFd5fG98",
          "[VÍDEO] Un grupo de precaristas se mantienen protestando en la vía hacia Puerto Caimito, próximo al Hospital Nicolás Solano en La Chorrera provincia de Panamá Oeste. https://t.co/tPvPfI09m8",
          "[VÍDEO] Cierre de calle en la Carretera Panamericana, próximo a Tanara se encuentra el tráfico afectado en ambas direcciones, exigen agua. https://t.co/e9cEKlvNho",
          "[VÍDEO] Un grupo de precaristas se mantienen protestando en la vía hacia Puerto Caimito, próximo al Hospital Nicolás Solano en La Chorrera provincia de Panamá Oeste. https://t.co/V28sM7iaeC",
          "#ProvinciasKW Un grupo de precaristas se mantienen protestando en la vía hacia Puerto Caimito, próximo al Hospital Nicolás Solano en La Chorrera. @TraficoCPanama https://t.co/6FmTx2UVYP",
          "Un grupo de personas se mantienen protestando en la vía hacia Puerto Caimito, próximo al Hospital Nicolás Solano, en La Chorrera. Vía @TraficoCPanama https://t.co/7KZ6cqAZmY",
          "Un grupo de precaristas se mantienen protestando en la vía hacia Puerto Caimito, próximo al Hospital Nicolás Solano en La Chorrera provincia de Panamá Oeste. https://t.co/kroXkSdzgt",
          "[VÍDEO] Vistas del tráfico en la Avenida Omar Torrijos, próximo a Pedro Miguel en dirección a Panamá Oeste. https://t.co/MfLkIIfEAN",
          "Un grupo de personas cierran la Avenida La Roosevelt, frente al McDonald's de Balboa. https://t.co/GCkMCpjtQe",
          "Un grupo de personas cierran la Avenida La Roosevelt, frente al McDonald's de Balboa. https://t.co/R60NCYLpMN",
          "[VÍDEO] Se registra colisión en la Avenida Ricardo J Alfaro, próximo a Plaza Edison en dirección a Panamá Centro precaución. https://t.co/Y10GMdO0R7",
          "Se registra accidente de tránsito en la entrada del Corredor de Los Pobres, próximo a Villa Flora precaución en esta ruta. https://t.co/TORs2eCtyl",
          "Un grupo de personas se mantienen protestando frente al Centro de Salud, en Pedregal se mantiene el tráfico afectado en ambas direcciones precaución. https://t.co/AKLNDR8yaJ",
          "🅾️ A esta hora se registra accidente de tránsito en La Vía Interamericana, próximo a Punta Chame en dirección a Panamá Centro.\n\n#TNPLive @TraficoCPanama https://t.co/qY7tb03Q9C",
          "Se registra accidente de tránsito en La Vía Interamericana, próximo a Punta Chame en dirección a Panamá Centro precaución. https://t.co/JjrmrJYYAv",
          "[VÍDEO] Se registra accidente de tránsito en La Vía Interamericana, próximo a Punta Chame en dirección a Panamá Centro precaución. https://t.co/GBRFBsZBjc",
          "[VÍDEO] Continúa la protesta de los ex trabajadores de la empresa COCIGE, que exigen el pago de miles de dólares, en estos momentos se mantienen en la Avenida 12 de Octubre frente a Medcom. https://t.co/Yxl8ccjsEj",
          "[VÍDEO] Continúa la protesta de los ex trabajadores de la empresa COCIGE, que exigen el pago de miles de dólares, en estos momentos se mantienen en la Avenida 12 de Octubre frente a Medcom. https://t.co/wywT4HdQ3x",
          "Continúa la protesta de los ex trabajadores de la empresa COCIGE, que exigen el pago de miles de dólares, en estos momentos se mantienen en la Avenida 12 de Octubre frente a Medcom. https://t.co/XUzz1ksE8U",
          "[VÍDEO] Vistas del tráfico en la Avenida de Los Mártires, próximo al Instituto Nacional en dirección a Panamá Oeste. https://t.co/hrJAYVAXZU",
          "[VÍDEO] Se registra accidente de tránsito bajo el puente de Avenida Ricardo J Alfaro, próximo a Condado Del Rey, precaución en esta ruta. https://t.co/QK7GcpBEzq",
          "[VÍDEO] Vistas del tráfico en la Carretera Panamericana, próximo a la altura de la 24 de Diciembre en dirección a Panamá Este. https://t.co/32fmRhNIyt",
          "Motorizado afectado en accidentes de tránsito en La Avenida Nacional, próximo al puente de La Cresta en dirección a Panamá Este precaución. https://t.co/HQZzCQB9C8",
          "Se registra accidente de tránsito en la Avenida Ricardo J Alfaro, próximo al Dorado en dirección a Panamá Norte precaución. https://t.co/1sFmdhflp2",
          "[VÍDEO] Mula detenida en la Avenida Domingo Díaz, próximo a La Roosevelt en dirección a Panamá Este precaución. https://t.co/sNK7hG7ToM",
          "Se registra accidente de tránsito en la Avenida Ricardo J Alfaro, próximo al Dorado en dirección a Panamá Norte precaución. https://t.co/YukEMH6p2P",
          "Mula detenida en la Avenida Domingo Díaz, próximo a La Roosevelt en dirección a Panamá Este precaución. https://t.co/hNsv7KHzKV",
          "Motorizado afectado en accidentes de tránsito en La Avenida Nacional, próximo al puente de La Cresta en dirección a Panamá Este precaución. https://t.co/NChPBNBQDO",
          "#NacionalesKW Se registra colisión en el Corredor Sur, próximo a Santa María. @TraficoCPanama\n https://t.co/b7jqtCPisd",
          "[VÍDEO] Se colisión en el Corredor Sur, próximo a Santa María en dirección a Panamá Centro precaución. https://t.co/GyQU4mHOhm",
          "[VÍDEO] Vistas del tráfico en la Avenida de Los Mártires, próximo al puente en ambas direcciones. Desde el Centro de Operación Nacional. https://t.co/lRwI6H47Fu",
          "[VÍDEO] Se registra accidente de tránsito en la vía hacia Puerto Caimito, en La Chorrera provincia de Panamá Oeste. https://t.co/6OQdMO7RGD",
          "Se registra accidente de tránsito en la vía hacia Puerto Caimito, en La Chorrera provincia de Panamá Oeste. https://t.co/tSbc54HSqI",
          "Un grupo de personas cierran la Avenida Ricardo J Alfaro, próximo a Plaza Edison en dirección a Panamá Este precaución. https://t.co/UDR3gInPh5",
          "Vistas del tráfico en la avenida de Los Mártires, próximo al Instituto Nacional en dirección a Panamá Oeste. @TraficoCPanama #NoticiasTVN https://t.co/oL02dC5yNx",
          "Vistas del tráfico en la Avenida de Los Mártires, próximo al Instituto Nacional en dirección a Panamá Oeste. https://t.co/JVRWPPn2zO",
          "Se registra colisión en la Avenida Ricardo J Alfaro, próximo a San Miguelito en dirección a Panamá Este precaución. https://t.co/olW3orLn8j",
          "Cierre de calle frente al Puerto de Balboa, se mantiene el tráfico afectado en ambas direcciones precaución. https://t.co/QkYRnXX20P",
          "Cierre de calle frente al Puerto de Balboa, se mantiene el tráfico afectado en ambas direcciones precaución. https://t.co/exy1u7IvHC",
          "Cierre de calle en la Carretera Panamericana, próximo a Las Garzas se encuentra el tráfico afectado en ambas direcciones precaución. https://t.co/V8esrsMk4L",
          "Se registra colisión múltiple sobre el Tramo Marino del Corredor Sur, en dirección a Panamá Centro precaución. https://t.co/ySgB9IxKEc",
          "[VÍDEO] Se registra colisión múltiple sobre el Tramo Marino del Corredor Sur, en dirección a Panamá Centro precaución. https://t.co/J96n1JUdlg",
          "Vistas del tráfico rural en la Avenida Domingo Díaz, próximo a San Miguelito en dirección a Panamá Centro. https://t.co/YytPWmDnuV",
          "Un grupo de personas cierran la vía hacia Puerto Caimito, frente al Hospital Nicolás Solano en La Chorrera para exigen servicio de agua y energía eléctrica. Vía: @TraficoCPanama https://t.co/SEehago0vu",
          "Un grupo de personas cierran la vía hacia Puerto Caimito, frente al Hospital Nicolás Solano en La Chorrera, exigen agua y energía eléctrica. https://t.co/eJnotvPBMr",
          "[VÍDEO] Se registra accidente de tránsito en la Cinta Costera 3, sobre el Tramo Marino en dirección a Panamá Centro. https://t.co/32tuHOUQd2",
          "Un grupo de personas cierran la vía hacia Puerto Caimito, frente al Hospital Nicolás Solano en La Chorrera, exigen agua y energía eléctrica. https://t.co/oo8vp76PyK",
          "Se registra accidente de tránsito en la Cinta Costera 3, sobre el Tramo Marino en dirección a Panamá Centro. https://t.co/6Oj2fh9eBP",
          "Cierre de vía en el corregimiento de Puerto Caimito en La Chorrera cerca del Hospital Nicolás Alejo Solano. https://t.co/Slx2zsi2yj",
          "[VÍDEO] Se registra accidente de tránsito en el Corredor Norte, salida de la Martín Sosa precaución en esta ruta. https://t.co/RIwHQYiePN",
          "#Tráfico Se registra accidente de tránsito en la avenida Omar Torrijos, próximo a La Forestal. Tráfico afectado en ambas direcciones. Vía @TraficoCPanama https://t.co/7Z24OmQx2X",
          "[VÍDEO] Se registra accidente de tránsito en la Avenida Omar Torrijos, próximo a La Forestal se mantiene el tráfico afectado en ambas direcciones precaución. https://t.co/C1Kyg2KkUp",
          "Se registra accidente de tránsito en la Avenida Omar Torrijos, próximo a La Forestal se mantiene el tráfico afectado en ambas direcciones precaución. https://t.co/7lA2at23MV",
          "#Tráfico Reportan accidente de tránsito en la carretera Panamericana, próximo a la 24 de Diciembre en dirección a Panamá Este. Vía: @TraficoCPanama https://t.co/H0GpQXlaxe",
          "Se registra colisión frente al Banco Nacional, de la Avenida 12 de Octubre precaución en esta ruta. https://t.co/Xg4l96lKVf",
          "#NacionalesKW \nSe registra accidente de tránsito en La Carretera Panamericana, próximo a la 24 de Diciembre en dirección a Panamá Este precaución ⚠\nVía @TraficoCPanama https://t.co/lahGlsHoD4",
          "Se registra accidente de tránsito en La Carretera Panamericana, próximo a la 24 de Diciembre en dirección a Panamá Este precaución. https://t.co/wQa0XESSNH",
          "[VÍDEO] Se registra accidente de tránsito en La Carretera Panamericana, próximo a la 24 de Diciembre en dirección a Panamá Este precaución. https://t.co/cSoZjXS1ud",
          "[VÍDEO] Se registra accidente de tránsito en la Avenida José Agustín Arango, próximo a Los Pueblos en dirección a Panamá Este precaución. https://t.co/cIhXalch6j",
          "Se registra colisión en la Calle 64, San Francisco precaución en esta ruta. https://t.co/iLfIWayxDz",
          "Inundada la Avenida Balboa, próximo al Mercado de Marisco. Vía @TraficoCPanama https://t.co/BRad8nnROD",
          "Se registra colisión en la Avenida Fernández de Córdoba, próximo a la estación del metro precaución en esta ruta. https://t.co/Ea599ihT9h",
          "Inundada la Avenida Balboa, próximo al Mercado de Mariscos. Video de @TraficoCPanama #NoticiasTVN https://t.co/efYCywaPuH",
          "#AEstaHora Se encuentra inundada la Avenida Balboa, próximo al Mercado de Marisco precaución en esta ruta. vía: @TraficoCPanama https://t.co/LtESdb6aMa",
          "#AEstaHora Inundada la Avenida Nacional, próximo a Curundú. Video de @TraficoCPanama #NoticiasTVN https://t.co/pMbJ9hkoAP",
          "[VÍDEO] Inundada la Avenida Balboa, próximo al Mercado de Marisco precaución en esta ruta. https://t.co/sl46Vho4AU",
          "[VÍDEO] Inundada la Avenida Nacional, próximo a Curundú precaución en esta ruta. https://t.co/kmUneFBDma",
          "🅾️ Se registra colisión en la Calle 64, San Francisco precaución en esta ruta.\n\n#TNPLive @TraficoCPanama https://t.co/KER6HwOxwR",
          "Se registra colisión en la Calle 64, San Francisco precaución en esta ruta. https://t.co/6MgrZ8ZOK9",
          "Se registra colisión en el Corredor Sur, próximo a Santa María en dirección a Panamá Centro precaución. https://t.co/2HQdk6AMlk",
          "Se registra accidente de tránsito en La Carretera Panamericana, próximo a Pacora precaución en esta ruta. https://t.co/m0bnuqzoHT",
          "#NacionalesKW  Camión recolector de basura involucrado en accidente de tránsito en la Avenida Ricardo J Alfaro, próximo a Condado Del Rey en dirección a Panamá Centro. @TraficoCPanama https://t.co/RtlbAk19Ju",
          "Camión recolector de basura involucrado en accidente de tránsito en la Avenida Ricardo J Alfaro, próximo a Condado Del Rey en dirección a Panamá Centro. Detalles de @TraficoCPanama #NoticiasTVN https://t.co/KfrJ7l9SM4",
          "[VÍDEO] Camión recolector de basura involucrado en accidente de tránsito en la Avenida Ricardo J Alfaro, próximo a Condado Del Rey en dirección a Panamá Centro. https://t.co/FGu7vgoVED",
          "Vistas del tráfico en la Carretera Panamericana, próximo a Nuevo Tocumen en dirección a Panamá Este. https://t.co/QWdfuFGBuo",
          "Accidente de tránsito en el Corredor Sur, sobre el Tramo Marino mantiene el tráfico afectado en ambas direcciones precaución. https://t.co/Qgvp1OMPQn",
          "Reportan accidente vehicular en el Tramo Marino del Corredor Sur, con dirección a Tocumen.\n\nPrecaución.\n\n#NoticiasTVN @BCBRP @TraficoCPanama https://t.co/go8BEUNnUd",
          "Accidente de tránsito en el Corredor Sur, sobre el Tramo Marino mantiene el tráfico afectado en ambas direcciones precaución. https://t.co/0L7GfjAWHY",
          "#AEstaHora La Avenida Domingo Díaz se encuentra inundada, próximo a El Llano. El tráfico está afectado en ambas direcciones. @TraficoCPanama  https://t.co/7MLSdFAUWm",
          "Así se mantiene la Avenida Domingo Díaz, próximo a Los Pueblos, ante las lluvias la tarde de este sábado. @TraficoCPanama #TReporta https://t.co/UiDVBfUBnT",
          "Inundada la Avenida Domingo Díaz, próximo a Los Pueblos se mantiene el tráfico afectado. @TraficoCPanama https://t.co/LcM3qOFTKk",
          "[VÍDEO] Inundada la Avenida Domingo Díaz, próximo a Los Pueblos se mantiene el tráfico afectado en ambas direcciones precaución. https://t.co/NKoQOyOujz",
          "Tráfico detenido en la Avenida Domingo Díaz, próximo a Brisas del Golf en dirección a Panamá Este, se reportan inundadaciones en esta área. https://t.co/2pbleG9yuE",
          "[VÍDEO] Se registra accidente de tránsito en La Avenida Ricardo J Alfaro, próximo a la USMA en dirección a Panamá Centro precaución. https://t.co/EnqG27XsrG",
          "Ful tranque en el parador, pedregal, debido a la cantidad de agua en la vía.\n@TraficoCPanama @tvnnoticias @criticaenlinea @TReporta https://t.co/s4BqA6cVRN",
          "🅾️ Así se ve el tráfico en la Avenida José Agustín Arango, próximo a Juan Díaz en dirección a Panamá Este. \n\n#TNPLive @TraficoCPanama https://t.co/q9WlAH2wwA",
          "Anegada se mantiene la Avenida Domingo Díaz, próximo a El Llano. El tráfico está afectado en ambas direcciones. A todos los conductores mucha precaución. @TraficoCPanama #TReporta https://t.co/3K6WSF9IY2",
          "[VÍDEO] Inundada la Avenida Domingo Díaz, próximo a San Pedro se encuentra el tráfico afectado en ambas direcciones precaución. https://t.co/JfvWosfxy1",
          "[VÍDEO] Inundada la Avenida Domingo Díaz, próximo a El Llano se encuentra el tráfico afectado en ambas direcciones precaución. https://t.co/IkEmGIxcJK",
          "[VÍDEO] Cámara del Centro de Operación Nacional, capta colisión en la Avenida Balboa, próximo al Parque Urraca. https://t.co/c3OQftiKjy",
          "Se registra colisión en la Calle 86 Oeste, San Francisco precaución en esta ruta. https://t.co/WkvR5sUkHx",
          "[VÍDEO] Vistas del tráfico en la Avenida José Agustín Arango, próximo a Juan Díaz en dirección a Panamá Este. https://t.co/ck97b8VLvY",
          "Vistas del tráfico en estos momentos en la Cinta Costera, próximo al Mercado de Marisco en dirección a Panamá Oeste. https://t.co/wY9a9pEaem",
          "Vistas del tráfico en la Avenida Domingo Díaz, próximo al Crisol en dirección a Panamá Centro. https://t.co/DwdAp99ixQ",
          "Trabajos en la Avenida Domingo Díaz, próximo a El Crisol se encuentra el tráfico afectado en ambas direcciones precaución. https://t.co/lSs4BdCb2F",
          "Continúan los trabajos de reparación en la vía Panamericana, en Arraiján Cabecera, donde días anteriores se registró hundimiento en parte de dicha carretera.\n\nVía:  @TraficoCPanama. https://t.co/RmVMxyLT66",
          "[VÍDEO] Vistas del tráfico en la Avenida Omar Torrijos, próximo a Paraíso en dirección a Panamá Oeste. https://t.co/Ya229agcWu",
          "Vistas del tráfico en la Avenida de Los Mártires, próximo al Instituto Nacional en dirección a Panamá Oeste. https://t.co/wKBlz5P8Y3",
          "Así se mantiene el tráfico en la Cinta Costera, próximo al Mercado de Marisco, en estos momentos. @TraficoCPanama #TReporta https://t.co/oYSKLO9LMV",
          "Se registra colisión en la Avenida Ricardo J Alfaro, próximo al Supermercado 99 en dirección a Panamá Centro precaución. https://t.co/42eA2EcjlA",
          "[VÍDEO] Vistas del tráfico en la Cinta Costera, próximo a Mercado de Marisco en estos momentos. https://t.co/tm1c6TyAJU",
          "[VÍDEO] Vistas del tráfico en la Cinta Costera, próximo al Mercado de Marisco en dirección a Panamá Este. https://t.co/tbncxvczb9",
          "[VÍDEO] Se registra colisión en la Avenida Domingo Díaz, próximo a San Antonio en dirección a Panamá Centro precaución. https://t.co/pr8c7Lgigz",
          "Otras imágenes del accidente de tránsito más temprano en la Avenida Omar Torrijos, próximo a La Forestal. Maneje con precaución en esta ruta. Detalles de @TraficoCPanama #NoticiasTVN https://t.co/fwy6XFWy5k",
          "Se registra accidente de tránsito en la Avenida Omar Torrijos, próximo a La Forestal. Maneje con precaución en esta ruta. Detalles de @TraficoCPanama #NoticiasTVN https://t.co/GXQWTqHZqx",
          "Se registra accidente de tránsito en la Avenida Omar Torrijos, próximo a La Forestal. #Accidente @TraficoCPanama https://t.co/DjtOPvoP1d",
          "[VÍDEO] Se registra accidente de tránsito en la Avenida Omar Torrijos, próximo a La Forestal precaución en esta ruta. https://t.co/eCgSXavLFy",
          "Se registra accidente de tránsito en la Avenida Omar Torrijos, próximo a La Forestal precaución en esta ruta. https://t.co/Os1Nwvrm1b",
          "Vistas del tráfico en la Carretera Panamericana, próximo a Nuevo Tocumen en dirección a Panamá Centro. https://t.co/3C9c1NqwgD",
          "Se registra colisión en la Vía Israel, próximo a Multiplaza en dirección a Panamá Centro precaución. https://t.co/ug6xFyfRh6",
          "[VÍDEO] Vistas del tráfico fluido en la Avenida de Los Mártires, próximo al Instituto Nacional en dirección a Panamá Oeste.@TraficoCPanama https://t.co/3kMwhEo4Ey",
          "[VÍDEO] Vistas del tráfico fluido en la Avenida de Los Mártires, próximo al Instituto Nacional en dirección a Panamá Oeste. https://t.co/Wj7f9dhybC",
          "Se registra accidente de tránsito en Avenida Ricardo J Alfaro, próximo a Condado Del Rey. @TraficoCPanama https://t.co/NO66kbTMpt",
          "[VÍDEO] Se registra accidente de tránsito en Avenida Ricardo J Alfaro, próximo a Condado Del Rey en dirección a Panamá Centro. https://t.co/gXR7bMyQm8",
          "A esta hora hay tránsito fluido en la Avenida de los Mártires. Se registra lluvia en ese sector, maneje con precaución. Detalles de @TraficoCPanama #NoticiasTVN https://t.co/969or8RoHm",
          "Vistas del tráfico en la Avenida José Agustín Arango, próximo a Juan Díaz en ambas direcciones. https://t.co/2yO0Wx86hj",
          "Se registra colisión en la Avenida José Agustín Arango, próximo a Juan Díaz precaución en esta ruta. https://t.co/NN2ebtN13O",
          "Se registra colisión en la Calle 71 San Francisco, precaución en esta ruta. https://t.co/gDhu6OHiqM",
          "Miembros del Suntracs se mantienen protestando en la autopista Arraiján-La Chorrera, próximo a La Mitra en dirección a Panamá Centro. Video de @TraficoCPanama #NoticiasTVN https://t.co/xPT0md01yq",
          "[VÍDEO] Miembros del Suntracs se mantienen protestando en la Autopista Arraiján-La Chorrera, próximo a La Mitra en dirección a Panamá Centro. https://t.co/THIKeTvFW8",
          "Miembros del Suntracs se mantienen protestando en la Autopista Arraiján-La Chorrera, próximo a La Mitra en dirección a Panamá Centro. https://t.co/stj87j5EqJ",
          "Se registra accidente de tránsito en la Avenida Domingo Díaz, próximo a Las Acacías precaución en esta ruta. https://t.co/sV97EXf2vz",
          "Se registra accidente de tránsito en la Avenida Domingo Díaz, próximo a Las Acacías precaución en esta ruta. https://t.co/qXwSz5fqlG",
          "[VÍDEO] Se registra accidente de tránsito en la Avenida Omar Torrijos, próximo a Paraíso en dirección a Panamá Centro precaución. https://t.co/MzTIAHgvSW",
          "Se registra accidente de tránsito en la Avenida Omar Torrijos, próximo a Paraíso en dirección a Panamá Centro. Vía @TraficoCPanama #NoticiasTVN https://t.co/qWExMdM7vZ",
          "#NacionalesKW Se registra accidente de tránsito en la Avenida Omar Torrijos, próximo a Paraíso. @TraficoCPanama https://t.co/bt3jvVPUWK",
          "Se registra accidente de tránsito en la Avenida Omar Torrijos, próximo a Paraíso en dirección a Panamá Centro precaución. https://t.co/4yNP4we56R",
          "[VÍDEO] Vistas del tráfico en la Avenida de Los Mártires, próximo al Instituto Nacional en dirección a Panamá Oeste. https://t.co/xb9qjBu6Ng",
          "🅾️ Un grupo de personas se mantienen protestando en la Avenida Ricardo J Alfaro, próximo a Plaza Edison en dirección a Panamá Norte. \n\n#TNPLive vía: @TraficoCPanama https://t.co/GJdI0rOtsu",
          "[VÍDEO] Un grupo de personas se mantienen protestando en la Avenida Ricardo J Alfaro, próximo a Plaza Edison en dirección a Panamá Norte. https://t.co/Wq6rDniERS",
          "[VÍDEO] Acción policial en la Avenida de Los Mártires, próximo al Chorrillo en dirección a Panamá Centro. Unidades de la Policía Nacional mantiene detenido un vehículo. https://t.co/O1PMuEL0bF",
          "[VÍDEO] Vistas del tráfico en la Avenida Domingo Díaz, próximo a San Miguelito en dirección a Panamá Centro. https://t.co/YHV5s0fMpM",
          "[VÍDEO] Se registra colisión en la Avenida Balboa, frente al Hospital del Niño precaución, en esta ruta. https://t.co/jitJ6YSSZh",
          "🅾️ A esta hora, se registra accidente de tránsito en el Corredor Norte, próximo a Tinajitas en dirección a Panamá Centro.\n\n#TNPLive vía: @TraficoCPanama https://t.co/6o7daAoCAP"
         ],
         "type": "scattermapbox"
        }
       ],
       "layout": {
        "geo": {
         "resolution": 110
        },
        "hoverlabel": {
         "bgcolor": "white",
         "font": {
          "size": 12
         }
        },
        "mapbox": {
         "center": {
          "lat": 8.99,
          "lon": -79.5359
         },
         "style": "open-street-map",
         "zoom": 11
        },
        "margin": {
         "b": 0,
         "l": 0,
         "r": 0,
         "t": 50
        },
        "template": {
         "data": {
          "bar": [
           {
            "error_x": {
             "color": "#2a3f5f"
            },
            "error_y": {
             "color": "#2a3f5f"
            },
            "marker": {
             "line": {
              "color": "#E5ECF6",
              "width": 0.5
             }
            },
            "type": "bar"
           }
          ],
          "barpolar": [
           {
            "marker": {
             "line": {
              "color": "#E5ECF6",
              "width": 0.5
             }
            },
            "type": "barpolar"
           }
          ],
          "carpet": [
           {
            "aaxis": {
             "endlinecolor": "#2a3f5f",
             "gridcolor": "white",
             "linecolor": "white",
             "minorgridcolor": "white",
             "startlinecolor": "#2a3f5f"
            },
            "baxis": {
             "endlinecolor": "#2a3f5f",
             "gridcolor": "white",
             "linecolor": "white",
             "minorgridcolor": "white",
             "startlinecolor": "#2a3f5f"
            },
            "type": "carpet"
           }
          ],
          "choropleth": [
           {
            "colorbar": {
             "outlinewidth": 0,
             "ticks": ""
            },
            "type": "choropleth"
           }
          ],
          "contour": [
           {
            "colorbar": {
             "outlinewidth": 0,
             "ticks": ""
            },
            "colorscale": [
             [
              0,
              "#0d0887"
             ],
             [
              0.1111111111111111,
              "#46039f"
             ],
             [
              0.2222222222222222,
              "#7201a8"
             ],
             [
              0.3333333333333333,
              "#9c179e"
             ],
             [
              0.4444444444444444,
              "#bd3786"
             ],
             [
              0.5555555555555556,
              "#d8576b"
             ],
             [
              0.6666666666666666,
              "#ed7953"
             ],
             [
              0.7777777777777778,
              "#fb9f3a"
             ],
             [
              0.8888888888888888,
              "#fdca26"
             ],
             [
              1,
              "#f0f921"
             ]
            ],
            "type": "contour"
           }
          ],
          "contourcarpet": [
           {
            "colorbar": {
             "outlinewidth": 0,
             "ticks": ""
            },
            "type": "contourcarpet"
           }
          ],
          "heatmap": [
           {
            "colorbar": {
             "outlinewidth": 0,
             "ticks": ""
            },
            "colorscale": [
             [
              0,
              "#0d0887"
             ],
             [
              0.1111111111111111,
              "#46039f"
             ],
             [
              0.2222222222222222,
              "#7201a8"
             ],
             [
              0.3333333333333333,
              "#9c179e"
             ],
             [
              0.4444444444444444,
              "#bd3786"
             ],
             [
              0.5555555555555556,
              "#d8576b"
             ],
             [
              0.6666666666666666,
              "#ed7953"
             ],
             [
              0.7777777777777778,
              "#fb9f3a"
             ],
             [
              0.8888888888888888,
              "#fdca26"
             ],
             [
              1,
              "#f0f921"
             ]
            ],
            "type": "heatmap"
           }
          ],
          "heatmapgl": [
           {
            "colorbar": {
             "outlinewidth": 0,
             "ticks": ""
            },
            "colorscale": [
             [
              0,
              "#0d0887"
             ],
             [
              0.1111111111111111,
              "#46039f"
             ],
             [
              0.2222222222222222,
              "#7201a8"
             ],
             [
              0.3333333333333333,
              "#9c179e"
             ],
             [
              0.4444444444444444,
              "#bd3786"
             ],
             [
              0.5555555555555556,
              "#d8576b"
             ],
             [
              0.6666666666666666,
              "#ed7953"
             ],
             [
              0.7777777777777778,
              "#fb9f3a"
             ],
             [
              0.8888888888888888,
              "#fdca26"
             ],
             [
              1,
              "#f0f921"
             ]
            ],
            "type": "heatmapgl"
           }
          ],
          "histogram": [
           {
            "marker": {
             "colorbar": {
              "outlinewidth": 0,
              "ticks": ""
             }
            },
            "type": "histogram"
           }
          ],
          "histogram2d": [
           {
            "colorbar": {
             "outlinewidth": 0,
             "ticks": ""
            },
            "colorscale": [
             [
              0,
              "#0d0887"
             ],
             [
              0.1111111111111111,
              "#46039f"
             ],
             [
              0.2222222222222222,
              "#7201a8"
             ],
             [
              0.3333333333333333,
              "#9c179e"
             ],
             [
              0.4444444444444444,
              "#bd3786"
             ],
             [
              0.5555555555555556,
              "#d8576b"
             ],
             [
              0.6666666666666666,
              "#ed7953"
             ],
             [
              0.7777777777777778,
              "#fb9f3a"
             ],
             [
              0.8888888888888888,
              "#fdca26"
             ],
             [
              1,
              "#f0f921"
             ]
            ],
            "type": "histogram2d"
           }
          ],
          "histogram2dcontour": [
           {
            "colorbar": {
             "outlinewidth": 0,
             "ticks": ""
            },
            "colorscale": [
             [
              0,
              "#0d0887"
             ],
             [
              0.1111111111111111,
              "#46039f"
             ],
             [
              0.2222222222222222,
              "#7201a8"
             ],
             [
              0.3333333333333333,
              "#9c179e"
             ],
             [
              0.4444444444444444,
              "#bd3786"
             ],
             [
              0.5555555555555556,
              "#d8576b"
             ],
             [
              0.6666666666666666,
              "#ed7953"
             ],
             [
              0.7777777777777778,
              "#fb9f3a"
             ],
             [
              0.8888888888888888,
              "#fdca26"
             ],
             [
              1,
              "#f0f921"
             ]
            ],
            "type": "histogram2dcontour"
           }
          ],
          "mesh3d": [
           {
            "colorbar": {
             "outlinewidth": 0,
             "ticks": ""
            },
            "type": "mesh3d"
           }
          ],
          "parcoords": [
           {
            "line": {
             "colorbar": {
              "outlinewidth": 0,
              "ticks": ""
             }
            },
            "type": "parcoords"
           }
          ],
          "pie": [
           {
            "automargin": true,
            "type": "pie"
           }
          ],
          "scatter": [
           {
            "marker": {
             "colorbar": {
              "outlinewidth": 0,
              "ticks": ""
             }
            },
            "type": "scatter"
           }
          ],
          "scatter3d": [
           {
            "line": {
             "colorbar": {
              "outlinewidth": 0,
              "ticks": ""
             }
            },
            "marker": {
             "colorbar": {
              "outlinewidth": 0,
              "ticks": ""
             }
            },
            "type": "scatter3d"
           }
          ],
          "scattercarpet": [
           {
            "marker": {
             "colorbar": {
              "outlinewidth": 0,
              "ticks": ""
             }
            },
            "type": "scattercarpet"
           }
          ],
          "scattergeo": [
           {
            "marker": {
             "colorbar": {
              "outlinewidth": 0,
              "ticks": ""
             }
            },
            "type": "scattergeo"
           }
          ],
          "scattergl": [
           {
            "marker": {
             "colorbar": {
              "outlinewidth": 0,
              "ticks": ""
             }
            },
            "type": "scattergl"
           }
          ],
          "scattermapbox": [
           {
            "marker": {
             "colorbar": {
              "outlinewidth": 0,
              "ticks": ""
             }
            },
            "type": "scattermapbox"
           }
          ],
          "scatterpolar": [
           {
            "marker": {
             "colorbar": {
              "outlinewidth": 0,
              "ticks": ""
             }
            },
            "type": "scatterpolar"
           }
          ],
          "scatterpolargl": [
           {
            "marker": {
             "colorbar": {
              "outlinewidth": 0,
              "ticks": ""
             }
            },
            "type": "scatterpolargl"
           }
          ],
          "scatterternary": [
           {
            "marker": {
             "colorbar": {
              "outlinewidth": 0,
              "ticks": ""
             }
            },
            "type": "scatterternary"
           }
          ],
          "surface": [
           {
            "colorbar": {
             "outlinewidth": 0,
             "ticks": ""
            },
            "colorscale": [
             [
              0,
              "#0d0887"
             ],
             [
              0.1111111111111111,
              "#46039f"
             ],
             [
              0.2222222222222222,
              "#7201a8"
             ],
             [
              0.3333333333333333,
              "#9c179e"
             ],
             [
              0.4444444444444444,
              "#bd3786"
             ],
             [
              0.5555555555555556,
              "#d8576b"
             ],
             [
              0.6666666666666666,
              "#ed7953"
             ],
             [
              0.7777777777777778,
              "#fb9f3a"
             ],
             [
              0.8888888888888888,
              "#fdca26"
             ],
             [
              1,
              "#f0f921"
             ]
            ],
            "type": "surface"
           }
          ],
          "table": [
           {
            "cells": {
             "fill": {
              "color": "#EBF0F8"
             },
             "line": {
              "color": "white"
             }
            },
            "header": {
             "fill": {
              "color": "#C8D4E3"
             },
             "line": {
              "color": "white"
             }
            },
            "type": "table"
           }
          ]
         },
         "layout": {
          "annotationdefaults": {
           "arrowcolor": "#2a3f5f",
           "arrowhead": 0,
           "arrowwidth": 1
          },
          "autotypenumbers": "strict",
          "coloraxis": {
           "colorbar": {
            "outlinewidth": 0,
            "ticks": ""
           }
          },
          "colorscale": {
           "diverging": [
            [
             0,
             "#8e0152"
            ],
            [
             0.1,
             "#c51b7d"
            ],
            [
             0.2,
             "#de77ae"
            ],
            [
             0.3,
             "#f1b6da"
            ],
            [
             0.4,
             "#fde0ef"
            ],
            [
             0.5,
             "#f7f7f7"
            ],
            [
             0.6,
             "#e6f5d0"
            ],
            [
             0.7,
             "#b8e186"
            ],
            [
             0.8,
             "#7fbc41"
            ],
            [
             0.9,
             "#4d9221"
            ],
            [
             1,
             "#276419"
            ]
           ],
           "sequential": [
            [
             0,
             "#0d0887"
            ],
            [
             0.1111111111111111,
             "#46039f"
            ],
            [
             0.2222222222222222,
             "#7201a8"
            ],
            [
             0.3333333333333333,
             "#9c179e"
            ],
            [
             0.4444444444444444,
             "#bd3786"
            ],
            [
             0.5555555555555556,
             "#d8576b"
            ],
            [
             0.6666666666666666,
             "#ed7953"
            ],
            [
             0.7777777777777778,
             "#fb9f3a"
            ],
            [
             0.8888888888888888,
             "#fdca26"
            ],
            [
             1,
             "#f0f921"
            ]
           ],
           "sequentialminus": [
            [
             0,
             "#0d0887"
            ],
            [
             0.1111111111111111,
             "#46039f"
            ],
            [
             0.2222222222222222,
             "#7201a8"
            ],
            [
             0.3333333333333333,
             "#9c179e"
            ],
            [
             0.4444444444444444,
             "#bd3786"
            ],
            [
             0.5555555555555556,
             "#d8576b"
            ],
            [
             0.6666666666666666,
             "#ed7953"
            ],
            [
             0.7777777777777778,
             "#fb9f3a"
            ],
            [
             0.8888888888888888,
             "#fdca26"
            ],
            [
             1,
             "#f0f921"
            ]
           ]
          },
          "colorway": [
           "#636efa",
           "#EF553B",
           "#00cc96",
           "#ab63fa",
           "#FFA15A",
           "#19d3f3",
           "#FF6692",
           "#B6E880",
           "#FF97FF",
           "#FECB52"
          ],
          "font": {
           "color": "#2a3f5f"
          },
          "geo": {
           "bgcolor": "white",
           "lakecolor": "white",
           "landcolor": "#E5ECF6",
           "showlakes": true,
           "showland": true,
           "subunitcolor": "white"
          },
          "hoverlabel": {
           "align": "left"
          },
          "hovermode": "closest",
          "mapbox": {
           "style": "light"
          },
          "paper_bgcolor": "white",
          "plot_bgcolor": "#E5ECF6",
          "polar": {
           "angularaxis": {
            "gridcolor": "white",
            "linecolor": "white",
            "ticks": ""
           },
           "bgcolor": "#E5ECF6",
           "radialaxis": {
            "gridcolor": "white",
            "linecolor": "white",
            "ticks": ""
           }
          },
          "scene": {
           "xaxis": {
            "backgroundcolor": "#E5ECF6",
            "gridcolor": "white",
            "gridwidth": 2,
            "linecolor": "white",
            "showbackground": true,
            "ticks": "",
            "zerolinecolor": "white"
           },
           "yaxis": {
            "backgroundcolor": "#E5ECF6",
            "gridcolor": "white",
            "gridwidth": 2,
            "linecolor": "white",
            "showbackground": true,
            "ticks": "",
            "zerolinecolor": "white"
           },
           "zaxis": {
            "backgroundcolor": "#E5ECF6",
            "gridcolor": "white",
            "gridwidth": 2,
            "linecolor": "white",
            "showbackground": true,
            "ticks": "",
            "zerolinecolor": "white"
           }
          },
          "shapedefaults": {
           "line": {
            "color": "#2a3f5f"
           }
          },
          "ternary": {
           "aaxis": {
            "gridcolor": "white",
            "linecolor": "white",
            "ticks": ""
           },
           "baxis": {
            "gridcolor": "white",
            "linecolor": "white",
            "ticks": ""
           },
           "bgcolor": "#E5ECF6",
           "caxis": {
            "gridcolor": "white",
            "linecolor": "white",
            "ticks": ""
           }
          },
          "title": {
           "x": 0.05
          },
          "xaxis": {
           "automargin": true,
           "gridcolor": "white",
           "linecolor": "white",
           "ticks": "",
           "title": {
            "standoff": 15
           },
           "zerolinecolor": "white",
           "zerolinewidth": 2
          },
          "yaxis": {
           "automargin": true,
           "gridcolor": "white",
           "linecolor": "white",
           "ticks": "",
           "title": {
            "standoff": 15
           },
           "zerolinecolor": "white",
           "zerolinewidth": 2
          }
         }
        },
        "title": {
         "text": "Mapa de lugares"
        }
       }
      }
     },
     "metadata": {}
    }
   ],
   "source": [
    "generate_scatter(tweets_geo, 'road_geom', 'tweet_text')"
   ]
  },
  {
   "source": [],
   "cell_type": "markdown",
   "metadata": {}
  },
  {
   "cell_type": "code",
   "execution_count": null,
   "metadata": {},
   "outputs": [],
   "source": [
    "places1.loc[:, 'x'] = places1.apply(lambda row: getPointCoords(row, 'geom', 'x'), axis=1)\n",
    "places1.loc[:, 'y'] = places1.apply(lambda row: getPointCoords(row, 'geom', 'y'), axis=1)"
   ]
  },
  {
   "cell_type": "code",
   "execution_count": null,
   "metadata": {},
   "outputs": [],
   "source": [
    "def getPointCoords(row, geom, coord_type):\n",
    "    \"\"\"Calculates coordinates ('x' or 'y') of a Point geometry\"\"\"\n",
    "    if coord_type == 'x':\n",
    "        return row[geom].x\n",
    "    elif coord_type == 'y':\n",
    "        return row[geom].y"
   ]
  },
  {
   "source": [],
   "cell_type": "markdown",
   "metadata": {}
  },
  {
   "cell_type": "code",
   "execution_count": null,
   "metadata": {},
   "outputs": [],
   "source": [
    "places = places[places.name.str.len()>5]"
   ]
  },
  {
   "cell_type": "code",
   "execution_count": null,
   "metadata": {},
   "outputs": [],
   "source": [
    "extract = Preprocessing.clean_text(tweets, 'text')\n",
    "# tweets.clean.str.findall('([A-Z]\\S+)')\n",
    "# re.findall('([A-Z]\\S+)', tweets)\n",
    "extract['possible_place'] = extract.clean.str.findall('([A-Z]\\S+)')"
   ]
  },
  {
   "cell_type": "code",
   "execution_count": null,
   "metadata": {},
   "outputs": [],
   "source": [
    "extract = extract[extract.clean.str.contains('accident.*|cho[qc].*|colision.*|vuelco|volcó|vuelca|atropell.*|tran[qc].*|embotella.*|trafico|huelga|protest.*|trabajo.*|cierr.*|detenid.*|obstacul.*|incendi.*|inunda.*|lluvia')]\n",
    "extract = extract[extract.clean.str.len()>30]\n",
    "extract = extract[extract.possible_place.notnull()]"
   ]
  },
  {
   "cell_type": "code",
   "execution_count": null,
   "metadata": {},
   "outputs": [],
   "source": [
    "test = 'tranque pesado en la Via Brasil hacia el interior'\n",
    "matches1 = [fuzz.token_sort_ratio(place, test) for place in places.name]\n",
    "# sum(matches1)\n",
    "matches2 = [fuzz.token_set_ratio(place, test) for place in places.name]\n",
    "# max(matches2)"
   ]
  },
  {
   "cell_type": "code",
   "execution_count": null,
   "metadata": {},
   "outputs": [],
   "source": [
    "process.extract(test, places, scorer=fuzz.token_set_ratio)"
   ]
  },
  {
   "cell_type": "code",
   "execution_count": null,
   "metadata": {},
   "outputs": [],
   "source": [
    "extract['contains'] = extract['clean'].apply(lambda x: np.array([]))\n",
    "# extract['contains'] = extract['contains'].astype(object)\n",
    "extract['possible'] = extract['clean'].apply(lambda x: np.array([]))\n",
    "# extract['possible'] = extract['possible'].astype(object)"
   ]
  },
  {
   "cell_type": "code",
   "execution_count": null,
   "metadata": {},
   "outputs": [],
   "source": [
    "extract.drop(columns=['contains', 'possible'], inplace=True)"
   ]
  },
  {
   "cell_type": "code",
   "execution_count": null,
   "metadata": {},
   "outputs": [],
   "source": [
    "extract2 = extract.copy()"
   ]
  },
  {
   "cell_type": "code",
   "execution_count": null,
   "metadata": {},
   "outputs": [],
   "source": [
    "def get_road(text, roads):\n",
    "    choice = process.extractOne(text, roads.nombre, scorer=fuzz.token_set_ratio)\n",
    "    if choice[1]>=80:\n",
    "        # Returns the gid\n",
    "        return str(roads.iloc[roads.index==choice[2], 0].iloc[0])\n",
    "    else: return ''"
   ]
  },
  {
   "cell_type": "code",
   "execution_count": null,
   "metadata": {},
   "outputs": [],
   "source": [
    "def get_place(text, places):\n",
    "    choice = process.extractOne(text, places.name, scorer=fuzz.token_set_ratio)\n",
    "    if choice[1]>=80:\n",
    "        # Returns the osm_id\n",
    "        return str(places.iloc[places.index==choice[2], 0].iloc[0])\n",
    "    else: return ''"
   ]
  },
  {
   "cell_type": "code",
   "execution_count": null,
   "metadata": {},
   "outputs": [],
   "source": [
    "places.head(1)"
   ]
  },
  {
   "cell_type": "code",
   "execution_count": null,
   "metadata": {},
   "outputs": [],
   "source": [
    "extract2 = extract[100:500]"
   ]
  },
  {
   "cell_type": "code",
   "execution_count": null,
   "metadata": {},
   "outputs": [],
   "source": [
    "extract2.loc[:, 'road'] = extract2.apply(lambda row: get_road(row.clean, roads), axis=1)"
   ]
  },
  {
   "cell_type": "code",
   "execution_count": null,
   "metadata": {},
   "outputs": [],
   "source": [
    "extract2.loc[:, 'place'] = extract2.apply(lambda row: get_place(row.clean, places), axis=1)"
   ]
  },
  {
   "cell_type": "code",
   "execution_count": null,
   "metadata": {},
   "outputs": [],
   "source": [
    "conn = ps.connect(\n",
    "    database='traffictwt', user='postgres', password='root')\n",
    "cursor = conn.cursor()\n",
    "ins = '''INSERT INTO TWEETS_PLACES(TWEET_ID, ROAD_GID, PLACE_ID)\n",
    "    VALUES (%s, %s, %s) '''\n",
    "for index, row in extract2.iterrows():\n",
    "    cursor.execute(ins, \n",
    "        (row['id'], None if row['road']=='' else row['road'], \n",
    "            None if row['place']=='' else row['place']))\n",
    "    conn.commit()\n",
    "cursor.close()\n",
    "conn.close()"
   ]
  },
  {
   "cell_type": "code",
   "execution_count": null,
   "metadata": {},
   "outputs": [],
   "source": [
    "extract2"
   ]
  },
  {
   "source": [],
   "cell_type": "markdown",
   "metadata": {}
  },
  {
   "cell_type": "code",
   "execution_count": null,
   "metadata": {},
   "outputs": [],
   "source": [
    "extract1 = extract.copy()"
   ]
  },
  {
   "cell_type": "code",
   "execution_count": null,
   "metadata": {},
   "outputs": [],
   "source": [
    "for index, tweet in extract[:100].iterrows():\n",
    "    intweet = []; possible = []\n",
    "    for index_place, place in places.iterrows():\n",
    "        if len(place['name'])>5:\n",
    "            if place['name'] in tweet['clean']:\n",
    "                intweet.append(place['osm_id'])\n",
    "                # extract.iloc[index, 'contains'] = extract.iloc[index, 'contains'].append\n",
    "            elif (fuzz.token_set_ratio(place['name'], tweet['clean'])==100 and fuzz.token_sort_ratio(place['name'], tweet['clean'])>50) or (fuzz.token_set_ratio(place['name'], tweet['clean'])>90):\n",
    "                possible.append(place['osm_id'])\n",
    "                # print('\\n', tweet, ' - possible - ', place)\n",
    "            #     if fuzz.token_sort_ratio(place, tweet)>50:\n",
    "            #         possible.append(place.name)\n",
    "            #         # print('\\n\\t', tweet, ' - possible %i - ' % fuzz.token_sort_ratio(place, tweet), place)\n",
    "            # elif fuzz.token_set_ratio(place, tweet)>90:\n",
    "            #     possible.append(place.name)\n",
    "                # print('\\n', tweet, '  - similar %i to -  ' % fuzz.token_set_ratio(place, tweet), place)\n",
    "    if len(intweet)>0:\n",
    "        extract.iloc[index, 4] = np.array(intweet)\n",
    "    if len(possible)>0:\n",
    "        extract.iloc[index, 5] = np.array(possible)"
   ]
  },
  {
   "cell_type": "code",
   "execution_count": null,
   "metadata": {},
   "outputs": [],
   "source": [
    "extract[extract.possible>0]"
   ]
  }
 ]
}