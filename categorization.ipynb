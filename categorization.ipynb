{
 "metadata": {
  "language_info": {
   "codemirror_mode": {
    "name": "ipython",
    "version": 3
   },
   "file_extension": ".py",
   "mimetype": "text/x-python",
   "name": "python",
   "nbconvert_exporter": "python",
   "pygments_lexer": "ipython3",
   "version": "3.8.0-final"
  },
  "orig_nbformat": 2,
  "kernelspec": {
   "name": "python3",
   "display_name": "Python 3",
   "language": "python"
  }
 },
 "nbformat": 4,
 "nbformat_minor": 2,
 "cells": [
  {
   "cell_type": "code",
   "execution_count": 1,
   "metadata": {},
   "outputs": [
    {
     "output_type": "stream",
     "name": "stdout",
     "text": [
      "Connection succesful.\n"
     ]
    }
   ],
   "source": [
    "from db_connection import DB_Connection\n",
    "import pandas as pd, numpy as np \n",
    "import matplotlib.pyplot as plt\n",
    "import seaborn as sns\n",
    "from matplotlib.widgets import TextBox\n",
    "import re, json\n",
    "from wordcloud import WordCloud\n",
    "import Tweet\n",
    "\n",
    "\n",
    "db = DB_Connection()\n",
    "\n",
    "database = db.query('''SELECT * FROM TWTTWEET WHERE TWEET_CREATED<'2021-01-01'\n",
    "                    ORDER BY TWEET_CREATED DESC;''')\n",
    "df = pd.DataFrame(database, columns=['id','userid','text','date',\n",
    "                            'link','media1','media2','media3', 'media4'])\n",
    "df = df.loc[:, ['id', 'text']]\n",
    "\n",
    "\n",
    "processed = Tweet.clean_text(df, 'text')\n",
    "classified = Tweet.classify_text(processed, 'clean')\n",
    "\n",
    "# incidents = classified[['id','isIncident']].groupby('isIncident').size()\n",
    "# accidents = classified[['id','isAccident']].groupby('isAccident').size()[1]\n",
    "# dangers = classified[['id','isDanger']].groupby('isDanger').size()[1]\n",
    "# obstacles = classified[['id','isObstacle']].groupby('isObstacle').size()[1]"
   ]
  },
  {
   "cell_type": "code",
   "execution_count": null,
   "metadata": {},
   "outputs": [],
   "source": [
    "joined = ' '.join([t for t in classified.clean])\n",
    "joined = joined.split()\n",
    "new_joined = pd.Series(joined)"
   ]
  },
  {
   "cell_type": "code",
   "execution_count": null,
   "metadata": {},
   "outputs": [],
   "source": [
    "len(new_joined.unique())"
   ]
  },
  {
   "cell_type": "code",
   "execution_count": null,
   "metadata": {},
   "outputs": [],
   "source": [
    "x = [0,1,2]\n",
    "data = [accidents,obstacles,dangers]\n",
    "plt.figure(figsize=(10,6))\n",
    "g = sns.barplot(x=x, y=data)\n",
    "plt.title('% de incidentes por categoría', fontsize=16)\n",
    "plt.xticks(ticks=x,\n",
    "        labels=['accidentes','obstáculos','peligros'],\n",
    "        fontsize=13)\n",
    "plt.ylim(top=65000)\n",
    "\n",
    "for i, v in enumerate(data):\n",
    "    g.text(i, v+1000, v, color='black', ha=\"center\", fontsize=12)\n",
    "    # plt.annotate(v, (i+3, 10), color='black', fontsize=12)\n",
    "plt.show()"
   ]
  },
  {
   "source": [
    "## Text classification"
   ],
   "cell_type": "markdown",
   "metadata": {}
  },
  {
   "cell_type": "code",
   "execution_count": 2,
   "metadata": {},
   "outputs": [],
   "source": [
    "from sklearn.svm import LinearSVC\n",
    "import pickle\n",
    "from sklearn.ensemble import RandomForestClassifier\n",
    "import time\n",
    "from sklearn.metrics import classification_report, confusion_matrix, accuracy_score, multilabel_confusion_matrix\n",
    "from sklearn.feature_extraction.text import CountVectorizer\n",
    "from sklearn.model_selection import train_test_split"
   ]
  },
  {
   "cell_type": "code",
   "execution_count": null,
   "metadata": {},
   "outputs": [],
   "source": [
    "classified.head(1)"
   ]
  },
  {
   "cell_type": "code",
   "execution_count": 3,
   "metadata": {},
   "outputs": [],
   "source": [
    "from sklearn.feature_extraction.text import CountVectorizer\n",
    "vectorizer1 = CountVectorizer(max_features=600, min_df=5, max_df=0.7)\n",
    "X11 = vectorizer1.fit_transform(classified.clean).toarray()"
   ]
  },
  {
   "cell_type": "code",
   "execution_count": null,
   "metadata": {},
   "outputs": [],
   "source": [
    "from sklearn.feature_extraction.text import TfidfTransformer\n",
    "tfidf = TfidfTransformer()\n",
    "X2 = tfidf.fit_transform(X1)"
   ]
  },
  {
   "cell_type": "code",
   "execution_count": null,
   "metadata": {},
   "outputs": [],
   "source": [
    "from sklearn.feature_extraction.text import TfidfVectorizer\n",
    "\n",
    "tfi = TfidfVectorizer(sublinear_tf=True, max_features=500, min_df=5, max_df=0.7, encoding='utf-8', ngram_range=(1,2))\n",
    "X3 = tfi.fit_transform(classified.clean).toarray()\n",
    "# labels = classified.isIncident"
   ]
  },
  {
   "cell_type": "code",
   "execution_count": 4,
   "metadata": {},
   "outputs": [],
   "source": [
    "y = [i for i in classified[['isAccident','isObstacle','isDanger']].values]"
   ]
  },
  {
   "cell_type": "code",
   "execution_count": 5,
   "metadata": {},
   "outputs": [],
   "source": [
    "from sklearn.model_selection import train_test_split\n",
    "X_train1, X_test1, y_train1, y_test1 = train_test_split(X11, y, test_size=0.2, random_state=0)"
   ]
  },
  {
   "source": [
    "### Boosting Model"
   ],
   "cell_type": "markdown",
   "metadata": {}
  },
  {
   "cell_type": "code",
   "execution_count": 8,
   "metadata": {},
   "outputs": [],
   "source": [
    "from sklearn.model_selection import GridSearchCV\n",
    "from sklearn.multioutput import MultiOutputClassifier\n",
    "from xgboost import XGBClassifier\n",
    "from sklearn import metrics\n",
    "import xgboost as xgb\n",
    "import time\n",
    "from xgboost import DMatrix"
   ]
  },
  {
   "cell_type": "code",
   "execution_count": 8,
   "metadata": {},
   "outputs": [
    {
     "output_type": "stream",
     "name": "stdout",
     "text": [
      "[21:26:51] WARNING: C:/Users/Administrator/workspace/xgboost-win64_release_1.3.0/src/learner.cc:1061: Starting in XGBoost 1.3.0, the default evaluation metric used with the objective 'binary:logistic' was changed from 'error' to 'logloss'. Explicitly set eval_metric if you'd like to restore the old behavior.\n",
      "[21:28:37] WARNING: C:/Users/Administrator/workspace/xgboost-win64_release_1.3.0/src/learner.cc:1061: Starting in XGBoost 1.3.0, the default evaluation metric used with the objective 'binary:logistic' was changed from 'error' to 'logloss'. Explicitly set eval_metric if you'd like to restore the old behavior.\n",
      "[21:30:21] WARNING: C:/Users/Administrator/workspace/xgboost-win64_release_1.3.0/src/learner.cc:1061: Starting in XGBoost 1.3.0, the default evaluation metric used with the objective 'binary:logistic' was changed from 'error' to 'logloss'. Explicitly set eval_metric if you'd like to restore the old behavior.\n",
      "Duration: 342.79028272628784\n"
     ]
    }
   ],
   "source": [
    "from xgboost import XGBClassifier\n",
    "\n",
    "start = time.time()\n",
    "xgb_first = XGBClassifier()\n",
    "mo_classifier = MultiOutputClassifier(xgb_first).fit(X_train1, y_train1)\n",
    "# xgb_first.fit(X_train1, y_train1)\n",
    "end = time.time()\n",
    "print('Duration:', str(end-start))\n",
    "y_xgb_first = mo_classifier.predict(X_test1)"
   ]
  },
  {
   "cell_type": "code",
   "execution_count": 9,
   "metadata": {},
   "outputs": [
    {
     "output_type": "stream",
     "name": "stdout",
     "text": [
      "Acurracy data[0] 0.9960387574807638\nAcurracy data[1] 0.985779424337418\nAcurracy data[2] 0.9980621259618124\n"
     ]
    }
   ],
   "source": [
    "for i in range(3):\n",
    "    ytest0 = [j[i] for j in y_test1] \n",
    "    ypred0 = [j[i] for j in y_xgb_first]\n",
    "    print('Acurracy data[%d]'%i, accuracy_score(ytest0, ypred0))"
   ]
  },
  {
   "cell_type": "code",
   "execution_count": 10,
   "metadata": {},
   "outputs": [
    {
     "output_type": "display_data",
     "data": {
      "text/plain": "<Figure size 648x288 with 6 Axes>",
      "image/svg+xml": "<?xml version=\"1.0\" encoding=\"utf-8\" standalone=\"no\"?>\r\n<!DOCTYPE svg PUBLIC \"-//W3C//DTD SVG 1.1//EN\"\r\n  \"http://www.w3.org/Graphics/SVG/1.1/DTD/svg11.dtd\">\r\n<!-- Created with matplotlib (https://matplotlib.org/) -->\r\n<svg height=\"285.518125pt\" version=\"1.1\" viewBox=\"0 0 636.1688 285.518125\" width=\"636.1688pt\" xmlns=\"http://www.w3.org/2000/svg\" xmlns:xlink=\"http://www.w3.org/1999/xlink\">\r\n <metadata>\r\n  <rdf:RDF xmlns:cc=\"http://creativecommons.org/ns#\" xmlns:dc=\"http://purl.org/dc/elements/1.1/\" xmlns:rdf=\"http://www.w3.org/1999/02/22-rdf-syntax-ns#\">\r\n   <cc:Work>\r\n    <dc:type rdf:resource=\"http://purl.org/dc/dcmitype/StillImage\"/>\r\n    <dc:date>2021-02-20T21:32:35.730265</dc:date>\r\n    <dc:format>image/svg+xml</dc:format>\r\n    <dc:creator>\r\n     <cc:Agent>\r\n      <dc:title>Matplotlib v3.3.4, https://matplotlib.org/</dc:title>\r\n     </cc:Agent>\r\n    </dc:creator>\r\n   </cc:Work>\r\n  </rdf:RDF>\r\n </metadata>\r\n <defs>\r\n  <style type=\"text/css\">*{stroke-linecap:butt;stroke-linejoin:round;}</style>\r\n </defs>\r\n <g id=\"figure_1\">\r\n  <g id=\"patch_1\">\r\n   <path d=\"M 0 285.518125 \r\nL 636.1688 285.518125 \r\nL 636.1688 0 \r\nL 0 0 \r\nz\r\n\" style=\"fill:none;\"/>\r\n  </g>\r\n  <g id=\"axes_1\">\r\n   <g id=\"patch_2\">\r\n    <path d=\"M 23.878125 261.64 \r\nL 162.285231 261.64 \r\nL 162.285231 55.04 \r\nL 23.878125 55.04 \r\nz\r\n\" style=\"fill:#ffffff;\"/>\r\n   </g>\r\n   <g id=\"QuadMesh_1\">\r\n    <path clip-path=\"url(#p37233e57f5)\" d=\"M 23.878125 55.04 \r\nL 93.081678 55.04 \r\nL 93.081678 158.34 \r\nL 23.878125 158.34 \r\nL 23.878125 55.04 \r\n\" style=\"fill:#00441b;\"/>\r\n    <path clip-path=\"url(#p37233e57f5)\" d=\"M 93.081678 55.04 \r\nL 162.285231 55.04 \r\nL 162.285231 158.34 \r\nL 93.081678 158.34 \r\nL 93.081678 55.04 \r\n\" style=\"fill:#f7fcf5;\"/>\r\n    <path clip-path=\"url(#p37233e57f5)\" d=\"M 23.878125 158.34 \r\nL 93.081678 158.34 \r\nL 93.081678 261.64 \r\nL 23.878125 261.64 \r\nL 23.878125 158.34 \r\n\" style=\"fill:#f6fcf4;\"/>\r\n    <path clip-path=\"url(#p37233e57f5)\" d=\"M 93.081678 158.34 \r\nL 162.285231 158.34 \r\nL 162.285231 261.64 \r\nL 93.081678 261.64 \r\nL 93.081678 158.34 \r\n\" style=\"fill:#bde5b6;\"/>\r\n   </g>\r\n   <g id=\"matplotlib.axis_1\">\r\n    <g id=\"xtick_1\">\r\n     <g id=\"line2d_1\">\r\n      <defs>\r\n       <path d=\"M 0 0 \r\nL 0 3.5 \r\n\" id=\"m6304eea707\" style=\"stroke:#000000;stroke-width:0.8;\"/>\r\n      </defs>\r\n      <g>\r\n       <use style=\"stroke:#000000;stroke-width:0.8;\" x=\"58.479901\" xlink:href=\"#m6304eea707\" y=\"261.64\"/>\r\n      </g>\r\n     </g>\r\n     <g id=\"text_1\">\r\n      <!-- 0 -->\r\n      <g transform=\"translate(55.298651 276.238437)scale(0.1 -0.1)\">\r\n       <defs>\r\n        <path d=\"M 31.78125 66.40625 \r\nQ 24.171875 66.40625 20.328125 58.90625 \r\nQ 16.5 51.421875 16.5 36.375 \r\nQ 16.5 21.390625 20.328125 13.890625 \r\nQ 24.171875 6.390625 31.78125 6.390625 \r\nQ 39.453125 6.390625 43.28125 13.890625 \r\nQ 47.125 21.390625 47.125 36.375 \r\nQ 47.125 51.421875 43.28125 58.90625 \r\nQ 39.453125 66.40625 31.78125 66.40625 \r\nz\r\nM 31.78125 74.21875 \r\nQ 44.046875 74.21875 50.515625 64.515625 \r\nQ 56.984375 54.828125 56.984375 36.375 \r\nQ 56.984375 17.96875 50.515625 8.265625 \r\nQ 44.046875 -1.421875 31.78125 -1.421875 \r\nQ 19.53125 -1.421875 13.0625 8.265625 \r\nQ 6.59375 17.96875 6.59375 36.375 \r\nQ 6.59375 54.828125 13.0625 64.515625 \r\nQ 19.53125 74.21875 31.78125 74.21875 \r\nz\r\n\" id=\"DejaVuSans-48\"/>\r\n       </defs>\r\n       <use xlink:href=\"#DejaVuSans-48\"/>\r\n      </g>\r\n     </g>\r\n    </g>\r\n    <g id=\"xtick_2\">\r\n     <g id=\"line2d_2\">\r\n      <g>\r\n       <use style=\"stroke:#000000;stroke-width:0.8;\" x=\"127.683454\" xlink:href=\"#m6304eea707\" y=\"261.64\"/>\r\n      </g>\r\n     </g>\r\n     <g id=\"text_2\">\r\n      <!-- 1 -->\r\n      <g transform=\"translate(124.502204 276.238437)scale(0.1 -0.1)\">\r\n       <defs>\r\n        <path d=\"M 12.40625 8.296875 \r\nL 28.515625 8.296875 \r\nL 28.515625 63.921875 \r\nL 10.984375 60.40625 \r\nL 10.984375 69.390625 \r\nL 28.421875 72.90625 \r\nL 38.28125 72.90625 \r\nL 38.28125 8.296875 \r\nL 54.390625 8.296875 \r\nL 54.390625 0 \r\nL 12.40625 0 \r\nz\r\n\" id=\"DejaVuSans-49\"/>\r\n       </defs>\r\n       <use xlink:href=\"#DejaVuSans-49\"/>\r\n      </g>\r\n     </g>\r\n    </g>\r\n   </g>\r\n   <g id=\"matplotlib.axis_2\">\r\n    <g id=\"ytick_1\">\r\n     <g id=\"line2d_3\">\r\n      <defs>\r\n       <path d=\"M 0 0 \r\nL -3.5 0 \r\n\" id=\"mdb37ab1172\" style=\"stroke:#000000;stroke-width:0.8;\"/>\r\n      </defs>\r\n      <g>\r\n       <use style=\"stroke:#000000;stroke-width:0.8;\" x=\"23.878125\" xlink:href=\"#mdb37ab1172\" y=\"106.69\"/>\r\n      </g>\r\n     </g>\r\n     <g id=\"text_3\">\r\n      <!-- 0 -->\r\n      <g transform=\"translate(14.798438 109.253281)rotate(-90)scale(0.1 -0.1)\">\r\n       <use xlink:href=\"#DejaVuSans-48\"/>\r\n      </g>\r\n     </g>\r\n    </g>\r\n    <g id=\"ytick_2\">\r\n     <g id=\"line2d_4\">\r\n      <g>\r\n       <use style=\"stroke:#000000;stroke-width:0.8;\" x=\"23.878125\" xlink:href=\"#mdb37ab1172\" y=\"209.99\"/>\r\n      </g>\r\n     </g>\r\n     <g id=\"text_4\">\r\n      <!-- 1 -->\r\n      <g transform=\"translate(14.798438 212.553281)rotate(-90)scale(0.1 -0.1)\">\r\n       <use xlink:href=\"#DejaVuSans-49\"/>\r\n      </g>\r\n     </g>\r\n    </g>\r\n   </g>\r\n   <g id=\"text_5\">\r\n    <!-- True Neg -->\r\n    <g style=\"fill:#ffffff;\" transform=\"translate(36.282245 98.251562)scale(0.1 -0.1)\">\r\n     <defs>\r\n      <path d=\"M -0.296875 72.90625 \r\nL 61.375 72.90625 \r\nL 61.375 64.59375 \r\nL 35.5 64.59375 \r\nL 35.5 0 \r\nL 25.59375 0 \r\nL 25.59375 64.59375 \r\nL -0.296875 64.59375 \r\nz\r\n\" id=\"DejaVuSans-84\"/>\r\n      <path d=\"M 41.109375 46.296875 \r\nQ 39.59375 47.171875 37.8125 47.578125 \r\nQ 36.03125 48 33.890625 48 \r\nQ 26.265625 48 22.1875 43.046875 \r\nQ 18.109375 38.09375 18.109375 28.8125 \r\nL 18.109375 0 \r\nL 9.078125 0 \r\nL 9.078125 54.6875 \r\nL 18.109375 54.6875 \r\nL 18.109375 46.1875 \r\nQ 20.953125 51.171875 25.484375 53.578125 \r\nQ 30.03125 56 36.53125 56 \r\nQ 37.453125 56 38.578125 55.875 \r\nQ 39.703125 55.765625 41.0625 55.515625 \r\nz\r\n\" id=\"DejaVuSans-114\"/>\r\n      <path d=\"M 8.5 21.578125 \r\nL 8.5 54.6875 \r\nL 17.484375 54.6875 \r\nL 17.484375 21.921875 \r\nQ 17.484375 14.15625 20.5 10.265625 \r\nQ 23.53125 6.390625 29.59375 6.390625 \r\nQ 36.859375 6.390625 41.078125 11.03125 \r\nQ 45.3125 15.671875 45.3125 23.6875 \r\nL 45.3125 54.6875 \r\nL 54.296875 54.6875 \r\nL 54.296875 0 \r\nL 45.3125 0 \r\nL 45.3125 8.40625 \r\nQ 42.046875 3.421875 37.71875 1 \r\nQ 33.40625 -1.421875 27.6875 -1.421875 \r\nQ 18.265625 -1.421875 13.375 4.4375 \r\nQ 8.5 10.296875 8.5 21.578125 \r\nz\r\nM 31.109375 56 \r\nz\r\n\" id=\"DejaVuSans-117\"/>\r\n      <path d=\"M 56.203125 29.59375 \r\nL 56.203125 25.203125 \r\nL 14.890625 25.203125 \r\nQ 15.484375 15.921875 20.484375 11.0625 \r\nQ 25.484375 6.203125 34.421875 6.203125 \r\nQ 39.59375 6.203125 44.453125 7.46875 \r\nQ 49.3125 8.734375 54.109375 11.28125 \r\nL 54.109375 2.78125 \r\nQ 49.265625 0.734375 44.1875 -0.34375 \r\nQ 39.109375 -1.421875 33.890625 -1.421875 \r\nQ 20.796875 -1.421875 13.15625 6.1875 \r\nQ 5.515625 13.8125 5.515625 26.8125 \r\nQ 5.515625 40.234375 12.765625 48.109375 \r\nQ 20.015625 56 32.328125 56 \r\nQ 43.359375 56 49.78125 48.890625 \r\nQ 56.203125 41.796875 56.203125 29.59375 \r\nz\r\nM 47.21875 32.234375 \r\nQ 47.125 39.59375 43.09375 43.984375 \r\nQ 39.0625 48.390625 32.421875 48.390625 \r\nQ 24.90625 48.390625 20.390625 44.140625 \r\nQ 15.875 39.890625 15.1875 32.171875 \r\nz\r\n\" id=\"DejaVuSans-101\"/>\r\n      <path id=\"DejaVuSans-32\"/>\r\n      <path d=\"M 9.8125 72.90625 \r\nL 23.09375 72.90625 \r\nL 55.421875 11.921875 \r\nL 55.421875 72.90625 \r\nL 64.984375 72.90625 \r\nL 64.984375 0 \r\nL 51.703125 0 \r\nL 19.390625 60.984375 \r\nL 19.390625 0 \r\nL 9.8125 0 \r\nz\r\n\" id=\"DejaVuSans-78\"/>\r\n      <path d=\"M 45.40625 27.984375 \r\nQ 45.40625 37.75 41.375 43.109375 \r\nQ 37.359375 48.484375 30.078125 48.484375 \r\nQ 22.859375 48.484375 18.828125 43.109375 \r\nQ 14.796875 37.75 14.796875 27.984375 \r\nQ 14.796875 18.265625 18.828125 12.890625 \r\nQ 22.859375 7.515625 30.078125 7.515625 \r\nQ 37.359375 7.515625 41.375 12.890625 \r\nQ 45.40625 18.265625 45.40625 27.984375 \r\nz\r\nM 54.390625 6.78125 \r\nQ 54.390625 -7.171875 48.1875 -13.984375 \r\nQ 42 -20.796875 29.203125 -20.796875 \r\nQ 24.46875 -20.796875 20.265625 -20.09375 \r\nQ 16.0625 -19.390625 12.109375 -17.921875 \r\nL 12.109375 -9.1875 \r\nQ 16.0625 -11.328125 19.921875 -12.34375 \r\nQ 23.78125 -13.375 27.78125 -13.375 \r\nQ 36.625 -13.375 41.015625 -8.765625 \r\nQ 45.40625 -4.15625 45.40625 5.171875 \r\nL 45.40625 9.625 \r\nQ 42.625 4.78125 38.28125 2.390625 \r\nQ 33.9375 0 27.875 0 \r\nQ 17.828125 0 11.671875 7.65625 \r\nQ 5.515625 15.328125 5.515625 27.984375 \r\nQ 5.515625 40.671875 11.671875 48.328125 \r\nQ 17.828125 56 27.875 56 \r\nQ 33.9375 56 38.28125 53.609375 \r\nQ 42.625 51.21875 45.40625 46.390625 \r\nL 45.40625 54.6875 \r\nL 54.390625 54.6875 \r\nz\r\n\" id=\"DejaVuSans-103\"/>\r\n     </defs>\r\n     <use xlink:href=\"#DejaVuSans-84\"/>\r\n     <use x=\"46.333984\" xlink:href=\"#DejaVuSans-114\"/>\r\n     <use x=\"87.447266\" xlink:href=\"#DejaVuSans-117\"/>\r\n     <use x=\"150.826172\" xlink:href=\"#DejaVuSans-101\"/>\r\n     <use x=\"212.349609\" xlink:href=\"#DejaVuSans-32\"/>\r\n     <use x=\"244.136719\" xlink:href=\"#DejaVuSans-78\"/>\r\n     <use x=\"318.941406\" xlink:href=\"#DejaVuSans-101\"/>\r\n     <use x=\"380.464844\" xlink:href=\"#DejaVuSans-103\"/>\r\n    </g>\r\n    <!-- 27240 -->\r\n    <g style=\"fill:#ffffff;\" transform=\"translate(42.573651 109.449375)scale(0.1 -0.1)\">\r\n     <defs>\r\n      <path d=\"M 19.1875 8.296875 \r\nL 53.609375 8.296875 \r\nL 53.609375 0 \r\nL 7.328125 0 \r\nL 7.328125 8.296875 \r\nQ 12.9375 14.109375 22.625 23.890625 \r\nQ 32.328125 33.6875 34.8125 36.53125 \r\nQ 39.546875 41.84375 41.421875 45.53125 \r\nQ 43.3125 49.21875 43.3125 52.78125 \r\nQ 43.3125 58.59375 39.234375 62.25 \r\nQ 35.15625 65.921875 28.609375 65.921875 \r\nQ 23.96875 65.921875 18.8125 64.3125 \r\nQ 13.671875 62.703125 7.8125 59.421875 \r\nL 7.8125 69.390625 \r\nQ 13.765625 71.78125 18.9375 73 \r\nQ 24.125 74.21875 28.421875 74.21875 \r\nQ 39.75 74.21875 46.484375 68.546875 \r\nQ 53.21875 62.890625 53.21875 53.421875 \r\nQ 53.21875 48.921875 51.53125 44.890625 \r\nQ 49.859375 40.875 45.40625 35.40625 \r\nQ 44.1875 33.984375 37.640625 27.21875 \r\nQ 31.109375 20.453125 19.1875 8.296875 \r\nz\r\n\" id=\"DejaVuSans-50\"/>\r\n      <path d=\"M 8.203125 72.90625 \r\nL 55.078125 72.90625 \r\nL 55.078125 68.703125 \r\nL 28.609375 0 \r\nL 18.3125 0 \r\nL 43.21875 64.59375 \r\nL 8.203125 64.59375 \r\nz\r\n\" id=\"DejaVuSans-55\"/>\r\n      <path d=\"M 37.796875 64.3125 \r\nL 12.890625 25.390625 \r\nL 37.796875 25.390625 \r\nz\r\nM 35.203125 72.90625 \r\nL 47.609375 72.90625 \r\nL 47.609375 25.390625 \r\nL 58.015625 25.390625 \r\nL 58.015625 17.1875 \r\nL 47.609375 17.1875 \r\nL 47.609375 0 \r\nL 37.796875 0 \r\nL 37.796875 17.1875 \r\nL 4.890625 17.1875 \r\nL 4.890625 26.703125 \r\nz\r\n\" id=\"DejaVuSans-52\"/>\r\n     </defs>\r\n     <use xlink:href=\"#DejaVuSans-50\"/>\r\n     <use x=\"63.623047\" xlink:href=\"#DejaVuSans-55\"/>\r\n     <use x=\"127.246094\" xlink:href=\"#DejaVuSans-50\"/>\r\n     <use x=\"190.869141\" xlink:href=\"#DejaVuSans-52\"/>\r\n     <use x=\"254.492188\" xlink:href=\"#DejaVuSans-48\"/>\r\n    </g>\r\n    <!-- 77.63% -->\r\n    <g style=\"fill:#ffffff;\" transform=\"translate(39.415058 120.647187)scale(0.1 -0.1)\">\r\n     <defs>\r\n      <path d=\"M 10.6875 12.40625 \r\nL 21 12.40625 \r\nL 21 0 \r\nL 10.6875 0 \r\nz\r\n\" id=\"DejaVuSans-46\"/>\r\n      <path d=\"M 33.015625 40.375 \r\nQ 26.375 40.375 22.484375 35.828125 \r\nQ 18.609375 31.296875 18.609375 23.390625 \r\nQ 18.609375 15.53125 22.484375 10.953125 \r\nQ 26.375 6.390625 33.015625 6.390625 \r\nQ 39.65625 6.390625 43.53125 10.953125 \r\nQ 47.40625 15.53125 47.40625 23.390625 \r\nQ 47.40625 31.296875 43.53125 35.828125 \r\nQ 39.65625 40.375 33.015625 40.375 \r\nz\r\nM 52.59375 71.296875 \r\nL 52.59375 62.3125 \r\nQ 48.875 64.0625 45.09375 64.984375 \r\nQ 41.3125 65.921875 37.59375 65.921875 \r\nQ 27.828125 65.921875 22.671875 59.328125 \r\nQ 17.53125 52.734375 16.796875 39.40625 \r\nQ 19.671875 43.65625 24.015625 45.921875 \r\nQ 28.375 48.1875 33.59375 48.1875 \r\nQ 44.578125 48.1875 50.953125 41.515625 \r\nQ 57.328125 34.859375 57.328125 23.390625 \r\nQ 57.328125 12.15625 50.6875 5.359375 \r\nQ 44.046875 -1.421875 33.015625 -1.421875 \r\nQ 20.359375 -1.421875 13.671875 8.265625 \r\nQ 6.984375 17.96875 6.984375 36.375 \r\nQ 6.984375 53.65625 15.1875 63.9375 \r\nQ 23.390625 74.21875 37.203125 74.21875 \r\nQ 40.921875 74.21875 44.703125 73.484375 \r\nQ 48.484375 72.75 52.59375 71.296875 \r\nz\r\n\" id=\"DejaVuSans-54\"/>\r\n      <path d=\"M 40.578125 39.3125 \r\nQ 47.65625 37.796875 51.625 33 \r\nQ 55.609375 28.21875 55.609375 21.1875 \r\nQ 55.609375 10.40625 48.1875 4.484375 \r\nQ 40.765625 -1.421875 27.09375 -1.421875 \r\nQ 22.515625 -1.421875 17.65625 -0.515625 \r\nQ 12.796875 0.390625 7.625 2.203125 \r\nL 7.625 11.71875 \r\nQ 11.71875 9.328125 16.59375 8.109375 \r\nQ 21.484375 6.890625 26.8125 6.890625 \r\nQ 36.078125 6.890625 40.9375 10.546875 \r\nQ 45.796875 14.203125 45.796875 21.1875 \r\nQ 45.796875 27.640625 41.28125 31.265625 \r\nQ 36.765625 34.90625 28.71875 34.90625 \r\nL 20.21875 34.90625 \r\nL 20.21875 43.015625 \r\nL 29.109375 43.015625 \r\nQ 36.375 43.015625 40.234375 45.921875 \r\nQ 44.09375 48.828125 44.09375 54.296875 \r\nQ 44.09375 59.90625 40.109375 62.90625 \r\nQ 36.140625 65.921875 28.71875 65.921875 \r\nQ 24.65625 65.921875 20.015625 65.03125 \r\nQ 15.375 64.15625 9.8125 62.3125 \r\nL 9.8125 71.09375 \r\nQ 15.4375 72.65625 20.34375 73.4375 \r\nQ 25.25 74.21875 29.59375 74.21875 \r\nQ 40.828125 74.21875 47.359375 69.109375 \r\nQ 53.90625 64.015625 53.90625 55.328125 \r\nQ 53.90625 49.265625 50.4375 45.09375 \r\nQ 46.96875 40.921875 40.578125 39.3125 \r\nz\r\n\" id=\"DejaVuSans-51\"/>\r\n      <path d=\"M 72.703125 32.078125 \r\nQ 68.453125 32.078125 66.03125 28.46875 \r\nQ 63.625 24.859375 63.625 18.40625 \r\nQ 63.625 12.0625 66.03125 8.421875 \r\nQ 68.453125 4.78125 72.703125 4.78125 \r\nQ 76.859375 4.78125 79.265625 8.421875 \r\nQ 81.6875 12.0625 81.6875 18.40625 \r\nQ 81.6875 24.8125 79.265625 28.4375 \r\nQ 76.859375 32.078125 72.703125 32.078125 \r\nz\r\nM 72.703125 38.28125 \r\nQ 80.421875 38.28125 84.953125 32.90625 \r\nQ 89.5 27.546875 89.5 18.40625 \r\nQ 89.5 9.28125 84.9375 3.921875 \r\nQ 80.375 -1.421875 72.703125 -1.421875 \r\nQ 64.890625 -1.421875 60.34375 3.921875 \r\nQ 55.8125 9.28125 55.8125 18.40625 \r\nQ 55.8125 27.59375 60.375 32.9375 \r\nQ 64.9375 38.28125 72.703125 38.28125 \r\nz\r\nM 22.3125 68.015625 \r\nQ 18.109375 68.015625 15.6875 64.375 \r\nQ 13.28125 60.75 13.28125 54.390625 \r\nQ 13.28125 47.953125 15.671875 44.328125 \r\nQ 18.0625 40.71875 22.3125 40.71875 \r\nQ 26.5625 40.71875 28.96875 44.328125 \r\nQ 31.390625 47.953125 31.390625 54.390625 \r\nQ 31.390625 60.6875 28.953125 64.34375 \r\nQ 26.515625 68.015625 22.3125 68.015625 \r\nz\r\nM 66.40625 74.21875 \r\nL 74.21875 74.21875 \r\nL 28.609375 -1.421875 \r\nL 20.796875 -1.421875 \r\nz\r\nM 22.3125 74.21875 \r\nQ 30.03125 74.21875 34.609375 68.875 \r\nQ 39.203125 63.53125 39.203125 54.390625 \r\nQ 39.203125 45.171875 34.640625 39.84375 \r\nQ 30.078125 34.515625 22.3125 34.515625 \r\nQ 14.546875 34.515625 10.03125 39.859375 \r\nQ 5.515625 45.21875 5.515625 54.390625 \r\nQ 5.515625 63.484375 10.046875 68.84375 \r\nQ 14.59375 74.21875 22.3125 74.21875 \r\nz\r\n\" id=\"DejaVuSans-37\"/>\r\n     </defs>\r\n     <use xlink:href=\"#DejaVuSans-55\"/>\r\n     <use x=\"63.623047\" xlink:href=\"#DejaVuSans-55\"/>\r\n     <use x=\"127.246094\" xlink:href=\"#DejaVuSans-46\"/>\r\n     <use x=\"159.033203\" xlink:href=\"#DejaVuSans-54\"/>\r\n     <use x=\"222.65625\" xlink:href=\"#DejaVuSans-51\"/>\r\n     <use x=\"286.279297\" xlink:href=\"#DejaVuSans-37\"/>\r\n    </g>\r\n   </g>\r\n   <g id=\"text_6\">\r\n    <!-- False Pos -->\r\n    <g style=\"fill:#262626;\" transform=\"translate(105.042829 98.251562)scale(0.1 -0.1)\">\r\n     <defs>\r\n      <path d=\"M 9.8125 72.90625 \r\nL 51.703125 72.90625 \r\nL 51.703125 64.59375 \r\nL 19.671875 64.59375 \r\nL 19.671875 43.109375 \r\nL 48.578125 43.109375 \r\nL 48.578125 34.8125 \r\nL 19.671875 34.8125 \r\nL 19.671875 0 \r\nL 9.8125 0 \r\nz\r\n\" id=\"DejaVuSans-70\"/>\r\n      <path d=\"M 34.28125 27.484375 \r\nQ 23.390625 27.484375 19.1875 25 \r\nQ 14.984375 22.515625 14.984375 16.5 \r\nQ 14.984375 11.71875 18.140625 8.90625 \r\nQ 21.296875 6.109375 26.703125 6.109375 \r\nQ 34.1875 6.109375 38.703125 11.40625 \r\nQ 43.21875 16.703125 43.21875 25.484375 \r\nL 43.21875 27.484375 \r\nz\r\nM 52.203125 31.203125 \r\nL 52.203125 0 \r\nL 43.21875 0 \r\nL 43.21875 8.296875 \r\nQ 40.140625 3.328125 35.546875 0.953125 \r\nQ 30.953125 -1.421875 24.3125 -1.421875 \r\nQ 15.921875 -1.421875 10.953125 3.296875 \r\nQ 6 8.015625 6 15.921875 \r\nQ 6 25.140625 12.171875 29.828125 \r\nQ 18.359375 34.515625 30.609375 34.515625 \r\nL 43.21875 34.515625 \r\nL 43.21875 35.40625 \r\nQ 43.21875 41.609375 39.140625 45 \r\nQ 35.0625 48.390625 27.6875 48.390625 \r\nQ 23 48.390625 18.546875 47.265625 \r\nQ 14.109375 46.140625 10.015625 43.890625 \r\nL 10.015625 52.203125 \r\nQ 14.9375 54.109375 19.578125 55.046875 \r\nQ 24.21875 56 28.609375 56 \r\nQ 40.484375 56 46.34375 49.84375 \r\nQ 52.203125 43.703125 52.203125 31.203125 \r\nz\r\n\" id=\"DejaVuSans-97\"/>\r\n      <path d=\"M 9.421875 75.984375 \r\nL 18.40625 75.984375 \r\nL 18.40625 0 \r\nL 9.421875 0 \r\nz\r\n\" id=\"DejaVuSans-108\"/>\r\n      <path d=\"M 44.28125 53.078125 \r\nL 44.28125 44.578125 \r\nQ 40.484375 46.53125 36.375 47.5 \r\nQ 32.28125 48.484375 27.875 48.484375 \r\nQ 21.1875 48.484375 17.84375 46.4375 \r\nQ 14.5 44.390625 14.5 40.28125 \r\nQ 14.5 37.15625 16.890625 35.375 \r\nQ 19.28125 33.59375 26.515625 31.984375 \r\nL 29.59375 31.296875 \r\nQ 39.15625 29.25 43.1875 25.515625 \r\nQ 47.21875 21.78125 47.21875 15.09375 \r\nQ 47.21875 7.46875 41.1875 3.015625 \r\nQ 35.15625 -1.421875 24.609375 -1.421875 \r\nQ 20.21875 -1.421875 15.453125 -0.5625 \r\nQ 10.6875 0.296875 5.421875 2 \r\nL 5.421875 11.28125 \r\nQ 10.40625 8.6875 15.234375 7.390625 \r\nQ 20.0625 6.109375 24.8125 6.109375 \r\nQ 31.15625 6.109375 34.5625 8.28125 \r\nQ 37.984375 10.453125 37.984375 14.40625 \r\nQ 37.984375 18.0625 35.515625 20.015625 \r\nQ 33.0625 21.96875 24.703125 23.78125 \r\nL 21.578125 24.515625 \r\nQ 13.234375 26.265625 9.515625 29.90625 \r\nQ 5.8125 33.546875 5.8125 39.890625 \r\nQ 5.8125 47.609375 11.28125 51.796875 \r\nQ 16.75 56 26.8125 56 \r\nQ 31.78125 56 36.171875 55.265625 \r\nQ 40.578125 54.546875 44.28125 53.078125 \r\nz\r\n\" id=\"DejaVuSans-115\"/>\r\n      <path d=\"M 19.671875 64.796875 \r\nL 19.671875 37.40625 \r\nL 32.078125 37.40625 \r\nQ 38.96875 37.40625 42.71875 40.96875 \r\nQ 46.484375 44.53125 46.484375 51.125 \r\nQ 46.484375 57.671875 42.71875 61.234375 \r\nQ 38.96875 64.796875 32.078125 64.796875 \r\nz\r\nM 9.8125 72.90625 \r\nL 32.078125 72.90625 \r\nQ 44.34375 72.90625 50.609375 67.359375 \r\nQ 56.890625 61.8125 56.890625 51.125 \r\nQ 56.890625 40.328125 50.609375 34.8125 \r\nQ 44.34375 29.296875 32.078125 29.296875 \r\nL 19.671875 29.296875 \r\nL 19.671875 0 \r\nL 9.8125 0 \r\nz\r\n\" id=\"DejaVuSans-80\"/>\r\n      <path d=\"M 30.609375 48.390625 \r\nQ 23.390625 48.390625 19.1875 42.75 \r\nQ 14.984375 37.109375 14.984375 27.296875 \r\nQ 14.984375 17.484375 19.15625 11.84375 \r\nQ 23.34375 6.203125 30.609375 6.203125 \r\nQ 37.796875 6.203125 41.984375 11.859375 \r\nQ 46.1875 17.53125 46.1875 27.296875 \r\nQ 46.1875 37.015625 41.984375 42.703125 \r\nQ 37.796875 48.390625 30.609375 48.390625 \r\nz\r\nM 30.609375 56 \r\nQ 42.328125 56 49.015625 48.375 \r\nQ 55.71875 40.765625 55.71875 27.296875 \r\nQ 55.71875 13.875 49.015625 6.21875 \r\nQ 42.328125 -1.421875 30.609375 -1.421875 \r\nQ 18.84375 -1.421875 12.171875 6.21875 \r\nQ 5.515625 13.875 5.515625 27.296875 \r\nQ 5.515625 40.765625 12.171875 48.375 \r\nQ 18.84375 56 30.609375 56 \r\nz\r\n\" id=\"DejaVuSans-111\"/>\r\n     </defs>\r\n     <use xlink:href=\"#DejaVuSans-70\"/>\r\n     <use x=\"48.394531\" xlink:href=\"#DejaVuSans-97\"/>\r\n     <use x=\"109.673828\" xlink:href=\"#DejaVuSans-108\"/>\r\n     <use x=\"137.457031\" xlink:href=\"#DejaVuSans-115\"/>\r\n     <use x=\"189.556641\" xlink:href=\"#DejaVuSans-101\"/>\r\n     <use x=\"251.080078\" xlink:href=\"#DejaVuSans-32\"/>\r\n     <use x=\"282.867188\" xlink:href=\"#DejaVuSans-80\"/>\r\n     <use x=\"339.544922\" xlink:href=\"#DejaVuSans-111\"/>\r\n     <use x=\"400.726562\" xlink:href=\"#DejaVuSans-115\"/>\r\n    </g>\r\n    <!-- 7 -->\r\n    <g style=\"fill:#262626;\" transform=\"translate(124.502204 109.449375)scale(0.1 -0.1)\">\r\n     <use xlink:href=\"#DejaVuSans-55\"/>\r\n    </g>\r\n    <!-- 0.02% -->\r\n    <g style=\"fill:#262626;\" transform=\"translate(111.799861 120.647187)scale(0.1 -0.1)\">\r\n     <use xlink:href=\"#DejaVuSans-48\"/>\r\n     <use x=\"63.623047\" xlink:href=\"#DejaVuSans-46\"/>\r\n     <use x=\"95.410156\" xlink:href=\"#DejaVuSans-48\"/>\r\n     <use x=\"159.033203\" xlink:href=\"#DejaVuSans-50\"/>\r\n     <use x=\"222.65625\" xlink:href=\"#DejaVuSans-37\"/>\r\n    </g>\r\n   </g>\r\n   <g id=\"text_7\">\r\n    <!-- False Neg -->\r\n    <g style=\"fill:#262626;\" transform=\"translate(34.345526 201.551562)scale(0.1 -0.1)\">\r\n     <use xlink:href=\"#DejaVuSans-70\"/>\r\n     <use x=\"48.394531\" xlink:href=\"#DejaVuSans-97\"/>\r\n     <use x=\"109.673828\" xlink:href=\"#DejaVuSans-108\"/>\r\n     <use x=\"137.457031\" xlink:href=\"#DejaVuSans-115\"/>\r\n     <use x=\"189.556641\" xlink:href=\"#DejaVuSans-101\"/>\r\n     <use x=\"251.080078\" xlink:href=\"#DejaVuSans-32\"/>\r\n     <use x=\"282.867188\" xlink:href=\"#DejaVuSans-78\"/>\r\n     <use x=\"357.671875\" xlink:href=\"#DejaVuSans-101\"/>\r\n     <use x=\"419.195312\" xlink:href=\"#DejaVuSans-103\"/>\r\n    </g>\r\n    <!-- 132 -->\r\n    <g style=\"fill:#262626;\" transform=\"translate(48.936151 212.749375)scale(0.1 -0.1)\">\r\n     <use xlink:href=\"#DejaVuSans-49\"/>\r\n     <use x=\"63.623047\" xlink:href=\"#DejaVuSans-51\"/>\r\n     <use x=\"127.246094\" xlink:href=\"#DejaVuSans-50\"/>\r\n    </g>\r\n    <!-- 0.38% -->\r\n    <g style=\"fill:#262626;\" transform=\"translate(42.596308 223.947187)scale(0.1 -0.1)\">\r\n     <defs>\r\n      <path d=\"M 31.78125 34.625 \r\nQ 24.75 34.625 20.71875 30.859375 \r\nQ 16.703125 27.09375 16.703125 20.515625 \r\nQ 16.703125 13.921875 20.71875 10.15625 \r\nQ 24.75 6.390625 31.78125 6.390625 \r\nQ 38.8125 6.390625 42.859375 10.171875 \r\nQ 46.921875 13.96875 46.921875 20.515625 \r\nQ 46.921875 27.09375 42.890625 30.859375 \r\nQ 38.875 34.625 31.78125 34.625 \r\nz\r\nM 21.921875 38.8125 \r\nQ 15.578125 40.375 12.03125 44.71875 \r\nQ 8.5 49.078125 8.5 55.328125 \r\nQ 8.5 64.0625 14.71875 69.140625 \r\nQ 20.953125 74.21875 31.78125 74.21875 \r\nQ 42.671875 74.21875 48.875 69.140625 \r\nQ 55.078125 64.0625 55.078125 55.328125 \r\nQ 55.078125 49.078125 51.53125 44.71875 \r\nQ 48 40.375 41.703125 38.8125 \r\nQ 48.828125 37.15625 52.796875 32.3125 \r\nQ 56.78125 27.484375 56.78125 20.515625 \r\nQ 56.78125 9.90625 50.3125 4.234375 \r\nQ 43.84375 -1.421875 31.78125 -1.421875 \r\nQ 19.734375 -1.421875 13.25 4.234375 \r\nQ 6.78125 9.90625 6.78125 20.515625 \r\nQ 6.78125 27.484375 10.78125 32.3125 \r\nQ 14.796875 37.15625 21.921875 38.8125 \r\nz\r\nM 18.3125 54.390625 \r\nQ 18.3125 48.734375 21.84375 45.5625 \r\nQ 25.390625 42.390625 31.78125 42.390625 \r\nQ 38.140625 42.390625 41.71875 45.5625 \r\nQ 45.3125 48.734375 45.3125 54.390625 \r\nQ 45.3125 60.0625 41.71875 63.234375 \r\nQ 38.140625 66.40625 31.78125 66.40625 \r\nQ 25.390625 66.40625 21.84375 63.234375 \r\nQ 18.3125 60.0625 18.3125 54.390625 \r\nz\r\n\" id=\"DejaVuSans-56\"/>\r\n     </defs>\r\n     <use xlink:href=\"#DejaVuSans-48\"/>\r\n     <use x=\"63.623047\" xlink:href=\"#DejaVuSans-46\"/>\r\n     <use x=\"95.410156\" xlink:href=\"#DejaVuSans-51\"/>\r\n     <use x=\"159.033203\" xlink:href=\"#DejaVuSans-56\"/>\r\n     <use x=\"222.65625\" xlink:href=\"#DejaVuSans-37\"/>\r\n    </g>\r\n   </g>\r\n   <g id=\"text_8\">\r\n    <!-- True Pos -->\r\n    <g style=\"fill:#262626;\" transform=\"translate(106.979548 201.551562)scale(0.1 -0.1)\">\r\n     <use xlink:href=\"#DejaVuSans-84\"/>\r\n     <use x=\"46.333984\" xlink:href=\"#DejaVuSans-114\"/>\r\n     <use x=\"87.447266\" xlink:href=\"#DejaVuSans-117\"/>\r\n     <use x=\"150.826172\" xlink:href=\"#DejaVuSans-101\"/>\r\n     <use x=\"212.349609\" xlink:href=\"#DejaVuSans-32\"/>\r\n     <use x=\"244.136719\" xlink:href=\"#DejaVuSans-80\"/>\r\n     <use x=\"300.814453\" xlink:href=\"#DejaVuSans-111\"/>\r\n     <use x=\"361.996094\" xlink:href=\"#DejaVuSans-115\"/>\r\n    </g>\r\n    <!-- 7711 -->\r\n    <g style=\"fill:#262626;\" transform=\"translate(114.958454 212.749375)scale(0.1 -0.1)\">\r\n     <use xlink:href=\"#DejaVuSans-55\"/>\r\n     <use x=\"63.623047\" xlink:href=\"#DejaVuSans-55\"/>\r\n     <use x=\"127.246094\" xlink:href=\"#DejaVuSans-49\"/>\r\n     <use x=\"190.869141\" xlink:href=\"#DejaVuSans-49\"/>\r\n    </g>\r\n    <!-- 21.97% -->\r\n    <g style=\"fill:#262626;\" transform=\"translate(108.618611 223.947187)scale(0.1 -0.1)\">\r\n     <defs>\r\n      <path d=\"M 10.984375 1.515625 \r\nL 10.984375 10.5 \r\nQ 14.703125 8.734375 18.5 7.8125 \r\nQ 22.3125 6.890625 25.984375 6.890625 \r\nQ 35.75 6.890625 40.890625 13.453125 \r\nQ 46.046875 20.015625 46.78125 33.40625 \r\nQ 43.953125 29.203125 39.59375 26.953125 \r\nQ 35.25 24.703125 29.984375 24.703125 \r\nQ 19.046875 24.703125 12.671875 31.3125 \r\nQ 6.296875 37.9375 6.296875 49.421875 \r\nQ 6.296875 60.640625 12.9375 67.421875 \r\nQ 19.578125 74.21875 30.609375 74.21875 \r\nQ 43.265625 74.21875 49.921875 64.515625 \r\nQ 56.59375 54.828125 56.59375 36.375 \r\nQ 56.59375 19.140625 48.40625 8.859375 \r\nQ 40.234375 -1.421875 26.421875 -1.421875 \r\nQ 22.703125 -1.421875 18.890625 -0.6875 \r\nQ 15.09375 0.046875 10.984375 1.515625 \r\nz\r\nM 30.609375 32.421875 \r\nQ 37.25 32.421875 41.125 36.953125 \r\nQ 45.015625 41.5 45.015625 49.421875 \r\nQ 45.015625 57.28125 41.125 61.84375 \r\nQ 37.25 66.40625 30.609375 66.40625 \r\nQ 23.96875 66.40625 20.09375 61.84375 \r\nQ 16.21875 57.28125 16.21875 49.421875 \r\nQ 16.21875 41.5 20.09375 36.953125 \r\nQ 23.96875 32.421875 30.609375 32.421875 \r\nz\r\n\" id=\"DejaVuSans-57\"/>\r\n     </defs>\r\n     <use xlink:href=\"#DejaVuSans-50\"/>\r\n     <use x=\"63.623047\" xlink:href=\"#DejaVuSans-49\"/>\r\n     <use x=\"127.246094\" xlink:href=\"#DejaVuSans-46\"/>\r\n     <use x=\"159.033203\" xlink:href=\"#DejaVuSans-57\"/>\r\n     <use x=\"222.65625\" xlink:href=\"#DejaVuSans-55\"/>\r\n     <use x=\"286.279297\" xlink:href=\"#DejaVuSans-37\"/>\r\n    </g>\r\n   </g>\r\n   <g id=\"text_9\">\r\n    <!-- Clase 0 -->\r\n    <g transform=\"translate(71.006365 49.04)scale(0.12 -0.12)\">\r\n     <defs>\r\n      <path d=\"M 64.40625 67.28125 \r\nL 64.40625 56.890625 \r\nQ 59.421875 61.53125 53.78125 63.8125 \r\nQ 48.140625 66.109375 41.796875 66.109375 \r\nQ 29.296875 66.109375 22.65625 58.46875 \r\nQ 16.015625 50.828125 16.015625 36.375 \r\nQ 16.015625 21.96875 22.65625 14.328125 \r\nQ 29.296875 6.6875 41.796875 6.6875 \r\nQ 48.140625 6.6875 53.78125 8.984375 \r\nQ 59.421875 11.28125 64.40625 15.921875 \r\nL 64.40625 5.609375 \r\nQ 59.234375 2.09375 53.4375 0.328125 \r\nQ 47.65625 -1.421875 41.21875 -1.421875 \r\nQ 24.65625 -1.421875 15.125 8.703125 \r\nQ 5.609375 18.84375 5.609375 36.375 \r\nQ 5.609375 53.953125 15.125 64.078125 \r\nQ 24.65625 74.21875 41.21875 74.21875 \r\nQ 47.75 74.21875 53.53125 72.484375 \r\nQ 59.328125 70.75 64.40625 67.28125 \r\nz\r\n\" id=\"DejaVuSans-67\"/>\r\n     </defs>\r\n     <use xlink:href=\"#DejaVuSans-67\"/>\r\n     <use x=\"69.824219\" xlink:href=\"#DejaVuSans-108\"/>\r\n     <use x=\"97.607422\" xlink:href=\"#DejaVuSans-97\"/>\r\n     <use x=\"158.886719\" xlink:href=\"#DejaVuSans-115\"/>\r\n     <use x=\"210.986328\" xlink:href=\"#DejaVuSans-101\"/>\r\n     <use x=\"272.509766\" xlink:href=\"#DejaVuSans-32\"/>\r\n     <use x=\"304.296875\" xlink:href=\"#DejaVuSans-48\"/>\r\n    </g>\r\n   </g>\r\n  </g>\r\n  <g id=\"axes_2\">\r\n   <g id=\"patch_3\">\r\n    <path clip-path=\"url(#p8fa725298f)\" d=\"M 170.935675 261.64 \r\nL 170.935675 260.832969 \r\nL 170.935675 55.847031 \r\nL 170.935675 55.04 \r\nL 181.265675 55.04 \r\nL 181.265675 55.847031 \r\nL 181.265675 260.832969 \r\nL 181.265675 261.64 \r\nz\r\n\" style=\"fill:#ffffff;stroke:#ffffff;stroke-linejoin:miter;stroke-width:0.01;\"/>\r\n   </g>\r\n   <image height=\"206\" id=\"image35d21c33a3\" transform=\"scale(1 -1)translate(0 -206)\" width=\"10\" x=\"171\" xlink:href=\"data:image/png;base64,\r\niVBORw0KGgoAAAANSUhEUgAAAAoAAADOCAYAAAAHS5MfAAABK0lEQVR4nO2YQQ4DMQgDaZX/v7bqqYF+YSw5okTNGYExjsnu4/15VYDzJEEREasKJYxVAQODBgql2VkViQIP0MO77qOnD6NAeB+PAj3s8Iw5QGZZ7HJ1jjChAZwQhd1IRxA+AaNdFHwXDsCIM+7aXaVxRo6xj8fkBtDWDF5IggG4FS7w2Hi5YOntN1I/jwn1iDMKe8buFLQZ/50ZgZFvBf+9dmc8gJHPmhpAug2gcdbC+vC7GTuccGHWsDTO+Mfoycgx0tJ+p5iAkTtFur+Q+NsMymcldlx7aT6ZuzC6S/Pva6pHgUf75urEiOJmiOLAzytsKXeJ4vcx8ocmxuj/eTVgcwnCRXECRsi3YPaBHx88EMUpGHHX270LeWk/j/7SuGvOI4obQvhFwv0CKiTtnQcyIqIAAAAASUVORK5CYII=\" y=\"-55\"/>\r\n   <g id=\"matplotlib.axis_3\"/>\r\n   <g id=\"matplotlib.axis_4\">\r\n    <g id=\"ytick_3\">\r\n     <g id=\"line2d_5\">\r\n      <defs>\r\n       <path d=\"M 0 0 \r\nL 3.5 0 \r\n\" id=\"mc2ebe15017\" style=\"stroke:#000000;stroke-width:0.8;\"/>\r\n      </defs>\r\n      <g>\r\n       <use style=\"stroke:#000000;stroke-width:0.8;\" x=\"181.265675\" xlink:href=\"#mc2ebe15017\" y=\"235.072483\"/>\r\n      </g>\r\n     </g>\r\n     <g id=\"text_10\">\r\n      <!-- 0.1 -->\r\n      <g transform=\"translate(188.265675 238.871701)scale(0.1 -0.1)\">\r\n       <use xlink:href=\"#DejaVuSans-48\"/>\r\n       <use x=\"63.623047\" xlink:href=\"#DejaVuSans-46\"/>\r\n       <use x=\"95.410156\" xlink:href=\"#DejaVuSans-49\"/>\r\n      </g>\r\n     </g>\r\n    </g>\r\n    <g id=\"ytick_4\">\r\n     <g id=\"line2d_6\">\r\n      <g>\r\n       <use style=\"stroke:#000000;stroke-width:0.8;\" x=\"181.265675\" xlink:href=\"#mc2ebe15017\" y=\"208.451861\"/>\r\n      </g>\r\n     </g>\r\n     <g id=\"text_11\">\r\n      <!-- 0.2 -->\r\n      <g transform=\"translate(188.265675 212.251079)scale(0.1 -0.1)\">\r\n       <use xlink:href=\"#DejaVuSans-48\"/>\r\n       <use x=\"63.623047\" xlink:href=\"#DejaVuSans-46\"/>\r\n       <use x=\"95.410156\" xlink:href=\"#DejaVuSans-50\"/>\r\n      </g>\r\n     </g>\r\n    </g>\r\n    <g id=\"ytick_5\">\r\n     <g id=\"line2d_7\">\r\n      <g>\r\n       <use style=\"stroke:#000000;stroke-width:0.8;\" x=\"181.265675\" xlink:href=\"#mc2ebe15017\" y=\"181.831239\"/>\r\n      </g>\r\n     </g>\r\n     <g id=\"text_12\">\r\n      <!-- 0.3 -->\r\n      <g transform=\"translate(188.265675 185.630457)scale(0.1 -0.1)\">\r\n       <use xlink:href=\"#DejaVuSans-48\"/>\r\n       <use x=\"63.623047\" xlink:href=\"#DejaVuSans-46\"/>\r\n       <use x=\"95.410156\" xlink:href=\"#DejaVuSans-51\"/>\r\n      </g>\r\n     </g>\r\n    </g>\r\n    <g id=\"ytick_6\">\r\n     <g id=\"line2d_8\">\r\n      <g>\r\n       <use style=\"stroke:#000000;stroke-width:0.8;\" x=\"181.265675\" xlink:href=\"#mc2ebe15017\" y=\"155.210617\"/>\r\n      </g>\r\n     </g>\r\n     <g id=\"text_13\">\r\n      <!-- 0.4 -->\r\n      <g transform=\"translate(188.265675 159.009835)scale(0.1 -0.1)\">\r\n       <use xlink:href=\"#DejaVuSans-48\"/>\r\n       <use x=\"63.623047\" xlink:href=\"#DejaVuSans-46\"/>\r\n       <use x=\"95.410156\" xlink:href=\"#DejaVuSans-52\"/>\r\n      </g>\r\n     </g>\r\n    </g>\r\n    <g id=\"ytick_7\">\r\n     <g id=\"line2d_9\">\r\n      <g>\r\n       <use style=\"stroke:#000000;stroke-width:0.8;\" x=\"181.265675\" xlink:href=\"#mc2ebe15017\" y=\"128.589994\"/>\r\n      </g>\r\n     </g>\r\n     <g id=\"text_14\">\r\n      <!-- 0.5 -->\r\n      <g transform=\"translate(188.265675 132.389213)scale(0.1 -0.1)\">\r\n       <defs>\r\n        <path d=\"M 10.796875 72.90625 \r\nL 49.515625 72.90625 \r\nL 49.515625 64.59375 \r\nL 19.828125 64.59375 \r\nL 19.828125 46.734375 \r\nQ 21.96875 47.46875 24.109375 47.828125 \r\nQ 26.265625 48.1875 28.421875 48.1875 \r\nQ 40.625 48.1875 47.75 41.5 \r\nQ 54.890625 34.8125 54.890625 23.390625 \r\nQ 54.890625 11.625 47.5625 5.09375 \r\nQ 40.234375 -1.421875 26.90625 -1.421875 \r\nQ 22.3125 -1.421875 17.546875 -0.640625 \r\nQ 12.796875 0.140625 7.71875 1.703125 \r\nL 7.71875 11.625 \r\nQ 12.109375 9.234375 16.796875 8.0625 \r\nQ 21.484375 6.890625 26.703125 6.890625 \r\nQ 35.15625 6.890625 40.078125 11.328125 \r\nQ 45.015625 15.765625 45.015625 23.390625 \r\nQ 45.015625 31 40.078125 35.4375 \r\nQ 35.15625 39.890625 26.703125 39.890625 \r\nQ 22.75 39.890625 18.8125 39.015625 \r\nQ 14.890625 38.140625 10.796875 36.28125 \r\nz\r\n\" id=\"DejaVuSans-53\"/>\r\n       </defs>\r\n       <use xlink:href=\"#DejaVuSans-48\"/>\r\n       <use x=\"63.623047\" xlink:href=\"#DejaVuSans-46\"/>\r\n       <use x=\"95.410156\" xlink:href=\"#DejaVuSans-53\"/>\r\n      </g>\r\n     </g>\r\n    </g>\r\n    <g id=\"ytick_8\">\r\n     <g id=\"line2d_10\">\r\n      <g>\r\n       <use style=\"stroke:#000000;stroke-width:0.8;\" x=\"181.265675\" xlink:href=\"#mc2ebe15017\" y=\"101.969372\"/>\r\n      </g>\r\n     </g>\r\n     <g id=\"text_15\">\r\n      <!-- 0.6 -->\r\n      <g transform=\"translate(188.265675 105.768591)scale(0.1 -0.1)\">\r\n       <use xlink:href=\"#DejaVuSans-48\"/>\r\n       <use x=\"63.623047\" xlink:href=\"#DejaVuSans-46\"/>\r\n       <use x=\"95.410156\" xlink:href=\"#DejaVuSans-54\"/>\r\n      </g>\r\n     </g>\r\n    </g>\r\n    <g id=\"ytick_9\">\r\n     <g id=\"line2d_11\">\r\n      <g>\r\n       <use style=\"stroke:#000000;stroke-width:0.8;\" x=\"181.265675\" xlink:href=\"#mc2ebe15017\" y=\"75.34875\"/>\r\n      </g>\r\n     </g>\r\n     <g id=\"text_16\">\r\n      <!-- 0.7 -->\r\n      <g transform=\"translate(188.265675 79.147969)scale(0.1 -0.1)\">\r\n       <use xlink:href=\"#DejaVuSans-48\"/>\r\n       <use x=\"63.623047\" xlink:href=\"#DejaVuSans-46\"/>\r\n       <use x=\"95.410156\" xlink:href=\"#DejaVuSans-55\"/>\r\n      </g>\r\n     </g>\r\n    </g>\r\n   </g>\r\n   <g id=\"patch_4\">\r\n    <path d=\"M 170.935675 261.64 \r\nL 170.935675 260.832969 \r\nL 170.935675 55.847031 \r\nL 170.935675 55.04 \r\nL 181.265675 55.04 \r\nL 181.265675 55.847031 \r\nL 181.265675 260.832969 \r\nL 181.265675 261.64 \r\nz\r\n\" style=\"fill:none;\"/>\r\n   </g>\r\n  </g>\r\n  <g id=\"axes_3\">\r\n   <g id=\"patch_5\">\r\n    <path d=\"M 236.278125 261.64 \r\nL 374.685231 261.64 \r\nL 374.685231 55.04 \r\nL 236.278125 55.04 \r\nz\r\n\" style=\"fill:#ffffff;\"/>\r\n   </g>\r\n   <g id=\"QuadMesh_2\">\r\n    <path clip-path=\"url(#pd189f39c68)\" d=\"M 236.278125 55.04 \r\nL 305.481678 55.04 \r\nL 305.481678 158.34 \r\nL 236.278125 158.34 \r\nL 236.278125 55.04 \r\n\" style=\"fill:#00441b;\"/>\r\n    <path clip-path=\"url(#pd189f39c68)\" d=\"M 305.481678 55.04 \r\nL 374.685231 55.04 \r\nL 374.685231 158.34 \r\nL 305.481678 158.34 \r\nL 305.481678 55.04 \r\n\" style=\"fill:#f7fcf5;\"/>\r\n    <path clip-path=\"url(#pd189f39c68)\" d=\"M 236.278125 158.34 \r\nL 305.481678 158.34 \r\nL 305.481678 261.64 \r\nL 236.278125 261.64 \r\nL 236.278125 158.34 \r\n\" style=\"fill:#f5fbf2;\"/>\r\n    <path clip-path=\"url(#pd189f39c68)\" d=\"M 305.481678 158.34 \r\nL 374.685231 158.34 \r\nL 374.685231 261.64 \r\nL 305.481678 261.64 \r\nL 305.481678 158.34 \r\n\" style=\"fill:#bee5b8;\"/>\r\n   </g>\r\n   <g id=\"matplotlib.axis_5\">\r\n    <g id=\"xtick_3\">\r\n     <g id=\"line2d_12\">\r\n      <g>\r\n       <use style=\"stroke:#000000;stroke-width:0.8;\" x=\"270.879901\" xlink:href=\"#m6304eea707\" y=\"261.64\"/>\r\n      </g>\r\n     </g>\r\n     <g id=\"text_17\">\r\n      <!-- 0 -->\r\n      <g transform=\"translate(267.698651 276.238437)scale(0.1 -0.1)\">\r\n       <use xlink:href=\"#DejaVuSans-48\"/>\r\n      </g>\r\n     </g>\r\n    </g>\r\n    <g id=\"xtick_4\">\r\n     <g id=\"line2d_13\">\r\n      <g>\r\n       <use style=\"stroke:#000000;stroke-width:0.8;\" x=\"340.083454\" xlink:href=\"#m6304eea707\" y=\"261.64\"/>\r\n      </g>\r\n     </g>\r\n     <g id=\"text_18\">\r\n      <!-- 1 -->\r\n      <g transform=\"translate(336.902204 276.238437)scale(0.1 -0.1)\">\r\n       <use xlink:href=\"#DejaVuSans-49\"/>\r\n      </g>\r\n     </g>\r\n    </g>\r\n   </g>\r\n   <g id=\"matplotlib.axis_6\">\r\n    <g id=\"ytick_10\">\r\n     <g id=\"line2d_14\">\r\n      <g>\r\n       <use style=\"stroke:#000000;stroke-width:0.8;\" x=\"236.278125\" xlink:href=\"#mdb37ab1172\" y=\"106.69\"/>\r\n      </g>\r\n     </g>\r\n     <g id=\"text_19\">\r\n      <!-- 0 -->\r\n      <g transform=\"translate(227.198437 109.253281)rotate(-90)scale(0.1 -0.1)\">\r\n       <use xlink:href=\"#DejaVuSans-48\"/>\r\n      </g>\r\n     </g>\r\n    </g>\r\n    <g id=\"ytick_11\">\r\n     <g id=\"line2d_15\">\r\n      <g>\r\n       <use style=\"stroke:#000000;stroke-width:0.8;\" x=\"236.278125\" xlink:href=\"#mdb37ab1172\" y=\"209.99\"/>\r\n      </g>\r\n     </g>\r\n     <g id=\"text_20\">\r\n      <!-- 1 -->\r\n      <g transform=\"translate(227.198437 212.553281)rotate(-90)scale(0.1 -0.1)\">\r\n       <use xlink:href=\"#DejaVuSans-49\"/>\r\n      </g>\r\n     </g>\r\n    </g>\r\n   </g>\r\n   <g id=\"text_21\">\r\n    <!-- True Neg -->\r\n    <g style=\"fill:#ffffff;\" transform=\"translate(248.682245 98.251562)scale(0.1 -0.1)\">\r\n     <use xlink:href=\"#DejaVuSans-84\"/>\r\n     <use x=\"46.333984\" xlink:href=\"#DejaVuSans-114\"/>\r\n     <use x=\"87.447266\" xlink:href=\"#DejaVuSans-117\"/>\r\n     <use x=\"150.826172\" xlink:href=\"#DejaVuSans-101\"/>\r\n     <use x=\"212.349609\" xlink:href=\"#DejaVuSans-32\"/>\r\n     <use x=\"244.136719\" xlink:href=\"#DejaVuSans-78\"/>\r\n     <use x=\"318.941406\" xlink:href=\"#DejaVuSans-101\"/>\r\n     <use x=\"380.464844\" xlink:href=\"#DejaVuSans-103\"/>\r\n    </g>\r\n    <!-- 27012 -->\r\n    <g style=\"fill:#ffffff;\" transform=\"translate(254.973651 109.449375)scale(0.1 -0.1)\">\r\n     <use xlink:href=\"#DejaVuSans-50\"/>\r\n     <use x=\"63.623047\" xlink:href=\"#DejaVuSans-55\"/>\r\n     <use x=\"127.246094\" xlink:href=\"#DejaVuSans-48\"/>\r\n     <use x=\"190.869141\" xlink:href=\"#DejaVuSans-49\"/>\r\n     <use x=\"254.492188\" xlink:href=\"#DejaVuSans-50\"/>\r\n    </g>\r\n    <!-- 76.98% -->\r\n    <g style=\"fill:#ffffff;\" transform=\"translate(251.815058 120.647187)scale(0.1 -0.1)\">\r\n     <use xlink:href=\"#DejaVuSans-55\"/>\r\n     <use x=\"63.623047\" xlink:href=\"#DejaVuSans-54\"/>\r\n     <use x=\"127.246094\" xlink:href=\"#DejaVuSans-46\"/>\r\n     <use x=\"159.033203\" xlink:href=\"#DejaVuSans-57\"/>\r\n     <use x=\"222.65625\" xlink:href=\"#DejaVuSans-56\"/>\r\n     <use x=\"286.279297\" xlink:href=\"#DejaVuSans-37\"/>\r\n    </g>\r\n   </g>\r\n   <g id=\"text_22\">\r\n    <!-- False Pos -->\r\n    <g style=\"fill:#262626;\" transform=\"translate(317.442829 98.251562)scale(0.1 -0.1)\">\r\n     <use xlink:href=\"#DejaVuSans-70\"/>\r\n     <use x=\"48.394531\" xlink:href=\"#DejaVuSans-97\"/>\r\n     <use x=\"109.673828\" xlink:href=\"#DejaVuSans-108\"/>\r\n     <use x=\"137.457031\" xlink:href=\"#DejaVuSans-115\"/>\r\n     <use x=\"189.556641\" xlink:href=\"#DejaVuSans-101\"/>\r\n     <use x=\"251.080078\" xlink:href=\"#DejaVuSans-32\"/>\r\n     <use x=\"282.867188\" xlink:href=\"#DejaVuSans-80\"/>\r\n     <use x=\"339.544922\" xlink:href=\"#DejaVuSans-111\"/>\r\n     <use x=\"400.726562\" xlink:href=\"#DejaVuSans-115\"/>\r\n    </g>\r\n    <!-- 29 -->\r\n    <g style=\"fill:#262626;\" transform=\"translate(333.720954 109.449375)scale(0.1 -0.1)\">\r\n     <use xlink:href=\"#DejaVuSans-50\"/>\r\n     <use x=\"63.623047\" xlink:href=\"#DejaVuSans-57\"/>\r\n    </g>\r\n    <!-- 0.08% -->\r\n    <g style=\"fill:#262626;\" transform=\"translate(324.199861 120.647187)scale(0.1 -0.1)\">\r\n     <use xlink:href=\"#DejaVuSans-48\"/>\r\n     <use x=\"63.623047\" xlink:href=\"#DejaVuSans-46\"/>\r\n     <use x=\"95.410156\" xlink:href=\"#DejaVuSans-48\"/>\r\n     <use x=\"159.033203\" xlink:href=\"#DejaVuSans-56\"/>\r\n     <use x=\"222.65625\" xlink:href=\"#DejaVuSans-37\"/>\r\n    </g>\r\n   </g>\r\n   <g id=\"text_23\">\r\n    <!-- False Neg -->\r\n    <g style=\"fill:#262626;\" transform=\"translate(246.745526 201.551562)scale(0.1 -0.1)\">\r\n     <use xlink:href=\"#DejaVuSans-70\"/>\r\n     <use x=\"48.394531\" xlink:href=\"#DejaVuSans-97\"/>\r\n     <use x=\"109.673828\" xlink:href=\"#DejaVuSans-108\"/>\r\n     <use x=\"137.457031\" xlink:href=\"#DejaVuSans-115\"/>\r\n     <use x=\"189.556641\" xlink:href=\"#DejaVuSans-101\"/>\r\n     <use x=\"251.080078\" xlink:href=\"#DejaVuSans-32\"/>\r\n     <use x=\"282.867188\" xlink:href=\"#DejaVuSans-78\"/>\r\n     <use x=\"357.671875\" xlink:href=\"#DejaVuSans-101\"/>\r\n     <use x=\"419.195312\" xlink:href=\"#DejaVuSans-103\"/>\r\n    </g>\r\n    <!-- 470 -->\r\n    <g style=\"fill:#262626;\" transform=\"translate(261.336151 212.749375)scale(0.1 -0.1)\">\r\n     <use xlink:href=\"#DejaVuSans-52\"/>\r\n     <use x=\"63.623047\" xlink:href=\"#DejaVuSans-55\"/>\r\n     <use x=\"127.246094\" xlink:href=\"#DejaVuSans-48\"/>\r\n    </g>\r\n    <!-- 1.34% -->\r\n    <g style=\"fill:#262626;\" transform=\"translate(254.996308 223.947187)scale(0.1 -0.1)\">\r\n     <use xlink:href=\"#DejaVuSans-49\"/>\r\n     <use x=\"63.623047\" xlink:href=\"#DejaVuSans-46\"/>\r\n     <use x=\"95.410156\" xlink:href=\"#DejaVuSans-51\"/>\r\n     <use x=\"159.033203\" xlink:href=\"#DejaVuSans-52\"/>\r\n     <use x=\"222.65625\" xlink:href=\"#DejaVuSans-37\"/>\r\n    </g>\r\n   </g>\r\n   <g id=\"text_24\">\r\n    <!-- True Pos -->\r\n    <g style=\"fill:#262626;\" transform=\"translate(319.379548 201.551562)scale(0.1 -0.1)\">\r\n     <use xlink:href=\"#DejaVuSans-84\"/>\r\n     <use x=\"46.333984\" xlink:href=\"#DejaVuSans-114\"/>\r\n     <use x=\"87.447266\" xlink:href=\"#DejaVuSans-117\"/>\r\n     <use x=\"150.826172\" xlink:href=\"#DejaVuSans-101\"/>\r\n     <use x=\"212.349609\" xlink:href=\"#DejaVuSans-32\"/>\r\n     <use x=\"244.136719\" xlink:href=\"#DejaVuSans-80\"/>\r\n     <use x=\"300.814453\" xlink:href=\"#DejaVuSans-111\"/>\r\n     <use x=\"361.996094\" xlink:href=\"#DejaVuSans-115\"/>\r\n    </g>\r\n    <!-- 7579 -->\r\n    <g style=\"fill:#262626;\" transform=\"translate(327.358454 212.749375)scale(0.1 -0.1)\">\r\n     <use xlink:href=\"#DejaVuSans-55\"/>\r\n     <use x=\"63.623047\" xlink:href=\"#DejaVuSans-53\"/>\r\n     <use x=\"127.246094\" xlink:href=\"#DejaVuSans-55\"/>\r\n     <use x=\"190.869141\" xlink:href=\"#DejaVuSans-57\"/>\r\n    </g>\r\n    <!-- 21.60% -->\r\n    <g style=\"fill:#262626;\" transform=\"translate(321.018611 223.947187)scale(0.1 -0.1)\">\r\n     <use xlink:href=\"#DejaVuSans-50\"/>\r\n     <use x=\"63.623047\" xlink:href=\"#DejaVuSans-49\"/>\r\n     <use x=\"127.246094\" xlink:href=\"#DejaVuSans-46\"/>\r\n     <use x=\"159.033203\" xlink:href=\"#DejaVuSans-54\"/>\r\n     <use x=\"222.65625\" xlink:href=\"#DejaVuSans-48\"/>\r\n     <use x=\"286.279297\" xlink:href=\"#DejaVuSans-37\"/>\r\n    </g>\r\n   </g>\r\n   <g id=\"text_25\">\r\n    <!-- Clase 1 -->\r\n    <g transform=\"translate(283.406365 49.04)scale(0.12 -0.12)\">\r\n     <use xlink:href=\"#DejaVuSans-67\"/>\r\n     <use x=\"69.824219\" xlink:href=\"#DejaVuSans-108\"/>\r\n     <use x=\"97.607422\" xlink:href=\"#DejaVuSans-97\"/>\r\n     <use x=\"158.886719\" xlink:href=\"#DejaVuSans-115\"/>\r\n     <use x=\"210.986328\" xlink:href=\"#DejaVuSans-101\"/>\r\n     <use x=\"272.509766\" xlink:href=\"#DejaVuSans-32\"/>\r\n     <use x=\"304.296875\" xlink:href=\"#DejaVuSans-49\"/>\r\n    </g>\r\n   </g>\r\n  </g>\r\n  <g id=\"axes_4\">\r\n   <g id=\"patch_6\">\r\n    <path clip-path=\"url(#pa48ff1d612)\" d=\"M 383.335675 261.64 \r\nL 383.335675 260.832969 \r\nL 383.335675 55.847031 \r\nL 383.335675 55.04 \r\nL 393.665675 55.04 \r\nL 393.665675 55.847031 \r\nL 393.665675 260.832969 \r\nL 393.665675 261.64 \r\nz\r\n\" style=\"fill:#ffffff;stroke:#ffffff;stroke-linejoin:miter;stroke-width:0.01;\"/>\r\n   </g>\r\n   <image height=\"206\" id=\"image84ae384aed\" transform=\"scale(1 -1)translate(0 -206)\" width=\"11\" x=\"383\" xlink:href=\"data:image/png;base64,\r\niVBORw0KGgoAAAANSUhEUgAAAAsAAADOCAYAAADoifghAAABKklEQVR4nO2YMQ4DMQgESeT/vzZKFeO0KZliJLDiGqG5Zb3c3eP9eZ0onme1MCJinVNuHOsEKA5SDDHqZ53IcrEoHVOjh3Q9mOFQWjBT6eqHdc6BFs1Tv7Bdxp0gZEwjaWE+cigTmTUjsd09kBl13md3wECdGXMPnZOFTIsHREsThox1U6DOTS4swNhemHs6J/Az6gz3oJZI5AG9OziSmW0rLzesziIz8wYJmbRCpok34GrzUrR+2FCgNwAG6vxn/i3uwkwwvESayMwSKa0vTfYuCmy3EiW/hsEmeD+zhcH+bxA/Q521DduFuVw700jiD0kUX/cbaR4ze9lGzN4PyYEbFpq/XAuZwUzgAgr0QsWKy7WUGamxrd3NMDydPQykBtO5XDt0KJeb/wsxYe2dLorsCgAAAABJRU5ErkJggg==\" y=\"-55\"/>\r\n   <g id=\"matplotlib.axis_7\"/>\r\n   <g id=\"matplotlib.axis_8\">\r\n    <g id=\"ytick_12\">\r\n     <g id=\"line2d_16\">\r\n      <g>\r\n       <use style=\"stroke:#000000;stroke-width:0.8;\" x=\"393.665675\" xlink:href=\"#mc2ebe15017\" y=\"234.994779\"/>\r\n      </g>\r\n     </g>\r\n     <g id=\"text_26\">\r\n      <!-- 0.1 -->\r\n      <g transform=\"translate(400.665675 238.793998)scale(0.1 -0.1)\">\r\n       <use xlink:href=\"#DejaVuSans-48\"/>\r\n       <use x=\"63.623047\" xlink:href=\"#DejaVuSans-46\"/>\r\n       <use x=\"95.410156\" xlink:href=\"#DejaVuSans-49\"/>\r\n      </g>\r\n     </g>\r\n    </g>\r\n    <g id=\"ytick_13\">\r\n     <g id=\"line2d_17\">\r\n      <g>\r\n       <use style=\"stroke:#000000;stroke-width:0.8;\" x=\"393.665675\" xlink:href=\"#mc2ebe15017\" y=\"208.127514\"/>\r\n      </g>\r\n     </g>\r\n     <g id=\"text_27\">\r\n      <!-- 0.2 -->\r\n      <g transform=\"translate(400.665675 211.926733)scale(0.1 -0.1)\">\r\n       <use xlink:href=\"#DejaVuSans-48\"/>\r\n       <use x=\"63.623047\" xlink:href=\"#DejaVuSans-46\"/>\r\n       <use x=\"95.410156\" xlink:href=\"#DejaVuSans-50\"/>\r\n      </g>\r\n     </g>\r\n    </g>\r\n    <g id=\"ytick_14\">\r\n     <g id=\"line2d_18\">\r\n      <g>\r\n       <use style=\"stroke:#000000;stroke-width:0.8;\" x=\"393.665675\" xlink:href=\"#mc2ebe15017\" y=\"181.26025\"/>\r\n      </g>\r\n     </g>\r\n     <g id=\"text_28\">\r\n      <!-- 0.3 -->\r\n      <g transform=\"translate(400.665675 185.059469)scale(0.1 -0.1)\">\r\n       <use xlink:href=\"#DejaVuSans-48\"/>\r\n       <use x=\"63.623047\" xlink:href=\"#DejaVuSans-46\"/>\r\n       <use x=\"95.410156\" xlink:href=\"#DejaVuSans-51\"/>\r\n      </g>\r\n     </g>\r\n    </g>\r\n    <g id=\"ytick_15\">\r\n     <g id=\"line2d_19\">\r\n      <g>\r\n       <use style=\"stroke:#000000;stroke-width:0.8;\" x=\"393.665675\" xlink:href=\"#mc2ebe15017\" y=\"154.392985\"/>\r\n      </g>\r\n     </g>\r\n     <g id=\"text_29\">\r\n      <!-- 0.4 -->\r\n      <g transform=\"translate(400.665675 158.192204)scale(0.1 -0.1)\">\r\n       <use xlink:href=\"#DejaVuSans-48\"/>\r\n       <use x=\"63.623047\" xlink:href=\"#DejaVuSans-46\"/>\r\n       <use x=\"95.410156\" xlink:href=\"#DejaVuSans-52\"/>\r\n      </g>\r\n     </g>\r\n    </g>\r\n    <g id=\"ytick_16\">\r\n     <g id=\"line2d_20\">\r\n      <g>\r\n       <use style=\"stroke:#000000;stroke-width:0.8;\" x=\"393.665675\" xlink:href=\"#mc2ebe15017\" y=\"127.525721\"/>\r\n      </g>\r\n     </g>\r\n     <g id=\"text_30\">\r\n      <!-- 0.5 -->\r\n      <g transform=\"translate(400.665675 131.324939)scale(0.1 -0.1)\">\r\n       <use xlink:href=\"#DejaVuSans-48\"/>\r\n       <use x=\"63.623047\" xlink:href=\"#DejaVuSans-46\"/>\r\n       <use x=\"95.410156\" xlink:href=\"#DejaVuSans-53\"/>\r\n      </g>\r\n     </g>\r\n    </g>\r\n    <g id=\"ytick_17\">\r\n     <g id=\"line2d_21\">\r\n      <g>\r\n       <use style=\"stroke:#000000;stroke-width:0.8;\" x=\"393.665675\" xlink:href=\"#mc2ebe15017\" y=\"100.658456\"/>\r\n      </g>\r\n     </g>\r\n     <g id=\"text_31\">\r\n      <!-- 0.6 -->\r\n      <g transform=\"translate(400.665675 104.457675)scale(0.1 -0.1)\">\r\n       <use xlink:href=\"#DejaVuSans-48\"/>\r\n       <use x=\"63.623047\" xlink:href=\"#DejaVuSans-46\"/>\r\n       <use x=\"95.410156\" xlink:href=\"#DejaVuSans-54\"/>\r\n      </g>\r\n     </g>\r\n    </g>\r\n    <g id=\"ytick_18\">\r\n     <g id=\"line2d_22\">\r\n      <g>\r\n       <use style=\"stroke:#000000;stroke-width:0.8;\" x=\"393.665675\" xlink:href=\"#mc2ebe15017\" y=\"73.791191\"/>\r\n      </g>\r\n     </g>\r\n     <g id=\"text_32\">\r\n      <!-- 0.7 -->\r\n      <g transform=\"translate(400.665675 77.59041)scale(0.1 -0.1)\">\r\n       <use xlink:href=\"#DejaVuSans-48\"/>\r\n       <use x=\"63.623047\" xlink:href=\"#DejaVuSans-46\"/>\r\n       <use x=\"95.410156\" xlink:href=\"#DejaVuSans-55\"/>\r\n      </g>\r\n     </g>\r\n    </g>\r\n   </g>\r\n   <g id=\"patch_7\">\r\n    <path d=\"M 383.335675 261.64 \r\nL 383.335675 260.832969 \r\nL 383.335675 55.847031 \r\nL 383.335675 55.04 \r\nL 393.665675 55.04 \r\nL 393.665675 55.847031 \r\nL 393.665675 260.832969 \r\nL 393.665675 261.64 \r\nz\r\n\" style=\"fill:none;\"/>\r\n   </g>\r\n  </g>\r\n  <g id=\"axes_5\">\r\n   <g id=\"patch_8\">\r\n    <path d=\"M 448.678125 261.64 \r\nL 587.085231 261.64 \r\nL 587.085231 55.04 \r\nL 448.678125 55.04 \r\nz\r\n\" style=\"fill:#ffffff;\"/>\r\n   </g>\r\n   <g id=\"QuadMesh_3\">\r\n    <path clip-path=\"url(#p96aaa0583a)\" d=\"M 448.678125 55.04 \r\nL 517.881678 55.04 \r\nL 517.881678 158.34 \r\nL 448.678125 158.34 \r\nL 448.678125 55.04 \r\n\" style=\"fill:#00441b;\"/>\r\n    <path clip-path=\"url(#p96aaa0583a)\" d=\"M 517.881678 55.04 \r\nL 587.085231 55.04 \r\nL 587.085231 158.34 \r\nL 517.881678 158.34 \r\nL 517.881678 55.04 \r\n\" style=\"fill:#f7fcf5;\"/>\r\n    <path clip-path=\"url(#p96aaa0583a)\" d=\"M 448.678125 158.34 \r\nL 517.881678 158.34 \r\nL 517.881678 261.64 \r\nL 448.678125 261.64 \r\nL 448.678125 158.34 \r\n\" style=\"fill:#f7fcf5;\"/>\r\n    <path clip-path=\"url(#p96aaa0583a)\" d=\"M 517.881678 158.34 \r\nL 587.085231 158.34 \r\nL 587.085231 261.64 \r\nL 517.881678 261.64 \r\nL 517.881678 158.34 \r\n\" style=\"fill:#f4fbf2;\"/>\r\n   </g>\r\n   <g id=\"matplotlib.axis_9\">\r\n    <g id=\"xtick_5\">\r\n     <g id=\"line2d_23\">\r\n      <g>\r\n       <use style=\"stroke:#000000;stroke-width:0.8;\" x=\"483.279901\" xlink:href=\"#m6304eea707\" y=\"261.64\"/>\r\n      </g>\r\n     </g>\r\n     <g id=\"text_33\">\r\n      <!-- 0 -->\r\n      <g transform=\"translate(480.098651 276.238437)scale(0.1 -0.1)\">\r\n       <use xlink:href=\"#DejaVuSans-48\"/>\r\n      </g>\r\n     </g>\r\n    </g>\r\n    <g id=\"xtick_6\">\r\n     <g id=\"line2d_24\">\r\n      <g>\r\n       <use style=\"stroke:#000000;stroke-width:0.8;\" x=\"552.483454\" xlink:href=\"#m6304eea707\" y=\"261.64\"/>\r\n      </g>\r\n     </g>\r\n     <g id=\"text_34\">\r\n      <!-- 1 -->\r\n      <g transform=\"translate(549.302204 276.238437)scale(0.1 -0.1)\">\r\n       <use xlink:href=\"#DejaVuSans-49\"/>\r\n      </g>\r\n     </g>\r\n    </g>\r\n   </g>\r\n   <g id=\"matplotlib.axis_10\">\r\n    <g id=\"ytick_19\">\r\n     <g id=\"line2d_25\">\r\n      <g>\r\n       <use style=\"stroke:#000000;stroke-width:0.8;\" x=\"448.678125\" xlink:href=\"#mdb37ab1172\" y=\"106.69\"/>\r\n      </g>\r\n     </g>\r\n     <g id=\"text_35\">\r\n      <!-- 0 -->\r\n      <g transform=\"translate(439.598438 109.253281)rotate(-90)scale(0.1 -0.1)\">\r\n       <use xlink:href=\"#DejaVuSans-48\"/>\r\n      </g>\r\n     </g>\r\n    </g>\r\n    <g id=\"ytick_20\">\r\n     <g id=\"line2d_26\">\r\n      <g>\r\n       <use style=\"stroke:#000000;stroke-width:0.8;\" x=\"448.678125\" xlink:href=\"#mdb37ab1172\" y=\"209.99\"/>\r\n      </g>\r\n     </g>\r\n     <g id=\"text_36\">\r\n      <!-- 1 -->\r\n      <g transform=\"translate(439.598438 212.553281)rotate(-90)scale(0.1 -0.1)\">\r\n       <use xlink:href=\"#DejaVuSans-49\"/>\r\n      </g>\r\n     </g>\r\n    </g>\r\n   </g>\r\n   <g id=\"text_37\">\r\n    <!-- True Neg -->\r\n    <g style=\"fill:#ffffff;\" transform=\"translate(461.082245 98.251562)scale(0.1 -0.1)\">\r\n     <use xlink:href=\"#DejaVuSans-84\"/>\r\n     <use x=\"46.333984\" xlink:href=\"#DejaVuSans-114\"/>\r\n     <use x=\"87.447266\" xlink:href=\"#DejaVuSans-117\"/>\r\n     <use x=\"150.826172\" xlink:href=\"#DejaVuSans-101\"/>\r\n     <use x=\"212.349609\" xlink:href=\"#DejaVuSans-32\"/>\r\n     <use x=\"244.136719\" xlink:href=\"#DejaVuSans-78\"/>\r\n     <use x=\"318.941406\" xlink:href=\"#DejaVuSans-101\"/>\r\n     <use x=\"380.464844\" xlink:href=\"#DejaVuSans-103\"/>\r\n    </g>\r\n    <!-- 34275 -->\r\n    <g style=\"fill:#ffffff;\" transform=\"translate(467.373651 109.449375)scale(0.1 -0.1)\">\r\n     <use xlink:href=\"#DejaVuSans-51\"/>\r\n     <use x=\"63.623047\" xlink:href=\"#DejaVuSans-52\"/>\r\n     <use x=\"127.246094\" xlink:href=\"#DejaVuSans-50\"/>\r\n     <use x=\"190.869141\" xlink:href=\"#DejaVuSans-55\"/>\r\n     <use x=\"254.492188\" xlink:href=\"#DejaVuSans-53\"/>\r\n    </g>\r\n    <!-- 97.68% -->\r\n    <g style=\"fill:#ffffff;\" transform=\"translate(464.215058 120.647187)scale(0.1 -0.1)\">\r\n     <use xlink:href=\"#DejaVuSans-57\"/>\r\n     <use x=\"63.623047\" xlink:href=\"#DejaVuSans-55\"/>\r\n     <use x=\"127.246094\" xlink:href=\"#DejaVuSans-46\"/>\r\n     <use x=\"159.033203\" xlink:href=\"#DejaVuSans-54\"/>\r\n     <use x=\"222.65625\" xlink:href=\"#DejaVuSans-56\"/>\r\n     <use x=\"286.279297\" xlink:href=\"#DejaVuSans-37\"/>\r\n    </g>\r\n   </g>\r\n   <g id=\"text_38\">\r\n    <!-- False Pos -->\r\n    <g style=\"fill:#262626;\" transform=\"translate(529.842829 98.251562)scale(0.1 -0.1)\">\r\n     <use xlink:href=\"#DejaVuSans-70\"/>\r\n     <use x=\"48.394531\" xlink:href=\"#DejaVuSans-97\"/>\r\n     <use x=\"109.673828\" xlink:href=\"#DejaVuSans-108\"/>\r\n     <use x=\"137.457031\" xlink:href=\"#DejaVuSans-115\"/>\r\n     <use x=\"189.556641\" xlink:href=\"#DejaVuSans-101\"/>\r\n     <use x=\"251.080078\" xlink:href=\"#DejaVuSans-32\"/>\r\n     <use x=\"282.867188\" xlink:href=\"#DejaVuSans-80\"/>\r\n     <use x=\"339.544922\" xlink:href=\"#DejaVuSans-111\"/>\r\n     <use x=\"400.726562\" xlink:href=\"#DejaVuSans-115\"/>\r\n    </g>\r\n    <!-- 1 -->\r\n    <g style=\"fill:#262626;\" transform=\"translate(549.302204 109.449375)scale(0.1 -0.1)\">\r\n     <use xlink:href=\"#DejaVuSans-49\"/>\r\n    </g>\r\n    <!-- 0.00% -->\r\n    <g style=\"fill:#262626;\" transform=\"translate(536.599861 120.647187)scale(0.1 -0.1)\">\r\n     <use xlink:href=\"#DejaVuSans-48\"/>\r\n     <use x=\"63.623047\" xlink:href=\"#DejaVuSans-46\"/>\r\n     <use x=\"95.410156\" xlink:href=\"#DejaVuSans-48\"/>\r\n     <use x=\"159.033203\" xlink:href=\"#DejaVuSans-48\"/>\r\n     <use x=\"222.65625\" xlink:href=\"#DejaVuSans-37\"/>\r\n    </g>\r\n   </g>\r\n   <g id=\"text_39\">\r\n    <!-- False Neg -->\r\n    <g style=\"fill:#262626;\" transform=\"translate(459.145526 201.551562)scale(0.1 -0.1)\">\r\n     <use xlink:href=\"#DejaVuSans-70\"/>\r\n     <use x=\"48.394531\" xlink:href=\"#DejaVuSans-97\"/>\r\n     <use x=\"109.673828\" xlink:href=\"#DejaVuSans-108\"/>\r\n     <use x=\"137.457031\" xlink:href=\"#DejaVuSans-115\"/>\r\n     <use x=\"189.556641\" xlink:href=\"#DejaVuSans-101\"/>\r\n     <use x=\"251.080078\" xlink:href=\"#DejaVuSans-32\"/>\r\n     <use x=\"282.867188\" xlink:href=\"#DejaVuSans-78\"/>\r\n     <use x=\"357.671875\" xlink:href=\"#DejaVuSans-101\"/>\r\n     <use x=\"419.195312\" xlink:href=\"#DejaVuSans-103\"/>\r\n    </g>\r\n    <!-- 67 -->\r\n    <g style=\"fill:#262626;\" transform=\"translate(476.917401 212.749375)scale(0.1 -0.1)\">\r\n     <use xlink:href=\"#DejaVuSans-54\"/>\r\n     <use x=\"63.623047\" xlink:href=\"#DejaVuSans-55\"/>\r\n    </g>\r\n    <!-- 0.19% -->\r\n    <g style=\"fill:#262626;\" transform=\"translate(467.396308 223.947187)scale(0.1 -0.1)\">\r\n     <use xlink:href=\"#DejaVuSans-48\"/>\r\n     <use x=\"63.623047\" xlink:href=\"#DejaVuSans-46\"/>\r\n     <use x=\"95.410156\" xlink:href=\"#DejaVuSans-49\"/>\r\n     <use x=\"159.033203\" xlink:href=\"#DejaVuSans-57\"/>\r\n     <use x=\"222.65625\" xlink:href=\"#DejaVuSans-37\"/>\r\n    </g>\r\n   </g>\r\n   <g id=\"text_40\">\r\n    <!-- True Pos -->\r\n    <g style=\"fill:#262626;\" transform=\"translate(531.779548 201.551562)scale(0.1 -0.1)\">\r\n     <use xlink:href=\"#DejaVuSans-84\"/>\r\n     <use x=\"46.333984\" xlink:href=\"#DejaVuSans-114\"/>\r\n     <use x=\"87.447266\" xlink:href=\"#DejaVuSans-117\"/>\r\n     <use x=\"150.826172\" xlink:href=\"#DejaVuSans-101\"/>\r\n     <use x=\"212.349609\" xlink:href=\"#DejaVuSans-32\"/>\r\n     <use x=\"244.136719\" xlink:href=\"#DejaVuSans-80\"/>\r\n     <use x=\"300.814453\" xlink:href=\"#DejaVuSans-111\"/>\r\n     <use x=\"361.996094\" xlink:href=\"#DejaVuSans-115\"/>\r\n    </g>\r\n    <!-- 747 -->\r\n    <g style=\"fill:#262626;\" transform=\"translate(542.939704 212.749375)scale(0.1 -0.1)\">\r\n     <use xlink:href=\"#DejaVuSans-55\"/>\r\n     <use x=\"63.623047\" xlink:href=\"#DejaVuSans-52\"/>\r\n     <use x=\"127.246094\" xlink:href=\"#DejaVuSans-55\"/>\r\n    </g>\r\n    <!-- 2.13% -->\r\n    <g style=\"fill:#262626;\" transform=\"translate(536.599861 223.947187)scale(0.1 -0.1)\">\r\n     <use xlink:href=\"#DejaVuSans-50\"/>\r\n     <use x=\"63.623047\" xlink:href=\"#DejaVuSans-46\"/>\r\n     <use x=\"95.410156\" xlink:href=\"#DejaVuSans-49\"/>\r\n     <use x=\"159.033203\" xlink:href=\"#DejaVuSans-51\"/>\r\n     <use x=\"222.65625\" xlink:href=\"#DejaVuSans-37\"/>\r\n    </g>\r\n   </g>\r\n   <g id=\"text_41\">\r\n    <!-- Clase 2 -->\r\n    <g transform=\"translate(495.806365 49.04)scale(0.12 -0.12)\">\r\n     <use xlink:href=\"#DejaVuSans-67\"/>\r\n     <use x=\"69.824219\" xlink:href=\"#DejaVuSans-108\"/>\r\n     <use x=\"97.607422\" xlink:href=\"#DejaVuSans-97\"/>\r\n     <use x=\"158.886719\" xlink:href=\"#DejaVuSans-115\"/>\r\n     <use x=\"210.986328\" xlink:href=\"#DejaVuSans-101\"/>\r\n     <use x=\"272.509766\" xlink:href=\"#DejaVuSans-32\"/>\r\n     <use x=\"304.296875\" xlink:href=\"#DejaVuSans-50\"/>\r\n    </g>\r\n   </g>\r\n  </g>\r\n  <g id=\"axes_6\">\r\n   <g id=\"patch_9\">\r\n    <path clip-path=\"url(#p0b8f4b4276)\" d=\"M 595.735675 261.64 \r\nL 595.735675 260.832969 \r\nL 595.735675 55.847031 \r\nL 595.735675 55.04 \r\nL 606.065675 55.04 \r\nL 606.065675 55.847031 \r\nL 606.065675 260.832969 \r\nL 606.065675 261.64 \r\nz\r\n\" style=\"fill:#ffffff;stroke:#ffffff;stroke-linejoin:miter;stroke-width:0.01;\"/>\r\n   </g>\r\n   <image height=\"206\" id=\"image82647282d9\" transform=\"scale(1 -1)translate(0 -206)\" width=\"10\" x=\"596\" xlink:href=\"data:image/png;base64,\r\niVBORw0KGgoAAAANSUhEUgAAAAoAAADOCAYAAAAHS5MfAAABK0lEQVR4nO2YQQ4DMQgDaZX/v7bqqYF+YSw5okTNGYExjsnu4/15VYDzJEEREasKJYxVAQODBgql2VkViQIP0MO77qOnD6NAeB+PAj3s8Iw5QGZZ7HJ1jjChAZwQhd1IRxA+AaNdFHwXDsCIM+7aXaVxRo6xj8fkBtDWDF5IggG4FS7w2Hi5YOntN1I/jwn1iDMKe8buFLQZ/50ZgZFvBf+9dmc8gJHPmhpAug2gcdbC+vC7GTuccGHWsDTO+Mfoycgx0tJ+p5iAkTtFur+Q+NsMymcldlx7aT6ZuzC6S/Pva6pHgUf75urEiOJmiOLAzytsKXeJ4vcx8ocmxuj/eTVgcwnCRXECRsi3YPaBHx88EMUpGHHX270LeWk/j/7SuGvOI4obQvhFwv0CKiTtnQcyIqIAAAAASUVORK5CYII=\" y=\"-55\"/>\r\n   <g id=\"matplotlib.axis_11\"/>\r\n   <g id=\"matplotlib.axis_12\">\r\n    <g id=\"ytick_21\">\r\n     <g id=\"line2d_27\">\r\n      <g>\r\n       <use style=\"stroke:#000000;stroke-width:0.8;\" x=\"606.065675\" xlink:href=\"#mc2ebe15017\" y=\"219.342276\"/>\r\n      </g>\r\n     </g>\r\n     <g id=\"text_42\">\r\n      <!-- 0.2 -->\r\n      <g transform=\"translate(613.065675 223.141495)scale(0.1 -0.1)\">\r\n       <use xlink:href=\"#DejaVuSans-48\"/>\r\n       <use x=\"63.623047\" xlink:href=\"#DejaVuSans-46\"/>\r\n       <use x=\"95.410156\" xlink:href=\"#DejaVuSans-50\"/>\r\n      </g>\r\n     </g>\r\n    </g>\r\n    <g id=\"ytick_22\">\r\n     <g id=\"line2d_28\">\r\n      <g>\r\n       <use style=\"stroke:#000000;stroke-width:0.8;\" x=\"606.065675\" xlink:href=\"#mc2ebe15017\" y=\"177.038524\"/>\r\n      </g>\r\n     </g>\r\n     <g id=\"text_43\">\r\n      <!-- 0.4 -->\r\n      <g transform=\"translate(613.065675 180.837742)scale(0.1 -0.1)\">\r\n       <use xlink:href=\"#DejaVuSans-48\"/>\r\n       <use x=\"63.623047\" xlink:href=\"#DejaVuSans-46\"/>\r\n       <use x=\"95.410156\" xlink:href=\"#DejaVuSans-52\"/>\r\n      </g>\r\n     </g>\r\n    </g>\r\n    <g id=\"ytick_23\">\r\n     <g id=\"line2d_29\">\r\n      <g>\r\n       <use style=\"stroke:#000000;stroke-width:0.8;\" x=\"606.065675\" xlink:href=\"#mc2ebe15017\" y=\"134.734772\"/>\r\n      </g>\r\n     </g>\r\n     <g id=\"text_44\">\r\n      <!-- 0.6 -->\r\n      <g transform=\"translate(613.065675 138.53399)scale(0.1 -0.1)\">\r\n       <use xlink:href=\"#DejaVuSans-48\"/>\r\n       <use x=\"63.623047\" xlink:href=\"#DejaVuSans-46\"/>\r\n       <use x=\"95.410156\" xlink:href=\"#DejaVuSans-54\"/>\r\n      </g>\r\n     </g>\r\n    </g>\r\n    <g id=\"ytick_24\">\r\n     <g id=\"line2d_30\">\r\n      <g>\r\n       <use style=\"stroke:#000000;stroke-width:0.8;\" x=\"606.065675\" xlink:href=\"#mc2ebe15017\" y=\"92.431019\"/>\r\n      </g>\r\n     </g>\r\n     <g id=\"text_45\">\r\n      <!-- 0.8 -->\r\n      <g transform=\"translate(613.065675 96.230238)scale(0.1 -0.1)\">\r\n       <use xlink:href=\"#DejaVuSans-48\"/>\r\n       <use x=\"63.623047\" xlink:href=\"#DejaVuSans-46\"/>\r\n       <use x=\"95.410156\" xlink:href=\"#DejaVuSans-56\"/>\r\n      </g>\r\n     </g>\r\n    </g>\r\n   </g>\r\n   <g id=\"patch_10\">\r\n    <path d=\"M 595.735675 261.64 \r\nL 595.735675 260.832969 \r\nL 595.735675 55.847031 \r\nL 595.735675 55.04 \r\nL 606.065675 55.04 \r\nL 606.065675 55.847031 \r\nL 606.065675 260.832969 \r\nL 606.065675 261.64 \r\nz\r\n\" style=\"fill:none;\"/>\r\n   </g>\r\n  </g>\r\n  <g id=\"text_46\">\r\n   <!-- Matriz de confusión de la categorización de incidentes -->\r\n   <g transform=\"translate(102.151875 19.9975)scale(0.16 -0.16)\">\r\n    <defs>\r\n     <path d=\"M 9.8125 72.90625 \r\nL 24.515625 72.90625 \r\nL 43.109375 23.296875 \r\nL 61.8125 72.90625 \r\nL 76.515625 72.90625 \r\nL 76.515625 0 \r\nL 66.890625 0 \r\nL 66.890625 64.015625 \r\nL 48.09375 14.015625 \r\nL 38.1875 14.015625 \r\nL 19.390625 64.015625 \r\nL 19.390625 0 \r\nL 9.8125 0 \r\nz\r\n\" id=\"DejaVuSans-77\"/>\r\n     <path d=\"M 18.3125 70.21875 \r\nL 18.3125 54.6875 \r\nL 36.8125 54.6875 \r\nL 36.8125 47.703125 \r\nL 18.3125 47.703125 \r\nL 18.3125 18.015625 \r\nQ 18.3125 11.328125 20.140625 9.421875 \r\nQ 21.96875 7.515625 27.59375 7.515625 \r\nL 36.8125 7.515625 \r\nL 36.8125 0 \r\nL 27.59375 0 \r\nQ 17.1875 0 13.234375 3.875 \r\nQ 9.28125 7.765625 9.28125 18.015625 \r\nL 9.28125 47.703125 \r\nL 2.6875 47.703125 \r\nL 2.6875 54.6875 \r\nL 9.28125 54.6875 \r\nL 9.28125 70.21875 \r\nz\r\n\" id=\"DejaVuSans-116\"/>\r\n     <path d=\"M 9.421875 54.6875 \r\nL 18.40625 54.6875 \r\nL 18.40625 0 \r\nL 9.421875 0 \r\nz\r\nM 9.421875 75.984375 \r\nL 18.40625 75.984375 \r\nL 18.40625 64.59375 \r\nL 9.421875 64.59375 \r\nz\r\n\" id=\"DejaVuSans-105\"/>\r\n     <path d=\"M 5.515625 54.6875 \r\nL 48.1875 54.6875 \r\nL 48.1875 46.484375 \r\nL 14.40625 7.171875 \r\nL 48.1875 7.171875 \r\nL 48.1875 0 \r\nL 4.296875 0 \r\nL 4.296875 8.203125 \r\nL 38.09375 47.515625 \r\nL 5.515625 47.515625 \r\nz\r\n\" id=\"DejaVuSans-122\"/>\r\n     <path d=\"M 45.40625 46.390625 \r\nL 45.40625 75.984375 \r\nL 54.390625 75.984375 \r\nL 54.390625 0 \r\nL 45.40625 0 \r\nL 45.40625 8.203125 \r\nQ 42.578125 3.328125 38.25 0.953125 \r\nQ 33.9375 -1.421875 27.875 -1.421875 \r\nQ 17.96875 -1.421875 11.734375 6.484375 \r\nQ 5.515625 14.40625 5.515625 27.296875 \r\nQ 5.515625 40.1875 11.734375 48.09375 \r\nQ 17.96875 56 27.875 56 \r\nQ 33.9375 56 38.25 53.625 \r\nQ 42.578125 51.265625 45.40625 46.390625 \r\nz\r\nM 14.796875 27.296875 \r\nQ 14.796875 17.390625 18.875 11.75 \r\nQ 22.953125 6.109375 30.078125 6.109375 \r\nQ 37.203125 6.109375 41.296875 11.75 \r\nQ 45.40625 17.390625 45.40625 27.296875 \r\nQ 45.40625 37.203125 41.296875 42.84375 \r\nQ 37.203125 48.484375 30.078125 48.484375 \r\nQ 22.953125 48.484375 18.875 42.84375 \r\nQ 14.796875 37.203125 14.796875 27.296875 \r\nz\r\n\" id=\"DejaVuSans-100\"/>\r\n     <path d=\"M 48.78125 52.59375 \r\nL 48.78125 44.1875 \r\nQ 44.96875 46.296875 41.140625 47.34375 \r\nQ 37.3125 48.390625 33.40625 48.390625 \r\nQ 24.65625 48.390625 19.8125 42.84375 \r\nQ 14.984375 37.3125 14.984375 27.296875 \r\nQ 14.984375 17.28125 19.8125 11.734375 \r\nQ 24.65625 6.203125 33.40625 6.203125 \r\nQ 37.3125 6.203125 41.140625 7.25 \r\nQ 44.96875 8.296875 48.78125 10.40625 \r\nL 48.78125 2.09375 \r\nQ 45.015625 0.34375 40.984375 -0.53125 \r\nQ 36.96875 -1.421875 32.421875 -1.421875 \r\nQ 20.0625 -1.421875 12.78125 6.34375 \r\nQ 5.515625 14.109375 5.515625 27.296875 \r\nQ 5.515625 40.671875 12.859375 48.328125 \r\nQ 20.21875 56 33.015625 56 \r\nQ 37.15625 56 41.109375 55.140625 \r\nQ 45.0625 54.296875 48.78125 52.59375 \r\nz\r\n\" id=\"DejaVuSans-99\"/>\r\n     <path d=\"M 54.890625 33.015625 \r\nL 54.890625 0 \r\nL 45.90625 0 \r\nL 45.90625 32.71875 \r\nQ 45.90625 40.484375 42.875 44.328125 \r\nQ 39.84375 48.1875 33.796875 48.1875 \r\nQ 26.515625 48.1875 22.3125 43.546875 \r\nQ 18.109375 38.921875 18.109375 30.90625 \r\nL 18.109375 0 \r\nL 9.078125 0 \r\nL 9.078125 54.6875 \r\nL 18.109375 54.6875 \r\nL 18.109375 46.1875 \r\nQ 21.34375 51.125 25.703125 53.5625 \r\nQ 30.078125 56 35.796875 56 \r\nQ 45.21875 56 50.046875 50.171875 \r\nQ 54.890625 44.34375 54.890625 33.015625 \r\nz\r\n\" id=\"DejaVuSans-110\"/>\r\n     <path d=\"M 37.109375 75.984375 \r\nL 37.109375 68.5 \r\nL 28.515625 68.5 \r\nQ 23.6875 68.5 21.796875 66.546875 \r\nQ 19.921875 64.59375 19.921875 59.515625 \r\nL 19.921875 54.6875 \r\nL 34.71875 54.6875 \r\nL 34.71875 47.703125 \r\nL 19.921875 47.703125 \r\nL 19.921875 0 \r\nL 10.890625 0 \r\nL 10.890625 47.703125 \r\nL 2.296875 47.703125 \r\nL 2.296875 54.6875 \r\nL 10.890625 54.6875 \r\nL 10.890625 58.5 \r\nQ 10.890625 67.625 15.140625 71.796875 \r\nQ 19.390625 75.984375 28.609375 75.984375 \r\nz\r\n\" id=\"DejaVuSans-102\"/>\r\n     <path d=\"M 30.609375 48.390625 \r\nQ 23.390625 48.390625 19.1875 42.75 \r\nQ 14.984375 37.109375 14.984375 27.296875 \r\nQ 14.984375 17.484375 19.15625 11.84375 \r\nQ 23.34375 6.203125 30.609375 6.203125 \r\nQ 37.796875 6.203125 41.984375 11.859375 \r\nQ 46.1875 17.53125 46.1875 27.296875 \r\nQ 46.1875 37.015625 41.984375 42.703125 \r\nQ 37.796875 48.390625 30.609375 48.390625 \r\nz\r\nM 30.609375 56 \r\nQ 42.328125 56 49.015625 48.375 \r\nQ 55.71875 40.765625 55.71875 27.296875 \r\nQ 55.71875 13.875 49.015625 6.21875 \r\nQ 42.328125 -1.421875 30.609375 -1.421875 \r\nQ 18.84375 -1.421875 12.171875 6.21875 \r\nQ 5.515625 13.875 5.515625 27.296875 \r\nQ 5.515625 40.765625 12.171875 48.375 \r\nQ 18.84375 56 30.609375 56 \r\nz\r\nM 37.40625 79.984375 \r\nL 47.125 79.984375 \r\nL 31.21875 61.625 \r\nL 23.734375 61.625 \r\nz\r\n\" id=\"DejaVuSans-243\"/>\r\n    </defs>\r\n    <use xlink:href=\"#DejaVuSans-77\"/>\r\n    <use x=\"86.279297\" xlink:href=\"#DejaVuSans-97\"/>\r\n    <use x=\"147.558594\" xlink:href=\"#DejaVuSans-116\"/>\r\n    <use x=\"186.767578\" xlink:href=\"#DejaVuSans-114\"/>\r\n    <use x=\"227.880859\" xlink:href=\"#DejaVuSans-105\"/>\r\n    <use x=\"255.664062\" xlink:href=\"#DejaVuSans-122\"/>\r\n    <use x=\"308.154297\" xlink:href=\"#DejaVuSans-32\"/>\r\n    <use x=\"339.941406\" xlink:href=\"#DejaVuSans-100\"/>\r\n    <use x=\"403.417969\" xlink:href=\"#DejaVuSans-101\"/>\r\n    <use x=\"464.941406\" xlink:href=\"#DejaVuSans-32\"/>\r\n    <use x=\"496.728516\" xlink:href=\"#DejaVuSans-99\"/>\r\n    <use x=\"551.708984\" xlink:href=\"#DejaVuSans-111\"/>\r\n    <use x=\"612.890625\" xlink:href=\"#DejaVuSans-110\"/>\r\n    <use x=\"676.269531\" xlink:href=\"#DejaVuSans-102\"/>\r\n    <use x=\"711.474609\" xlink:href=\"#DejaVuSans-117\"/>\r\n    <use x=\"774.853516\" xlink:href=\"#DejaVuSans-115\"/>\r\n    <use x=\"826.953125\" xlink:href=\"#DejaVuSans-105\"/>\r\n    <use x=\"854.736328\" xlink:href=\"#DejaVuSans-243\"/>\r\n    <use x=\"915.917969\" xlink:href=\"#DejaVuSans-110\"/>\r\n    <use x=\"979.296875\" xlink:href=\"#DejaVuSans-32\"/>\r\n    <use x=\"1011.083984\" xlink:href=\"#DejaVuSans-100\"/>\r\n    <use x=\"1074.560547\" xlink:href=\"#DejaVuSans-101\"/>\r\n    <use x=\"1136.083984\" xlink:href=\"#DejaVuSans-32\"/>\r\n    <use x=\"1167.871094\" xlink:href=\"#DejaVuSans-108\"/>\r\n    <use x=\"1195.654297\" xlink:href=\"#DejaVuSans-97\"/>\r\n    <use x=\"1256.933594\" xlink:href=\"#DejaVuSans-32\"/>\r\n    <use x=\"1288.720703\" xlink:href=\"#DejaVuSans-99\"/>\r\n    <use x=\"1343.701172\" xlink:href=\"#DejaVuSans-97\"/>\r\n    <use x=\"1404.980469\" xlink:href=\"#DejaVuSans-116\"/>\r\n    <use x=\"1444.189453\" xlink:href=\"#DejaVuSans-101\"/>\r\n    <use x=\"1505.712891\" xlink:href=\"#DejaVuSans-103\"/>\r\n    <use x=\"1569.189453\" xlink:href=\"#DejaVuSans-111\"/>\r\n    <use x=\"1630.371094\" xlink:href=\"#DejaVuSans-114\"/>\r\n    <use x=\"1671.484375\" xlink:href=\"#DejaVuSans-105\"/>\r\n    <use x=\"1699.267578\" xlink:href=\"#DejaVuSans-122\"/>\r\n    <use x=\"1751.757812\" xlink:href=\"#DejaVuSans-97\"/>\r\n    <use x=\"1813.037109\" xlink:href=\"#DejaVuSans-99\"/>\r\n    <use x=\"1868.017578\" xlink:href=\"#DejaVuSans-105\"/>\r\n    <use x=\"1895.800781\" xlink:href=\"#DejaVuSans-243\"/>\r\n    <use x=\"1956.982422\" xlink:href=\"#DejaVuSans-110\"/>\r\n    <use x=\"2020.361328\" xlink:href=\"#DejaVuSans-32\"/>\r\n    <use x=\"2052.148438\" xlink:href=\"#DejaVuSans-100\"/>\r\n    <use x=\"2115.625\" xlink:href=\"#DejaVuSans-101\"/>\r\n    <use x=\"2177.148438\" xlink:href=\"#DejaVuSans-32\"/>\r\n    <use x=\"2208.935547\" xlink:href=\"#DejaVuSans-105\"/>\r\n    <use x=\"2236.71875\" xlink:href=\"#DejaVuSans-110\"/>\r\n    <use x=\"2300.097656\" xlink:href=\"#DejaVuSans-99\"/>\r\n    <use x=\"2355.078125\" xlink:href=\"#DejaVuSans-105\"/>\r\n    <use x=\"2382.861328\" xlink:href=\"#DejaVuSans-100\"/>\r\n    <use x=\"2446.337891\" xlink:href=\"#DejaVuSans-101\"/>\r\n    <use x=\"2507.861328\" xlink:href=\"#DejaVuSans-110\"/>\r\n    <use x=\"2571.240234\" xlink:href=\"#DejaVuSans-116\"/>\r\n    <use x=\"2610.449219\" xlink:href=\"#DejaVuSans-101\"/>\r\n    <use x=\"2671.972656\" xlink:href=\"#DejaVuSans-115\"/>\r\n   </g>\r\n  </g>\r\n </g>\r\n <defs>\r\n  <clipPath id=\"p37233e57f5\">\r\n   <rect height=\"206.6\" width=\"138.407106\" x=\"23.878125\" y=\"55.04\"/>\r\n  </clipPath>\r\n  <clipPath id=\"p8fa725298f\">\r\n   <rect height=\"206.6\" width=\"10.33\" x=\"170.935675\" y=\"55.04\"/>\r\n  </clipPath>\r\n  <clipPath id=\"pd189f39c68\">\r\n   <rect height=\"206.6\" width=\"138.407106\" x=\"236.278125\" y=\"55.04\"/>\r\n  </clipPath>\r\n  <clipPath id=\"pa48ff1d612\">\r\n   <rect height=\"206.6\" width=\"10.33\" x=\"383.335675\" y=\"55.04\"/>\r\n  </clipPath>\r\n  <clipPath id=\"p96aaa0583a\">\r\n   <rect height=\"206.6\" width=\"138.407106\" x=\"448.678125\" y=\"55.04\"/>\r\n  </clipPath>\r\n  <clipPath id=\"p0b8f4b4276\">\r\n   <rect height=\"206.6\" width=\"10.33\" x=\"595.735675\" y=\"55.04\"/>\r\n  </clipPath>\r\n </defs>\r\n</svg>\r\n",
      "image/png": "[encoded data removed]"
     },
     "metadata": {
      "needs_background": "light"
     }
    }
   ],
   "source": [
    "conf_matrix = multilabel_confusion_matrix(y_test1,y_xgb_first)\n",
    "\n",
    "plt.figure(figsize=(9,4))\n",
    "plt.suptitle('Matriz de confusión de la categorización de incidentes', fontsize=16)\n",
    "for i in range(3):\n",
    "    group_names = ['True Neg','False Pos','False Neg','True Pos']\n",
    "    group_counts = ['{0:0.0f}'.format(value) for value in\n",
    "                    conf_matrix[i].flatten()]\n",
    "    group_percentages = ['{0:.2%}'.format(value) for value in\n",
    "                        conf_matrix[i].flatten()/np.sum(conf_matrix[i])]\n",
    "    labels = ['%s\\n%s\\n%s' % (v1, v2, v3) for v1, v2, v3 in\n",
    "            zip(group_names,group_counts,group_percentages)]\n",
    "    labels = np.asarray(labels).reshape(2,2)\n",
    "    plt.subplot(1, 3, i+1)\n",
    "    sns.heatmap(conf_matrix[i]/np.sum(conf_matrix[i]), annot=labels, fmt='', cmap='Greens')\n",
    "    plt.title('Clase %d'%i, fontsize=12)\n",
    "plt.tight_layout()\n",
    "plt.show()"
   ]
  },
  {
   "cell_type": "code",
   "execution_count": 8,
   "metadata": {},
   "outputs": [
    {
     "output_type": "stream",
     "name": "stdout",
     "text": [
      "Fitting 3 folds for each of 12 candidates, totalling 36 fits\n",
      "Fitting 3 folds for each of 12 candidates, totalling 36 fits\n",
      "Fitting 3 folds for each of 12 candidates, totalling 36 fits\n",
      "6813.413553237915\n"
     ]
    }
   ],
   "source": [
    "param_test0 = {\n",
    " 'max_depth':range(3,10,2),\n",
    " 'min_child_weight':range(1,6,2)\n",
    "}\n",
    "\n",
    "start = time.time()\n",
    "gsearch0 = GridSearchCV(estimator = XGBClassifier(learning_rate=0.3, n_estimators=100, max_depth=6,\n",
    "                                        min_child_weight=1, gamma=0, subsample=0.8, colsample_bytree=0.8,\n",
    "                                        objective= 'binary:logistic', nthread=4, scale_pos_weight=1, \n",
    "                                        eval_metric='error', seed=27), \n",
    "                        param_grid = param_test0, scoring='accuracy',n_jobs=4, cv=3, verbose=2)\n",
    "grid_result0 = MultiOutputClassifier(gsearch0).fit(X_train1, y_train1)\n",
    "end = time.time()\n",
    "print(str(end-start))\n",
    "with open('param_test0', 'wb') as picklefile:\n",
    "    pickle.dump(grid_result0, picklefile)\n",
    "for i in range(3):\n",
    "    grid_results0 = pd.DataFrame(grid_result0.estimators_[i].cv_results_)\n",
    "    grid_results0.to_csv('grid_results0-%d.csv'%(i))"
   ]
  },
  {
   "cell_type": "code",
   "execution_count": 11,
   "metadata": {},
   "outputs": [
    {
     "output_type": "stream",
     "name": "stdout",
     "text": [
      "Fitting 3 folds for each of 4 candidates, totalling 12 fits\n",
      "Fitting 3 folds for each of 4 candidates, totalling 12 fits\n",
      "Fitting 3 folds for each of 4 candidates, totalling 12 fits\n",
      "3973.1002860069275\n"
     ]
    }
   ],
   "source": [
    "param_test1 = {\n",
    " 'gamma':[i/10.0 for i in range(0,4)]\n",
    "}\n",
    "\n",
    "start = time.time()\n",
    "gsearch1 = GridSearchCV(estimator = XGBClassifier(learning_rate=0.3, n_estimators=100,\n",
    "                                        max_depth=9,\n",
    "                                        min_child_weight=1, gamma=0, subsample=0.8, colsample_bytree=0.8,\n",
    "                                        eval_metric='error', objective= 'binary:logistic',\n",
    "                                        nthread=4, scale_pos_weight=1, seed=27), \n",
    "                        param_grid = param_test1, scoring='accuracy',n_jobs=4, cv=3, verbose=1)\n",
    "grid_result1 = MultiOutputClassifier(gsearch1).fit(X_train1, y_train1)\n",
    "end = time.time()\n",
    "print(str(end-start))\n",
    "with open('param_test1', 'wb') as picklefile:\n",
    "    pickle.dump(grid_result1, picklefile)\n",
    "for i in range(3):\n",
    "    grid_results1 = pd.DataFrame(grid_result1.estimators_[i].cv_results_)\n",
    "    grid_results1.to_csv('grid_results1-%d.csv'%(i))"
   ]
  },
  {
   "cell_type": "code",
   "execution_count": 7,
   "metadata": {},
   "outputs": [
    {
     "output_type": "stream",
     "name": "stdout",
     "text": [
      "Fitting...\n",
      "Fitting 3 folds for each of 25 candidates, totalling 75 fits\n",
      "Fitting 3 folds for each of 25 candidates, totalling 75 fits\n",
      "Fitting 3 folds for each of 25 candidates, totalling 75 fits\n",
      "19401.869418144226\n"
     ]
    }
   ],
   "source": [
    "param_test2 = {\n",
    " 'subsample':[i/10.0 for i in range(6,11)],\n",
    " 'colsample_bytree':[i/10.0 for i in range(6,11)]\n",
    "}\n",
    "\n",
    "start = time.time()\n",
    "gsearch2 = GridSearchCV(estimator = XGBClassifier(learning_rate=0.3, n_estimators=100, \n",
    "                                        max_depth=9,\n",
    "                                        min_child_weight=1, gamma=0,\n",
    "                                        subsample=0.8, colsample_bytree=0.8,\n",
    "                                        eval_metric='error', objective= 'binary:logistic',\n",
    "                                        nthread=4, scale_pos_weight=1, seed=27), \n",
    "                        param_grid = param_test2, scoring='accuracy',n_jobs=4, cv=3, verbose=1)\n",
    "print('Fitting...')\n",
    "grid_result2 = MultiOutputClassifier(gsearch2).fit(X_train1, y_train1)\n",
    "end = time.time()\n",
    "print(str(end-start))\n",
    "with open('param_test2', 'wb') as picklefile:\n",
    "    pickle.dump(grid_result2, picklefile)\n",
    "for i in range(3):\n",
    "    grid_results2 = pd.DataFrame(grid_result2.estimators_[i].cv_results_)\n",
    "    grid_results2.to_csv('grid_results2-%d.csv'%(i))"
   ]
  },
  {
   "cell_type": "code",
   "execution_count": 168,
   "metadata": {},
   "outputs": [
    {
     "output_type": "stream",
     "name": "stdout",
     "text": [
      "Starting.\n",
      "Fitting...\n",
      "Fitting 3 folds for each of 7 candidates, totalling 21 fits\n",
      "Fitting 3 folds for each of 7 candidates, totalling 21 fits\n",
      "Fitting 3 folds for each of 7 candidates, totalling 21 fits\n",
      "7408.464740514755\n"
     ]
    }
   ],
   "source": [
    "param_test3 = {\n",
    " 'reg_alpha':[0, 1e-5, 0.001, 0.005, 0.01, 0.05, 0.1]\n",
    "}\n",
    "\n",
    "print('Starting.')\n",
    "start = time.time()\n",
    "gsearch3 = GridSearchCV(estimator = XGBClassifier(learning_rate=0.3, n_estimators=100,\n",
    "                                        max_depth=9,\n",
    "                                        min_child_weight=1, gamma=0,\n",
    "                                        subsample=0.9, colsample_bytree=1,\n",
    "                                        eval_metric='error', objective= 'binary:logistic',\n",
    "                                        nthread=4, scale_pos_weight=1, seed=27), \n",
    "                        param_grid = param_test3, scoring='accuracy',n_jobs=4, cv=3, verbose=1)\n",
    "print('Fitting...')\n",
    "grid_result3 = MultiOutputClassifier(gsearch3).fit(X_train1, y_train1)\n",
    "end = time.time()\n",
    "print(str(end-start))\n",
    "with open('param_test3', 'wb') as picklefile:\n",
    "    pickle.dump(grid_result3, picklefile)\n",
    "for i in range(3):\n",
    "    grid_results3 = pd.DataFrame(grid_result3.estimators_[i].cv_results_)\n",
    "    grid_results3.to_csv('grid_results3-%d.csv'%(i))"
   ]
  },
  {
   "source": [
    "#### CV adjust"
   ],
   "cell_type": "markdown",
   "metadata": {}
  },
  {
   "cell_type": "code",
   "execution_count": 11,
   "metadata": {},
   "outputs": [
    {
     "output_type": "stream",
     "name": "stdout",
     "text": [
      "[18:25:16] WARNING: C:/Users/Administrator/workspace/xgboost-win64_release_1.3.0/src/learner.cc:1061: Starting in XGBoost 1.3.0, the default evaluation metric used with the objective 'binary:logistic' was changed from 'error' to 'logloss'. Explicitly set eval_metric if you'd like to restore the old behavior.\n",
      "[18:25:16] WARNING: C:/Users/Administrator/workspace/xgboost-win64_release_1.3.0/src/learner.cc:1061: Starting in XGBoost 1.3.0, the default evaluation metric used with the objective 'binary:logistic' was changed from 'error' to 'logloss'. Explicitly set eval_metric if you'd like to restore the old behavior.\n",
      "[18:25:16] WARNING: C:/Users/Administrator/workspace/xgboost-win64_release_1.3.0/src/learner.cc:1061: Starting in XGBoost 1.3.0, the default evaluation metric used with the objective 'binary:logistic' was changed from 'error' to 'logloss'. Explicitly set eval_metric if you'd like to restore the old behavior.\n",
      "[18:25:17] WARNING: C:/Users/Administrator/workspace/xgboost-win64_release_1.3.0/src/learner.cc:1061: Starting in XGBoost 1.3.0, the default evaluation metric used with the objective 'binary:logistic' was changed from 'error' to 'logloss'. Explicitly set eval_metric if you'd like to restore the old behavior.\n",
      "[18:25:17] WARNING: C:/Users/Administrator/workspace/xgboost-win64_release_1.3.0/src/learner.cc:1061: Starting in XGBoost 1.3.0, the default evaluation metric used with the objective 'binary:logistic' was changed from 'error' to 'logloss'. Explicitly set eval_metric if you'd like to restore the old behavior.\n",
      "Done.\n"
     ]
    }
   ],
   "source": [
    "xgb_cv = XGBClassifier(\n",
    "    learning_rate=0.3,\n",
    "    n_estimators=2000,\n",
    "    max_depth=9, min_child_weight=1,\n",
    "    gamma=0, subsample=0.9, colsample_bytree=1,\n",
    "    reg_alpha=0.01,\n",
    "    nthread=4, seed=27, verbosity=1)\n",
    "xgb_param = xgb_cv.get_xgb_params()\n",
    "xgtrain = xgb.DMatrix(X_train1, label=y_train1)\n",
    "cvresult = xgb.cv(xgb_param, xgtrain, num_boost_round=xgb_cv.get_params()['n_estimators'], \n",
    "        nfold=5, early_stopping_rounds=50)\n",
    "xgb_cv.set_params(n_estimators=cvresult.shape[0])\n",
    "print('Done.')"
   ]
  },
  {
   "cell_type": "code",
   "execution_count": 12,
   "metadata": {},
   "outputs": [
    {
     "output_type": "execute_result",
     "data": {
      "text/plain": [
       "12"
      ]
     },
     "metadata": {},
     "execution_count": 12
    }
   ],
   "source": [
    "cvresult.shape[0]"
   ]
  },
  {
   "cell_type": "code",
   "execution_count": null,
   "metadata": {},
   "outputs": [],
   "source": [
    "#Fit the algorithm on the data\n",
    "print('Start training.', time.asc_time())\n",
    "start = time.time()\n",
    "# xgb1.fit(X_train, y_train, verbose=True)\n",
    "mo_cv = MultiOutputClassifier(xgb_cv).fit(X_train1, y_train1)\n",
    "end = time.time()\n",
    "print('End training.', str(end-start)) \n",
    "    \n",
    "#Predict training set:\n",
    "dtrain_predictions = xgb1.predict(X_test)\n",
    "dtrain_predprob = xgb1.predict_proba(X_test)[:,1]\n",
    "    \n",
    "#Print model report:\n",
    "print(\"\\nModel Report\")\n",
    "print(\"Duration:\", str(end-start))\n",
    "print(\"Accuracy : %.4g\" % metrics.accuracy_score(y_test, dtrain_predictions))\n",
    "print(\"AUC Score (Train): %f\" % metrics.roc_auc_score(y_test, dtrain_predprob))"
   ]
  },
  {
   "cell_type": "code",
   "execution_count": null,
   "metadata": {},
   "outputs": [],
   "source": [
    "plt.figure(figsize=(15,5))\n",
    "feat_imp = pd.Series(xgb1.get_booster().get_fscore()).sort_values(ascending=False)\n",
    "feat_imp.plot(kind='bar', title='Feature Importances')\n",
    "plt.ylabel('Feature Importance Score')"
   ]
  },
  {
   "source": [
    "#### Estimators adjust"
   ],
   "cell_type": "markdown",
   "metadata": {}
  },
  {
   "cell_type": "code",
   "execution_count": null,
   "metadata": {},
   "outputs": [],
   "source": [
    "xgresume = []\n",
    "xgb_arr = []\n",
    "\n",
    "for i in [512,1024,2048]:\n",
    "    print('\\nestimators:', str(i))\n",
    "    start = time.time()\n",
    "    xgb = XGBClassifier(\n",
    "        learning_rate=0.3,\n",
    "        n_estimators=i,\n",
    "        max_depth=9, min_child_weight=1,\n",
    "        gamma=0.1, subsample=0.8, colsample_bytree=0.8,\n",
    "        reg_alpha=0.005,\n",
    "        nthread=4, seed=27, eval_metric='error', verbosity=0)\n",
    "    xgb_arr.append(xgb)\n",
    "    print('Fitting... ', time.asctime())\n",
    "    xgb_arr[-1].fit(X_train1, y_train1)\n",
    "    end = time.time()\n",
    "    print('Predicting... ', time.asctime())\n",
    "    y_xgb = xgb_arr[-1].predict(X_test1)\n",
    "    print(str(end-start), accuracy_score(y_test1, y_xgb))\n",
    "    xgresume.append([i, end-start, accuracy_score(y_test1, y_xgb),\n",
    "    confusion_matrix(y_test1,y_xgb), classification_report(y_test1,y_xgb)])"
   ]
  },
  {
   "cell_type": "code",
   "execution_count": null,
   "metadata": {},
   "outputs": [],
   "source": [
    "for i in xgresume:\n",
    "    for s in i: print(s)\n",
    "    print('\\n')"
   ]
  },
  {
   "cell_type": "code",
   "execution_count": null,
   "metadata": {},
   "outputs": [],
   "source": [
    "xs = [i[0] for i in xgresume]\n",
    "ys = [i[1] for i in xgresume]\n",
    "zs = [i[2] for i in xgresume]\n",
    "\n",
    "plt.figure(figsize=(9,3.5))\n",
    "plt.suptitle('Resultados del ajuste de número de estimados', fontsize=16)\n",
    "plt.subplot(1, 2, 1)\n",
    "sns.pointplot(x=xs, y=ys)\n",
    "plt.title('Duración de entrenamiento')\n",
    "plt.xticks(range(len(xs)), xs)\n",
    "plt.subplot(1, 2, 2)\n",
    "sns.pointplot(x=xs, y=zs)\n",
    "plt.title('Precisión obtenida')\n",
    "plt.xticks(range(len(xs)), xs)\n",
    "plt.tight_layout()\n",
    "plt.show()"
   ]
  },
  {
   "cell_type": "code",
   "execution_count": null,
   "metadata": {},
   "outputs": [],
   "source": [
    "with open('xgbresume0', 'wb') as picklefile:\n",
    "    pickle.dump(xgresume, picklefile)\n",
    "with open('xgbarr0', 'wb') as picklefile:\n",
    "    pickle.dump(xgb_arr, picklefile)"
   ]
  },
  {
   "cell_type": "code",
   "execution_count": null,
   "metadata": {},
   "outputs": [],
   "source": [
    "xgresume1 = []\n",
    "xgb_arr1 = []\n",
    "\n",
    "for i in [600,700,800,900]:\n",
    "    print('\\nestimators:', str(i))\n",
    "    start = time.time()\n",
    "    xgb = XGBClassifier(\n",
    "        learning_rate=0.3,\n",
    "        n_estimators=i,\n",
    "        max_depth=9, min_child_weight=1,\n",
    "        gamma=0.1, subsample=0.8, colsample_bytree=0.8,\n",
    "        reg_alpha=0.005,\n",
    "        nthread=4, seed=27, eval_metric='error', verbosity=0)\n",
    "    xgb_arr1.append(xgb)\n",
    "    xgb_arr1[-1].fit(X_train1, y_train1)\n",
    "    end = time.time()\n",
    "    y_xgb = xgb_arr1[-1].predict(X_test1)\n",
    "    print(str(end-start), accuracy_score(y_test1, y_xgb))\n",
    "    xgresume1.append([i, end-start, accuracy_score(y_test1, y_xgb),\n",
    "    confusion_matrix(y_test1,y_xgb), classification_report(y_test1,y_xgb)])"
   ]
  },
  {
   "cell_type": "code",
   "execution_count": null,
   "metadata": {},
   "outputs": [],
   "source": [
    "for i in xgresume1:\n",
    "    for s in i: print(s)\n",
    "    print('\\n')"
   ]
  },
  {
   "cell_type": "code",
   "execution_count": null,
   "metadata": {},
   "outputs": [],
   "source": [
    "[i[0] for i in xgresume1] + [xgresume[1][0]]"
   ]
  },
  {
   "cell_type": "code",
   "execution_count": null,
   "metadata": {},
   "outputs": [],
   "source": [
    "xs = [i[0] for i in xgresume1] + [xgresume[1][0]]\n",
    "ys = [i[1] for i in xgresume1] + [xgresume[1][1]]\n",
    "zs = [i[2] for i in xgresume1] + [xgresume[1][2]]\n",
    "\n",
    "plt.figure(figsize=(8.5,3.5))\n",
    "plt.suptitle('Resultados del subajuste de número de estimados', fontsize=16)\n",
    "plt.subplot(1, 2, 1)\n",
    "sns.pointplot(x=xs, y=ys)\n",
    "plt.title('Duración de entrenamiento')\n",
    "plt.xticks(range(len(xs)), xs)\n",
    "plt.subplot(1, 2, 2)\n",
    "sns.pointplot(x=xs, y=zs)\n",
    "plt.title('Precisión obtenida')\n",
    "plt.xticks(range(len(xs)), xs)\n",
    "plt.tight_layout()\n",
    "plt.show()"
   ]
  },
  {
   "cell_type": "code",
   "execution_count": null,
   "metadata": {},
   "outputs": [],
   "source": [
    "with open('xgbresume1', 'wb') as picklefile:\n",
    "    pickle.dump(xgresume1, picklefile)\n",
    "with open('xgbarr1', 'wb') as picklefile:\n",
    "    pickle.dump(xgb_arr1, picklefile)"
   ]
  },
  {
   "cell_type": "code",
   "execution_count": null,
   "metadata": {},
   "outputs": [],
   "source": [
    "print('\\nestimators: 1000')\n",
    "start = time.time()\n",
    "xgb_final = XGBClassifier(\n",
    "    learning_rate=0.3,\n",
    "    n_estimators=1000,\n",
    "    max_depth=9, min_child_weight=1,\n",
    "    gamma=0.1, subsample=0.8, colsample_bytree=0.8, reg_alpha=0.005,\n",
    "    nthread=4, seed=27, eval_metric='error', verbosity=0)\n",
    "xgb_final.fit(X_train, y_train)\n",
    "end = time.time()\n",
    "y_xgb = xgb_final.predict(X_test)\n",
    "print(str(end-start), accuracy_score(y_test, y_xgb))"
   ]
  },
  {
   "cell_type": "code",
   "execution_count": null,
   "metadata": {},
   "outputs": [],
   "source": [
    "xgb_final = xgb_arr1[-1]\n",
    "y_xgb = xgb_final.predict(X_test1)\n",
    "xgb_final"
   ]
  },
  {
   "cell_type": "code",
   "execution_count": null,
   "metadata": {},
   "outputs": [],
   "source": [
    "xgb_con = confusion_matrix(y_test1,y_xgb)\n",
    "group_names = ['True Neg','False Pos','False Neg','True Pos']\n",
    "group_counts = ['{0:0.0f}'.format(value) for value in\n",
    "                xgb_con.flatten()]\n",
    "group_percentages = ['{0:.2%}'.format(value) for value in\n",
    "                     xgb_con.flatten()/np.sum(xgb_con)]\n",
    "labels = ['%s\\n%s\\n%s' % (v1, v2, v3) for v1, v2, v3 in\n",
    "          zip(group_names,group_counts,group_percentages)]\n",
    "labels = np.asarray(labels).reshape(2,2)\n",
    "plt.figure(figsize=(6,3.2))\n",
    "sns.heatmap(xgb_con/np.sum(xgb_con), annot=labels, fmt='', cmap='Blues')\n",
    "plt.title('Matriz de confusión para 900 estimados', fontsize=13)\n",
    "plt.show()"
   ]
  },
  {
   "cell_type": "code",
   "execution_count": null,
   "metadata": {},
   "outputs": [],
   "source": [
    "with open('xgb_classifier', 'wb') as picklefile:\n",
    "    pickle.dump(xgb_final, picklefile)"
   ]
  },
  {
   "source": [
    "#### Count vectors adjust"
   ],
   "cell_type": "markdown",
   "metadata": {}
  },
  {
   "cell_type": "code",
   "execution_count": null,
   "metadata": {},
   "outputs": [],
   "source": [
    "# load model\n",
    "with open('xgb_classifier', 'rb') as training_model:\n",
    "    xgb = pickle.load(training_model)"
   ]
  },
  {
   "cell_type": "code",
   "execution_count": null,
   "metadata": {},
   "outputs": [],
   "source": [
    "from sklearn.feature_extraction.text import CountVectorizer\n",
    "from sklearn.model_selection import train_test_split\n",
    "\n",
    "xgresume2 = []\n",
    "xgb_arr2 = []\n",
    "\n",
    "for i in [800, 1000, 2000, 5000, 10000]:\n",
    "    print('\\nnumber of features:', str(i))\n",
    "    vectorizer = CountVectorizer(max_features=i, min_df=5, max_df=0.7)\n",
    "    print('Fitting vectorizer...')\n",
    "    X1 = vectorizer.fit_transform(classified.clean).toarray()\n",
    "    print('Creating train-test data...')\n",
    "    X_train, X_test, y_train, y_test = train_test_split(X1, classified.isIncident, test_size=0.2, random_state=0)\n",
    "    print('Fitting model...', time.asctime())\n",
    "    with open('xgb_classifier', 'rb') as training_model:\n",
    "        xgb_arr2.append(pickle.load(training_model))\n",
    "    start = time.time()\n",
    "    xgb_arr2[-1].fit(X_train,y_train)\n",
    "    end = time.time()\n",
    "    print('Fitting time:', str(end-start), '\\nPredicting...')\n",
    "    y_xgb = xgb_arr2[-1].predict(X_test)\n",
    "    print(accuracy_score(y_test, y_xgb))\n",
    "    print(confusion_matrix(y_test,y_xgb))\n",
    "    print(classification_report(y_test,y_xgb))\n",
    "    xgresume2.append([i, end-start, accuracy_score(y_test, y_xgb),\n",
    "    confusion_matrix(y_test,y_xgb), classification_report(y_test,y_xgb)])"
   ]
  },
  {
   "cell_type": "code",
   "execution_count": null,
   "metadata": {},
   "outputs": [],
   "source": [
    "with open('xgbresume2', 'wb') as picklefile:\n",
    "    pickle.dump(xgresume2, picklefile)\n",
    "with open('xgbarr2', 'wb') as picklefile:\n",
    "    pickle.dump(xgb_arr2, picklefile)"
   ]
  },
  {
   "cell_type": "code",
   "execution_count": null,
   "metadata": {},
   "outputs": [],
   "source": [
    "# load model\n",
    "with open('./others/resumes/xgbarr2', 'rb') as arr:\n",
    "    xgb_arr2 = pickle.load(arr)\n",
    "with open('./others/resumes/xgbresume2', 'rb') as resume:\n",
    "    xgresume2 = pickle.load(resume)"
   ]
  },
  {
   "cell_type": "code",
   "execution_count": null,
   "metadata": {},
   "outputs": [],
   "source": [
    "xs = [i[0] for i in xgresume2]\n",
    "ys = [i[1] for i in xgresume2]\n",
    "zs = [i[2] for i in xgresume2]\n",
    "\n",
    "plt.figure(figsize=(9,3.5))\n",
    "plt.suptitle('Resultados del ajuste de número de vectores', fontsize=16)\n",
    "plt.subplot(1, 2, 1)\n",
    "sns.pointplot(x=xs, y=ys)\n",
    "plt.title('Duración de entrenamiento')\n",
    "plt.xticks(range(len(xs)), xs)\n",
    "plt.subplot(1, 2, 2)\n",
    "sns.pointplot(x=xs, y=zs)\n",
    "plt.title('Precisión obtenida')\n",
    "plt.xticks(range(len(xs)), xs)\n",
    "plt.tight_layout()\n",
    "plt.show()"
   ]
  },
  {
   "cell_type": "code",
   "execution_count": null,
   "metadata": {},
   "outputs": [],
   "source": [
    "# save final xgb model\n",
    "xgb_final2 = xgb_arr2[-1]"
   ]
  },
  {
   "cell_type": "code",
   "execution_count": null,
   "metadata": {},
   "outputs": [],
   "source": [
    "# fit vectorizer 5000 features\n",
    "i = 5000\n",
    "print('\\nnumber of features:', str(i))\n",
    "vectorizer10 = CountVectorizer(max_features=i, min_df=5, max_df=0.7)\n",
    "print('Fitting vectorizer...', time.asctime())\n",
    "vectorizer10.fit(classified.clean)"
   ]
  },
  {
   "cell_type": "code",
   "execution_count": null,
   "metadata": {},
   "outputs": [],
   "source": [
    "# convert and split data\n",
    "X_vect = vect.transform(classified.clean).toarray()\n",
    "print('Creating train-test data...')\n",
    "X_train, X_test, y_train, y_test = train_test_split(X_vect, classified.isIncident, test_size=0.2, random_state=0)\n",
    "print('Done.')"
   ]
  },
  {
   "cell_type": "code",
   "execution_count": null,
   "metadata": {},
   "outputs": [],
   "source": [
    "with open('vectorizer5000', 'wb') as picklefile:\n",
    "    pickle.dump(vectorizer10, picklefile)"
   ]
  },
  {
   "cell_type": "code",
   "execution_count": null,
   "metadata": {},
   "outputs": [],
   "source": [
    "# load model fo 5000 features\n",
    "with open('count_vectorizer', 'rb') as v:\n",
    "    vect = pickle.load(v)"
   ]
  },
  {
   "cell_type": "code",
   "execution_count": null,
   "metadata": {},
   "outputs": [],
   "source": [
    "#load model\n",
    "with open('xgb_5000', 'rb') as training_model:\n",
    "    xgb_classifier = pickle.load(training_model)"
   ]
  },
  {
   "cell_type": "code",
   "execution_count": null,
   "metadata": {},
   "outputs": [],
   "source": [
    "# fit classifier with 5000 features\n",
    "print('Fitting model...', time.asctime())\n",
    "start = time.time()\n",
    "xgb_classifier.fit(X_train,y_train)\n",
    "end = time.time()\n",
    "print('Fitting time:', str(end-start), '\\nPredicting...')"
   ]
  },
  {
   "cell_type": "code",
   "execution_count": null,
   "metadata": {},
   "outputs": [],
   "source": [
    "# predict test data\n",
    "print('Predicting data...')\n",
    "y_xgb2 = xgb_classifier.predict(X_test)\n",
    "print(accuracy_score(y_test, y_xgb2))\n",
    "print(confusion_matrix(y_test,y_xgb2))\n",
    "print(classification_report(y_test,y_xgb2))\n",
    "# xgresume2.append([i, end-start, accuracy_score(y_test, y_xgb2),\n",
    "# confusion_matrix(y_test,y_xgb2), classification_report(y_test,y_xgb2)])"
   ]
  },
  {
   "cell_type": "code",
   "execution_count": null,
   "metadata": {},
   "outputs": [],
   "source": [
    "# save trained classifier\n",
    "with open('xgb_features_final', 'wb') as picklefile:\n",
    "    pickle.dump(xgb_classifier, picklefile)"
   ]
  },
  {
   "cell_type": "code",
   "execution_count": null,
   "metadata": {},
   "outputs": [],
   "source": [
    "# count vectors for 10000\n",
    "i = 10000\n",
    "print('\\nnumber of features:', str(i))\n",
    "vectorizer100 = CountVectorizer(max_features=i, min_df=5, max_df=0.7)\n",
    "print('Fitting vectorizer...', time.asctime())\n",
    "vectorizer100.fit(classified.clean)\n",
    "X_vect1 = vectorizer100.transform(classified.clean).toarray()\n",
    "print('Creating train-test data...')\n",
    "X_train3, X_test3, y_train3, y_test3 = train_test_split(X_vect1, classified.isIncident, test_size=0.2, random_state=0)\n",
    "with open('vectorizer10000', 'wb') as picklefile:\n",
    "    pickle.dump(vectorizer100, picklefile)"
   ]
  },
  {
   "cell_type": "code",
   "execution_count": null,
   "metadata": {},
   "outputs": [],
   "source": [
    "# fitting 10000 vectors\n",
    "#load model\n",
    "with open('xgb_classifier', 'rb') as model:\n",
    "    xgb_classifier1 = pickle.load(model)\n",
    "print('Fitting model...', time.asctime())\n",
    "start = time.time()\n",
    "xgb_classifier1.fit(X_train3,y_train3)\n",
    "end = time.time()\n",
    "print('Fitting time:', str(end-start), '\\nPredicting...')\n",
    "y_xgb3 = xgb_classifier1.predict(X_test3)\n",
    "print(accuracy_score(y_test3, y_xgb3))\n",
    "print(confusion_matrix(y_test3,y_xgb3))\n",
    "print(classification_report(y_test3,y_xgb3))\n",
    "# xgresume2.append([i, end-start, accuracy_score(y_test, y_xgb3),\n",
    "# confusion_matrix(y_test,y_xgb3), classification_report(y_test,y_xgb3)])"
   ]
  },
  {
   "cell_type": "code",
   "execution_count": null,
   "metadata": {},
   "outputs": [],
   "source": [
    "xgb_con = confusion_matrix(y_test,y_xgb2)\n",
    "group_names = ['True Neg','False Pos','False Neg','True Pos']\n",
    "group_counts = ['{0:0.0f}'.format(value) for value in\n",
    "                xgb_con.flatten()]\n",
    "group_percentages = ['{0:.2%}'.format(value) for value in\n",
    "                     xgb_con.flatten()/np.sum(xgb_con)]\n",
    "labels = ['%s\\n%s\\n%s' % (v1, v2, v3) for v1, v2, v3 in\n",
    "          zip(group_names,group_counts,group_percentages)]\n",
    "labels = np.asarray(labels).reshape(2,2)\n",
    "plt.figure(figsize=(6,3.2))\n",
    "sns.heatmap(xgb_con/np.sum(xgb_con), annot=labels, fmt='', cmap='Blues')\n",
    "plt.title('Matriz de confusión para 5000 características', fontsize=13)\n",
    "plt.tight_layout()\n",
    "plt.show()"
   ]
  },
  {
   "cell_type": "code",
   "execution_count": null,
   "metadata": {},
   "outputs": [],
   "source": [
    "feat_df = pd.DataFrame(X_vect)\n",
    "feat_df.columns = vect.get_feature_names()\n",
    "\n",
    "plt.figure(figsize=(10,3.5))\n",
    "feat_imp = pd.Series(xgb_classifier.get_booster().get_fscore()).sort_values(ascending=False)[:40]\n",
    "# feat_imp.plot(kind='bar', title='Feature] Importances')\n",
    "feat_values = [int(re.sub('f', '', i)) for i in feat_imp.index]\n",
    "feat_names = [feat_df.columns[i] for i in feat_values]\n",
    "features = pd.DataFrame({'feature_num':feat_values, 'names':feat_names, 'count':feat_imp.values})\n",
    "# plt.bar(x=feat_values, height=feat_imp.values)\n",
    "# sns.barplot(x=feat_values, y=feat_imp.values, data=feat_imp, order=feat_imp.values)\n",
    "plt.suptitle('Importancia de características', fontsize=16)\n",
    "# plt.subplot(2, 1, 1)\n",
    "sns.barplot(x='names', y='count', data=features)\n",
    "plt.xticks(rotation=70, fontsize=12, ha='right')\n",
    "plt.ylabel('Puntaje de características', fontsize=12)\n",
    "# plt.tight_layout()\n",
    "plt.xlabel(None)"
   ]
  }
 ]
}