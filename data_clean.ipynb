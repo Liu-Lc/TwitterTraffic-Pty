{
 "metadata": {
  "language_info": {
   "codemirror_mode": {
    "name": "ipython",
    "version": 3
   },
   "file_extension": ".py",
   "mimetype": "text/x-python",
   "name": "python",
   "nbconvert_exporter": "python",
   "pygments_lexer": "ipython3",
   "version": "3.8.0-final"
  },
  "orig_nbformat": 2,
  "kernelspec": {
   "name": "python3",
   "display_name": "Python 3",
   "language": "python"
  }
 },
 "nbformat": 4,
 "nbformat_minor": 2,
 "cells": [
  {
   "cell_type": "code",
   "execution_count": 1,
   "metadata": {},
   "outputs": [],
   "source": [
    "from db_connection import DB_Connection"
   ]
  },
  {
   "cell_type": "code",
   "execution_count": 2,
   "metadata": {},
   "outputs": [],
   "source": [
    "import pandas as pd, numpy as np \n",
    "import matplotlib.pyplot as plt\n",
    "from matplotlib.widgets import TextBox\n",
    "import re, json\n",
    "from wordcloud import WordCloud"
   ]
  },
  {
   "cell_type": "code",
   "execution_count": 3,
   "metadata": {},
   "outputs": [
    {
     "output_type": "stream",
     "name": "stdout",
     "text": [
      "Connection succesful.\n"
     ]
    }
   ],
   "source": [
    "db = DB_Connection()\n",
    "database = db.query_all()"
   ]
  },
  {
   "cell_type": "code",
   "execution_count": 4,
   "metadata": {},
   "outputs": [],
   "source": [
    "df = pd.DataFrame(database, columns=['id','userid','username','text','date',\n",
    "                            'link','media1','media2','media3', 'media4'])\n",
    "df_clean = df[:]\n",
    "df_clean = df_clean[df_clean.text!='']"
   ]
  },
  {
   "cell_type": "code",
   "execution_count": 55,
   "metadata": {},
   "outputs": [],
   "source": [
    "# Cleaning the tweets\n",
    "stop_words = json.load(open('./others/stop_words.json', encoding='utf8'))\n",
    "def preprocess(tweet):\n",
    "    # remove next lines\n",
    "    tweet = re.sub('\\n', ' ', tweet)\n",
    "    # remove links\n",
    "    tweet = re.sub('http\\S+\\s*', '', tweet)\n",
    "    # remove between parentesis\n",
    "    tweet = re.sub('\\[.*\\]','', tweet)\n",
    "    # remove mentions\n",
    "    tweet = re.sub(\"@\\w+\", \"\", tweet)\n",
    "    # remove hashtags\n",
    "    tweet = re.sub(\"#\\w+\", \"\", tweet)\n",
    "    # alphanumeric and hashtags\n",
    "    tweet = re.sub(\"[^a-zA-Z0-9ñáéíóúÁÉÍÓÚüÜ]\", \" \", tweet)\n",
    "    # remove multiple spaces\n",
    "    tweet = re.sub(\"\\s+\", \" \", tweet)\n",
    "    tweet = re.sub('^\\s+', '', tweet)\n",
    "    # lower first character\n",
    "    try: tweet = tweet[0].lower() + tweet[1:]\n",
    "    except: pass\n",
    "    # remove stop words\n",
    "    tweet = ' '.join([word for word in tweet.split(' ') \n",
    "                if not word.lower() in stop_words])\n",
    "\n",
    "    return tweet"
   ]
  },
  {
   "cell_type": "code",
   "execution_count": null,
   "metadata": {},
   "outputs": [],
   "source": [
    "all_words = ' '.join([preprocess(t) for t in df.text])"
   ]
  },
  {
   "cell_type": "code",
   "execution_count": 61,
   "metadata": {},
   "outputs": [
    {
     "output_type": "execute_result",
     "data": {
      "text/plain": [
       "                         id  \\\n",
       "0       1349845441026912263   \n",
       "1       1349844326575177732   \n",
       "2       1349833820850290690   \n",
       "3       1349832612756545536   \n",
       "4       1349832038250131458   \n",
       "...                     ...   \n",
       "175811   423098320366477312   \n",
       "175812   423098157291933696   \n",
       "175813   423094695871254528   \n",
       "175814   423088950601732097   \n",
       "175815   423080358624509952   \n",
       "\n",
       "                                                     text  \\\n",
       "0       Reportan que se registró una balacera en Santa...   \n",
       "1       [LOÚLTIMO] Un muerto deja balacera en Santa Ma...   \n",
       "2       Vistas del tráfico en el puente de Las América...   \n",
       "3       A 5km/h se desplazan los autos en la Vía Inter...   \n",
       "4       Reportan accidente de tránsito en la avenida L...   \n",
       "...                                                   ...   \n",
       "175811  #Panama \"\\n@CriticaPa\\n: NACIONAL: Quijano: AC...   \n",
       "175812  El Canal de Panamá sirve a 144 rutas marítimas...   \n",
       "175813  \"\\n@LosSantos7\\n: Gran victoria la de anoche v...   \n",
       "175814  \"\\n@tvnnoticias\\n: ¿Está de acuerdo con sancio...   \n",
       "175815                                Buenos Días #Panama   \n",
       "\n",
       "                                                    clean  \n",
       "0       reportan registró balacera Santa María avenida...  \n",
       "1       muerto deja balacera Santa Maria Avenida Ricar...  \n",
       "2       vistas tráfico puente Américas dirección Panam...  \n",
       "3       5km h desplazan autos Vía Interamericana Howar...  \n",
       "4       reportan accidente tránsito avenida Américas C...  \n",
       "...                                                   ...  \n",
       "175811  nACIONAL Quijano ACP recibido constancia escri...  \n",
       "175812  Canal Panamá sirve 144 rutas marítimas conecta...  \n",
       "175813          victoria anoche vs Metro 1 5 Olmedo Solé   \n",
       "175814  acuerdo sanciones billeteros vendan chances bi...  \n",
       "175815                                              Días   \n",
       "\n",
       "[175810 rows x 3 columns]"
      ],
      "text/html": "<div>\n<style scoped>\n    .dataframe tbody tr th:only-of-type {\n        vertical-align: middle;\n    }\n\n    .dataframe tbody tr th {\n        vertical-align: top;\n    }\n\n    .dataframe thead th {\n        text-align: right;\n    }\n</style>\n<table border=\"1\" class=\"dataframe\">\n  <thead>\n    <tr style=\"text-align: right;\">\n      <th></th>\n      <th>id</th>\n      <th>text</th>\n      <th>clean</th>\n    </tr>\n  </thead>\n  <tbody>\n    <tr>\n      <th>0</th>\n      <td>1349845441026912263</td>\n      <td>Reportan que se registró una balacera en Santa...</td>\n      <td>reportan registró balacera Santa María avenida...</td>\n    </tr>\n    <tr>\n      <th>1</th>\n      <td>1349844326575177732</td>\n      <td>[LOÚLTIMO] Un muerto deja balacera en Santa Ma...</td>\n      <td>muerto deja balacera Santa Maria Avenida Ricar...</td>\n    </tr>\n    <tr>\n      <th>2</th>\n      <td>1349833820850290690</td>\n      <td>Vistas del tráfico en el puente de Las América...</td>\n      <td>vistas tráfico puente Américas dirección Panam...</td>\n    </tr>\n    <tr>\n      <th>3</th>\n      <td>1349832612756545536</td>\n      <td>A 5km/h se desplazan los autos en la Vía Inter...</td>\n      <td>5km h desplazan autos Vía Interamericana Howar...</td>\n    </tr>\n    <tr>\n      <th>4</th>\n      <td>1349832038250131458</td>\n      <td>Reportan accidente de tránsito en la avenida L...</td>\n      <td>reportan accidente tránsito avenida Américas C...</td>\n    </tr>\n    <tr>\n      <th>...</th>\n      <td>...</td>\n      <td>...</td>\n      <td>...</td>\n    </tr>\n    <tr>\n      <th>175811</th>\n      <td>423098320366477312</td>\n      <td>#Panama \"\\n@CriticaPa\\n: NACIONAL: Quijano: AC...</td>\n      <td>nACIONAL Quijano ACP recibido constancia escri...</td>\n    </tr>\n    <tr>\n      <th>175812</th>\n      <td>423098157291933696</td>\n      <td>El Canal de Panamá sirve a 144 rutas marítimas...</td>\n      <td>Canal Panamá sirve 144 rutas marítimas conecta...</td>\n    </tr>\n    <tr>\n      <th>175813</th>\n      <td>423094695871254528</td>\n      <td>\"\\n@LosSantos7\\n: Gran victoria la de anoche v...</td>\n      <td>victoria anoche vs Metro 1 5 Olmedo Solé</td>\n    </tr>\n    <tr>\n      <th>175814</th>\n      <td>423088950601732097</td>\n      <td>\"\\n@tvnnoticias\\n: ¿Está de acuerdo con sancio...</td>\n      <td>acuerdo sanciones billeteros vendan chances bi...</td>\n    </tr>\n    <tr>\n      <th>175815</th>\n      <td>423080358624509952</td>\n      <td>Buenos Días #Panama</td>\n      <td>Días</td>\n    </tr>\n  </tbody>\n</table>\n<p>175810 rows × 3 columns</p>\n</div>"
     },
     "metadata": {},
     "execution_count": 61
    }
   ],
   "source": [
    "# df_processed = pd.DataFrame(columns=['id','text','clean','place','coords'])\n",
    "df_processed = df_clean.loc[:, ['id', 'text']]\n",
    "df_processed['clean'] = df_processed.text\n",
    "df_processed['clean'] = df_processed.apply(lambda row: preprocess(row.clean), axis=1)\n",
    "# for row in df:\n",
    "#     index = len(df_processed)\n",
    "#     print(row)\n",
    "#     df_processed.iloc[index, 'id'] = row[0]\n",
    "#     df_processed.iloc[index, 'text'] = row[3]\n",
    "#     clean_twt = preprocess(row[3])\n",
    "#     df_processed.iloc[index, 'clean'] = clean_twt\n",
    "#     df_processed.iloc[index, 'place'] = get_geoloc(clean_twt)\n",
    "\n",
    "df_processed"
   ]
  },
  {
   "source": [
    "### WordCloud"
   ],
   "cell_type": "markdown",
   "metadata": {}
  },
  {
   "cell_type": "code",
   "execution_count": null,
   "metadata": {},
   "outputs": [],
   "source": [
    "cloud = WordCloud(width=1500, height=900).generate(all_words)\n",
    "plt.figure(figsize=(15,9))\n",
    "plt.imshow(cloud)\n",
    "plt.axis('off')\n",
    "plt.show()"
   ]
  },
  {
   "cell_type": "code",
   "execution_count": null,
   "metadata": {},
   "outputs": [],
   "source": [
    "# Find places\n",
    "places = ' '.join(re.findall('([A-Z]\\S+)', all_words))\n",
    "cloud2 = WordCloud(width=1500, height=900).generate(places)\n",
    "plt.figure(figsize=(15,9))\n",
    "plt.imshow(cloud2)\n",
    "plt.axis('off')\n",
    "plt.show()"
   ]
  },
  {
   "source": [
    "### Getting geolocation"
   ],
   "cell_type": "markdown",
   "metadata": {}
  },
  {
   "cell_type": "code",
   "execution_count": 25,
   "metadata": {},
   "outputs": [],
   "source": [
    "from geopy.geocoders import Nominatim\n",
    "gp = Nominatim(user_agent='data-clean')"
   ]
  },
  {
   "cell_type": "code",
   "execution_count": 26,
   "metadata": {},
   "outputs": [],
   "source": [
    "def get_place(tweet):\n",
    "    places = ' '.join(re.findall('([A-Z]\\S+)', tweet))\n",
    "    # geo = gp.geocode('places')\n",
    "    return places"
   ]
  },
  {
   "cell_type": "code",
   "execution_count": 27,
   "metadata": {},
   "outputs": [],
   "source": [
    "def get_geoloc(place):\n",
    "    geo = gp.geocode(place)\n",
    "    return ((geo.latitude, geo.longitude) if geo!=None else (None,None))"
   ]
  },
  {
   "cell_type": "code",
   "execution_count": 28,
   "metadata": {},
   "outputs": [
    {
     "output_type": "stream",
     "name": "stdout",
     "text": [
      "(8.81612315, -80.04228931584623)\n"
     ]
    }
   ],
   "source": [
    "print(get_geoloc('Capira'))"
   ]
  },
  {
   "cell_type": "code",
   "execution_count": 62,
   "metadata": {},
   "outputs": [],
   "source": [
    "df_processed['place'] = df_processed.apply(lambda row: get_place(row.clean), axis=1)\n",
    "# df_processed['lat'] = df_processed.apply(lambda row: get_geoloc(row.place)[0], axis=1)\n",
    "# df_processed['long'] = df_processed.apply(lambda row: get_geoloc(row.place)[1], axis=1)\n",
    "df_processed['lat'] = ''\n",
    "df_processed['long'] = ''\n",
    "df_processed['isIncident'] = ''\n",
    "df_processed['isAccident'] = ''\n",
    "df_processed['isObstacle'] = ''\n",
    "df_processed['isDanger'] = ''"
   ]
  },
  {
   "cell_type": "code",
   "execution_count": 63,
   "metadata": {},
   "outputs": [],
   "source": [
    "df2 = df_processed[:]"
   ]
  },
  {
   "cell_type": "code",
   "execution_count": 49,
   "metadata": {},
   "outputs": [],
   "source": [
    "df2['isIncident'] = df2.apply(lambda row: 1 if any(x in row.clean for x in ['accidente','accidentaron','choque','chocaron','colisión','colisionaron','colisionó','vuelco','volcó','trabajando','trabajo','mantenimiento','cierre','cerraron','daño','dañó','dañado','árbol','incendio','incendiando','incendiado','fuego','inundado','inundación','inundó','tranque','trancado','embotellamiento','huelga','motín','protesta','protestando','obstáculo','obstaculizando','parado','paro']) else 0, axis=1)"
   ]
  },
  {
   "cell_type": "code",
   "execution_count": 86,
   "metadata": {},
   "outputs": [],
   "source": [
    "df2['isAccident'] = np.where(df2.clean.str.contains('accidente|accidentaron|accidentó|choque|chocó|chocaron|choca|chocar|colisión|colisionaron|colisionó|colisiona|colisionado|vuelco|volcó|vuelca|atropello|atropellado'), 1, 0)\n",
    "\n",
    "df2['isObstacle'] = np.where(df2.clean.str.contains('tranque|trancado|embotellamiento|desplazan autos|vistas tráfico|movimiento vehicular|huelga|motín|protesta|protestando|trabajos vía|trabajos|trabajos ruta|cierre|cerraron|cerrado|cierran|cierra|daño|dañó|detuvieron|detenido|detenida|obstáculo|obstaculizando|parado|paro|paño cerrado|tráfico paralizado|tráfico detenido|tráfico afectado|tráfico pesado|tráfico lento|desvío|área acordonada'), 1, 0)\n",
    "\n",
    "df2['isDanger'] = np.where(df2.clean.str.contains('incendio|incendia|incendiando|incendiado|incendiaron|inundado|inundación|inundó'), 1, 0)\n",
    "\n",
    "df2['isIncident'] = np.where(df2[['isAccident','isObstacle','isDanger']].sum(axis=1)>0, 1, 0)"
   ]
  },
  {
   "cell_type": "code",
   "execution_count": 87,
   "metadata": {},
   "outputs": [
    {
     "output_type": "execute_result",
     "data": {
      "text/plain": [
       "                         id  \\\n",
       "0       1349845441026912263   \n",
       "1       1349844326575177732   \n",
       "2       1349833820850290690   \n",
       "3       1349832612756545536   \n",
       "4       1349832038250131458   \n",
       "...                     ...   \n",
       "175811   423098320366477312   \n",
       "175812   423098157291933696   \n",
       "175813   423094695871254528   \n",
       "175814   423088950601732097   \n",
       "175815   423080358624509952   \n",
       "\n",
       "                                                     text  \\\n",
       "0       Reportan que se registró una balacera en Santa...   \n",
       "1       [LOÚLTIMO] Un muerto deja balacera en Santa Ma...   \n",
       "2       Vistas del tráfico en el puente de Las América...   \n",
       "3       A 5km/h se desplazan los autos en la Vía Inter...   \n",
       "4       Reportan accidente de tránsito en la avenida L...   \n",
       "...                                                   ...   \n",
       "175811  #Panama \"\\n@CriticaPa\\n: NACIONAL: Quijano: AC...   \n",
       "175812  El Canal de Panamá sirve a 144 rutas marítimas...   \n",
       "175813  \"\\n@LosSantos7\\n: Gran victoria la de anoche v...   \n",
       "175814  \"\\n@tvnnoticias\\n: ¿Está de acuerdo con sancio...   \n",
       "175815                                Buenos Días #Panama   \n",
       "\n",
       "                                                    clean  \\\n",
       "0       reportan registró balacera Santa María avenida...   \n",
       "1       muerto deja balacera Santa Maria Avenida Ricar...   \n",
       "2       vistas tráfico puente Américas dirección Panam...   \n",
       "3       5km h desplazan autos Vía Interamericana Howar...   \n",
       "4       reportan accidente tránsito avenida Américas C...   \n",
       "...                                                   ...   \n",
       "175811  nACIONAL Quijano ACP recibido constancia escri...   \n",
       "175812  Canal Panamá sirve 144 rutas marítimas conecta...   \n",
       "175813          victoria anoche vs Metro 1 5 Olmedo Solé    \n",
       "175814  acuerdo sanciones billeteros vendan chances bi...   \n",
       "175815                                              Días    \n",
       "\n",
       "                                                    place lat long  \\\n",
       "0             Santa María Ricardo Alfaro Unidades Policía            \n",
       "1       Santa Maria Avenida Ricardo Alfaro Unidades Po...            \n",
       "2                                   Américas Panamá Oeste            \n",
       "3                  Vía Interamericana Howard Panamá Oeste            \n",
       "4                          Américas Chorrera Panamá Oeste            \n",
       "...                                                   ...  ..  ...   \n",
       "175811                                ACIONAL Quijano ACP            \n",
       "175812                                       Canal Panamá            \n",
       "175813                                  Metro Olmedo Solé            \n",
       "175814                                            Comente            \n",
       "175815                                               Días            \n",
       "\n",
       "        isIncident  isAccident  isObstacle  isDanger  \n",
       "0                0           0           0         0  \n",
       "1                0           0           0         0  \n",
       "2                1           0           1         0  \n",
       "3                1           0           1         0  \n",
       "4                1           1           0         0  \n",
       "...            ...         ...         ...       ...  \n",
       "175811           0           0           0         0  \n",
       "175812           0           0           0         0  \n",
       "175813           0           0           0         0  \n",
       "175814           0           0           0         0  \n",
       "175815           0           0           0         0  \n",
       "\n",
       "[175810 rows x 10 columns]"
      ],
      "text/html": "<div>\n<style scoped>\n    .dataframe tbody tr th:only-of-type {\n        vertical-align: middle;\n    }\n\n    .dataframe tbody tr th {\n        vertical-align: top;\n    }\n\n    .dataframe thead th {\n        text-align: right;\n    }\n</style>\n<table border=\"1\" class=\"dataframe\">\n  <thead>\n    <tr style=\"text-align: right;\">\n      <th></th>\n      <th>id</th>\n      <th>text</th>\n      <th>clean</th>\n      <th>place</th>\n      <th>lat</th>\n      <th>long</th>\n      <th>isIncident</th>\n      <th>isAccident</th>\n      <th>isObstacle</th>\n      <th>isDanger</th>\n    </tr>\n  </thead>\n  <tbody>\n    <tr>\n      <th>0</th>\n      <td>1349845441026912263</td>\n      <td>Reportan que se registró una balacera en Santa...</td>\n      <td>reportan registró balacera Santa María avenida...</td>\n      <td>Santa María Ricardo Alfaro Unidades Policía</td>\n      <td></td>\n      <td></td>\n      <td>0</td>\n      <td>0</td>\n      <td>0</td>\n      <td>0</td>\n    </tr>\n    <tr>\n      <th>1</th>\n      <td>1349844326575177732</td>\n      <td>[LOÚLTIMO] Un muerto deja balacera en Santa Ma...</td>\n      <td>muerto deja balacera Santa Maria Avenida Ricar...</td>\n      <td>Santa Maria Avenida Ricardo Alfaro Unidades Po...</td>\n      <td></td>\n      <td></td>\n      <td>0</td>\n      <td>0</td>\n      <td>0</td>\n      <td>0</td>\n    </tr>\n    <tr>\n      <th>2</th>\n      <td>1349833820850290690</td>\n      <td>Vistas del tráfico en el puente de Las América...</td>\n      <td>vistas tráfico puente Américas dirección Panam...</td>\n      <td>Américas Panamá Oeste</td>\n      <td></td>\n      <td></td>\n      <td>1</td>\n      <td>0</td>\n      <td>1</td>\n      <td>0</td>\n    </tr>\n    <tr>\n      <th>3</th>\n      <td>1349832612756545536</td>\n      <td>A 5km/h se desplazan los autos en la Vía Inter...</td>\n      <td>5km h desplazan autos Vía Interamericana Howar...</td>\n      <td>Vía Interamericana Howard Panamá Oeste</td>\n      <td></td>\n      <td></td>\n      <td>1</td>\n      <td>0</td>\n      <td>1</td>\n      <td>0</td>\n    </tr>\n    <tr>\n      <th>4</th>\n      <td>1349832038250131458</td>\n      <td>Reportan accidente de tránsito en la avenida L...</td>\n      <td>reportan accidente tránsito avenida Américas C...</td>\n      <td>Américas Chorrera Panamá Oeste</td>\n      <td></td>\n      <td></td>\n      <td>1</td>\n      <td>1</td>\n      <td>0</td>\n      <td>0</td>\n    </tr>\n    <tr>\n      <th>...</th>\n      <td>...</td>\n      <td>...</td>\n      <td>...</td>\n      <td>...</td>\n      <td>...</td>\n      <td>...</td>\n      <td>...</td>\n      <td>...</td>\n      <td>...</td>\n      <td>...</td>\n    </tr>\n    <tr>\n      <th>175811</th>\n      <td>423098320366477312</td>\n      <td>#Panama \"\\n@CriticaPa\\n: NACIONAL: Quijano: AC...</td>\n      <td>nACIONAL Quijano ACP recibido constancia escri...</td>\n      <td>ACIONAL Quijano ACP</td>\n      <td></td>\n      <td></td>\n      <td>0</td>\n      <td>0</td>\n      <td>0</td>\n      <td>0</td>\n    </tr>\n    <tr>\n      <th>175812</th>\n      <td>423098157291933696</td>\n      <td>El Canal de Panamá sirve a 144 rutas marítimas...</td>\n      <td>Canal Panamá sirve 144 rutas marítimas conecta...</td>\n      <td>Canal Panamá</td>\n      <td></td>\n      <td></td>\n      <td>0</td>\n      <td>0</td>\n      <td>0</td>\n      <td>0</td>\n    </tr>\n    <tr>\n      <th>175813</th>\n      <td>423094695871254528</td>\n      <td>\"\\n@LosSantos7\\n: Gran victoria la de anoche v...</td>\n      <td>victoria anoche vs Metro 1 5 Olmedo Solé</td>\n      <td>Metro Olmedo Solé</td>\n      <td></td>\n      <td></td>\n      <td>0</td>\n      <td>0</td>\n      <td>0</td>\n      <td>0</td>\n    </tr>\n    <tr>\n      <th>175814</th>\n      <td>423088950601732097</td>\n      <td>\"\\n@tvnnoticias\\n: ¿Está de acuerdo con sancio...</td>\n      <td>acuerdo sanciones billeteros vendan chances bi...</td>\n      <td>Comente</td>\n      <td></td>\n      <td></td>\n      <td>0</td>\n      <td>0</td>\n      <td>0</td>\n      <td>0</td>\n    </tr>\n    <tr>\n      <th>175815</th>\n      <td>423080358624509952</td>\n      <td>Buenos Días #Panama</td>\n      <td>Días</td>\n      <td>Días</td>\n      <td></td>\n      <td></td>\n      <td>0</td>\n      <td>0</td>\n      <td>0</td>\n      <td>0</td>\n    </tr>\n  </tbody>\n</table>\n<p>175810 rows × 10 columns</p>\n</div>"
     },
     "metadata": {},
     "execution_count": 87
    }
   ],
   "source": [
    "df2"
   ]
  },
  {
   "cell_type": "code",
   "execution_count": 88,
   "metadata": {},
   "outputs": [],
   "source": [
    "df2.to_csv('data.csv')"
   ]
  },
  {
   "cell_type": "code",
   "execution_count": 66,
   "metadata": {},
   "outputs": [
    {
     "output_type": "stream",
     "name": "stdout",
     "text": [
      "Reportan que se registró una balacera en Santa María, cerca a la avenida Ricardo J. Alfaro. Según información preliminar una persona perdió la vida. Unidades de la Policía se mantienen el área. \n@TraficoCPanama\n #TReporta\n[LOÚLTIMO] Un muerto deja balacera en Santa Maria, cerca a la Avenida Ricardo J Alfaro. Unidades de la Policía Nacional mantiene el área acordonada.\nVistas del tráfico en el puente de Las Américas, en dirección a Panamá Oeste.\nA 5km/h se desplazan los autos en la Vía Interamericana, cerca Howard en dirección a Panamá Oeste.\nReportan accidente de tránsito en la avenida Las Américas, La Chorrera, provincia de Panamá Oeste. Mucha precaución por el área. \n@TraficoCPanama\n #TReporta\n"
     ]
    }
   ],
   "source": [
    "for row in df_processed.head(5).text:\n",
    "    print(row)"
   ]
  },
  {
   "source": [
    "## Some preprocessing tests"
   ],
   "cell_type": "markdown",
   "metadata": {}
  },
  {
   "cell_type": "code",
   "execution_count": null,
   "metadata": {},
   "outputs": [],
   "source": [
    "str1 = '    Hola desde la Capital de Panama @traficopanama #tranque'\n",
    "str2 = preprocess(str1)\n",
    "str2 = "
   ]
  },
  {
   "cell_type": "code",
   "execution_count": null,
   "metadata": {},
   "outputs": [],
   "source": [
    "# str1 = re.sub('^\\s*', '', str1)\n",
    "# str3 = ' '.join([word for word in str1.split(' ') if word.contains('[A-Z]')])\n",
    "# str3\n",
    "re.findall('([A-Z]\\S+)', str1)"
   ]
  },
  {
   "cell_type": "code",
   "execution_count": null,
   "metadata": {},
   "outputs": [],
   "source": [
    "cad = '[Vídeo] [LOULTIMO] hola desde aqui'\n",
    "cad = re.sub('\\[.*\\]','', cad)\n",
    "cad = re.sub('^\\s+', '', cad)\n",
    "cad"
   ]
  },
  {
   "cell_type": "code",
   "execution_count": null,
   "metadata": {},
   "outputs": [],
   "source": [
    "t = re.sub('|'.join(stop_words), '', 'hola en la ola yo estoy aquí')\n",
    "t = re.sub('\\s+', ' ', t)\n",
    "t"
   ]
  },
  {
   "cell_type": "code",
   "execution_count": null,
   "metadata": {},
   "outputs": [],
   "source": [
    "re.sub('asdf', '0', 'asdfasdf')"
   ]
  }
 ]
}