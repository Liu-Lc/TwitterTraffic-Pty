{
 "metadata": {
  "language_info": {
   "codemirror_mode": {
    "name": "ipython",
    "version": 3
   },
   "file_extension": ".py",
   "mimetype": "text/x-python",
   "name": "python",
   "nbconvert_exporter": "python",
   "pygments_lexer": "ipython3",
   "version": "3.8.0"
  },
  "orig_nbformat": 4,
  "kernelspec": {
   "name": "python3",
   "display_name": "Python 3.8.0 64-bit"
  },
  "interpreter": {
   "hash": "39897e887fdcf105827cc0646dea5514e7d787d0b8d213f1a5227514ffbfb4c6"
  }
 },
 "nbformat": 4,
 "nbformat_minor": 2,
 "cells": [
  {
   "cell_type": "code",
   "execution_count": 57,
   "metadata": {},
   "outputs": [],
   "source": [
    "from tweepy import OAuthHandler, API, Stream, Cursor\n",
    "from tweepy.streaming import StreamListener\n",
    "from urllib3.exceptions import ProtocolError\n",
    "import json, time\n",
    "from TweetData import keys\n",
    "import pandas as pd"
   ]
  },
  {
   "cell_type": "code",
   "execution_count": null,
   "metadata": {},
   "outputs": [],
   "source": [
    "# Autenticación con el API de Twitter\n",
    "auth = OAuthHandler(keys.consumer_key, keys.consumer_secret)\n",
    "auth.set_access_token(keys.access_token, keys.access_token_secret)\n",
    "# Establecer la conexión con el API con la autenticación\n",
    "api = API(auth, wait_on_rate_limit=True)"
   ]
  },
  {
   "cell_type": "code",
   "execution_count": 34,
   "metadata": {},
   "outputs": [
    {
     "output_type": "stream",
     "name": "stdout",
     "text": [
      "Duración: 18.35 s\nTweets obtenidos: 313\n"
     ]
    }
   ],
   "source": [
    "# Definir la búsqueda a realizar\n",
    "search_word = \"trafico panama\"\n",
    "\n",
    "start_time = time.time()\n",
    "# Obtener los tweets de los últimos 7 días\n",
    "cursor = Cursor(api.search,\n",
    "                q=search_word,\n",
    "                # since='2021-04-23',\n",
    "                tweet_mode='extended').items()\n",
    "\n",
    "# Recorrer el cursor\n",
    "tweets = [t for t in cursor]\n",
    "end_time = time.time()\n",
    "\n",
    "print('Duración: %.2f s' % (end_time-start_time))\n",
    "print('Tweets obtenidos: %i' % len(tweets))"
   ]
  },
  {
   "cell_type": "code",
   "execution_count": 69,
   "metadata": {},
   "outputs": [],
   "source": [
    "# Objeto Status con su atributo _json\n",
    "tweets[0]._json"
   ]
  },
  {
   "cell_type": "code",
   "execution_count": 70,
   "metadata": {},
   "outputs": [],
   "source": [
    "# Declarar los atributos que se desean obtener\n",
    "attributes = ['id', 'full_text', 'created_at', 'retweet_count', 'favorite_count']\n",
    "# Traer los valores por comprensión de listas\n",
    "data = [[tweet._json[key] for key in attributes] for tweet in tweets]"
   ]
  },
  {
   "cell_type": "code",
   "execution_count": 71,
   "metadata": {},
   "outputs": [],
   "source": [
    "df = pd.DataFrame(data, columns=attributes)"
   ]
  },
  {
   "cell_type": "code",
   "execution_count": 77,
   "metadata": {},
   "outputs": [
    {
     "output_type": "execute_result",
     "data": {
      "text/plain": [
       "retweet_count     2317\n",
       "favorite_count     444\n",
       "dtype: int64"
      ]
     },
     "metadata": {},
     "execution_count": 77
    }
   ],
   "source": [
    "df[['retweet_count', 'favorite_count']].sum()"
   ]
  },
  {
   "source": [],
   "cell_type": "markdown",
   "metadata": {}
  },
  {
   "cell_type": "code",
   "execution_count": null,
   "metadata": {},
   "outputs": [],
   "source": [
    "class SListener(StreamListener):\n",
    "\n",
    "    # initialize API\n",
    "    def __init__(self, api=None, fprefix='streamer'):\n",
    "        self.api = api or API()\n",
    "        # set db connection\n",
    "        # self.db = DB_Connection()\n",
    "\n",
    "    # for each tweet streamed\n",
    "    def on_status(self, status):\n",
    "        print(status)\n",
    "\n",
    "    # if theres an error\n",
    "    def on_error(self, status_code):\n",
    "        if status_code == 420:\n",
    "            # Returning False in on_data disconnects the stream\n",
    "            return False"
   ]
  },
  {
   "cell_type": "code",
   "execution_count": null,
   "metadata": {},
   "outputs": [],
   "source": [
    "listen = SListener(api)\n",
    "stream = Stream(auth, listen)"
   ]
  },
  {
   "cell_type": "code",
   "execution_count": null,
   "metadata": {},
   "outputs": [],
   "source": [
    "while True:\n",
    "    # maintian connection unless interrupted\n",
    "    try:\n",
    "        keywords = ['@traficocpanama,traficocpanama,trafico panama']\n",
    "        stream.filter(track=keywords)\n",
    "    # reconnect automantically if error arise\n",
    "    # due to unstable network connection\n",
    "    except (ProtocolError, AttributeError):\n",
    "        continue"
   ]
  }
 ]
}