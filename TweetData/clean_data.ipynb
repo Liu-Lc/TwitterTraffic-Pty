{
 "metadata": {
  "language_info": {
   "codemirror_mode": {
    "name": "ipython",
    "version": 3
   },
   "file_extension": ".py",
   "mimetype": "text/x-python",
   "name": "python",
   "nbconvert_exporter": "python",
   "pygments_lexer": "ipython3",
   "version": "3.8.0"
  },
  "orig_nbformat": 2,
  "kernelspec": {
   "name": "python380jvsc74a57bd039897e887fdcf105827cc0646dea5514e7d787d0b8d213f1a5227514ffbfb4c6",
   "display_name": "Python 3.8.0 64-bit"
  },
  "metadata": {
   "interpreter": {
    "hash": "39897e887fdcf105827cc0646dea5514e7d787d0b8d213f1a5227514ffbfb4c6"
   }
  }
 },
 "nbformat": 4,
 "nbformat_minor": 2,
 "cells": [
  {
   "cell_type": "code",
   "execution_count": 11,
   "metadata": {},
   "outputs": [],
   "source": [
    "import psycopg2 as ps\n",
    "import pandas as pd\n",
    "\n",
    "conn = ps.connect(\n",
    "    database='traffictwt', user='postgres', password='root')\n",
    "cursor = conn.cursor()\n",
    "q = '''SELECT * FROM TWEETS\n",
    "        WHERE TWEET_CREATED < '2021-01-01'; '''\n",
    "cursor.execute(q)\n",
    "results = cursor.fetchall()\n",
    "colnames = [desc[0] \n",
    "        for desc in cursor.description]\n",
    "cursor.close()\n",
    "conn.close()\n",
    "\n",
    "df = pd.DataFrame(results, columns=colnames)"
   ]
  },
  {
   "cell_type": "code",
   "execution_count": 12,
   "metadata": {},
   "outputs": [
    {
     "output_type": "stream",
     "name": "stdout",
     "text": [
      "39.70439338684082 ms\n"
     ]
    }
   ],
   "source": [
    "import Preprocessing\n",
    "import time\n",
    "\n",
    "start = time.time()\n",
    "df_clean = Preprocessing.clean_text(df, 'tweet_text')\n",
    "end = time.time()\n",
    "print(str(end-start), 'ms')"
   ]
  },
  {
   "cell_type": "code",
   "execution_count": 13,
   "metadata": {},
   "outputs": [],
   "source": [
    "df_clean.clean_text = df_clean.clean.copy()\n",
    "df_clean = df_clean.drop('clean', axis=1)"
   ]
  },
  {
   "cell_type": "code",
   "execution_count": 18,
   "metadata": {},
   "outputs": [],
   "source": [
    "df_clean.to_csv('tweets.csv', sep=';', escapechar='\\n', quoting=3, encoding='utf-8')"
   ]
  }
 ]
}