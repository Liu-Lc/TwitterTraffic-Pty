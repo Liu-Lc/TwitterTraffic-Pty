{
 "metadata": {
  "language_info": {
   "codemirror_mode": {
    "name": "ipython",
    "version": 3
   },
   "file_extension": ".py",
   "mimetype": "text/x-python",
   "name": "python",
   "nbconvert_exporter": "python",
   "pygments_lexer": "ipython3",
   "version": "3.8.0-final"
  },
  "orig_nbformat": 2,
  "kernelspec": {
   "name": "python3",
   "display_name": "Python 3",
   "language": "python"
  }
 },
 "nbformat": 4,
 "nbformat_minor": 2,
 "cells": [
  {
   "cell_type": "code",
   "execution_count": null,
   "metadata": {},
   "outputs": [],
   "source": [
    "import os\n",
    "import tweepy as tw, pandas as pd\n",
    "import re\n",
    "from geopy.geocoders import GoogleV3\n"
   ]
  },
  {
   "cell_type": "code",
   "execution_count": null,
   "metadata": {},
   "outputs": [],
   "source": [
    "pd.set_option('max_colwidth', 500)"
   ]
  },
  {
   "cell_type": "code",
   "execution_count": null,
   "metadata": {},
   "outputs": [],
   "source": [
    "geoloc = Nominatim(user_agent=__name__)\n",
    "loc = geoloc.geocode(\"La riviera en pedregal\")\n",
    "print(loc)"
   ]
  },
  {
   "source": [
    "### Connecting to API"
   ],
   "cell_type": "markdown",
   "metadata": {}
  },
  {
   "cell_type": "code",
   "execution_count": null,
   "metadata": {},
   "outputs": [],
   "source": [
    "consumer_key = 'A5YS1UVZEbiIZdbiUKKageZKe'\n",
    "consumer_secret = 'z13JcgAG0v8ratKmMVPrsLGNiDkM7XnyG2AWvTmf5agebGnodK'\n",
    "access_token = '1344702616186589185-HG0juN3inE9vk3M4X52vFQ9ewWoNvj'\n",
    "access_token_secret = 't9TOMRE3XzEdqj1hbmeqHlnMiddMVyuBO7dY5RvvKDmMZ'"
   ]
  },
  {
   "cell_type": "code",
   "execution_count": null,
   "metadata": {},
   "outputs": [],
   "source": [
    "auth = tw.OAuthHandler(consumer_key, consumer_secret)\n",
    "auth.set_access_token(access_token, access_token_secret)\n",
    "api = tw.API(auth, wait_on_rate_limit=True)"
   ]
  },
  {
   "source": [
    "### Obtaining data"
   ],
   "cell_type": "markdown",
   "metadata": {}
  },
  {
   "cell_type": "code",
   "execution_count": null,
   "metadata": {},
   "outputs": [],
   "source": [
    "# Define the word to seach and date\n",
    "search_word = \"(from:traficocpanama) OR (@traficocpanama) -filter:replies -filter:retweets\"\n",
    "date_since = \"2021-01-01\"\n",
    "\n",
    "# Collect tweets\n",
    "tweets = tw.Cursor(api.search,\n",
    "                q=search_word,\n",
    "                lang='es',\n",
    "                since=date_since,\n",
    "                tweet_mode='extended').items()\n",
    "\n",
    "all_info = [[t] for t in tweets]"
   ]
  },
  {
   "source": [
    "### Connection to database"
   ],
   "cell_type": "markdown",
   "metadata": {}
  },
  {
   "cell_type": "code",
   "execution_count": null,
   "metadata": {},
   "outputs": [],
   "source": [
    "import psycopg2 as ps\n",
    "try:\n",
    "    conn = ps.connect(database='twitter', user='admin', password='admin123')\n",
    "    print('Connection succesful.')\n",
    "except: print('Error connecting to database.')"
   ]
  },
  {
   "source": [
    "### Tables creation"
   ],
   "cell_type": "markdown",
   "metadata": {}
  },
  {
   "cell_type": "code",
   "execution_count": null,
   "metadata": {},
   "outputs": [],
   "source": [
    "commands = (# Table User\n",
    "            '''Create Table TwitterUser(USER_ID BIGINT PRIMARY KEY,\n",
    "                                        USER_NAME TEXT, USER_LOCATION TEXT);''',\n",
    "            # Table Tweet\n",
    "            '''Create Table TwitterTweet(TWEET_ID BIGINT PRIMARY KEY,\n",
    "                                         TWEET_USER_ID BIGINT, TWEET_TEXT TEXT,\n",
    "                                         TWEET_CREATED TIMESTAMP WITH TIME ZONE,\n",
    "                                         TWEET_COORDINATES TEXT,TWEET_PLACE TEXT,\n",
    "                                         CONSTRAINT FK_USER FOREIGN KEY(TWEET_USER_ID)\n",
    "                                                 REFERENCES TwitterUser(USER_ID));''')\n",
    "cursor = conn.cursor()\n",
    "\n",
    "try:\n",
    "    for command in commands:\n",
    "        # create tables\n",
    "        cursor.execute(command)\n",
    "    print('Tables created successfully.')\n",
    "except Exception as e: print(e)\n",
    "\n",
    "conn.commit()\n",
    "cursor.close()"
   ]
  },
  {
   "source": [
    "### Insert data into tables function"
   ],
   "cell_type": "markdown",
   "metadata": {}
  },
  {
   "cell_type": "code",
   "execution_count": null,
   "metadata": {},
   "outputs": [],
   "source": [
    "def insert_into_db(conn, userid, username, userloc, twtid, text, twtdate, twtcoods, twtplace):\n",
    "    cursor = conn.cursor()\n",
    "\n",
    "    try:\n",
    "        # insert user\n",
    "        command = '''INSERT INTO TWITTERUSER(USER_ID, USER_NAME, USER_LOCATION)\n",
    "                    VALUES (%s, %s, %s) ON CONFLICT (USER_ID) DO NOTHING;'''\n",
    "        cursor.execute(command, (userid, username, userloc))\n",
    "\n",
    "        # insert tweet\n",
    "        command = '''INSERT INTO TWITTERTWEET(TWEET_ID, TWEET_USER_ID, TWEET_TEXT,\n",
    "                    TWEET_CREATED, TWEET_COORDINATES, TWEET_PLACE)\n",
    "                    VALUES (%s, %s, %s, %s, %s, %s);'''\n",
    "        cursor.execute(command, (twtid, userid, text, twtdate, twtcoods, twtplace))\n",
    "    except Exception as e: print(e)\n",
    "\n",
    "    # commit changes and close cursor\n",
    "    conn.commit()\n",
    "    cursor.close()"
   ]
  },
  {
   "source": [
    "### Inserting twt data into database"
   ],
   "cell_type": "markdown",
   "metadata": {}
  },
  {
   "cell_type": "code",
   "execution_count": null,
   "metadata": {},
   "outputs": [],
   "source": [
    "t = all_info[5][0]\n",
    "insert_into_db(conn, t.user.id, t.user.screen_name, t.user.location, \\\n",
    "        t.id, t.full_text, t.created_at, t.coordinates, t.place)"
   ]
  },
  {
   "cell_type": "code",
   "execution_count": null,
   "metadata": {},
   "outputs": [],
   "source": [
    "# i=0\n",
    "for info in all_info:\n",
    "    t = info[0]\n",
    "    insert_into_db(conn, t.user.id, t.user.screen_name, t.user.location, \\\n",
    "        t.id, t.full_text, t.created_at, \\\n",
    "            t.coordinates if t.coordinates!=None else \"\", \\\n",
    "                t.place if t.place!=None else \"\")"
   ]
  }
 ]
}